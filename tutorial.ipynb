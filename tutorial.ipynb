{
 "cells": [
  {
   "cell_type": "markdown",
   "metadata": {},
   "source": [
    "# Example with ESGPT Synthetic Data"
   ]
  },
  {
   "cell_type": "markdown",
   "metadata": {},
   "source": [
    "### Set-up"
   ]
  },
  {
   "cell_type": "markdown",
   "metadata": {},
   "source": [
    "Imports"
   ]
  },
  {
   "cell_type": "code",
   "execution_count": 1,
   "metadata": {},
   "outputs": [],
   "source": [
    "import os\n",
    "import json\n",
    "from pathlib import Path\n",
    "\n",
    "import pandas as pd\n",
    "import polars as pl\n",
    "from bigtree import print_tree\n",
    "from EventStream.data.dataset_polars import Dataset\n",
    "\n",
    "from esgpt_task_querying import main, config, event_predicates, query"
   ]
  },
  {
   "cell_type": "markdown",
   "metadata": {},
   "source": [
    "Directories"
   ]
  },
  {
   "cell_type": "code",
   "execution_count": 2,
   "metadata": {},
   "outputs": [],
   "source": [
    "config_path = \"sample_configs/inhospital_mortality.yaml\"\n",
    "data_path = \"sample_data/esgpt_sample\""
   ]
  },
  {
   "cell_type": "markdown",
   "metadata": {},
   "source": [
    "Configuration File"
   ]
  },
  {
   "cell_type": "code",
   "execution_count": 3,
   "metadata": {},
   "outputs": [
    {
     "name": "stdout",
     "output_type": "stream",
     "text": [
      "{\n",
      "    \"predicates\": {\n",
      "        \"admission\": {\n",
      "            \"column\": \"event_type\",\n",
      "            \"value\": \"ADMISSION\",\n",
      "            \"system\": \"boolean\"\n",
      "        },\n",
      "        \"discharge\": {\n",
      "            \"column\": \"event_type\",\n",
      "            \"value\": \"DISCHARGE\",\n",
      "            \"system\": \"boolean\"\n",
      "        },\n",
      "        \"death\": {\n",
      "            \"column\": \"event_type\",\n",
      "            \"value\": \"DEATH\",\n",
      "            \"system\": \"boolean\"\n",
      "        },\n",
      "        \"discharge_or_death\": {\n",
      "            \"type\": \"ANY\",\n",
      "            \"predicates\": [\n",
      "                \"discharge\",\n",
      "                \"death\"\n",
      "            ],\n",
      "            \"system\": \"boolean\"\n",
      "        },\n",
      "        \"any\": {\n",
      "            \"type\": \"special\"\n",
      "        }\n",
      "    },\n",
      "    \"windows\": {\n",
      "        \"trigger\": {\n",
      "            \"start\": \"admission\",\n",
      "            \"end\": \"admission\",\n",
      "            \"st_inclusive\": false,\n",
      "            \"end_inclusive\": true\n",
      "        },\n",
      "        \"gap\": {\n",
      "            \"start\": \"trigger.end\",\n",
      "            \"duration\": \"48 hours\",\n",
      "            \"excludes\": [\n",
      "                {\n",
      "                    \"predicate\": \"admission\"\n",
      "                },\n",
      "                {\n",
      "                    \"predicate\": \"discharge\"\n",
      "                },\n",
      "                {\n",
      "                    \"predicate\": \"death\"\n",
      "                }\n",
      "            ],\n",
      "            \"st_inclusive\": false,\n",
      "            \"end_inclusive\": true\n",
      "        },\n",
      "        \"target\": {\n",
      "            \"start\": \"gap.end\",\n",
      "            \"end\": \"discharge_or_death\",\n",
      "            \"includes\": [\n",
      "                {\n",
      "                    \"predicate\": \"discharge_or_death\",\n",
      "                    \"min\": 1,\n",
      "                    \"max\": 1\n",
      "                }\n",
      "            ],\n",
      "            \"st_inclusive\": true,\n",
      "            \"end_inclusive\": true,\n",
      "            \"label\": \"death\"\n",
      "        },\n",
      "        \"input\": {\n",
      "            \"duration\": \"-48 hours\",\n",
      "            \"end\": \"trigger.start\",\n",
      "            \"st_inclusive\": false,\n",
      "            \"end_inclusive\": true\n",
      "        }\n",
      "    }\n",
      "}\n"
     ]
    }
   ],
   "source": [
    "cfg = config.load_config(config_path)\n",
    "print(json.dumps(cfg, indent=4))"
   ]
  },
  {
   "cell_type": "markdown",
   "metadata": {},
   "source": [
    "Task Tree"
   ]
  },
  {
   "cell_type": "code",
   "execution_count": 4,
   "metadata": {},
   "outputs": [
    {
     "name": "stdout",
     "output_type": "stream",
     "text": [
      "trigger\n",
      "├── gap\n",
      "│   └── target\n",
      "└── input\n"
     ]
    }
   ],
   "source": [
    "tree = config.build_tree_from_config(cfg)\n",
    "print_tree(tree)"
   ]
  },
  {
   "cell_type": "markdown",
   "metadata": {},
   "source": [
    "Data"
   ]
  },
  {
   "cell_type": "code",
   "execution_count": 5,
   "metadata": {},
   "outputs": [
    {
     "name": "stdout",
     "output_type": "stream",
     "text": [
      "Updating config.save_dir from /home/justinxu/esgpt/EventStreamGPT/sample_data/processed/sample to sample_data/esgpt_sample\n",
      "Loading events from sample_data/esgpt_sample/events_df.parquet...\n",
      "Loading dynamic_measurements from sample_data/esgpt_sample/dynamic_measurements_df.parquet...\n"
     ]
    },
    {
     "data": {
      "text/html": [
       "<div><style>\n",
       ".dataframe > thead > tr,\n",
       ".dataframe > tbody > tr {\n",
       "  text-align: right;\n",
       "  white-space: pre-wrap;\n",
       "}\n",
       "</style>\n",
       "<small>shape: (30_943, 6)</small><table border=\"1\" class=\"dataframe\"><thead><tr><th>event_id</th><th>subject_id</th><th>timestamp</th><th>event_type</th><th>age</th><th>age_is_inlier</th></tr><tr><td>u32</td><td>u8</td><td>datetime[μs]</td><td>cat</td><td>f64</td><td>bool</td></tr></thead><tbody><tr><td>0</td><td>0</td><td>2010-06-24 13:23:00</td><td>&quot;ADMISSION&amp;VITA…</td><td>-0.463849</td><td>true</td></tr><tr><td>1</td><td>0</td><td>2010-06-24 14:23:00</td><td>&quot;VITAL&amp;LAB&quot;</td><td>-0.463823</td><td>true</td></tr><tr><td>2</td><td>0</td><td>2010-06-24 15:23:00</td><td>&quot;VITAL&amp;LAB&quot;</td><td>-0.463796</td><td>true</td></tr><tr><td>3</td><td>0</td><td>2010-06-24 16:23:00</td><td>&quot;VITAL&amp;LAB&quot;</td><td>-0.46377</td><td>true</td></tr><tr><td>4</td><td>0</td><td>2010-06-24 17:23:00</td><td>&quot;VITAL&amp;LAB&quot;</td><td>-0.463744</td><td>true</td></tr><tr><td>&hellip;</td><td>&hellip;</td><td>&hellip;</td><td>&hellip;</td><td>&hellip;</td><td>&hellip;</td></tr><tr><td>30938</td><td>99</td><td>2010-11-20 08:20:06</td><td>&quot;VITAL&amp;LAB&quot;</td><td>-1.007141</td><td>true</td></tr><tr><td>30939</td><td>99</td><td>2010-11-20 09:20:06</td><td>&quot;VITAL&amp;LAB&quot;</td><td>-1.007115</td><td>true</td></tr><tr><td>30940</td><td>99</td><td>2010-11-20 10:20:06</td><td>&quot;VITAL&amp;LAB&quot;</td><td>-1.007088</td><td>true</td></tr><tr><td>30941</td><td>99</td><td>2010-11-20 11:20:06</td><td>&quot;VITAL&amp;LAB&quot;</td><td>-1.007062</td><td>true</td></tr><tr><td>30942</td><td>99</td><td>2010-11-20 12:20:06</td><td>&quot;DISCHARGE&amp;LAB&quot;</td><td>-1.007036</td><td>true</td></tr></tbody></table></div>"
      ],
      "text/plain": [
       "shape: (30_943, 6)\n",
       "┌──────────┬────────────┬─────────────────────┬─────────────────────┬───────────┬───────────────┐\n",
       "│ event_id ┆ subject_id ┆ timestamp           ┆ event_type          ┆ age       ┆ age_is_inlier │\n",
       "│ ---      ┆ ---        ┆ ---                 ┆ ---                 ┆ ---       ┆ ---           │\n",
       "│ u32      ┆ u8         ┆ datetime[μs]        ┆ cat                 ┆ f64       ┆ bool          │\n",
       "╞══════════╪════════════╪═════════════════════╪═════════════════════╪═══════════╪═══════════════╡\n",
       "│ 0        ┆ 0          ┆ 2010-06-24 13:23:00 ┆ ADMISSION&VITAL&LAB ┆ -0.463849 ┆ true          │\n",
       "│ 1        ┆ 0          ┆ 2010-06-24 14:23:00 ┆ VITAL&LAB           ┆ -0.463823 ┆ true          │\n",
       "│ 2        ┆ 0          ┆ 2010-06-24 15:23:00 ┆ VITAL&LAB           ┆ -0.463796 ┆ true          │\n",
       "│ 3        ┆ 0          ┆ 2010-06-24 16:23:00 ┆ VITAL&LAB           ┆ -0.46377  ┆ true          │\n",
       "│ 4        ┆ 0          ┆ 2010-06-24 17:23:00 ┆ VITAL&LAB           ┆ -0.463744 ┆ true          │\n",
       "│ …        ┆ …          ┆ …                   ┆ …                   ┆ …         ┆ …             │\n",
       "│ 30938    ┆ 99         ┆ 2010-11-20 08:20:06 ┆ VITAL&LAB           ┆ -1.007141 ┆ true          │\n",
       "│ 30939    ┆ 99         ┆ 2010-11-20 09:20:06 ┆ VITAL&LAB           ┆ -1.007115 ┆ true          │\n",
       "│ 30940    ┆ 99         ┆ 2010-11-20 10:20:06 ┆ VITAL&LAB           ┆ -1.007088 ┆ true          │\n",
       "│ 30941    ┆ 99         ┆ 2010-11-20 11:20:06 ┆ VITAL&LAB           ┆ -1.007062 ┆ true          │\n",
       "│ 30942    ┆ 99         ┆ 2010-11-20 12:20:06 ┆ DISCHARGE&LAB       ┆ -1.007036 ┆ true          │\n",
       "└──────────┴────────────┴─────────────────────┴─────────────────────┴───────────┴───────────────┘"
      ]
     },
     "metadata": {},
     "output_type": "display_data"
    },
    {
     "data": {
      "text/html": [
       "<div><style>\n",
       ".dataframe > thead > tr,\n",
       ".dataframe > tbody > tr {\n",
       "  text-align: right;\n",
       "  white-space: pre-wrap;\n",
       "}\n",
       "</style>\n",
       "<small>shape: (92_938, 10)</small><table border=\"1\" class=\"dataframe\"><thead><tr><th>measurement_id</th><th>department</th><th>HR</th><th>temp</th><th>lab_name</th><th>lab_value</th><th>event_id</th><th>HR_is_inlier</th><th>temp_is_inlier</th><th>lab_name_is_inlier</th></tr><tr><td>u32</td><td>cat</td><td>f64</td><td>f64</td><td>cat</td><td>f64</td><td>u32</td><td>bool</td><td>bool</td><td>bool</td></tr></thead><tbody><tr><td>0</td><td>&quot;CARDIAC&quot;</td><td>null</td><td>null</td><td>null</td><td>null</td><td>26188</td><td>null</td><td>null</td><td>null</td></tr><tr><td>1</td><td>&quot;ORTHOPEDIC&quot;</td><td>null</td><td>null</td><td>null</td><td>null</td><td>29488</td><td>null</td><td>null</td><td>null</td></tr><tr><td>2</td><td>&quot;PULMONARY&quot;</td><td>null</td><td>null</td><td>null</td><td>null</td><td>24213</td><td>null</td><td>null</td><td>null</td></tr><tr><td>3</td><td>&quot;ORTHOPEDIC&quot;</td><td>null</td><td>null</td><td>null</td><td>null</td><td>28929</td><td>null</td><td>null</td><td>null</td></tr><tr><td>4</td><td>&quot;PULMONARY&quot;</td><td>null</td><td>null</td><td>null</td><td>null</td><td>3754</td><td>null</td><td>null</td><td>null</td></tr><tr><td>&hellip;</td><td>&hellip;</td><td>&hellip;</td><td>&hellip;</td><td>&hellip;</td><td>&hellip;</td><td>&hellip;</td><td>&hellip;</td><td>&hellip;</td><td>&hellip;</td></tr><tr><td>92933</td><td>null</td><td>null</td><td>null</td><td>&quot;SpO2&quot;</td><td>-0.195462</td><td>12946</td><td>null</td><td>null</td><td>true</td></tr><tr><td>92934</td><td>null</td><td>null</td><td>null</td><td>&quot;SpO2&quot;</td><td>-0.563824</td><td>7077</td><td>null</td><td>null</td><td>true</td></tr><tr><td>92935</td><td>null</td><td>null</td><td>null</td><td>&quot;SpO2&quot;</td><td>0.817535</td><td>22925</td><td>null</td><td>null</td><td>true</td></tr><tr><td>92936</td><td>null</td><td>null</td><td>null</td><td>&quot;GCS__EQ_9&quot;</td><td>NaN</td><td>23454</td><td>null</td><td>null</td><td>null</td></tr><tr><td>92937</td><td>null</td><td>null</td><td>null</td><td>&quot;potassium&quot;</td><td>0.815828</td><td>5880</td><td>null</td><td>null</td><td>true</td></tr></tbody></table></div>"
      ],
      "text/plain": [
       "shape: (92_938, 10)\n",
       "┌──────────────┬────────────┬──────┬──────┬───┬──────────┬─────────────┬─────────────┬─────────────┐\n",
       "│ measurement_ ┆ department ┆ HR   ┆ temp ┆ … ┆ event_id ┆ HR_is_inlie ┆ temp_is_inl ┆ lab_name_is │\n",
       "│ id           ┆ ---        ┆ ---  ┆ ---  ┆   ┆ ---      ┆ r           ┆ ier         ┆ _inlier     │\n",
       "│ ---          ┆ cat        ┆ f64  ┆ f64  ┆   ┆ u32      ┆ ---         ┆ ---         ┆ ---         │\n",
       "│ u32          ┆            ┆      ┆      ┆   ┆          ┆ bool        ┆ bool        ┆ bool        │\n",
       "╞══════════════╪════════════╪══════╪══════╪═══╪══════════╪═════════════╪═════════════╪═════════════╡\n",
       "│ 0            ┆ CARDIAC    ┆ null ┆ null ┆ … ┆ 26188    ┆ null        ┆ null        ┆ null        │\n",
       "│ 1            ┆ ORTHOPEDIC ┆ null ┆ null ┆ … ┆ 29488    ┆ null        ┆ null        ┆ null        │\n",
       "│ 2            ┆ PULMONARY  ┆ null ┆ null ┆ … ┆ 24213    ┆ null        ┆ null        ┆ null        │\n",
       "│ 3            ┆ ORTHOPEDIC ┆ null ┆ null ┆ … ┆ 28929    ┆ null        ┆ null        ┆ null        │\n",
       "│ 4            ┆ PULMONARY  ┆ null ┆ null ┆ … ┆ 3754     ┆ null        ┆ null        ┆ null        │\n",
       "│ …            ┆ …          ┆ …    ┆ …    ┆ … ┆ …        ┆ …           ┆ …           ┆ …           │\n",
       "│ 92933        ┆ null       ┆ null ┆ null ┆ … ┆ 12946    ┆ null        ┆ null        ┆ true        │\n",
       "│ 92934        ┆ null       ┆ null ┆ null ┆ … ┆ 7077     ┆ null        ┆ null        ┆ true        │\n",
       "│ 92935        ┆ null       ┆ null ┆ null ┆ … ┆ 22925    ┆ null        ┆ null        ┆ true        │\n",
       "│ 92936        ┆ null       ┆ null ┆ null ┆ … ┆ 23454    ┆ null        ┆ null        ┆ null        │\n",
       "│ 92937        ┆ null       ┆ null ┆ null ┆ … ┆ 5880     ┆ null        ┆ null        ┆ true        │\n",
       "└──────────────┴────────────┴──────┴──────┴───┴──────────┴─────────────┴─────────────┴─────────────┘"
      ]
     },
     "metadata": {},
     "output_type": "display_data"
    }
   ],
   "source": [
    "ESD = Dataset.load(Path(data_path))\n",
    "events_df = ESD.events_df\n",
    "dynamic_measurements_df = ESD.dynamic_measurements_df\n",
    "\n",
    "display(events_df)\n",
    "display(dynamic_measurements_df)"
   ]
  },
  {
   "cell_type": "markdown",
   "metadata": {},
   "source": [
    "Predicate Columns"
   ]
  },
  {
   "cell_type": "code",
   "execution_count": 6,
   "metadata": {},
   "outputs": [
    {
     "name": "stderr",
     "output_type": "stream",
     "text": [
      "\u001b[32m2024-04-20 07:10:05.263\u001b[0m | \u001b[34m\u001b[1mDEBUG   \u001b[0m | \u001b[36mesgpt_task_querying.event_predicates\u001b[0m:\u001b[36mgenerate_simple_predicates\u001b[0m:\u001b[36m104\u001b[0m - \u001b[34m\u001b[1mAdded predicate column 'is_admission'.\u001b[0m\n",
      "\u001b[32m2024-04-20 07:10:05.265\u001b[0m | \u001b[34m\u001b[1mDEBUG   \u001b[0m | \u001b[36mesgpt_task_querying.event_predicates\u001b[0m:\u001b[36mgenerate_simple_predicates\u001b[0m:\u001b[36m104\u001b[0m - \u001b[34m\u001b[1mAdded predicate column 'is_discharge'.\u001b[0m\n",
      "\u001b[32m2024-04-20 07:10:05.268\u001b[0m | \u001b[34m\u001b[1mDEBUG   \u001b[0m | \u001b[36mesgpt_task_querying.event_predicates\u001b[0m:\u001b[36mgenerate_simple_predicates\u001b[0m:\u001b[36m104\u001b[0m - \u001b[34m\u001b[1mAdded predicate column 'is_death'.\u001b[0m\n",
      "\u001b[32m2024-04-20 07:10:05.280\u001b[0m | \u001b[34m\u001b[1mDEBUG   \u001b[0m | \u001b[36mesgpt_task_querying.event_predicates\u001b[0m:\u001b[36mgenerate_predicate_columns\u001b[0m:\u001b[36m263\u001b[0m - \u001b[34m\u001b[1mAdded predicate column 'is_discharge_or_death'.\u001b[0m\n",
      "\u001b[32m2024-04-20 07:10:05.282\u001b[0m | \u001b[34m\u001b[1mDEBUG   \u001b[0m | \u001b[36mesgpt_task_querying.event_predicates\u001b[0m:\u001b[36mgenerate_predicate_columns\u001b[0m:\u001b[36m268\u001b[0m - \u001b[34m\u001b[1mAdded predicate column 'is_any'.\u001b[0m\n"
     ]
    },
    {
     "data": {
      "text/html": [
       "<div><style>\n",
       ".dataframe > thead > tr,\n",
       ".dataframe > tbody > tr {\n",
       "  text-align: right;\n",
       "  white-space: pre-wrap;\n",
       "}\n",
       "</style>\n",
       "<small>shape: (30_943, 7)</small><table border=\"1\" class=\"dataframe\"><thead><tr><th>subject_id</th><th>timestamp</th><th>is_admission</th><th>is_discharge</th><th>is_death</th><th>is_discharge_or_death</th><th>is_any</th></tr><tr><td>u8</td><td>datetime[μs]</td><td>i32</td><td>i32</td><td>i32</td><td>i32</td><td>i32</td></tr></thead><tbody><tr><td>0</td><td>2010-06-24 13:23:00</td><td>1</td><td>0</td><td>0</td><td>0</td><td>1</td></tr><tr><td>0</td><td>2010-06-24 14:23:00</td><td>0</td><td>0</td><td>0</td><td>0</td><td>1</td></tr><tr><td>0</td><td>2010-06-24 15:23:00</td><td>0</td><td>0</td><td>0</td><td>0</td><td>1</td></tr><tr><td>0</td><td>2010-06-24 16:23:00</td><td>0</td><td>0</td><td>0</td><td>0</td><td>1</td></tr><tr><td>0</td><td>2010-06-24 17:23:00</td><td>0</td><td>0</td><td>0</td><td>0</td><td>1</td></tr><tr><td>&hellip;</td><td>&hellip;</td><td>&hellip;</td><td>&hellip;</td><td>&hellip;</td><td>&hellip;</td><td>&hellip;</td></tr><tr><td>99</td><td>2010-11-20 08:20:06</td><td>0</td><td>0</td><td>0</td><td>0</td><td>1</td></tr><tr><td>99</td><td>2010-11-20 09:20:06</td><td>0</td><td>0</td><td>0</td><td>0</td><td>1</td></tr><tr><td>99</td><td>2010-11-20 10:20:06</td><td>0</td><td>0</td><td>0</td><td>0</td><td>1</td></tr><tr><td>99</td><td>2010-11-20 11:20:06</td><td>0</td><td>0</td><td>0</td><td>0</td><td>1</td></tr><tr><td>99</td><td>2010-11-20 12:20:06</td><td>0</td><td>1</td><td>0</td><td>1</td><td>1</td></tr></tbody></table></div>"
      ],
      "text/plain": [
       "shape: (30_943, 7)\n",
       "┌────────────┬──────────────┬──────────────┬──────────────┬──────────┬────────────────────┬────────┐\n",
       "│ subject_id ┆ timestamp    ┆ is_admission ┆ is_discharge ┆ is_death ┆ is_discharge_or_de ┆ is_any │\n",
       "│ ---        ┆ ---          ┆ ---          ┆ ---          ┆ ---      ┆ ath                ┆ ---    │\n",
       "│ u8         ┆ datetime[μs] ┆ i32          ┆ i32          ┆ i32      ┆ ---                ┆ i32    │\n",
       "│            ┆              ┆              ┆              ┆          ┆ i32                ┆        │\n",
       "╞════════════╪══════════════╪══════════════╪══════════════╪══════════╪════════════════════╪════════╡\n",
       "│ 0          ┆ 2010-06-24   ┆ 1            ┆ 0            ┆ 0        ┆ 0                  ┆ 1      │\n",
       "│            ┆ 13:23:00     ┆              ┆              ┆          ┆                    ┆        │\n",
       "│ 0          ┆ 2010-06-24   ┆ 0            ┆ 0            ┆ 0        ┆ 0                  ┆ 1      │\n",
       "│            ┆ 14:23:00     ┆              ┆              ┆          ┆                    ┆        │\n",
       "│ 0          ┆ 2010-06-24   ┆ 0            ┆ 0            ┆ 0        ┆ 0                  ┆ 1      │\n",
       "│            ┆ 15:23:00     ┆              ┆              ┆          ┆                    ┆        │\n",
       "│ 0          ┆ 2010-06-24   ┆ 0            ┆ 0            ┆ 0        ┆ 0                  ┆ 1      │\n",
       "│            ┆ 16:23:00     ┆              ┆              ┆          ┆                    ┆        │\n",
       "│ 0          ┆ 2010-06-24   ┆ 0            ┆ 0            ┆ 0        ┆ 0                  ┆ 1      │\n",
       "│            ┆ 17:23:00     ┆              ┆              ┆          ┆                    ┆        │\n",
       "│ …          ┆ …            ┆ …            ┆ …            ┆ …        ┆ …                  ┆ …      │\n",
       "│ 99         ┆ 2010-11-20   ┆ 0            ┆ 0            ┆ 0        ┆ 0                  ┆ 1      │\n",
       "│            ┆ 08:20:06     ┆              ┆              ┆          ┆                    ┆        │\n",
       "│ 99         ┆ 2010-11-20   ┆ 0            ┆ 0            ┆ 0        ┆ 0                  ┆ 1      │\n",
       "│            ┆ 09:20:06     ┆              ┆              ┆          ┆                    ┆        │\n",
       "│ 99         ┆ 2010-11-20   ┆ 0            ┆ 0            ┆ 0        ┆ 0                  ┆ 1      │\n",
       "│            ┆ 10:20:06     ┆              ┆              ┆          ┆                    ┆        │\n",
       "│ 99         ┆ 2010-11-20   ┆ 0            ┆ 0            ┆ 0        ┆ 0                  ┆ 1      │\n",
       "│            ┆ 11:20:06     ┆              ┆              ┆          ┆                    ┆        │\n",
       "│ 99         ┆ 2010-11-20   ┆ 0            ┆ 1            ┆ 0        ┆ 1                  ┆ 1      │\n",
       "│            ┆ 12:20:06     ┆              ┆              ┆          ┆                    ┆        │\n",
       "└────────────┴──────────────┴──────────────┴──────────────┴──────────┴────────────────────┴────────┘"
      ]
     },
     "metadata": {},
     "output_type": "display_data"
    }
   ],
   "source": [
    "df_predicates = event_predicates.generate_predicate_columns(cfg, [events_df, dynamic_measurements_df])\n",
    "display(df_predicates)"
   ]
  },
  {
   "cell_type": "markdown",
   "metadata": {},
   "source": [
    "### End-to-End Query"
   ]
  },
  {
   "cell_type": "code",
   "execution_count": 7,
   "metadata": {},
   "outputs": [
    {
     "name": "stderr",
     "output_type": "stream",
     "text": [
      "\u001b[32m2024-04-20 07:10:05.295\u001b[0m | \u001b[34m\u001b[1mDEBUG   \u001b[0m | \u001b[36mesgpt_task_querying.main\u001b[0m:\u001b[36mquery_task\u001b[0m:\u001b[36m30\u001b[0m - \u001b[34m\u001b[1mLoading config...\u001b[0m\n",
      "\u001b[32m2024-04-20 07:10:05.307\u001b[0m | \u001b[34m\u001b[1mDEBUG   \u001b[0m | \u001b[36mesgpt_task_querying.main\u001b[0m:\u001b[36mquery_task\u001b[0m:\u001b[36m36\u001b[0m - \u001b[34m\u001b[1mData path provided, loading using ESGPT...\u001b[0m\n",
      "\u001b[32m2024-04-20 07:10:05.328\u001b[0m | \u001b[34m\u001b[1mDEBUG   \u001b[0m | \u001b[36mesgpt_task_querying.main\u001b[0m:\u001b[36mquery_task\u001b[0m:\u001b[36m48\u001b[0m - \u001b[34m\u001b[1mGenerating predicate columns...\u001b[0m\n",
      "\u001b[32m2024-04-20 07:10:05.332\u001b[0m | \u001b[34m\u001b[1mDEBUG   \u001b[0m | \u001b[36mesgpt_task_querying.event_predicates\u001b[0m:\u001b[36mgenerate_simple_predicates\u001b[0m:\u001b[36m104\u001b[0m - \u001b[34m\u001b[1mAdded predicate column 'is_admission'.\u001b[0m\n",
      "\u001b[32m2024-04-20 07:10:05.336\u001b[0m | \u001b[34m\u001b[1mDEBUG   \u001b[0m | \u001b[36mesgpt_task_querying.event_predicates\u001b[0m:\u001b[36mgenerate_simple_predicates\u001b[0m:\u001b[36m104\u001b[0m - \u001b[34m\u001b[1mAdded predicate column 'is_discharge'.\u001b[0m\n",
      "\u001b[32m2024-04-20 07:10:05.339\u001b[0m | \u001b[34m\u001b[1mDEBUG   \u001b[0m | \u001b[36mesgpt_task_querying.event_predicates\u001b[0m:\u001b[36mgenerate_simple_predicates\u001b[0m:\u001b[36m104\u001b[0m - \u001b[34m\u001b[1mAdded predicate column 'is_death'.\u001b[0m\n",
      "\u001b[32m2024-04-20 07:10:05.359\u001b[0m | \u001b[34m\u001b[1mDEBUG   \u001b[0m | \u001b[36mesgpt_task_querying.event_predicates\u001b[0m:\u001b[36mgenerate_predicate_columns\u001b[0m:\u001b[36m263\u001b[0m - \u001b[34m\u001b[1mAdded predicate column 'is_discharge_or_death'.\u001b[0m\n",
      "\u001b[32m2024-04-20 07:10:05.360\u001b[0m | \u001b[34m\u001b[1mDEBUG   \u001b[0m | \u001b[36mesgpt_task_querying.event_predicates\u001b[0m:\u001b[36mgenerate_predicate_columns\u001b[0m:\u001b[36m268\u001b[0m - \u001b[34m\u001b[1mAdded predicate column 'is_any'.\u001b[0m\n",
      "\u001b[32m2024-04-20 07:10:05.363\u001b[0m | \u001b[34m\u001b[1mDEBUG   \u001b[0m | \u001b[36mesgpt_task_querying.main\u001b[0m:\u001b[36mquery_task\u001b[0m:\u001b[36m89\u001b[0m - \u001b[34m\u001b[1mBuilding tree...\u001b[0m\n",
      "\u001b[32m2024-04-20 07:10:05.364\u001b[0m | \u001b[34m\u001b[1mDEBUG   \u001b[0m | \u001b[36mesgpt_task_querying.main\u001b[0m:\u001b[36mquery_task\u001b[0m:\u001b[36m93\u001b[0m - \u001b[34m\u001b[1mBeginning query...\u001b[0m\n",
      "\u001b[32m2024-04-20 07:10:05.368\u001b[0m | \u001b[34m\u001b[1mDEBUG   \u001b[0m | \u001b[36mesgpt_task_querying.main\u001b[0m:\u001b[36mquery_task\u001b[0m:\u001b[36m115\u001b[0m - \u001b[34m\u001b[1m100 subjects (30749 rows) were excluded due to trigger event: admission.\u001b[0m\n",
      "\u001b[32m2024-04-20 07:10:05.369\u001b[0m | \u001b[34m\u001b[1mDEBUG   \u001b[0m | \u001b[36mesgpt_task_querying.query\u001b[0m:\u001b[36mquery_subtree\u001b[0m:\u001b[36m246\u001b[0m - \u001b[34m\u001b[1mQuerying subtree rooted at 'gap'...\u001b[0m\n",
      "\u001b[32m2024-04-20 07:10:05.398\u001b[0m | \u001b[34m\u001b[1mDEBUG   \u001b[0m | \u001b[36mesgpt_task_querying.query\u001b[0m:\u001b[36mcheck_constraints\u001b[0m:\u001b[36m227\u001b[0m - \u001b[34m\u001b[1m23 subjects (25 rows) were excluded due to constraint: [(col(\"is_discharge\")) <= (0)].\u001b[0m\n"
     ]
    },
    {
     "name": "stdout",
     "output_type": "stream",
     "text": [
      "Updating config.save_dir from /home/justinxu/esgpt/EventStreamGPT/sample_data/processed/sample to sample_data/esgpt_sample\n",
      "Loading events from sample_data/esgpt_sample/events_df.parquet...\n",
      "Loading dynamic_measurements from sample_data/esgpt_sample/dynamic_measurements_df.parquet...\n",
      "trigger\n",
      "┣━━ gap\n",
      "┃   ┗━━ target\n",
      "┗━━ input\n"
     ]
    },
    {
     "name": "stderr",
     "output_type": "stream",
     "text": [
      "\u001b[32m2024-04-20 07:10:05.406\u001b[0m | \u001b[34m\u001b[1mDEBUG   \u001b[0m | \u001b[36mesgpt_task_querying.query\u001b[0m:\u001b[36mquery_subtree\u001b[0m:\u001b[36m246\u001b[0m - \u001b[34m\u001b[1mQuerying subtree rooted at 'target'...\u001b[0m\n",
      "\u001b[32m2024-04-20 07:10:05.470\u001b[0m | \u001b[34m\u001b[1mDEBUG   \u001b[0m | \u001b[36mesgpt_task_querying.query\u001b[0m:\u001b[36mcheck_constraints\u001b[0m:\u001b[36m227\u001b[0m - \u001b[34m\u001b[1m11 subjects (12 rows) were excluded due to constraint: [(col(\"is_discharge_or_death\")) <= (1)].\u001b[0m\n",
      "\u001b[32m2024-04-20 07:10:05.486\u001b[0m | \u001b[34m\u001b[1mDEBUG   \u001b[0m | \u001b[36mesgpt_task_querying.query\u001b[0m:\u001b[36mquery_subtree\u001b[0m:\u001b[36m246\u001b[0m - \u001b[34m\u001b[1mQuerying subtree rooted at 'input'...\u001b[0m\n",
      "\u001b[32m2024-04-20 07:10:05.515\u001b[0m | \u001b[34m\u001b[1mDEBUG   \u001b[0m | \u001b[36mesgpt_task_querying.main\u001b[0m:\u001b[36mquery_task\u001b[0m:\u001b[36m132\u001b[0m - \u001b[34m\u001b[1mDone.\u001b[0m\n"
     ]
    },
    {
     "data": {
      "text/html": [
       "<div><style>\n",
       ".dataframe > thead > tr,\n",
       ".dataframe > tbody > tr {\n",
       "  text-align: right;\n",
       "  white-space: pre-wrap;\n",
       "}\n",
       "</style>\n",
       "<small>shape: (169, 9)</small><table border=\"1\" class=\"dataframe\"><thead><tr><th>subject_id</th><th>trigger/timestamp</th><th>gap/timestamp</th><th>target/timestamp</th><th>input/timestamp</th><th>gap/window_summary</th><th>target/window_summary</th><th>input/window_summary</th><th>label</th></tr><tr><td>u8</td><td>datetime[μs]</td><td>datetime[μs]</td><td>datetime[μs]</td><td>datetime[μs]</td><td>struct[5]</td><td>struct[5]</td><td>struct[5]</td><td>i32</td></tr></thead><tbody><tr><td>0</td><td>2010-10-04 17:23:00</td><td>2010-10-06 17:23:00</td><td>2010-10-16 00:23:00</td><td>2010-10-06 17:23:00</td><td>{0,0,0,0,48}</td><td>{1,1,0,1,224}</td><td>{0,0,0,0,48}</td><td>0</td></tr><tr><td>1</td><td>2010-02-12 20:16:13</td><td>2010-02-14 20:16:13</td><td>2010-02-15 17:16:13</td><td>2010-02-14 20:16:13</td><td>{0,0,0,0,47}</td><td>{1,1,0,1,22}</td><td>{0,0,0,0,47}</td><td>0</td></tr><tr><td>2</td><td>2010-01-18 23:07:07</td><td>2010-01-20 23:07:07</td><td>2010-01-30 19:07:07</td><td>2010-01-20 23:07:07</td><td>{0,0,0,0,40}</td><td>{1,1,0,1,211}</td><td>{0,0,0,0,40}</td><td>0</td></tr><tr><td>3</td><td>2010-02-19 03:48:21</td><td>2010-02-21 03:48:21</td><td>2010-02-28 18:48:21</td><td>2010-02-21 03:48:21</td><td>{0,0,0,0,46}</td><td>{1,1,0,1,175}</td><td>{0,0,0,0,46}</td><td>0</td></tr><tr><td>3</td><td>2010-08-14 02:48:21</td><td>2010-08-16 02:48:21</td><td>2010-08-25 00:48:21</td><td>2010-08-16 02:48:21</td><td>{0,0,0,0,44}</td><td>{1,1,0,1,202}</td><td>{0,0,0,0,44}</td><td>0</td></tr><tr><td>&hellip;</td><td>&hellip;</td><td>&hellip;</td><td>&hellip;</td><td>&hellip;</td><td>&hellip;</td><td>&hellip;</td><td>&hellip;</td><td>&hellip;</td></tr><tr><td>98</td><td>2010-06-28 22:25:52</td><td>2010-06-30 22:25:52</td><td>2010-07-12 13:25:52</td><td>2010-06-30 22:25:52</td><td>{0,0,0,0,42}</td><td>{1,1,0,1,243}</td><td>{0,0,0,0,42}</td><td>0</td></tr><tr><td>98</td><td>2010-08-28 00:25:52</td><td>2010-08-30 00:25:52</td><td>2010-09-01 19:25:52</td><td>2010-08-30 00:25:52</td><td>{0,0,0,0,41}</td><td>{1,1,0,1,59}</td><td>{0,0,0,0,41}</td><td>0</td></tr><tr><td>99</td><td>2010-04-15 18:20:06</td><td>2010-04-17 18:20:06</td><td>2010-04-23 19:20:06</td><td>2010-04-17 18:20:06</td><td>{0,0,0,0,45}</td><td>{1,1,0,1,132}</td><td>{0,0,0,0,45}</td><td>0</td></tr><tr><td>99</td><td>2010-10-12 22:20:06</td><td>2010-10-14 22:20:06</td><td>2010-10-21 03:20:06</td><td>2010-10-14 22:20:06</td><td>{0,0,0,0,44}</td><td>{1,1,0,1,131}</td><td>{0,0,0,0,44}</td><td>0</td></tr><tr><td>99</td><td>2010-11-14 08:20:06</td><td>2010-11-16 08:20:06</td><td>2010-11-20 12:20:06</td><td>2010-11-16 08:20:06</td><td>{0,0,0,0,44}</td><td>{1,1,0,1,90}</td><td>{0,0,0,0,44}</td><td>0</td></tr></tbody></table></div>"
      ],
      "text/plain": [
       "shape: (169, 9)\n",
       "┌────────────┬────────────┬────────────┬───────────┬───┬───────────┬───────────┬───────────┬───────┐\n",
       "│ subject_id ┆ trigger/ti ┆ gap/timest ┆ target/ti ┆ … ┆ gap/windo ┆ target/wi ┆ input/win ┆ label │\n",
       "│ ---        ┆ mestamp    ┆ amp        ┆ mestamp   ┆   ┆ w_summary ┆ ndow_summ ┆ dow_summa ┆ ---   │\n",
       "│ u8         ┆ ---        ┆ ---        ┆ ---       ┆   ┆ ---       ┆ ary       ┆ ry        ┆ i32   │\n",
       "│            ┆ datetime[μ ┆ datetime[μ ┆ datetime[ ┆   ┆ struct[5] ┆ ---       ┆ ---       ┆       │\n",
       "│            ┆ s]         ┆ s]         ┆ μs]       ┆   ┆           ┆ struct[5] ┆ struct[5] ┆       │\n",
       "╞════════════╪════════════╪════════════╪═══════════╪═══╪═══════════╪═══════════╪═══════════╪═══════╡\n",
       "│ 0          ┆ 2010-10-04 ┆ 2010-10-06 ┆ 2010-10-1 ┆ … ┆ {0,0,0,0, ┆ {1,1,0,1, ┆ {0,0,0,0, ┆ 0     │\n",
       "│            ┆ 17:23:00   ┆ 17:23:00   ┆ 6         ┆   ┆ 48}       ┆ 224}      ┆ 48}       ┆       │\n",
       "│            ┆            ┆            ┆ 00:23:00  ┆   ┆           ┆           ┆           ┆       │\n",
       "│ 1          ┆ 2010-02-12 ┆ 2010-02-14 ┆ 2010-02-1 ┆ … ┆ {0,0,0,0, ┆ {1,1,0,1, ┆ {0,0,0,0, ┆ 0     │\n",
       "│            ┆ 20:16:13   ┆ 20:16:13   ┆ 5         ┆   ┆ 47}       ┆ 22}       ┆ 47}       ┆       │\n",
       "│            ┆            ┆            ┆ 17:16:13  ┆   ┆           ┆           ┆           ┆       │\n",
       "│ 2          ┆ 2010-01-18 ┆ 2010-01-20 ┆ 2010-01-3 ┆ … ┆ {0,0,0,0, ┆ {1,1,0,1, ┆ {0,0,0,0, ┆ 0     │\n",
       "│            ┆ 23:07:07   ┆ 23:07:07   ┆ 0         ┆   ┆ 40}       ┆ 211}      ┆ 40}       ┆       │\n",
       "│            ┆            ┆            ┆ 19:07:07  ┆   ┆           ┆           ┆           ┆       │\n",
       "│ 3          ┆ 2010-02-19 ┆ 2010-02-21 ┆ 2010-02-2 ┆ … ┆ {0,0,0,0, ┆ {1,1,0,1, ┆ {0,0,0,0, ┆ 0     │\n",
       "│            ┆ 03:48:21   ┆ 03:48:21   ┆ 8         ┆   ┆ 46}       ┆ 175}      ┆ 46}       ┆       │\n",
       "│            ┆            ┆            ┆ 18:48:21  ┆   ┆           ┆           ┆           ┆       │\n",
       "│ 3          ┆ 2010-08-14 ┆ 2010-08-16 ┆ 2010-08-2 ┆ … ┆ {0,0,0,0, ┆ {1,1,0,1, ┆ {0,0,0,0, ┆ 0     │\n",
       "│            ┆ 02:48:21   ┆ 02:48:21   ┆ 5         ┆   ┆ 44}       ┆ 202}      ┆ 44}       ┆       │\n",
       "│            ┆            ┆            ┆ 00:48:21  ┆   ┆           ┆           ┆           ┆       │\n",
       "│ …          ┆ …          ┆ …          ┆ …         ┆ … ┆ …         ┆ …         ┆ …         ┆ …     │\n",
       "│ 98         ┆ 2010-06-28 ┆ 2010-06-30 ┆ 2010-07-1 ┆ … ┆ {0,0,0,0, ┆ {1,1,0,1, ┆ {0,0,0,0, ┆ 0     │\n",
       "│            ┆ 22:25:52   ┆ 22:25:52   ┆ 2         ┆   ┆ 42}       ┆ 243}      ┆ 42}       ┆       │\n",
       "│            ┆            ┆            ┆ 13:25:52  ┆   ┆           ┆           ┆           ┆       │\n",
       "│ 98         ┆ 2010-08-28 ┆ 2010-08-30 ┆ 2010-09-0 ┆ … ┆ {0,0,0,0, ┆ {1,1,0,1, ┆ {0,0,0,0, ┆ 0     │\n",
       "│            ┆ 00:25:52   ┆ 00:25:52   ┆ 1         ┆   ┆ 41}       ┆ 59}       ┆ 41}       ┆       │\n",
       "│            ┆            ┆            ┆ 19:25:52  ┆   ┆           ┆           ┆           ┆       │\n",
       "│ 99         ┆ 2010-04-15 ┆ 2010-04-17 ┆ 2010-04-2 ┆ … ┆ {0,0,0,0, ┆ {1,1,0,1, ┆ {0,0,0,0, ┆ 0     │\n",
       "│            ┆ 18:20:06   ┆ 18:20:06   ┆ 3         ┆   ┆ 45}       ┆ 132}      ┆ 45}       ┆       │\n",
       "│            ┆            ┆            ┆ 19:20:06  ┆   ┆           ┆           ┆           ┆       │\n",
       "│ 99         ┆ 2010-10-12 ┆ 2010-10-14 ┆ 2010-10-2 ┆ … ┆ {0,0,0,0, ┆ {1,1,0,1, ┆ {0,0,0,0, ┆ 0     │\n",
       "│            ┆ 22:20:06   ┆ 22:20:06   ┆ 1         ┆   ┆ 44}       ┆ 131}      ┆ 44}       ┆       │\n",
       "│            ┆            ┆            ┆ 03:20:06  ┆   ┆           ┆           ┆           ┆       │\n",
       "│ 99         ┆ 2010-11-14 ┆ 2010-11-16 ┆ 2010-11-2 ┆ … ┆ {0,0,0,0, ┆ {1,1,0,1, ┆ {0,0,0,0, ┆ 0     │\n",
       "│            ┆ 08:20:06   ┆ 08:20:06   ┆ 0         ┆   ┆ 44}       ┆ 90}       ┆ 44}       ┆       │\n",
       "│            ┆            ┆            ┆ 12:20:06  ┆   ┆           ┆           ┆           ┆       │\n",
       "└────────────┴────────────┴────────────┴───────────┴───┴───────────┴───────────┴───────────┴───────┘"
      ]
     },
     "metadata": {},
     "output_type": "display_data"
    }
   ],
   "source": [
    "df_result = main.query_task(config_path, data_path)\n",
    "display(df_result)"
   ]
  }
 ],
 "metadata": {
  "kernelspec": {
   "display_name": "esgpt",
   "language": "python",
   "name": "python3"
  },
  "language_info": {
   "codemirror_mode": {
    "name": "ipython",
    "version": 3
   },
   "file_extension": ".py",
   "mimetype": "text/x-python",
   "name": "python",
   "nbconvert_exporter": "python",
   "pygments_lexer": "ipython3",
   "version": "3.10.13"
  }
 },
 "nbformat": 4,
 "nbformat_minor": 2
}
