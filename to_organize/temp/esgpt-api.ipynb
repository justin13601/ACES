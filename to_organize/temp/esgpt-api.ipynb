{
 "cells": [
  {
   "cell_type": "code",
   "execution_count": 7,
   "metadata": {},
   "outputs": [
    {
     "name": "stdout",
     "output_type": "stream",
     "text": [
      "Updating config.save_dir from /n/data1/hms/dbmi/zaklab/RAMMS/data/MIMIC_IV/ESD_new_schema_08-31-23-1 to ../MIMIC_ESD_new_schema_08-31-23-1\n"
     ]
    }
   ],
   "source": [
    "import os\n",
    "from pathlib import Path\n",
    "\n",
    "import polars as pl\n",
    "\n",
    "from EventStream.data.dataset_polars import Dataset\n",
    "\n",
    "DATA_DIR = Path(\"../MIMIC_ESD_new_schema_08-31-23-1\")\n",
    "ESD = Dataset.load(DATA_DIR)"
   ]
  },
  {
   "cell_type": "code",
   "execution_count": 33,
   "metadata": {},
   "outputs": [],
   "source": [
    "events_df = ESD.events_df.filter(~pl.all_horizontal(pl.all().is_null()))\n",
    "dynamic_measurements_df = ESD.dynamic_measurements_df.filter(~pl.all_horizontal(pl.all().is_null()))"
   ]
  },
  {
   "cell_type": "code",
   "execution_count": 30,
   "metadata": {},
   "outputs": [],
   "source": [
    "# dynamic_measurements_df = dynamic_measurements_df[['event_id', 'diagnosis', 'lab', 'valuenum']]"
   ]
  },
  {
   "cell_type": "code",
   "execution_count": 34,
   "metadata": {},
   "outputs": [],
   "source": [
    "df_data = (events_df\n",
    "            .join(dynamic_measurements_df, on=\"event_id\", how=\"left\")\n",
    "            .sort(by=['subject_id', 'timestamp'])\n",
    "            .unique(subset=['subject_id', 'timestamp', 'event_type'], keep='first')\n",
    "            )\n"
   ]
  },
  {
   "cell_type": "code",
   "execution_count": 35,
   "metadata": {},
   "outputs": [
    {
     "data": {
      "text/html": [
       "<div><style>\n",
       ".dataframe > thead > tr > th,\n",
       ".dataframe > tbody > tr > td {\n",
       "  text-align: right;\n",
       "}\n",
       "</style>\n",
       "<small>shape: (14_694_388, 33)</small><table border=\"1\" class=\"dataframe\"><thead><tr><th>event_id</th><th>subject_id</th><th>timestamp</th><th>event_type</th><th>age</th><th>time_of_day</th><th>measurement_id</th><th>admission_type</th><th>admission_location</th><th>language</th><th>race</th><th>marital_status</th><th>insurance</th><th>discharge_location</th><th>careunit</th><th>seq_num</th><th>diagnosis</th><th>text_value</th><th>valueuom</th><th>ref_range_lower</th><th>ref_range_upper</th><th>priority</th><th>flag</th><th>lab</th><th>valuenum</th><th>totalamountuom</th><th>rate</th><th>rateuom</th><th>infusion</th><th>totalamount</th><th>patientweight</th><th>procedure</th><th>medication</th></tr><tr><td>u32</td><td>u16</td><td>datetime[μs]</td><td>cat</td><td>f64</td><td>cat</td><td>u32</td><td>cat</td><td>cat</td><td>cat</td><td>cat</td><td>cat</td><td>cat</td><td>cat</td><td>cat</td><td>cat</td><td>cat</td><td>cat</td><td>cat</td><td>f32</td><td>f32</td><td>cat</td><td>cat</td><td>cat</td><td>f64</td><td>cat</td><td>f32</td><td>cat</td><td>cat</td><td>f64</td><td>f64</td><td>cat</td><td>cat</td></tr></thead><tbody><tr><td>8</td><td>0</td><td>2126-11-04 00:50:00</td><td>&quot;ADMISSION&quot;</td><td>72.837877</td><td>&quot;EARLY_AM&quot;</td><td>19622</td><td>&quot;URGENT&quot;</td><td>&quot;TRANSFER FROM …</td><td>&quot;ENGLISH&quot;</td><td>&quot;BLACK/AFRICAN …</td><td>&quot;DIVORCED&quot;</td><td>&quot;Other&quot;</td><td>null</td><td>null</td><td>null</td><td>null</td><td>null</td><td>null</td><td>null</td><td>null</td><td>null</td><td>null</td><td>null</td><td>null</td><td>null</td><td>null</td><td>null</td><td>null</td><td>null</td><td>null</td><td>null</td><td>null</td></tr><tr><td>26</td><td>0</td><td>2130-10-08 19:03:00</td><td>&quot;ADMISSION&quot;</td><td>76.766034</td><td>&quot;PM&quot;</td><td>19626</td><td>&quot;DIRECT EMER.&quot;</td><td>&quot;CLINIC REFERRA…</td><td>&quot;ENGLISH&quot;</td><td>&quot;ASIAN - ASIAN …</td><td>&quot;SINGLE&quot;</td><td>&quot;Other&quot;</td><td>null</td><td>null</td><td>null</td><td>null</td><td>null</td><td>null</td><td>null</td><td>null</td><td>null</td><td>null</td><td>null</td><td>null</td><td>null</td><td>null</td><td>null</td><td>null</td><td>null</td><td>null</td><td>null</td><td>null</td></tr><tr><td>49</td><td>0</td><td>2131-01-11 04:30:00</td><td>&quot;INFUSION_START…</td><td>77.02447</td><td>&quot;EARLY_AM&quot;</td><td>144856556</td><td>null</td><td>null</td><td>null</td><td>null</td><td>null</td><td>null</td><td>null</td><td>null</td><td>null</td><td>null</td><td>null</td><td>null</td><td>null</td><td>null</td><td>null</td><td>null</td><td>null</td><td>null</td><td>&quot;ml&quot;</td><td>1.0</td><td>&quot;mL/hour&quot;</td><td>&quot;Solution&quot;</td><td>50.0</td><td>65.0</td><td>null</td><td>null</td></tr><tr><td>101</td><td>0</td><td>2131-01-11 09:31:00</td><td>&quot;INFUSION_START…</td><td>77.025042</td><td>&quot;AM&quot;</td><td>144856566</td><td>null</td><td>null</td><td>null</td><td>null</td><td>null</td><td>null</td><td>null</td><td>null</td><td>null</td><td>null</td><td>null</td><td>null</td><td>null</td><td>null</td><td>null</td><td>null</td><td>null</td><td>null</td><td>&quot;ml&quot;</td><td>999.999939</td><td>&quot;units/hour&quot;</td><td>&quot;Heparin Sodium…</td><td>250.0</td><td>65.0</td><td>null</td><td>null</td></tr><tr><td>117</td><td>0</td><td>2131-01-11 11:17:00</td><td>&quot;MEDICATION&quot;</td><td>77.025243</td><td>&quot;AM&quot;</td><td>156973023</td><td>null</td><td>null</td><td>null</td><td>null</td><td>null</td><td>null</td><td>null</td><td>null</td><td>null</td><td>null</td><td>&quot;Flushed&quot;</td><td>null</td><td>null</td><td>null</td><td>null</td><td>null</td><td>null</td><td>null</td><td>null</td><td>null</td><td>null</td><td>null</td><td>null</td><td>null</td><td>null</td><td>&quot;Sodium Chlorid…</td></tr><tr><td>159</td><td>0</td><td>2131-01-11 20:00:00</td><td>&quot;LAB&amp;INFUSION_S…</td><td>77.026238</td><td>&quot;PM&quot;</td><td>446666</td><td>null</td><td>null</td><td>null</td><td>null</td><td>null</td><td>null</td><td>null</td><td>null</td><td>null</td><td>null</td><td>&quot;IV Fluid&quot;</td><td>null</td><td>null</td><td>null</td><td>null</td><td>null</td><td>null</td><td>null</td><td>null</td><td>null</td><td>null</td><td>null</td><td>null</td><td>null</td><td>null</td><td>null</td></tr><tr><td>181</td><td>0</td><td>2131-01-12 01:01:00</td><td>&quot;LAB&quot;</td><td>77.02681</td><td>&quot;EARLY_AM&quot;</td><td>72648940</td><td>null</td><td>null</td><td>null</td><td>null</td><td>null</td><td>null</td><td>null</td><td>null</td><td>null</td><td>null</td><td>&quot;Sharp&quot;</td><td>null</td><td>null</td><td>null</td><td>null</td><td>null</td><td>null</td><td>null</td><td>null</td><td>null</td><td>null</td><td>null</td><td>null</td><td>null</td><td>null</td><td>null</td></tr><tr><td>267</td><td>0</td><td>2131-01-12 17:04:00</td><td>&quot;LAB&quot;</td><td>77.028641</td><td>&quot;PM&quot;</td><td>446973</td><td>null</td><td>null</td><td>null</td><td>null</td><td>null</td><td>null</td><td>null</td><td>null</td><td>null</td><td>null</td><td>null</td><td>&quot;%&quot;</td><td>null</td><td>null</td><td>null</td><td>null</td><td>&quot;O2 saturation …</td><td>97.0</td><td>null</td><td>null</td><td>null</td><td>null</td><td>null</td><td>null</td><td>null</td><td>null</td></tr><tr><td>268</td><td>0</td><td>2131-01-12 17:22:00</td><td>&quot;LAB&quot;</td><td>77.028675</td><td>&quot;PM&quot;</td><td>446974</td><td>null</td><td>null</td><td>null</td><td>null</td><td>null</td><td>null</td><td>null</td><td>null</td><td>null</td><td>null</td><td>null</td><td>&quot;sec&quot;</td><td>null</td><td>null</td><td>null</td><td>null</td><td>&quot;Prothrombin ti…</td><td>12.4</td><td>null</td><td>null</td><td>null</td><td>null</td><td>null</td><td>null</td><td>null</td><td>null</td></tr><tr><td>323</td><td>0</td><td>2131-01-13 02:01:00</td><td>&quot;LAB&quot;</td><td>77.029662</td><td>&quot;EARLY_AM&quot;</td><td>447069</td><td>null</td><td>null</td><td>null</td><td>null</td><td>null</td><td>null</td><td>null</td><td>null</td><td>null</td><td>null</td><td>null</td><td>&quot;insp/min&quot;</td><td>null</td><td>null</td><td>null</td><td>null</td><td>&quot;Respiratory Ra…</td><td>0.0</td><td>null</td><td>null</td><td>null</td><td>null</td><td>null</td><td>null</td><td>null</td><td>null</td></tr><tr><td>330</td><td>0</td><td>2131-01-13 04:06:00</td><td>&quot;INFUSION_START…</td><td>77.0299</td><td>&quot;EARLY_AM&quot;</td><td>148728727</td><td>null</td><td>null</td><td>null</td><td>null</td><td>null</td><td>null</td><td>null</td><td>null</td><td>null</td><td>null</td><td>null</td><td>null</td><td>null</td><td>null</td><td>null</td><td>null</td><td>null</td><td>null</td><td>&quot;ml&quot;</td><td>1.875</td><td>&quot;mL/hour&quot;</td><td>&quot;Dextrose 5%&quot;</td><td>250.0</td><td>50.0</td><td>null</td><td>null</td></tr><tr><td>344</td><td>0</td><td>2131-01-13 06:15:00</td><td>&quot;MEDICATION&quot;</td><td>77.030145</td><td>&quot;AM&quot;</td><td>157540960</td><td>null</td><td>null</td><td>null</td><td>null</td><td>null</td><td>null</td><td>null</td><td>null</td><td>null</td><td>null</td><td>&quot;Administered&quot;</td><td>null</td><td>null</td><td>null</td><td>null</td><td>null</td><td>null</td><td>null</td><td>null</td><td>null</td><td>null</td><td>null</td><td>null</td><td>null</td><td>null</td><td>&quot;Insulin&quot;</td></tr><tr><td>&hellip;</td><td>&hellip;</td><td>&hellip;</td><td>&hellip;</td><td>&hellip;</td><td>&hellip;</td><td>&hellip;</td><td>&hellip;</td><td>&hellip;</td><td>&hellip;</td><td>&hellip;</td><td>&hellip;</td><td>&hellip;</td><td>&hellip;</td><td>&hellip;</td><td>&hellip;</td><td>&hellip;</td><td>&hellip;</td><td>&hellip;</td><td>&hellip;</td><td>&hellip;</td><td>&hellip;</td><td>&hellip;</td><td>&hellip;</td><td>&hellip;</td><td>&hellip;</td><td>&hellip;</td><td>&hellip;</td><td>&hellip;</td><td>&hellip;</td><td>&hellip;</td><td>&hellip;</td><td>&hellip;</td></tr><tr><td>14694108</td><td>12126</td><td>2164-09-15 14:35:00</td><td>&quot;LAB&quot;</td><td>58.70666</td><td>&quot;PM&quot;</td><td>72648119</td><td>null</td><td>null</td><td>null</td><td>null</td><td>null</td><td>null</td><td>null</td><td>null</td><td>null</td><td>null</td><td>&quot;Standard&quot;</td><td>null</td><td>null</td><td>null</td><td>null</td><td>null</td><td>null</td><td>null</td><td>null</td><td>null</td><td>null</td><td>null</td><td>null</td><td>null</td><td>null</td><td>null</td></tr><tr><td>14694116</td><td>12126</td><td>2164-09-15 15:28:00</td><td>&quot;INFUSION_START…</td><td>58.706761</td><td>&quot;PM&quot;</td><td>148728661</td><td>null</td><td>null</td><td>null</td><td>null</td><td>null</td><td>null</td><td>null</td><td>null</td><td>null</td><td>null</td><td>null</td><td>null</td><td>null</td><td>null</td><td>null</td><td>null</td><td>null</td><td>null</td><td>&quot;ml&quot;</td><td>null</td><td>null</td><td>&quot;Ceftriaxone__E…</td><td>NaN</td><td>59.0</td><td>null</td><td>null</td></tr><tr><td>14694168</td><td>12126</td><td>2164-09-16 02:12:00</td><td>&quot;INFUSION_START…</td><td>58.707985</td><td>&quot;EARLY_AM&quot;</td><td>147439182</td><td>null</td><td>null</td><td>null</td><td>null</td><td>null</td><td>null</td><td>null</td><td>null</td><td>null</td><td>null</td><td>null</td><td>null</td><td>null</td><td>null</td><td>null</td><td>null</td><td>null</td><td>null</td><td>&quot;ml&quot;</td><td>3.0</td><td>&quot;mL/hour&quot;</td><td>&quot;NaCl 0.9%&quot;</td><td>100.0</td><td>81.599998</td><td>null</td><td>null</td></tr><tr><td>14694211</td><td>12126</td><td>2164-09-16 10:31:00</td><td>&quot;LAB&quot;</td><td>58.708934</td><td>&quot;AM&quot;</td><td>36546469</td><td>null</td><td>null</td><td>null</td><td>null</td><td>null</td><td>null</td><td>null</td><td>null</td><td>null</td><td>null</td><td>null</td><td>&quot;%&quot;</td><td>null</td><td>null</td><td>null</td><td>null</td><td>&quot;O2 saturation …</td><td>99.0</td><td>null</td><td>null</td><td>null</td><td>null</td><td>null</td><td>null</td><td>null</td><td>null</td></tr><tr><td>14694218</td><td>12126</td><td>2164-09-16 12:24:00</td><td>&quot;LAB&amp;INFUSION_E…</td><td>58.709149</td><td>&quot;PM&quot;</td><td>36546499</td><td>null</td><td>null</td><td>null</td><td>null</td><td>null</td><td>null</td><td>null</td><td>null</td><td>null</td><td>null</td><td>&quot;Dry Sterile Dr…</td><td>null</td><td>null</td><td>null</td><td>null</td><td>null</td><td>null</td><td>null</td><td>null</td><td>null</td><td>null</td><td>null</td><td>null</td><td>null</td><td>null</td><td>null</td></tr><tr><td>14694233</td><td>12126</td><td>2164-09-16 15:53:00</td><td>&quot;INFUSION_START…</td><td>58.709546</td><td>&quot;PM&quot;</td><td>147439190</td><td>null</td><td>null</td><td>null</td><td>null</td><td>null</td><td>null</td><td>null</td><td>null</td><td>null</td><td>null</td><td>null</td><td>null</td><td>null</td><td>null</td><td>null</td><td>null</td><td>null</td><td>null</td><td>&quot;ml&quot;</td><td>1.0045</td><td>&quot;mcg/kg/min&quot;</td><td>&quot;Phenylephrine_…</td><td>NaN</td><td>81.599998</td><td>null</td><td>null</td></tr><tr><td>14694275</td><td>12126</td><td>2164-09-16 22:12:00</td><td>&quot;INFUSION_END&quot;</td><td>58.710267</td><td>&quot;LATE_PM&quot;</td><td>151311999</td><td>null</td><td>null</td><td>null</td><td>null</td><td>null</td><td>null</td><td>null</td><td>null</td><td>null</td><td>null</td><td>null</td><td>null</td><td>null</td><td>null</td><td>null</td><td>null</td><td>null</td><td>null</td><td>&quot;ml&quot;</td><td>21.011106</td><td>&quot;mL/hour&quot;</td><td>&quot;Dextrose 5%&quot;</td><td>250.0</td><td>70.0</td><td>null</td><td>null</td></tr><tr><td>14694301</td><td>12126</td><td>2164-09-17 06:00:00</td><td>&quot;LAB&quot;</td><td>58.711157</td><td>&quot;AM&quot;</td><td>36546674</td><td>null</td><td>null</td><td>null</td><td>null</td><td>null</td><td>null</td><td>null</td><td>null</td><td>null</td><td>null</td><td>&quot;All rails up&quot;</td><td>null</td><td>null</td><td>null</td><td>null</td><td>null</td><td>null</td><td>null</td><td>null</td><td>null</td><td>null</td><td>null</td><td>null</td><td>null</td><td>null</td><td>null</td></tr><tr><td>14694317</td><td>12126</td><td>2164-09-17 08:00:00</td><td>&quot;LAB&quot;</td><td>58.711385</td><td>&quot;AM&quot;</td><td>36546684</td><td>null</td><td>null</td><td>null</td><td>null</td><td>null</td><td>null</td><td>null</td><td>null</td><td>null</td><td>null</td><td>null</td><td>&quot;mEq/L&quot;</td><td>null</td><td>null</td><td>null</td><td>null</td><td>&quot;Anion gap (mEq…</td><td>6.0</td><td>null</td><td>null</td><td>null</td><td>null</td><td>null</td><td>null</td><td>null</td><td>null</td></tr><tr><td>14694333</td><td>12126</td><td>2164-09-17 09:24:00</td><td>&quot;LAB&amp;INFUSION_S…</td><td>58.711545</td><td>&quot;AM&quot;</td><td>108743150</td><td>null</td><td>null</td><td>null</td><td>null</td><td>null</td><td>null</td><td>null</td><td>null</td><td>null</td><td>null</td><td>null</td><td>null</td><td>null</td><td>null</td><td>null</td><td>null</td><td>null</td><td>null</td><td>null</td><td>null</td><td>null</td><td>null</td><td>null</td><td>null</td><td>null</td><td>null</td></tr><tr><td>14694364</td><td>12126</td><td>2164-09-17 12:07:00</td><td>&quot;LAB&quot;</td><td>58.711855</td><td>&quot;PM&quot;</td><td>36546737</td><td>null</td><td>null</td><td>null</td><td>null</td><td>null</td><td>null</td><td>null</td><td>null</td><td>null</td><td>null</td><td>null</td><td>&quot;mmHg&quot;</td><td>null</td><td>null</td><td>null</td><td>null</td><td>&quot;Non Invasive B…</td><td>77.0</td><td>null</td><td>null</td><td>null</td><td>null</td><td>null</td><td>null</td><td>null</td><td>null</td></tr><tr><td>14694382</td><td>12126</td><td>2164-09-17 13:42:00</td><td>&quot;DEATH&amp;DISCHARG…</td><td>58.712035</td><td>&quot;PM&quot;</td><td>88274</td><td>null</td><td>null</td><td>null</td><td>null</td><td>null</td><td>null</td><td>&quot;SKILLED NURSIN…</td><td>null</td><td>null</td><td>null</td><td>null</td><td>null</td><td>null</td><td>null</td><td>null</td><td>null</td><td>null</td><td>null</td><td>null</td><td>null</td><td>null</td><td>null</td><td>null</td><td>null</td><td>null</td><td>null</td></tr></tbody></table></div>"
      ],
      "text/plain": [
       "shape: (14_694_388, 33)\n",
       "┌──────────┬───────────┬───────────┬───────────┬───┬───────────┬───────────┬───────────┬───────────┐\n",
       "│ event_id ┆ subject_i ┆ timestamp ┆ event_typ ┆ … ┆ totalamou ┆ patientwe ┆ procedure ┆ medicatio │\n",
       "│ ---      ┆ d         ┆ ---       ┆ e         ┆   ┆ nt        ┆ ight      ┆ ---       ┆ n         │\n",
       "│ u32      ┆ ---       ┆ datetime[ ┆ ---       ┆   ┆ ---       ┆ ---       ┆ cat       ┆ ---       │\n",
       "│          ┆ u16       ┆ μs]       ┆ cat       ┆   ┆ f64       ┆ f64       ┆           ┆ cat       │\n",
       "╞══════════╪═══════════╪═══════════╪═══════════╪═══╪═══════════╪═══════════╪═══════════╪═══════════╡\n",
       "│ 8        ┆ 0         ┆ 2126-11-0 ┆ ADMISSION ┆ … ┆ null      ┆ null      ┆ null      ┆ null      │\n",
       "│          ┆           ┆ 4         ┆           ┆   ┆           ┆           ┆           ┆           │\n",
       "│          ┆           ┆ 00:50:00  ┆           ┆   ┆           ┆           ┆           ┆           │\n",
       "│ 26       ┆ 0         ┆ 2130-10-0 ┆ ADMISSION ┆ … ┆ null      ┆ null      ┆ null      ┆ null      │\n",
       "│          ┆           ┆ 8         ┆           ┆   ┆           ┆           ┆           ┆           │\n",
       "│          ┆           ┆ 19:03:00  ┆           ┆   ┆           ┆           ┆           ┆           │\n",
       "│ 49       ┆ 0         ┆ 2131-01-1 ┆ INFUSION_ ┆ … ┆ 50.0      ┆ 65.0      ┆ null      ┆ null      │\n",
       "│          ┆           ┆ 1         ┆ START&PRO ┆   ┆           ┆           ┆           ┆           │\n",
       "│          ┆           ┆ 04:30:00  ┆ CEDURE_ST ┆   ┆           ┆           ┆           ┆           │\n",
       "│          ┆           ┆           ┆ ART       ┆   ┆           ┆           ┆           ┆           │\n",
       "│ 101      ┆ 0         ┆ 2131-01-1 ┆ INFUSION_ ┆ … ┆ 250.0     ┆ 65.0      ┆ null      ┆ null      │\n",
       "│          ┆           ┆ 1         ┆ START&MED ┆   ┆           ┆           ┆           ┆           │\n",
       "│          ┆           ┆ 09:31:00  ┆ ICATION   ┆   ┆           ┆           ┆           ┆           │\n",
       "│ …        ┆ …         ┆ …         ┆ …         ┆ … ┆ …         ┆ …         ┆ …         ┆ …         │\n",
       "│ 14694317 ┆ 12126     ┆ 2164-09-1 ┆ LAB       ┆ … ┆ null      ┆ null      ┆ null      ┆ null      │\n",
       "│          ┆           ┆ 7         ┆           ┆   ┆           ┆           ┆           ┆           │\n",
       "│          ┆           ┆ 08:00:00  ┆           ┆   ┆           ┆           ┆           ┆           │\n",
       "│ 14694333 ┆ 12126     ┆ 2164-09-1 ┆ LAB&INFUS ┆ … ┆ null      ┆ null      ┆ null      ┆ null      │\n",
       "│          ┆           ┆ 7         ┆ ION_START ┆   ┆           ┆           ┆           ┆           │\n",
       "│          ┆           ┆ 09:24:00  ┆           ┆   ┆           ┆           ┆           ┆           │\n",
       "│ 14694364 ┆ 12126     ┆ 2164-09-1 ┆ LAB       ┆ … ┆ null      ┆ null      ┆ null      ┆ null      │\n",
       "│          ┆           ┆ 7         ┆           ┆   ┆           ┆           ┆           ┆           │\n",
       "│          ┆           ┆ 12:07:00  ┆           ┆   ┆           ┆           ┆           ┆           │\n",
       "│ 14694382 ┆ 12126     ┆ 2164-09-1 ┆ DEATH&DIS ┆ … ┆ null      ┆ null      ┆ null      ┆ null      │\n",
       "│          ┆           ┆ 7         ┆ CHARGE&DI ┆   ┆           ┆           ┆           ┆           │\n",
       "│          ┆           ┆ 13:42:00  ┆ AGNOSIS   ┆   ┆           ┆           ┆           ┆           │\n",
       "└──────────┴───────────┴───────────┴───────────┴───┴───────────┴───────────┴───────────┴───────────┘"
      ]
     },
     "execution_count": 35,
     "metadata": {},
     "output_type": "execute_result"
    }
   ],
   "source": [
    "df_data"
   ]
  }
 ],
 "metadata": {
  "kernelspec": {
   "display_name": "esgpt",
   "language": "python",
   "name": "python3"
  },
  "language_info": {
   "codemirror_mode": {
    "name": "ipython",
    "version": 3
   },
   "file_extension": ".py",
   "mimetype": "text/x-python",
   "name": "python",
   "nbconvert_exporter": "python",
   "pygments_lexer": "ipython3",
   "version": "3.10.13"
  }
 },
 "nbformat": 4,
 "nbformat_minor": 2
}
