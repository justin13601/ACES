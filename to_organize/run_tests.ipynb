{
 "cells": [
  {
   "cell_type": "code",
   "execution_count": 1,
   "metadata": {},
   "outputs": [],
   "source": [
    "import os\n",
    "import pandas as pd\n",
    "import polars as pl\n",
    "pd.set_option('display.max_rows', 100)\n",
    "pl.Config.set_tbl_cols(100)\n",
    "pl.Config.set_tbl_rows(100)\n",
    "\n",
    "%load_ext autoreload\n",
    "%autoreload 2"
   ]
  },
  {
   "cell_type": "code",
   "execution_count": 2,
   "metadata": {},
   "outputs": [
    {
     "name": "stderr",
     "output_type": "stream",
     "text": [
      "/home/justinxu/miniconda3/envs/esgpt/lib/python3.10/site-packages/tqdm/auto.py:21: TqdmWarning: IProgress not found. Please update jupyter and ipywidgets. See https://ipywidgets.readthedocs.io/en/stable/user_install.html\n",
      "  from .autonotebook import tqdm as notebook_tqdm\n"
     ]
    },
    {
     "name": "stdout",
     "output_type": "stream",
     "text": [
      "Updating config.save_dir from /n/data1/hms/dbmi/zaklab/RAMMS/data/MIMIC_IV/ESD_new_schema_08-31-23-1 to ../MIMIC_ESD_new_schema_08-31-23-1\n",
      "Loading events from ../MIMIC_ESD_new_schema_08-31-23-1/events_df.parquet...\n",
      "Loading dynamic_measurements from ../MIMIC_ESD_new_schema_08-31-23-1/dynamic_measurements_df.parquet...\n"
     ]
    }
   ],
   "source": [
    "import os\n",
    "from pathlib import Path\n",
    "\n",
    "import polars as pl\n",
    "\n",
    "from EventStream.data.dataset_polars import Dataset\n",
    "\n",
    "DATA_DIR = Path(\"../MIMIC_ESD_new_schema_08-31-23-1\")\n",
    "ESD = Dataset.load(DATA_DIR)\n",
    "\n",
    "events_df = ESD.events_df.filter(~pl.all_horizontal(pl.all().is_null()))\n",
    "dynamic_measurements_df = ESD.dynamic_measurements_df.filter(~pl.all_horizontal(pl.all().is_null()))\n",
    "\n",
    "df_data = (events_df\n",
    "            .join(dynamic_measurements_df, on=\"event_id\", how=\"left\")\n",
    "            .drop(['event_id'])\n",
    "            .sort(by=['subject_id', 'timestamp', 'event_type'])\n",
    "            )\n",
    "\n",
    "\n",
    "# df_data = pl.read_csv(\"sample_data.csv\")"
   ]
  },
  {
   "cell_type": "markdown",
   "metadata": {},
   "source": [
    "### End-to-End"
   ]
  },
  {
   "cell_type": "code",
   "execution_count": 3,
   "metadata": {},
   "outputs": [
    {
     "name": "stdout",
     "output_type": "stream",
     "text": [
      "Loading config...\n",
      "\n",
      "Generating predicate columns...\n",
      "\n",
      "Added predicate column is_admission.\n",
      "Added predicate column is_discharge.\n",
      "Added predicate column is_death.\n",
      "Added predicate column is_lab.\n",
      "Added predicate column is_abnormal_lab_num.\n",
      "Added predicate column is_heart_rate.\n",
      "Added predicate column is_discharge_or_death.\n",
      "Added predicate column is_abnormal_heart_rate.\n",
      "\n",
      "Building tree...\n",
      "trigger\n",
      "┗━━ gap\n",
      "    ┗━━ target\n",
      "\n",
      "\n",
      "12127 subjects (14623763 rows) were excluded due to trigger condition: {'predicate': 'admission', 'min': 1, 'max': 1}.\n",
      "\n",
      "\n",
      "Querying...\n",
      "\n",
      "\n",
      "Querying subtree rooted at gap...\n",
      "342 subjects (631 rows) were excluded due to constraint: [(col(\"is_admission\")) <= (0)].\n",
      "7143 subjects (17534 rows) were excluded due to constraint: [(col(\"is_discharge\")) <= (0)].\n",
      "\n",
      "\n",
      "Querying subtree rooted at target...\n",
      "12115 subjects (66701 rows) were excluded due to constraint: [(col(\"is_abnormal_heart_rate\")) >= (1)].\n",
      "\n",
      "\n",
      "Done.\n",
      "\n"
     ]
    },
    {
     "data": {
      "text/html": [
       "<div><style>\n",
       ".dataframe > thead > tr,\n",
       ".dataframe > tbody > tr {\n",
       "  text-align: right;\n",
       "  white-space: pre-wrap;\n",
       "}\n",
       "</style>\n",
       "<small>shape: (2, 7)</small><table border=\"1\" class=\"dataframe\"><thead><tr><th>subject_id</th><th>trigger/timestamp</th><th>gap/timestamp</th><th>target/timestamp</th><th>gap/window_summary</th><th>target/window_summary</th><th>label</th></tr><tr><td>u16</td><td>datetime[μs]</td><td>datetime[μs]</td><td>datetime[μs]</td><td>struct[9]</td><td>struct[9]</td><td>i32</td></tr></thead><tbody><tr><td>1033</td><td>2177-05-15 21:06:00</td><td>2177-05-17 21:06:00</td><td>2177-06-06 12:35:00</td><td>{0,0,0,0,0,0,1543,30,159}</td><td>{1,1,0,1,1,1,13348,371,1310}</td><td>0</td></tr><tr><td>11456</td><td>2118-10-24 21:32:00</td><td>2118-10-26 21:32:00</td><td>2118-11-05 16:37:00</td><td>{0,0,0,0,0,0,1307,31,166}</td><td>{1,1,0,1,1,1,5399,124,402}</td><td>0</td></tr></tbody></table></div>"
      ],
      "text/plain": [
       "shape: (2, 7)\n",
       "┌────────────┬───────────────┬───────────────┬───────────────┬──────────────┬──────────────┬───────┐\n",
       "│ subject_id ┆ trigger/times ┆ gap/timestamp ┆ target/timest ┆ gap/window_s ┆ target/windo ┆ label │\n",
       "│ ---        ┆ tamp          ┆ ---           ┆ amp           ┆ ummary       ┆ w_summary    ┆ ---   │\n",
       "│ u16        ┆ ---           ┆ datetime[μs]  ┆ ---           ┆ ---          ┆ ---          ┆ i32   │\n",
       "│            ┆ datetime[μs]  ┆               ┆ datetime[μs]  ┆ struct[9]    ┆ struct[9]    ┆       │\n",
       "╞════════════╪═══════════════╪═══════════════╪═══════════════╪══════════════╪══════════════╪═══════╡\n",
       "│ 1033       ┆ 2177-05-15    ┆ 2177-05-17    ┆ 2177-06-06    ┆ {0,0,0,0,0,0 ┆ {1,1,0,1,1,1 ┆ 0     │\n",
       "│            ┆ 21:06:00      ┆ 21:06:00      ┆ 12:35:00      ┆ ,1543,30,159 ┆ ,13348,371,1 ┆       │\n",
       "│            ┆               ┆               ┆               ┆ }            ┆ 310}         ┆       │\n",
       "│ 11456      ┆ 2118-10-24    ┆ 2118-10-26    ┆ 2118-11-05    ┆ {0,0,0,0,0,0 ┆ {1,1,0,1,1,1 ┆ 0     │\n",
       "│            ┆ 21:32:00      ┆ 21:32:00      ┆ 16:37:00      ┆ ,1307,31,166 ┆ ,5399,124,40 ┆       │\n",
       "│            ┆               ┆               ┆               ┆ }            ┆ 2}           ┆       │\n",
       "└────────────┴───────────────┴───────────────┴───────────────┴──────────────┴──────────────┴───────┘"
      ]
     },
     "execution_count": 3,
     "metadata": {},
     "output_type": "execute_result"
    }
   ],
   "source": [
    "from task_querying_v2 import *\n",
    "\n",
    "name = 'test_08'\n",
    "\n",
    "config_path = f\"test_configs/{name}.yaml\"\n",
    "\n",
    "res = query_task(config_path, df_data)\n",
    "res"
   ]
  },
  {
   "cell_type": "code",
   "execution_count": null,
   "metadata": {},
   "outputs": [
    {
     "data": {
      "text/html": [
       "<div><style>\n",
       ".dataframe > thead > tr,\n",
       ".dataframe > tbody > tr {\n",
       "  text-align: right;\n",
       "  white-space: pre-wrap;\n",
       "}\n",
       "</style>\n",
       "<small>shape: (2, 9)</small><table border=\"1\" class=\"dataframe\"><thead><tr><th>is_admission</th><th>is_discharge</th><th>is_death</th><th>is_abnormal_lab_num</th><th>is_discharge_or_death</th><th>is_abnormal_heart_rate</th><th>is_lab</th><th>is_heart_rate</th><th>is_any</th></tr><tr><td>i32</td><td>i32</td><td>i32</td><td>i32</td><td>i32</td><td>i32</td><td>i32</td><td>i32</td><td>i32</td></tr></thead><tbody><tr><td>1</td><td>1</td><td>0</td><td>1</td><td>1</td><td>1</td><td>13348</td><td>371</td><td>1310</td></tr><tr><td>1</td><td>1</td><td>0</td><td>1</td><td>1</td><td>1</td><td>5399</td><td>124</td><td>402</td></tr></tbody></table></div>"
      ],
      "text/plain": [
       "shape: (2, 9)\n",
       "┌───────────┬───────────┬──────────┬───────────┬───────────┬──────────┬────────┬──────────┬────────┐\n",
       "│ is_admiss ┆ is_discha ┆ is_death ┆ is_abnorm ┆ is_discha ┆ is_abnor ┆ is_lab ┆ is_heart ┆ is_any │\n",
       "│ ion       ┆ rge       ┆ ---      ┆ al_lab_nu ┆ rge_or_de ┆ mal_hear ┆ ---    ┆ _rate    ┆ ---    │\n",
       "│ ---       ┆ ---       ┆ i32      ┆ m         ┆ ath       ┆ t_rate   ┆ i32    ┆ ---      ┆ i32    │\n",
       "│ i32       ┆ i32       ┆          ┆ ---       ┆ ---       ┆ ---      ┆        ┆ i32      ┆        │\n",
       "│           ┆           ┆          ┆ i32       ┆ i32       ┆ i32      ┆        ┆          ┆        │\n",
       "╞═══════════╪═══════════╪══════════╪═══════════╪═══════════╪══════════╪════════╪══════════╪════════╡\n",
       "│ 1         ┆ 1         ┆ 0        ┆ 1         ┆ 1         ┆ 1        ┆ 13348  ┆ 371      ┆ 1310   │\n",
       "│ 1         ┆ 1         ┆ 0        ┆ 1         ┆ 1         ┆ 1        ┆ 5399   ┆ 124      ┆ 402    │\n",
       "└───────────┴───────────┴──────────┴───────────┴───────────┴──────────┴────────┴──────────┴────────┘"
      ]
     },
     "execution_count": 4,
     "metadata": {},
     "output_type": "execute_result"
    }
   ],
   "source": [
    "res.select(['target/window_summary']).unnest('target/window_summary')"
   ]
  },
  {
   "cell_type": "markdown",
   "metadata": {},
   "source": [
    "# Unit Testing"
   ]
  },
  {
   "cell_type": "code",
   "execution_count": null,
   "metadata": {},
   "outputs": [],
   "source": [
    "from simple_test_runner import *"
   ]
  },
  {
   "cell_type": "code",
   "execution_count": null,
   "metadata": {},
   "outputs": [],
   "source": [
    "df_test_1_input = pl.DataFrame(\n",
    "    {\n",
    "        'subject_id': [1, 1, 1],\n",
    "        'timestamp': ['12/1/1900 12:00', '12/1/1900 13:00', '12/1/1900 14:00'],\n",
    "        'event_type': ['ADMISSION', 'LAB', 'DISCHARGE'],\n",
    "        'dx': ['', '', ''],\n",
    "        'lab_test': ['', 'SpO2', ''],\n",
    "        'lab_value': ['', '99', ''],\n",
    "        'is_admission': [1, 0, 0],\n",
    "        'is_lab': [0, 1, 0],\n",
    "        'is_discharge': [0, 0, 1],\n",
    "        'is_any': [1, 1, 1],\n",
    "    }\n",
    ")\n",
    "\n",
    "df_test_1_predicate_cols = [col for col in df_test_1_input.columns if col.startswith('is_')]\n",
    "\n",
    "df_test_1_endpoint_expr = (False, \"is_discharge\", True, None) \n",
    "\n",
    "test_1_anchor_to_subtree_root_by_subtree_anchor = pl.DataFrame(\n",
    "    {\n",
    "        'subject_id': [1],\n",
    "        'timestamp': ['12/1/1900 12:00'],\n",
    "        'is_admission': [0],\n",
    "        'is_lab': [0],\n",
    "        'is_discharge': [0],\n",
    "        'is_any': [0],\n",
    "    }\n",
    ")\n",
    "\n",
    "df_test_1_result = pl.DataFrame(\n",
    "    {\n",
    "        \"subject_id\": [1],\n",
    "        \"timestamp\": [\"12/1/1900 14:00\"],\n",
    "        \"timestamp_at_anchor\": [\"12/1/1900 12:00\"],\n",
    "        \"is_admission\": [0],\n",
    "        \"is_lab\": [1],\n",
    "        \"is_discharge\": [1],\n",
    "        \"is_any\": [2],\n",
    "        \"is_admission_summary\": [0],\n",
    "        \"is_lab_summary\": [0],\n",
    "        \"is_discharge_summary\": [0],\n",
    "        \"is_any_summary\": [0],\n",
    "    }\n",
    ")"
   ]
  },
  {
   "cell_type": "code",
   "execution_count": null,
   "metadata": {},
   "outputs": [
    {
     "name": "stdout",
     "output_type": "stream",
     "text": [
      "Testing summarize_event_bound_window, should be equal... Passed!\n"
     ]
    }
   ],
   "source": [
    "test_1 = [\n",
    "    {\n",
    "        \"message\": \"Testing summarize_event_bound_window, should be equal...\",\n",
    "        \"args\": (\n",
    "            df_test_1_input, \n",
    "            df_test_1_predicate_cols, \n",
    "            df_test_1_endpoint_expr,\n",
    "            test_1_anchor_to_subtree_root_by_subtree_anchor),\n",
    "        \"want\": df_test_1_result,\n",
    "    }\n",
    "]\n",
    "\n",
    "simple_test_runner(test_1, summarize_event_bound_window)"
   ]
  },
  {
   "cell_type": "markdown",
   "metadata": {},
   "source": [
    "# Integration Testing"
   ]
  },
  {
   "cell_type": "markdown",
   "metadata": {},
   "source": [
    "### Config Loading"
   ]
  },
  {
   "cell_type": "code",
   "execution_count": null,
   "metadata": {},
   "outputs": [],
   "source": [
    "from task_querying_v2 import *"
   ]
  },
  {
   "cell_type": "code",
   "execution_count": null,
   "metadata": {},
   "outputs": [],
   "source": [
    "data = pl.read_csv('sample_data.csv')\n",
    "data = data.with_columns(pl.col('timestamp').str.strptime(pl.Datetime, format='%m/%d/%Y %H:%M').cast(pl.Datetime))"
   ]
  },
  {
   "cell_type": "code",
   "execution_count": null,
   "metadata": {},
   "outputs": [
    {
     "data": {
      "text/plain": [
       "{'predicates': {'admission': {'column': 'event_type', 'value': 'ADMISSION'},\n",
       "  'discharge': {'column': 'event_type', 'value': 'DISCHARGE'},\n",
       "  'death': {'column': 'event_type', 'value': 'DEATH'},\n",
       "  'covid': {'column': 'dx', 'value': 'COVID'},\n",
       "  'discharge_or_death': {'type': 'ANY', 'predicates': ['discharge', 'death']}},\n",
       " 'windows': {'trigger': {'start': 'admission',\n",
       "   'duration': None,\n",
       "   'offset': None,\n",
       "   'end': 'admission',\n",
       "   'excludes': None,\n",
       "   'includes': [{'predicate': 'admission', 'min': 1, 'max': 1}],\n",
       "   'st_inclusive': False,\n",
       "   'end_inclusive': True},\n",
       "  'gap': {'start': 'trigger.end',\n",
       "   'duration': '48 hours',\n",
       "   'offset': None,\n",
       "   'end': 'gap.start + gap.duration',\n",
       "   'excludes': [{'predicate': 'admission'}, {'predicate': 'discharge'}, {'predicate': 'death'}],\n",
       "   'includes': None,\n",
       "   'st_inclusive': False,\n",
       "   'end_inclusive': True},\n",
       "  'target': {'start': 'gap.end',\n",
       "   'duration': None,\n",
       "   'offset': None,\n",
       "   'end': 'discharge_or_death',\n",
       "   'excludes': None,\n",
       "   'includes': [{'predicate': 'discharge_or_death', 'min': 1, 'max': 1}],\n",
       "   'st_inclusive': False,\n",
       "   'end_inclusive': True},\n",
       "  'input': {'start': None,\n",
       "   'duration': '30 days',\n",
       "   'offset': '24 hours',\n",
       "   'end': 'trigger.start + offset',\n",
       "   'excludes': [{'predicate': 'covid'}],\n",
       "   'includes': [{'predicate': 'any', 'min': 5, 'max': None}],\n",
       "   'st_inclusive': False,\n",
       "   'end_inclusive': True}}}"
      ]
     },
     "execution_count": 10,
     "metadata": {},
     "output_type": "execute_result"
    }
   ],
   "source": [
    "cfg = load_config('sample_config.yaml')\n",
    "cfg"
   ]
  },
  {
   "cell_type": "markdown",
   "metadata": {},
   "source": [
    "### Generate predicate columns"
   ]
  },
  {
   "cell_type": "code",
   "execution_count": null,
   "metadata": {},
   "outputs": [
    {
     "ename": "AttributeError",
     "evalue": "'DotAccessibleDict' object has no attribute 'system'",
     "output_type": "error",
     "traceback": [
      "\u001b[0;31m---------------------------------------------------------------------------\u001b[0m",
      "\u001b[0;31mAttributeError\u001b[0m                            Traceback (most recent call last)",
      "Cell \u001b[0;32mIn[11], line 1\u001b[0m\n\u001b[0;32m----> 1\u001b[0m predicates_df \u001b[38;5;241m=\u001b[39m \u001b[43mgenerate_predicate_columns\u001b[49m\u001b[43m(\u001b[49m\u001b[43mcfg\u001b[49m\u001b[43m,\u001b[49m\u001b[43m \u001b[49m\u001b[43mdata\u001b[49m\u001b[43m)\u001b[49m\n\u001b[1;32m      2\u001b[0m predicates_df\n",
      "File \u001b[0;32m~/esgpt/ESGPTTaskQuerying/to_organize/task_querying_v2.py:143\u001b[0m, in \u001b[0;36mgenerate_predicate_columns\u001b[0;34m(cfg, ESD)\u001b[0m\n\u001b[1;32m    141\u001b[0m count_cols \u001b[38;5;241m=\u001b[39m []\n\u001b[1;32m    142\u001b[0m \u001b[38;5;28;01mfor\u001b[39;00m predicate_name, predicate_info \u001b[38;5;129;01min\u001b[39;00m cfg\u001b[38;5;241m.\u001b[39mpredicates\u001b[38;5;241m.\u001b[39mitems():\n\u001b[0;32m--> 143\u001b[0m     \u001b[38;5;28;01mif\u001b[39;00m \u001b[43mpredicate_info\u001b[49m\u001b[38;5;241;43m.\u001b[39;49m\u001b[43msystem\u001b[49m \u001b[38;5;241m==\u001b[39m \u001b[38;5;124m\"\u001b[39m\u001b[38;5;124mboolean\u001b[39m\u001b[38;5;124m\"\u001b[39m:\n\u001b[1;32m    144\u001b[0m         boolean_cols\u001b[38;5;241m.\u001b[39mappend(\u001b[38;5;124mf\u001b[39m\u001b[38;5;124m\"\u001b[39m\u001b[38;5;124mis_\u001b[39m\u001b[38;5;132;01m{\u001b[39;00mpredicate_name\u001b[38;5;132;01m}\u001b[39;00m\u001b[38;5;124m\"\u001b[39m)\n\u001b[1;32m    145\u001b[0m     \u001b[38;5;28;01melif\u001b[39;00m predicate_info\u001b[38;5;241m.\u001b[39msystem \u001b[38;5;241m==\u001b[39m \u001b[38;5;124m\"\u001b[39m\u001b[38;5;124mcount\u001b[39m\u001b[38;5;124m\"\u001b[39m:\n",
      "File \u001b[0;32m~/esgpt/ESGPTTaskQuerying/to_organize/task_querying_v2.py:30\u001b[0m, in \u001b[0;36mDotAccessibleDict.__getattr__\u001b[0;34m(self, attr)\u001b[0m\n\u001b[1;32m     28\u001b[0m     \u001b[38;5;28;01mreturn\u001b[39;00m \u001b[38;5;28mself\u001b[39m[attr]\n\u001b[1;32m     29\u001b[0m \u001b[38;5;28;01melse\u001b[39;00m:\n\u001b[0;32m---> 30\u001b[0m     \u001b[38;5;28;01mraise\u001b[39;00m \u001b[38;5;167;01mAttributeError\u001b[39;00m(\n\u001b[1;32m     31\u001b[0m         \u001b[38;5;124mf\u001b[39m\u001b[38;5;124m\"\u001b[39m\u001b[38;5;124m'\u001b[39m\u001b[38;5;132;01m{\u001b[39;00m\u001b[38;5;28mtype\u001b[39m(\u001b[38;5;28mself\u001b[39m)\u001b[38;5;241m.\u001b[39m\u001b[38;5;18m__name__\u001b[39m\u001b[38;5;132;01m}\u001b[39;00m\u001b[38;5;124m'\u001b[39m\u001b[38;5;124m object has no attribute \u001b[39m\u001b[38;5;124m'\u001b[39m\u001b[38;5;132;01m{\u001b[39;00mattr\u001b[38;5;132;01m}\u001b[39;00m\u001b[38;5;124m'\u001b[39m\u001b[38;5;124m\"\u001b[39m\n\u001b[1;32m     32\u001b[0m     )\n",
      "\u001b[0;31mAttributeError\u001b[0m: 'DotAccessibleDict' object has no attribute 'system'"
     ]
    }
   ],
   "source": [
    "predicates_df = generate_predicate_columns(cfg, data)\n",
    "predicates_df"
   ]
  },
  {
   "cell_type": "markdown",
   "metadata": {},
   "source": [
    "### Build tree"
   ]
  },
  {
   "cell_type": "code",
   "execution_count": null,
   "metadata": {},
   "outputs": [
    {
     "name": "stdout",
     "output_type": "stream",
     "text": [
      "trigger\n",
      "┣━━ gap\n",
      "┃   ┗━━ target\n",
      "┗━━ input\n",
      "Node(/trigger, constraints={'is_admission': (1, 1)}, endpoint_expr=(False, 'is_admission', True, datetime.timedelta(0)))\n",
      "Node(/trigger/gap, constraints={'is_admission': (None, 0), 'is_discharge': (None, 0), 'is_death': (None, 0)}, endpoint_expr=(False, datetime.timedelta(days=2), True, datetime.timedelta(0)))\n",
      "Node(/trigger/gap/target, constraints={'is_discharge_or_death': (1, 1)}, endpoint_expr=(True, 'is_discharge_or_death', True, datetime.timedelta(0)))\n",
      "Node(/trigger/input, constraints={'is_covid': (None, 0), 'is_any': (5, None)}, endpoint_expr=(False, datetime.timedelta(days=30), True, datetime.timedelta(days=1)))\n"
     ]
    },
    {
     "data": {
      "text/plain": [
       "{'predicates': {'admission': {'column': 'event_type', 'value': 'ADMISSION'},\n",
       "  'discharge': {'column': 'event_type', 'value': 'DISCHARGE'},\n",
       "  'death': {'column': 'event_type', 'value': 'DEATH'},\n",
       "  'covid': {'column': 'dx', 'value': 'COVID'},\n",
       "  'discharge_or_death': {'type': 'ANY', 'predicates': ['discharge', 'death']}},\n",
       " 'windows': {'trigger': {'start': 'admission',\n",
       "   'duration': None,\n",
       "   'offset': None,\n",
       "   'end': 'admission',\n",
       "   'excludes': None,\n",
       "   'includes': [{'predicate': 'admission', 'min': 1, 'max': 1}],\n",
       "   'st_inclusive': False,\n",
       "   'end_inclusive': True},\n",
       "  'gap': {'start': 'trigger.end',\n",
       "   'duration': '48 hours',\n",
       "   'offset': None,\n",
       "   'end': 'gap.start + gap.duration',\n",
       "   'excludes': [{'predicate': 'admission'}, {'predicate': 'discharge'}, {'predicate': 'death'}],\n",
       "   'includes': None,\n",
       "   'st_inclusive': False,\n",
       "   'end_inclusive': True},\n",
       "  'target': {'start': 'gap.end',\n",
       "   'duration': None,\n",
       "   'offset': None,\n",
       "   'end': 'discharge_or_death',\n",
       "   'excludes': None,\n",
       "   'includes': [{'predicate': 'discharge_or_death', 'min': 1, 'max': 1}],\n",
       "   'st_inclusive': False,\n",
       "   'end_inclusive': True},\n",
       "  'input': {'start': None,\n",
       "   'duration': '30 days',\n",
       "   'offset': '24 hours',\n",
       "   'end': 'trigger.start + offset',\n",
       "   'excludes': [{'predicate': 'covid'}],\n",
       "   'includes': [{'predicate': 'any', 'min': 5, 'max': None}],\n",
       "   'st_inclusive': False,\n",
       "   'end_inclusive': True}}}"
      ]
     },
     "execution_count": 16,
     "metadata": {},
     "output_type": "execute_result"
    }
   ],
   "source": [
    "tree = build_tree_from_config(cfg)\n",
    "print_tree(tree, style=\"const_bold\")\n",
    "for each_node in preorder_iter(tree):\n",
    "    print(each_node)\n",
    "cfg"
   ]
  },
  {
   "cell_type": "markdown",
   "metadata": {},
   "source": [
    "### Summarize window"
   ]
  },
  {
   "cell_type": "code",
   "execution_count": null,
   "metadata": {},
   "outputs": [
    {
     "name": "stdout",
     "output_type": "stream",
     "text": [
      "['is_admission', 'is_discharge', 'is_death', 'is_covid', 'is_discharge_or_death', 'is_any']\n",
      "shape: (6, 8)\n",
      "┌────────────┬─────────────┬─────────────┬─────────────┬──────────┬──────────┬────────────┬────────┐\n",
      "│ subject_id ┆ timestamp   ┆ is_admissio ┆ is_discharg ┆ is_death ┆ is_covid ┆ is_dischar ┆ is_any │\n",
      "│ ---        ┆ ---         ┆ n           ┆ e           ┆ ---      ┆ ---      ┆ ge_or_deat ┆ ---    │\n",
      "│ i64        ┆ datetime[μs ┆ ---         ┆ ---         ┆ i32      ┆ i32      ┆ h          ┆ i32    │\n",
      "│            ┆ ]           ┆ i32         ┆ i32         ┆          ┆          ┆ ---        ┆        │\n",
      "│            ┆             ┆             ┆             ┆          ┆          ┆ i32        ┆        │\n",
      "╞════════════╪═════════════╪═════════════╪═════════════╪══════════╪══════════╪════════════╪════════╡\n",
      "│ 1          ┆ 1989-12-01  ┆ 0           ┆ 0           ┆ 0        ┆ 0        ┆ 0          ┆ 0      │\n",
      "│            ┆ 12:03:00    ┆             ┆             ┆          ┆          ┆            ┆        │\n",
      "│ 1          ┆ 1991-01-27  ┆ 0           ┆ 0           ┆ 0        ┆ 0        ┆ 0          ┆ 0      │\n",
      "│            ┆ 23:32:00    ┆             ┆             ┆          ┆          ┆            ┆        │\n",
      "│ 1          ┆ 1991-03-03  ┆ 0           ┆ 0           ┆ 0        ┆ 0        ┆ 0          ┆ 0      │\n",
      "│            ┆ 19:33:00    ┆             ┆             ┆          ┆          ┆            ┆        │\n",
      "│ 2          ┆ 1996-03-08  ┆ 0           ┆ 0           ┆ 0        ┆ 0        ┆ 0          ┆ 0      │\n",
      "│            ┆ 02:24:00    ┆             ┆             ┆          ┆          ┆            ┆        │\n",
      "│ 2          ┆ 1996-06-05  ┆ 0           ┆ 0           ┆ 0        ┆ 0        ┆ 0          ┆ 0      │\n",
      "│            ┆ 00:32:00    ┆             ┆             ┆          ┆          ┆            ┆        │\n",
      "│ 3          ┆ 1996-03-08  ┆ 0           ┆ 0           ┆ 0        ┆ 0        ┆ 0          ┆ 0      │\n",
      "│            ┆ 02:24:00    ┆             ┆             ┆          ┆          ┆            ┆        │\n",
      "└────────────┴─────────────┴─────────────┴─────────────┴──────────┴──────────┴────────────┴────────┘\n"
     ]
    }
   ],
   "source": [
    "import datetime\n",
    "\n",
    "predicate_cols = [col for col in predicates_df.columns if col.startswith(\"is_\")]\n",
    "print(predicate_cols)\n",
    "\n",
    "anchor_to_subtree_root_by_subtree_anchor = (\n",
    "        predicates_df.filter(predicates_df['is_admission'] == 1)\n",
    "            .select('subject_id', 'timestamp', *[pl.col(c) for c in predicate_cols])\n",
    "            .with_columns('subject_id', 'timestamp', *[pl.lit(0).alias(c) for c in predicate_cols])\n",
    "    )\n",
    "print(anchor_to_subtree_root_by_subtree_anchor)"
   ]
  },
  {
   "cell_type": "markdown",
   "metadata": {},
   "source": [
    "Temporally-bound"
   ]
  },
  {
   "cell_type": "code",
   "execution_count": null,
   "metadata": {},
   "outputs": [
    {
     "data": {
      "text/html": [
       "<div><style>\n",
       ".dataframe > thead > tr,\n",
       ".dataframe > tbody > tr {\n",
       "  text-align: right;\n",
       "  white-space: pre-wrap;\n",
       "}\n",
       "</style>\n",
       "<small>shape: (6, 15)</small><table border=\"1\" class=\"dataframe\"><thead><tr><th>subject_id</th><th>timestamp</th><th>timestamp_at_anchor</th><th>is_admission</th><th>is_discharge</th><th>is_death</th><th>is_covid</th><th>is_discharge_or_death</th><th>is_any</th><th>is_admission_summary</th><th>is_discharge_summary</th><th>is_death_summary</th><th>is_covid_summary</th><th>is_discharge_or_death_summary</th><th>is_any_summary</th></tr><tr><td>i64</td><td>datetime[μs]</td><td>datetime[μs]</td><td>i32</td><td>i32</td><td>i32</td><td>i32</td><td>i32</td><td>i32</td><td>i32</td><td>i32</td><td>i32</td><td>i32</td><td>i32</td><td>i32</td></tr></thead><tbody><tr><td>1</td><td>1989-12-01 12:03:00</td><td>1989-12-01 12:03:00</td><td>0</td><td>1</td><td>0</td><td>0</td><td>1</td><td>7</td><td>0</td><td>0</td><td>0</td><td>0</td><td>0</td><td>0</td></tr><tr><td>1</td><td>1991-01-27 23:32:00</td><td>1991-01-27 23:32:00</td><td>0</td><td>0</td><td>0</td><td>0</td><td>0</td><td>3</td><td>0</td><td>0</td><td>0</td><td>0</td><td>0</td><td>0</td></tr><tr><td>1</td><td>1991-03-03 19:33:00</td><td>1991-03-03 19:33:00</td><td>0</td><td>0</td><td>1</td><td>0</td><td>1</td><td>2</td><td>0</td><td>0</td><td>0</td><td>0</td><td>0</td><td>0</td></tr><tr><td>2</td><td>1996-03-08 02:24:00</td><td>1996-03-08 02:24:00</td><td>0</td><td>1</td><td>0</td><td>1</td><td>1</td><td>4</td><td>0</td><td>0</td><td>0</td><td>0</td><td>0</td><td>0</td></tr><tr><td>2</td><td>1996-06-05 00:32:00</td><td>1996-06-05 00:32:00</td><td>0</td><td>0</td><td>0</td><td>0</td><td>0</td><td>0</td><td>0</td><td>0</td><td>0</td><td>0</td><td>0</td><td>0</td></tr><tr><td>3</td><td>1996-03-08 02:24:00</td><td>1996-03-08 02:24:00</td><td>0</td><td>0</td><td>1</td><td>0</td><td>1</td><td>6</td><td>0</td><td>0</td><td>0</td><td>0</td><td>0</td><td>0</td></tr></tbody></table></div>"
      ],
      "text/plain": [
       "shape: (6, 15)\n",
       "┌─────┬─────┬─────┬─────┬─────┬─────┬─────┬─────┬─────┬─────┬─────┬────────┬───────┬───────┬───────┐\n",
       "│ sub ┆ tim ┆ tim ┆ is_ ┆ is_ ┆ is_ ┆ is_ ┆ is_ ┆ is_ ┆ is_ ┆ is_ ┆ is_dea ┆ is_co ┆ is_di ┆ is_an │\n",
       "│ jec ┆ est ┆ est ┆ adm ┆ dis ┆ dea ┆ cov ┆ dis ┆ any ┆ adm ┆ dis ┆ th_sum ┆ vid_s ┆ schar ┆ y_sum │\n",
       "│ t_i ┆ amp ┆ amp ┆ iss ┆ cha ┆ th  ┆ id  ┆ cha ┆ --- ┆ iss ┆ cha ┆ mary   ┆ ummar ┆ ge_or ┆ mary  │\n",
       "│ d   ┆ --- ┆ _at ┆ ion ┆ rge ┆ --- ┆ --- ┆ rge ┆ i32 ┆ ion ┆ rge ┆ ---    ┆ y     ┆ _deat ┆ ---   │\n",
       "│ --- ┆ dat ┆ _an ┆ --- ┆ --- ┆ i32 ┆ i32 ┆ _or ┆     ┆ _su ┆ _su ┆ i32    ┆ ---   ┆ h_sum ┆ i32   │\n",
       "│ i64 ┆ eti ┆ cho ┆ i32 ┆ i32 ┆     ┆     ┆ _de ┆     ┆ mma ┆ mma ┆        ┆ i32   ┆ mary  ┆       │\n",
       "│     ┆ me[ ┆ r   ┆     ┆     ┆     ┆     ┆ ath ┆     ┆ ry  ┆ ry  ┆        ┆       ┆ ---   ┆       │\n",
       "│     ┆ μs] ┆ --- ┆     ┆     ┆     ┆     ┆ --- ┆     ┆ --- ┆ --- ┆        ┆       ┆ i32   ┆       │\n",
       "│     ┆     ┆ dat ┆     ┆     ┆     ┆     ┆ i32 ┆     ┆ i32 ┆ i32 ┆        ┆       ┆       ┆       │\n",
       "│     ┆     ┆ eti ┆     ┆     ┆     ┆     ┆     ┆     ┆     ┆     ┆        ┆       ┆       ┆       │\n",
       "│     ┆     ┆ me[ ┆     ┆     ┆     ┆     ┆     ┆     ┆     ┆     ┆        ┆       ┆       ┆       │\n",
       "│     ┆     ┆ μs] ┆     ┆     ┆     ┆     ┆     ┆     ┆     ┆     ┆        ┆       ┆       ┆       │\n",
       "╞═════╪═════╪═════╪═════╪═════╪═════╪═════╪═════╪═════╪═════╪═════╪════════╪═══════╪═══════╪═══════╡\n",
       "│ 1   ┆ 198 ┆ 198 ┆ 0   ┆ 1   ┆ 0   ┆ 0   ┆ 1   ┆ 7   ┆ 0   ┆ 0   ┆ 0      ┆ 0     ┆ 0     ┆ 0     │\n",
       "│     ┆ 9-1 ┆ 9-1 ┆     ┆     ┆     ┆     ┆     ┆     ┆     ┆     ┆        ┆       ┆       ┆       │\n",
       "│     ┆ 2-0 ┆ 2-0 ┆     ┆     ┆     ┆     ┆     ┆     ┆     ┆     ┆        ┆       ┆       ┆       │\n",
       "│     ┆ 1   ┆ 1   ┆     ┆     ┆     ┆     ┆     ┆     ┆     ┆     ┆        ┆       ┆       ┆       │\n",
       "│     ┆ 12: ┆ 12: ┆     ┆     ┆     ┆     ┆     ┆     ┆     ┆     ┆        ┆       ┆       ┆       │\n",
       "│     ┆ 03: ┆ 03: ┆     ┆     ┆     ┆     ┆     ┆     ┆     ┆     ┆        ┆       ┆       ┆       │\n",
       "│     ┆ 00  ┆ 00  ┆     ┆     ┆     ┆     ┆     ┆     ┆     ┆     ┆        ┆       ┆       ┆       │\n",
       "│ 1   ┆ 199 ┆ 199 ┆ 0   ┆ 0   ┆ 0   ┆ 0   ┆ 0   ┆ 3   ┆ 0   ┆ 0   ┆ 0      ┆ 0     ┆ 0     ┆ 0     │\n",
       "│     ┆ 1-0 ┆ 1-0 ┆     ┆     ┆     ┆     ┆     ┆     ┆     ┆     ┆        ┆       ┆       ┆       │\n",
       "│     ┆ 1-2 ┆ 1-2 ┆     ┆     ┆     ┆     ┆     ┆     ┆     ┆     ┆        ┆       ┆       ┆       │\n",
       "│     ┆ 7   ┆ 7   ┆     ┆     ┆     ┆     ┆     ┆     ┆     ┆     ┆        ┆       ┆       ┆       │\n",
       "│     ┆ 23: ┆ 23: ┆     ┆     ┆     ┆     ┆     ┆     ┆     ┆     ┆        ┆       ┆       ┆       │\n",
       "│     ┆ 32: ┆ 32: ┆     ┆     ┆     ┆     ┆     ┆     ┆     ┆     ┆        ┆       ┆       ┆       │\n",
       "│     ┆ 00  ┆ 00  ┆     ┆     ┆     ┆     ┆     ┆     ┆     ┆     ┆        ┆       ┆       ┆       │\n",
       "│ 1   ┆ 199 ┆ 199 ┆ 0   ┆ 0   ┆ 1   ┆ 0   ┆ 1   ┆ 2   ┆ 0   ┆ 0   ┆ 0      ┆ 0     ┆ 0     ┆ 0     │\n",
       "│     ┆ 1-0 ┆ 1-0 ┆     ┆     ┆     ┆     ┆     ┆     ┆     ┆     ┆        ┆       ┆       ┆       │\n",
       "│     ┆ 3-0 ┆ 3-0 ┆     ┆     ┆     ┆     ┆     ┆     ┆     ┆     ┆        ┆       ┆       ┆       │\n",
       "│     ┆ 3   ┆ 3   ┆     ┆     ┆     ┆     ┆     ┆     ┆     ┆     ┆        ┆       ┆       ┆       │\n",
       "│     ┆ 19: ┆ 19: ┆     ┆     ┆     ┆     ┆     ┆     ┆     ┆     ┆        ┆       ┆       ┆       │\n",
       "│     ┆ 33: ┆ 33: ┆     ┆     ┆     ┆     ┆     ┆     ┆     ┆     ┆        ┆       ┆       ┆       │\n",
       "│     ┆ 00  ┆ 00  ┆     ┆     ┆     ┆     ┆     ┆     ┆     ┆     ┆        ┆       ┆       ┆       │\n",
       "│ 2   ┆ 199 ┆ 199 ┆ 0   ┆ 1   ┆ 0   ┆ 1   ┆ 1   ┆ 4   ┆ 0   ┆ 0   ┆ 0      ┆ 0     ┆ 0     ┆ 0     │\n",
       "│     ┆ 6-0 ┆ 6-0 ┆     ┆     ┆     ┆     ┆     ┆     ┆     ┆     ┆        ┆       ┆       ┆       │\n",
       "│     ┆ 3-0 ┆ 3-0 ┆     ┆     ┆     ┆     ┆     ┆     ┆     ┆     ┆        ┆       ┆       ┆       │\n",
       "│     ┆ 8   ┆ 8   ┆     ┆     ┆     ┆     ┆     ┆     ┆     ┆     ┆        ┆       ┆       ┆       │\n",
       "│     ┆ 02: ┆ 02: ┆     ┆     ┆     ┆     ┆     ┆     ┆     ┆     ┆        ┆       ┆       ┆       │\n",
       "│     ┆ 24: ┆ 24: ┆     ┆     ┆     ┆     ┆     ┆     ┆     ┆     ┆        ┆       ┆       ┆       │\n",
       "│     ┆ 00  ┆ 00  ┆     ┆     ┆     ┆     ┆     ┆     ┆     ┆     ┆        ┆       ┆       ┆       │\n",
       "│ 2   ┆ 199 ┆ 199 ┆ 0   ┆ 0   ┆ 0   ┆ 0   ┆ 0   ┆ 0   ┆ 0   ┆ 0   ┆ 0      ┆ 0     ┆ 0     ┆ 0     │\n",
       "│     ┆ 6-0 ┆ 6-0 ┆     ┆     ┆     ┆     ┆     ┆     ┆     ┆     ┆        ┆       ┆       ┆       │\n",
       "│     ┆ 6-0 ┆ 6-0 ┆     ┆     ┆     ┆     ┆     ┆     ┆     ┆     ┆        ┆       ┆       ┆       │\n",
       "│     ┆ 5   ┆ 5   ┆     ┆     ┆     ┆     ┆     ┆     ┆     ┆     ┆        ┆       ┆       ┆       │\n",
       "│     ┆ 00: ┆ 00: ┆     ┆     ┆     ┆     ┆     ┆     ┆     ┆     ┆        ┆       ┆       ┆       │\n",
       "│     ┆ 32: ┆ 32: ┆     ┆     ┆     ┆     ┆     ┆     ┆     ┆     ┆        ┆       ┆       ┆       │\n",
       "│     ┆ 00  ┆ 00  ┆     ┆     ┆     ┆     ┆     ┆     ┆     ┆     ┆        ┆       ┆       ┆       │\n",
       "│ 3   ┆ 199 ┆ 199 ┆ 0   ┆ 0   ┆ 1   ┆ 0   ┆ 1   ┆ 6   ┆ 0   ┆ 0   ┆ 0      ┆ 0     ┆ 0     ┆ 0     │\n",
       "│     ┆ 6-0 ┆ 6-0 ┆     ┆     ┆     ┆     ┆     ┆     ┆     ┆     ┆        ┆       ┆       ┆       │\n",
       "│     ┆ 3-0 ┆ 3-0 ┆     ┆     ┆     ┆     ┆     ┆     ┆     ┆     ┆        ┆       ┆       ┆       │\n",
       "│     ┆ 8   ┆ 8   ┆     ┆     ┆     ┆     ┆     ┆     ┆     ┆     ┆        ┆       ┆       ┆       │\n",
       "│     ┆ 02: ┆ 02: ┆     ┆     ┆     ┆     ┆     ┆     ┆     ┆     ┆        ┆       ┆       ┆       │\n",
       "│     ┆ 24: ┆ 24: ┆     ┆     ┆     ┆     ┆     ┆     ┆     ┆     ┆        ┆       ┆       ┆       │\n",
       "│     ┆ 00  ┆ 00  ┆     ┆     ┆     ┆     ┆     ┆     ┆     ┆     ┆        ┆       ┆       ┆       │\n",
       "└─────┴─────┴─────┴─────┴─────┴─────┴─────┴─────┴─────┴─────┴─────┴────────┴───────┴───────┴───────┘"
      ]
     },
     "execution_count": 18,
     "metadata": {},
     "output_type": "execute_result"
    }
   ],
   "source": [
    "summarize_temporal_window(predicates_df=predicates_df, predicate_cols=predicate_cols, endpoint_expr=(False, timedelta(days=2), True, None), anchor_to_subtree_root_by_subtree_anchor=anchor_to_subtree_root_by_subtree_anchor)"
   ]
  },
  {
   "cell_type": "markdown",
   "metadata": {},
   "source": [
    "Event-bound"
   ]
  },
  {
   "cell_type": "code",
   "execution_count": null,
   "metadata": {},
   "outputs": [
    {
     "data": {
      "text/html": [
       "<div><style>\n",
       ".dataframe > thead > tr,\n",
       ".dataframe > tbody > tr {\n",
       "  text-align: right;\n",
       "  white-space: pre-wrap;\n",
       "}\n",
       "</style>\n",
       "<small>shape: (6, 15)</small><table border=\"1\" class=\"dataframe\"><thead><tr><th>subject_id</th><th>timestamp</th><th>timestamp_at_anchor</th><th>is_admission</th><th>is_discharge</th><th>is_death</th><th>is_covid</th><th>is_discharge_or_death</th><th>is_any</th><th>is_admission_summary</th><th>is_discharge_summary</th><th>is_death_summary</th><th>is_covid_summary</th><th>is_discharge_or_death_summary</th><th>is_any_summary</th></tr><tr><td>i64</td><td>datetime[μs]</td><td>datetime[μs]</td><td>i32</td><td>i32</td><td>i32</td><td>i32</td><td>i32</td><td>i32</td><td>i32</td><td>i32</td><td>i32</td><td>i32</td><td>i32</td><td>i32</td></tr></thead><tbody><tr><td>1</td><td>1989-12-02 15:00:00</td><td>1989-12-01 12:03:00</td><td>0</td><td>1</td><td>0</td><td>0</td><td>1</td><td>7</td><td>0</td><td>0</td><td>0</td><td>0</td><td>0</td><td>0</td></tr><tr><td>1</td><td>1991-01-31 02:15:00</td><td>1991-01-27 23:32:00</td><td>0</td><td>1</td><td>0</td><td>0</td><td>1</td><td>9</td><td>0</td><td>0</td><td>0</td><td>0</td><td>0</td><td>0</td></tr><tr><td>1</td><td>1991-03-03 21:38:00</td><td>1991-03-03 19:33:00</td><td>0</td><td>0</td><td>1</td><td>0</td><td>1</td><td>2</td><td>0</td><td>0</td><td>0</td><td>0</td><td>0</td><td>0</td></tr><tr><td>2</td><td>1996-03-08 16:00:00</td><td>1996-03-08 02:24:00</td><td>0</td><td>1</td><td>0</td><td>1</td><td>1</td><td>4</td><td>0</td><td>0</td><td>0</td><td>0</td><td>0</td><td>0</td></tr><tr><td>2</td><td>1996-06-08 03:00:00</td><td>1996-06-05 00:32:00</td><td>0</td><td>0</td><td>1</td><td>0</td><td>1</td><td>5</td><td>0</td><td>0</td><td>0</td><td>0</td><td>0</td><td>0</td></tr><tr><td>3</td><td>1996-03-10 00:00:00</td><td>1996-03-08 02:24:00</td><td>0</td><td>0</td><td>1</td><td>0</td><td>1</td><td>6</td><td>0</td><td>0</td><td>0</td><td>0</td><td>0</td><td>0</td></tr></tbody></table></div>"
      ],
      "text/plain": [
       "shape: (6, 15)\n",
       "┌─────┬─────┬─────┬─────┬─────┬─────┬─────┬─────┬─────┬─────┬─────┬────────┬───────┬───────┬───────┐\n",
       "│ sub ┆ tim ┆ tim ┆ is_ ┆ is_ ┆ is_ ┆ is_ ┆ is_ ┆ is_ ┆ is_ ┆ is_ ┆ is_dea ┆ is_co ┆ is_di ┆ is_an │\n",
       "│ jec ┆ est ┆ est ┆ adm ┆ dis ┆ dea ┆ cov ┆ dis ┆ any ┆ adm ┆ dis ┆ th_sum ┆ vid_s ┆ schar ┆ y_sum │\n",
       "│ t_i ┆ amp ┆ amp ┆ iss ┆ cha ┆ th  ┆ id  ┆ cha ┆ --- ┆ iss ┆ cha ┆ mary   ┆ ummar ┆ ge_or ┆ mary  │\n",
       "│ d   ┆ --- ┆ _at ┆ ion ┆ rge ┆ --- ┆ --- ┆ rge ┆ i32 ┆ ion ┆ rge ┆ ---    ┆ y     ┆ _deat ┆ ---   │\n",
       "│ --- ┆ dat ┆ _an ┆ --- ┆ --- ┆ i32 ┆ i32 ┆ _or ┆     ┆ _su ┆ _su ┆ i32    ┆ ---   ┆ h_sum ┆ i32   │\n",
       "│ i64 ┆ eti ┆ cho ┆ i32 ┆ i32 ┆     ┆     ┆ _de ┆     ┆ mma ┆ mma ┆        ┆ i32   ┆ mary  ┆       │\n",
       "│     ┆ me[ ┆ r   ┆     ┆     ┆     ┆     ┆ ath ┆     ┆ ry  ┆ ry  ┆        ┆       ┆ ---   ┆       │\n",
       "│     ┆ μs] ┆ --- ┆     ┆     ┆     ┆     ┆ --- ┆     ┆ --- ┆ --- ┆        ┆       ┆ i32   ┆       │\n",
       "│     ┆     ┆ dat ┆     ┆     ┆     ┆     ┆ i32 ┆     ┆ i32 ┆ i32 ┆        ┆       ┆       ┆       │\n",
       "│     ┆     ┆ eti ┆     ┆     ┆     ┆     ┆     ┆     ┆     ┆     ┆        ┆       ┆       ┆       │\n",
       "│     ┆     ┆ me[ ┆     ┆     ┆     ┆     ┆     ┆     ┆     ┆     ┆        ┆       ┆       ┆       │\n",
       "│     ┆     ┆ μs] ┆     ┆     ┆     ┆     ┆     ┆     ┆     ┆     ┆        ┆       ┆       ┆       │\n",
       "╞═════╪═════╪═════╪═════╪═════╪═════╪═════╪═════╪═════╪═════╪═════╪════════╪═══════╪═══════╪═══════╡\n",
       "│ 1   ┆ 198 ┆ 198 ┆ 0   ┆ 1   ┆ 0   ┆ 0   ┆ 1   ┆ 7   ┆ 0   ┆ 0   ┆ 0      ┆ 0     ┆ 0     ┆ 0     │\n",
       "│     ┆ 9-1 ┆ 9-1 ┆     ┆     ┆     ┆     ┆     ┆     ┆     ┆     ┆        ┆       ┆       ┆       │\n",
       "│     ┆ 2-0 ┆ 2-0 ┆     ┆     ┆     ┆     ┆     ┆     ┆     ┆     ┆        ┆       ┆       ┆       │\n",
       "│     ┆ 2   ┆ 1   ┆     ┆     ┆     ┆     ┆     ┆     ┆     ┆     ┆        ┆       ┆       ┆       │\n",
       "│     ┆ 15: ┆ 12: ┆     ┆     ┆     ┆     ┆     ┆     ┆     ┆     ┆        ┆       ┆       ┆       │\n",
       "│     ┆ 00: ┆ 03: ┆     ┆     ┆     ┆     ┆     ┆     ┆     ┆     ┆        ┆       ┆       ┆       │\n",
       "│     ┆ 00  ┆ 00  ┆     ┆     ┆     ┆     ┆     ┆     ┆     ┆     ┆        ┆       ┆       ┆       │\n",
       "│ 1   ┆ 199 ┆ 199 ┆ 0   ┆ 1   ┆ 0   ┆ 0   ┆ 1   ┆ 9   ┆ 0   ┆ 0   ┆ 0      ┆ 0     ┆ 0     ┆ 0     │\n",
       "│     ┆ 1-0 ┆ 1-0 ┆     ┆     ┆     ┆     ┆     ┆     ┆     ┆     ┆        ┆       ┆       ┆       │\n",
       "│     ┆ 1-3 ┆ 1-2 ┆     ┆     ┆     ┆     ┆     ┆     ┆     ┆     ┆        ┆       ┆       ┆       │\n",
       "│     ┆ 1   ┆ 7   ┆     ┆     ┆     ┆     ┆     ┆     ┆     ┆     ┆        ┆       ┆       ┆       │\n",
       "│     ┆ 02: ┆ 23: ┆     ┆     ┆     ┆     ┆     ┆     ┆     ┆     ┆        ┆       ┆       ┆       │\n",
       "│     ┆ 15: ┆ 32: ┆     ┆     ┆     ┆     ┆     ┆     ┆     ┆     ┆        ┆       ┆       ┆       │\n",
       "│     ┆ 00  ┆ 00  ┆     ┆     ┆     ┆     ┆     ┆     ┆     ┆     ┆        ┆       ┆       ┆       │\n",
       "│ 1   ┆ 199 ┆ 199 ┆ 0   ┆ 0   ┆ 1   ┆ 0   ┆ 1   ┆ 2   ┆ 0   ┆ 0   ┆ 0      ┆ 0     ┆ 0     ┆ 0     │\n",
       "│     ┆ 1-0 ┆ 1-0 ┆     ┆     ┆     ┆     ┆     ┆     ┆     ┆     ┆        ┆       ┆       ┆       │\n",
       "│     ┆ 3-0 ┆ 3-0 ┆     ┆     ┆     ┆     ┆     ┆     ┆     ┆     ┆        ┆       ┆       ┆       │\n",
       "│     ┆ 3   ┆ 3   ┆     ┆     ┆     ┆     ┆     ┆     ┆     ┆     ┆        ┆       ┆       ┆       │\n",
       "│     ┆ 21: ┆ 19: ┆     ┆     ┆     ┆     ┆     ┆     ┆     ┆     ┆        ┆       ┆       ┆       │\n",
       "│     ┆ 38: ┆ 33: ┆     ┆     ┆     ┆     ┆     ┆     ┆     ┆     ┆        ┆       ┆       ┆       │\n",
       "│     ┆ 00  ┆ 00  ┆     ┆     ┆     ┆     ┆     ┆     ┆     ┆     ┆        ┆       ┆       ┆       │\n",
       "│ 2   ┆ 199 ┆ 199 ┆ 0   ┆ 1   ┆ 0   ┆ 1   ┆ 1   ┆ 4   ┆ 0   ┆ 0   ┆ 0      ┆ 0     ┆ 0     ┆ 0     │\n",
       "│     ┆ 6-0 ┆ 6-0 ┆     ┆     ┆     ┆     ┆     ┆     ┆     ┆     ┆        ┆       ┆       ┆       │\n",
       "│     ┆ 3-0 ┆ 3-0 ┆     ┆     ┆     ┆     ┆     ┆     ┆     ┆     ┆        ┆       ┆       ┆       │\n",
       "│     ┆ 8   ┆ 8   ┆     ┆     ┆     ┆     ┆     ┆     ┆     ┆     ┆        ┆       ┆       ┆       │\n",
       "│     ┆ 16: ┆ 02: ┆     ┆     ┆     ┆     ┆     ┆     ┆     ┆     ┆        ┆       ┆       ┆       │\n",
       "│     ┆ 00: ┆ 24: ┆     ┆     ┆     ┆     ┆     ┆     ┆     ┆     ┆        ┆       ┆       ┆       │\n",
       "│     ┆ 00  ┆ 00  ┆     ┆     ┆     ┆     ┆     ┆     ┆     ┆     ┆        ┆       ┆       ┆       │\n",
       "│ 2   ┆ 199 ┆ 199 ┆ 0   ┆ 0   ┆ 1   ┆ 0   ┆ 1   ┆ 5   ┆ 0   ┆ 0   ┆ 0      ┆ 0     ┆ 0     ┆ 0     │\n",
       "│     ┆ 6-0 ┆ 6-0 ┆     ┆     ┆     ┆     ┆     ┆     ┆     ┆     ┆        ┆       ┆       ┆       │\n",
       "│     ┆ 6-0 ┆ 6-0 ┆     ┆     ┆     ┆     ┆     ┆     ┆     ┆     ┆        ┆       ┆       ┆       │\n",
       "│     ┆ 8   ┆ 5   ┆     ┆     ┆     ┆     ┆     ┆     ┆     ┆     ┆        ┆       ┆       ┆       │\n",
       "│     ┆ 03: ┆ 00: ┆     ┆     ┆     ┆     ┆     ┆     ┆     ┆     ┆        ┆       ┆       ┆       │\n",
       "│     ┆ 00: ┆ 32: ┆     ┆     ┆     ┆     ┆     ┆     ┆     ┆     ┆        ┆       ┆       ┆       │\n",
       "│     ┆ 00  ┆ 00  ┆     ┆     ┆     ┆     ┆     ┆     ┆     ┆     ┆        ┆       ┆       ┆       │\n",
       "│ 3   ┆ 199 ┆ 199 ┆ 0   ┆ 0   ┆ 1   ┆ 0   ┆ 1   ┆ 6   ┆ 0   ┆ 0   ┆ 0      ┆ 0     ┆ 0     ┆ 0     │\n",
       "│     ┆ 6-0 ┆ 6-0 ┆     ┆     ┆     ┆     ┆     ┆     ┆     ┆     ┆        ┆       ┆       ┆       │\n",
       "│     ┆ 3-1 ┆ 3-0 ┆     ┆     ┆     ┆     ┆     ┆     ┆     ┆     ┆        ┆       ┆       ┆       │\n",
       "│     ┆ 0   ┆ 8   ┆     ┆     ┆     ┆     ┆     ┆     ┆     ┆     ┆        ┆       ┆       ┆       │\n",
       "│     ┆ 00: ┆ 02: ┆     ┆     ┆     ┆     ┆     ┆     ┆     ┆     ┆        ┆       ┆       ┆       │\n",
       "│     ┆ 00: ┆ 24: ┆     ┆     ┆     ┆     ┆     ┆     ┆     ┆     ┆        ┆       ┆       ┆       │\n",
       "│     ┆ 00  ┆ 00  ┆     ┆     ┆     ┆     ┆     ┆     ┆     ┆     ┆        ┆       ┆       ┆       │\n",
       "└─────┴─────┴─────┴─────┴─────┴─────┴─────┴─────┴─────┴─────┴─────┴────────┴───────┴───────┴───────┘"
      ]
     },
     "execution_count": 19,
     "metadata": {},
     "output_type": "execute_result"
    }
   ],
   "source": [
    "summarize_event_bound_window(predicates_df=predicates_df, predicate_cols=predicate_cols, endpoint_expr=(False, 'is_discharge_or_death', True, None), anchor_to_subtree_root_by_subtree_anchor=anchor_to_subtree_root_by_subtree_anchor)"
   ]
  }
 ],
 "metadata": {
  "kernelspec": {
   "display_name": "esgpt",
   "language": "python",
   "name": "python3"
  },
  "language_info": {
   "codemirror_mode": {
    "name": "ipython",
    "version": 3
   },
   "file_extension": ".py",
   "mimetype": "text/x-python",
   "name": "python",
   "nbconvert_exporter": "python",
   "pygments_lexer": "ipython3",
   "version": "3.10.13"
  }
 },
 "nbformat": 4,
 "nbformat_minor": 2
}
