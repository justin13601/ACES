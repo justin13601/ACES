{
 "cells": [
  {
   "cell_type": "code",
   "execution_count": 1,
   "metadata": {},
   "outputs": [
    {
     "data": {
      "text/plain": [
       "polars.config.Config"
      ]
     },
     "execution_count": 1,
     "metadata": {},
     "output_type": "execute_result"
    }
   ],
   "source": [
    "import os\n",
    "import dask.dataframe as dd\n",
    "import polars as pl\n",
    "pl.Config.set_tbl_cols(100)\n",
    "pl.Config.set_tbl_rows(100)"
   ]
  },
  {
   "cell_type": "code",
   "execution_count": 2,
   "metadata": {},
   "outputs": [
    {
     "data": {
      "text/plain": [
       "(14694388, 6)"
      ]
     },
     "execution_count": 2,
     "metadata": {},
     "output_type": "execute_result"
    }
   ],
   "source": [
    "#load events_df.parquet\n",
    "events_df = dd.read_parquet('MIMIC_ESD_new_schema_08-31-23-1/events_df.parquet')\n",
    "events_df.compute().shape"
   ]
  },
  {
   "cell_type": "code",
   "execution_count": 3,
   "metadata": {},
   "outputs": [],
   "source": [
    "#load dynamic_measurements_df.parquet\n",
    "dynamic_measurements_df = dd.read_parquet('MIMIC_ESD_new_schema_08-31-23-1/dynamic_measurements_df.parquet')"
   ]
  },
  {
   "cell_type": "code",
   "execution_count": 4,
   "metadata": {},
   "outputs": [],
   "source": [
    "sub_dynamic_measurements_df = dynamic_measurements_df[['event_id', 'diagnosis', 'lab', 'valuenum']]"
   ]
  },
  {
   "cell_type": "code",
   "execution_count": 5,
   "metadata": {},
   "outputs": [],
   "source": [
    "df_result = events_df.merge(sub_dynamic_measurements_df, how='left', on='event_id')"
   ]
  },
  {
   "cell_type": "code",
   "execution_count": 6,
   "metadata": {},
   "outputs": [],
   "source": [
    "df_result = df_result.drop(['event_id', 'time_of_day'], axis=1)"
   ]
  },
  {
   "cell_type": "code",
   "execution_count": 7,
   "metadata": {},
   "outputs": [],
   "source": [
    "df_result = df_result.compute()"
   ]
  },
  {
   "cell_type": "code",
   "execution_count": 8,
   "metadata": {},
   "outputs": [],
   "source": [
    "df_result.sort_values(by=['subject_id', 'timestamp'], inplace=True)"
   ]
  },
  {
   "cell_type": "code",
   "execution_count": 9,
   "metadata": {},
   "outputs": [],
   "source": [
    "df_result = pl.DataFrame(df_result)"
   ]
  },
  {
   "cell_type": "code",
   "execution_count": 13,
   "metadata": {},
   "outputs": [
    {
     "data": {
      "text/html": [
       "<div><style>\n",
       ".dataframe > thead > tr,\n",
       ".dataframe > tbody > tr {\n",
       "  text-align: right;\n",
       "  white-space: pre-wrap;\n",
       "}\n",
       "</style>\n",
       "<small>shape: (158_134_725, 7)</small><table border=\"1\" class=\"dataframe\"><thead><tr><th>subject_id</th><th>timestamp</th><th>event_type</th><th>age</th><th>diagnosis</th><th>lab</th><th>valuenum</th></tr><tr><td>u16</td><td>datetime[μs]</td><td>cat</td><td>f64</td><td>cat</td><td>cat</td><td>f64</td></tr></thead><tbody><tr><td>0</td><td>2125-10-18 16:50:00</td><td>&quot;ADMISSION&quot;</td><td>71.793844</td><td>null</td><td>null</td><td>null</td></tr><tr><td>0</td><td>2125-10-20 15:15:00</td><td>&quot;DISCHARGE&amp;DIAG…</td><td>71.799139</td><td>null</td><td>null</td><td>null</td></tr><tr><td>0</td><td>2125-10-20 15:15:00</td><td>&quot;DISCHARGE&amp;DIAG…</td><td>71.799139</td><td>&quot;UNK&quot;</td><td>null</td><td>null</td></tr><tr><td>0</td><td>2125-10-20 15:15:00</td><td>&quot;DISCHARGE&amp;DIAG…</td><td>71.799139</td><td>&quot;ICD9CM/41401&quot;</td><td>null</td><td>null</td></tr><tr><td>0</td><td>2125-10-20 15:15:00</td><td>&quot;DISCHARGE&amp;DIAG…</td><td>71.799139</td><td>&quot;ICD9CM/78659&quot;</td><td>null</td><td>null</td></tr><tr><td>0</td><td>2125-10-20 15:15:00</td><td>&quot;DISCHARGE&amp;DIAG…</td><td>71.799139</td><td>&quot;ICD9CM/49320&quot;</td><td>null</td><td>null</td></tr><tr><td>0</td><td>2125-10-26 20:32:00</td><td>&quot;ADMISSION&quot;</td><td>71.816169</td><td>null</td><td>null</td><td>null</td></tr><tr><td>0</td><td>2125-10-27 16:28:00</td><td>&quot;DISCHARGE&amp;DIAG…</td><td>71.818442</td><td>null</td><td>null</td><td>null</td></tr><tr><td>0</td><td>2125-10-27 16:28:00</td><td>&quot;DISCHARGE&amp;DIAG…</td><td>71.818442</td><td>&quot;ICD9CM/56211&quot;</td><td>null</td><td>null</td></tr><tr><td>0</td><td>2125-10-27 16:28:00</td><td>&quot;DISCHARGE&amp;DIAG…</td><td>71.818442</td><td>&quot;ICD9CM/41401&quot;</td><td>null</td><td>null</td></tr><tr><td>0</td><td>2125-10-27 16:28:00</td><td>&quot;DISCHARGE&amp;DIAG…</td><td>71.818442</td><td>&quot;ICD9CM/78659&quot;</td><td>null</td><td>null</td></tr><tr><td>0</td><td>2125-10-27 16:28:00</td><td>&quot;DISCHARGE&amp;DIAG…</td><td>71.818442</td><td>&quot;ICD9CM/42789&quot;</td><td>null</td><td>null</td></tr><tr><td>0</td><td>2125-11-30 16:02:00</td><td>&quot;ADMISSION&quot;</td><td>71.91148</td><td>null</td><td>null</td><td>null</td></tr><tr><td>0</td><td>2125-12-03 14:44:00</td><td>&quot;DISCHARGE&amp;DIAG…</td><td>71.919545</td><td>null</td><td>null</td><td>null</td></tr><tr><td>0</td><td>2125-12-03 14:44:00</td><td>&quot;DISCHARGE&amp;DIAG…</td><td>71.919545</td><td>&quot;ICD9CM/49122&quot;</td><td>null</td><td>null</td></tr><tr><td>0</td><td>2125-12-03 14:44:00</td><td>&quot;DISCHARGE&amp;DIAG…</td><td>71.919545</td><td>&quot;ICD9CM/4871&quot;</td><td>null</td><td>null</td></tr><tr><td>0</td><td>2125-12-03 14:44:00</td><td>&quot;DISCHARGE&amp;DIAG…</td><td>71.919545</td><td>&quot;ICD9CM/49322&quot;</td><td>null</td><td>null</td></tr><tr><td>0</td><td>2125-12-03 14:44:00</td><td>&quot;DISCHARGE&amp;DIAG…</td><td>71.919545</td><td>&quot;ICD9CM/4019&quot;</td><td>null</td><td>null</td></tr><tr><td>0</td><td>2125-12-26 17:06:00</td><td>&quot;ADMISSION&quot;</td><td>71.982786</td><td>null</td><td>null</td><td>null</td></tr><tr><td>0</td><td>2125-12-27 16:52:00</td><td>&quot;DISCHARGE&amp;DIAG…</td><td>71.985497</td><td>null</td><td>null</td><td>null</td></tr><tr><td>0</td><td>2125-12-27 16:52:00</td><td>&quot;DISCHARGE&amp;DIAG…</td><td>71.985497</td><td>&quot;ICD9CM/4019&quot;</td><td>null</td><td>null</td></tr><tr><td>0</td><td>2125-12-27 16:52:00</td><td>&quot;DISCHARGE&amp;DIAG…</td><td>71.985497</td><td>&quot;ICD9CM/7850&quot;</td><td>null</td><td>null</td></tr><tr><td>0</td><td>2125-12-27 16:52:00</td><td>&quot;DISCHARGE&amp;DIAG…</td><td>71.985497</td><td>&quot;ICD9CM/2724&quot;</td><td>null</td><td>null</td></tr><tr><td>0</td><td>2125-12-27 16:52:00</td><td>&quot;DISCHARGE&amp;DIAG…</td><td>71.985497</td><td>&quot;ICD9CM/49320&quot;</td><td>null</td><td>null</td></tr><tr><td>0</td><td>2126-11-04 00:50:00</td><td>&quot;ADMISSION&quot;</td><td>72.837877</td><td>null</td><td>null</td><td>null</td></tr><tr><td>0</td><td>2126-11-04 12:49:00</td><td>&quot;DISCHARGE&amp;DIAG…</td><td>72.839244</td><td>null</td><td>null</td><td>null</td></tr><tr><td>0</td><td>2126-11-04 12:49:00</td><td>&quot;DISCHARGE&amp;DIAG…</td><td>72.839244</td><td>&quot;ICD9CM/49392&quot;</td><td>null</td><td>null</td></tr><tr><td>0</td><td>2126-11-04 12:49:00</td><td>&quot;DISCHARGE&amp;DIAG…</td><td>72.839244</td><td>&quot;ICD9CM/4019&quot;</td><td>null</td><td>null</td></tr><tr><td>0</td><td>2126-11-04 12:49:00</td><td>&quot;DISCHARGE&amp;DIAG…</td><td>72.839244</td><td>&quot;ICD9CM/78650&quot;</td><td>null</td><td>null</td></tr><tr><td>0</td><td>2127-07-24 18:06:00</td><td>&quot;ADMISSION&quot;</td><td>73.557164</td><td>null</td><td>null</td><td>null</td></tr><tr><td>0</td><td>2127-07-25 17:41:00</td><td>&quot;DISCHARGE&amp;DIAG…</td><td>73.559854</td><td>null</td><td>null</td><td>null</td></tr><tr><td>0</td><td>2127-07-25 17:41:00</td><td>&quot;DISCHARGE&amp;DIAG…</td><td>73.559854</td><td>&quot;ICD9CM/78650&quot;</td><td>null</td><td>null</td></tr><tr><td>0</td><td>2127-07-25 17:41:00</td><td>&quot;DISCHARGE&amp;DIAG…</td><td>73.559854</td><td>&quot;ICD9CM/4019&quot;</td><td>null</td><td>null</td></tr><tr><td>0</td><td>2127-12-11 18:06:00</td><td>&quot;ADMISSION&quot;</td><td>73.940463</td><td>null</td><td>null</td><td>null</td></tr><tr><td>0</td><td>2127-12-12 13:46:00</td><td>&quot;DISCHARGE&amp;DIAG…</td><td>73.942707</td><td>null</td><td>null</td><td>null</td></tr><tr><td>0</td><td>2127-12-12 13:46:00</td><td>&quot;DISCHARGE&amp;DIAG…</td><td>73.942707</td><td>&quot;ICD9CM/3051&quot;</td><td>null</td><td>null</td></tr><tr><td>0</td><td>2127-12-12 13:46:00</td><td>&quot;DISCHARGE&amp;DIAG…</td><td>73.942707</td><td>&quot;ICD9CM/44021&quot;</td><td>null</td><td>null</td></tr><tr><td>0</td><td>2127-12-12 13:46:00</td><td>&quot;DISCHARGE&amp;DIAG…</td><td>73.942707</td><td>&quot;ICD9CM/496&quot;</td><td>null</td><td>null</td></tr><tr><td>0</td><td>2128-07-15 18:44:00</td><td>&quot;ADMISSION&quot;</td><td>74.534649</td><td>null</td><td>null</td><td>null</td></tr><tr><td>0</td><td>2128-07-17 13:31:00</td><td>&quot;DISCHARGE&amp;DIAG…</td><td>74.53953</td><td>null</td><td>null</td><td>null</td></tr><tr><td>0</td><td>2128-07-17 13:31:00</td><td>&quot;DISCHARGE&amp;DIAG…</td><td>74.53953</td><td>&quot;ICD9CM/49322&quot;</td><td>null</td><td>null</td></tr><tr><td>0</td><td>2128-07-17 13:31:00</td><td>&quot;DISCHARGE&amp;DIAG…</td><td>74.53953</td><td>&quot;ICD9CM/486&quot;</td><td>null</td><td>null</td></tr><tr><td>0</td><td>2128-07-17 13:31:00</td><td>&quot;DISCHARGE&amp;DIAG…</td><td>74.53953</td><td>&quot;ICD9CM/3051&quot;</td><td>null</td><td>null</td></tr><tr><td>0</td><td>2128-07-17 13:31:00</td><td>&quot;DISCHARGE&amp;DIAG…</td><td>74.53953</td><td>&quot;ICD9CM/41401&quot;</td><td>null</td><td>null</td></tr><tr><td>0</td><td>2130-04-08 22:06:00</td><td>&quot;ADMISSION&quot;</td><td>76.265355</td><td>null</td><td>null</td><td>null</td></tr><tr><td>0</td><td>2130-04-09 14:30:00</td><td>&quot;DISCHARGE&amp;DIAG…</td><td>76.267226</td><td>null</td><td>null</td><td>null</td></tr><tr><td>0</td><td>2130-04-09 14:30:00</td><td>&quot;DISCHARGE&amp;DIAG…</td><td>76.267226</td><td>&quot;ICD9CM/49322&quot;</td><td>null</td><td>null</td></tr><tr><td>0</td><td>2130-04-09 14:30:00</td><td>&quot;DISCHARGE&amp;DIAG…</td><td>76.267226</td><td>&quot;ICD9CM/41401&quot;</td><td>null</td><td>null</td></tr><tr><td>0</td><td>2130-04-09 14:30:00</td><td>&quot;DISCHARGE&amp;DIAG…</td><td>76.267226</td><td>&quot;ICD9CM/78659&quot;</td><td>null</td><td>null</td></tr><tr><td>0</td><td>2130-04-09 14:30:00</td><td>&quot;DISCHARGE&amp;DIAG…</td><td>76.267226</td><td>&quot;ICD9CM/42731&quot;</td><td>null</td><td>null</td></tr><tr><td>&hellip;</td><td>&hellip;</td><td>&hellip;</td><td>&hellip;</td><td>&hellip;</td><td>&hellip;</td><td>&hellip;</td></tr><tr><td>12126</td><td>2164-09-17 13:17:00</td><td>&quot;LAB&quot;</td><td>58.711988</td><td>null</td><td>null</td><td>null</td></tr><tr><td>12126</td><td>2164-09-17 13:18:00</td><td>&quot;LAB&quot;</td><td>58.71199</td><td>null</td><td>&quot;Total PEEP Lev…</td><td>14.0</td></tr><tr><td>12126</td><td>2164-09-17 13:18:00</td><td>&quot;LAB&quot;</td><td>58.71199</td><td>null</td><td>null</td><td>null</td></tr><tr><td>12126</td><td>2164-09-17 13:18:00</td><td>&quot;LAB&quot;</td><td>58.71199</td><td>null</td><td>null</td><td>null</td></tr><tr><td>12126</td><td>2164-09-17 13:18:00</td><td>&quot;LAB&quot;</td><td>58.71199</td><td>null</td><td>null</td><td>null</td></tr><tr><td>12126</td><td>2164-09-17 13:18:00</td><td>&quot;LAB&quot;</td><td>58.71199</td><td>null</td><td>null</td><td>null</td></tr><tr><td>12126</td><td>2164-09-17 13:18:00</td><td>&quot;LAB&quot;</td><td>58.71199</td><td>null</td><td>null</td><td>null</td></tr><tr><td>12126</td><td>2164-09-17 13:18:00</td><td>&quot;LAB&quot;</td><td>58.71199</td><td>null</td><td>null</td><td>null</td></tr><tr><td>12126</td><td>2164-09-17 13:20:00</td><td>&quot;LAB&quot;</td><td>58.711993</td><td>null</td><td>&quot;Lactic Acid (m…</td><td>7.0</td></tr><tr><td>12126</td><td>2164-09-17 13:20:00</td><td>&quot;LAB&quot;</td><td>58.711993</td><td>null</td><td>null</td><td>null</td></tr><tr><td>12126</td><td>2164-09-17 13:34:00</td><td>&quot;LAB&quot;</td><td>58.71202</td><td>null</td><td>&quot;PH (Venous) (u…</td><td>7.3</td></tr><tr><td>12126</td><td>2164-09-17 13:34:00</td><td>&quot;LAB&quot;</td><td>58.71202</td><td>null</td><td>&quot;Ionized Calciu…</td><td>1.08</td></tr><tr><td>12126</td><td>2164-09-17 13:34:00</td><td>&quot;LAB&quot;</td><td>58.71202</td><td>null</td><td>&quot;Potassium (who…</td><td>5.3</td></tr><tr><td>12126</td><td>2164-09-17 13:34:00</td><td>&quot;LAB&quot;</td><td>58.71202</td><td>null</td><td>null</td><td>null</td></tr><tr><td>12126</td><td>2164-09-17 13:34:00</td><td>&quot;LAB&quot;</td><td>58.71202</td><td>null</td><td>&quot;Arterial Blood…</td><td>97.0</td></tr><tr><td>12126</td><td>2164-09-17 13:34:00</td><td>&quot;LAB&quot;</td><td>58.71202</td><td>null</td><td>&quot;Pulmonary Arte…</td><td>38.0</td></tr><tr><td>12126</td><td>2164-09-17 13:34:00</td><td>&quot;LAB&quot;</td><td>58.71202</td><td>null</td><td>&quot;Respiratory Ra…</td><td>21.0</td></tr><tr><td>12126</td><td>2164-09-17 13:34:00</td><td>&quot;LAB&quot;</td><td>58.71202</td><td>null</td><td>&quot;Cardiac Output…</td><td>2.3</td></tr><tr><td>12126</td><td>2164-09-17 13:34:00</td><td>&quot;LAB&quot;</td><td>58.71202</td><td>null</td><td>&quot;Blood Temperat…</td><td>36.700001</td></tr><tr><td>12126</td><td>2164-09-17 13:34:00</td><td>&quot;LAB&quot;</td><td>58.71202</td><td>null</td><td>null</td><td>null</td></tr><tr><td>12126</td><td>2164-09-17 13:34:00</td><td>&quot;LAB&quot;</td><td>58.71202</td><td>null</td><td>null</td><td>null</td></tr><tr><td>12126</td><td>2164-09-17 13:34:00</td><td>&quot;LAB&quot;</td><td>58.71202</td><td>null</td><td>null</td><td>null</td></tr><tr><td>12126</td><td>2164-09-17 13:34:00</td><td>&quot;LAB&quot;</td><td>58.71202</td><td>null</td><td>null</td><td>null</td></tr><tr><td>12126</td><td>2164-09-17 13:39:00</td><td>&quot;LAB&quot;</td><td>58.712029</td><td>null</td><td>&quot;Respiratory Ra…</td><td>29.0</td></tr><tr><td>12126</td><td>2164-09-17 13:39:00</td><td>&quot;LAB&quot;</td><td>58.712029</td><td>null</td><td>&quot;Arterial O2 Sa…</td><td>25.0</td></tr><tr><td>12126</td><td>2164-09-17 13:39:00</td><td>&quot;LAB&quot;</td><td>58.712029</td><td>null</td><td>&quot;Ionized Calciu…</td><td>1.15</td></tr><tr><td>12126</td><td>2164-09-17 13:39:00</td><td>&quot;LAB&quot;</td><td>58.712029</td><td>null</td><td>null</td><td>null</td></tr><tr><td>12126</td><td>2164-09-17 13:39:00</td><td>&quot;LAB&quot;</td><td>58.712029</td><td>null</td><td>null</td><td>null</td></tr><tr><td>12126</td><td>2164-09-17 13:39:00</td><td>&quot;LAB&quot;</td><td>58.712029</td><td>null</td><td>null</td><td>null</td></tr><tr><td>12126</td><td>2164-09-17 13:39:00</td><td>&quot;LAB&quot;</td><td>58.712029</td><td>null</td><td>null</td><td>null</td></tr><tr><td>12126</td><td>2164-09-17 13:39:00</td><td>&quot;LAB&quot;</td><td>58.712029</td><td>null</td><td>&quot;Non-Invasive B…</td><td>90.0</td></tr><tr><td>12126</td><td>2164-09-17 13:42:00</td><td>&quot;DEATH&amp;DISCHARG…</td><td>58.712035</td><td>null</td><td>null</td><td>null</td></tr><tr><td>12126</td><td>2164-09-17 13:42:00</td><td>&quot;DEATH&amp;DISCHARG…</td><td>58.712035</td><td>&quot;ICD9CM/51881&quot;</td><td>null</td><td>null</td></tr><tr><td>12126</td><td>2164-09-17 13:42:00</td><td>&quot;DEATH&amp;DISCHARG…</td><td>58.712035</td><td>&quot;ICD9CM/5070&quot;</td><td>null</td><td>null</td></tr><tr><td>12126</td><td>2164-09-17 13:42:00</td><td>&quot;DEATH&amp;DISCHARG…</td><td>58.712035</td><td>&quot;ICD9CM/3453&quot;</td><td>null</td><td>null</td></tr><tr><td>12126</td><td>2164-09-17 13:42:00</td><td>&quot;DEATH&amp;DISCHARG…</td><td>58.712035</td><td>&quot;ICD9CM/5180&quot;</td><td>null</td><td>null</td></tr><tr><td>12126</td><td>2164-09-17 15:17:32</td><td>&quot;LAB&quot;</td><td>58.712217</td><td>null</td><td>&quot;Sodium (whole …</td><td>134.0</td></tr><tr><td>12126</td><td>2164-09-17 15:17:32</td><td>&quot;LAB&quot;</td><td>58.712217</td><td>null</td><td>&quot;Potassium (who…</td><td>4.2</td></tr><tr><td>12126</td><td>2164-09-17 15:17:32</td><td>&quot;LAB&quot;</td><td>58.712217</td><td>null</td><td>&quot;TCO2 (calc) Ar…</td><td>27.0</td></tr><tr><td>12126</td><td>2164-09-17 15:17:32</td><td>&quot;LAB&quot;</td><td>58.712217</td><td>null</td><td>&quot;Mixed Venous O…</td><td>25.0</td></tr><tr><td>12126</td><td>2164-09-17 15:17:32</td><td>&quot;LAB&quot;</td><td>58.712217</td><td>null</td><td>&quot;Pulmonary Arte…</td><td>28.0</td></tr><tr><td>12126</td><td>2164-09-17 15:17:32</td><td>&quot;LAB&quot;</td><td>58.712217</td><td>null</td><td>null</td><td>null</td></tr><tr><td>12126</td><td>2164-09-17 15:22:00</td><td>&quot;INFUSION_END&quot;</td><td>58.712225</td><td>null</td><td>null</td><td>null</td></tr><tr><td>12126</td><td>2164-09-17 15:22:00</td><td>&quot;INFUSION_END&quot;</td><td>58.712225</td><td>null</td><td>null</td><td>null</td></tr><tr><td>12126</td><td>2164-09-17 16:34:00</td><td>&quot;INFUSION_END&quot;</td><td>58.712362</td><td>null</td><td>null</td><td>null</td></tr><tr><td>12126</td><td>2164-09-17 16:34:00</td><td>&quot;INFUSION_END&quot;</td><td>58.712362</td><td>null</td><td>null</td><td>null</td></tr><tr><td>12126</td><td>2164-09-17 16:35:00</td><td>&quot;PROCEDURE_END&quot;</td><td>58.712364</td><td>null</td><td>null</td><td>null</td></tr><tr><td>12126</td><td>2164-09-17 16:35:00</td><td>&quot;PROCEDURE_END&quot;</td><td>58.712364</td><td>null</td><td>null</td><td>null</td></tr><tr><td>12126</td><td>2164-09-17 16:35:00</td><td>&quot;PROCEDURE_END&quot;</td><td>58.712364</td><td>null</td><td>null</td><td>null</td></tr><tr><td>12126</td><td>2164-09-17 16:35:15</td><td>&quot;ICU_STAY_END&quot;</td><td>58.712365</td><td>null</td><td>null</td><td>null</td></tr></tbody></table></div>"
      ],
      "text/plain": [
       "shape: (158_134_725, 7)\n",
       "┌────────────┬───────────────┬───────────────┬───────────┬──────────────┬──────────────┬───────────┐\n",
       "│ subject_id ┆ timestamp     ┆ event_type    ┆ age       ┆ diagnosis    ┆ lab          ┆ valuenum  │\n",
       "│ ---        ┆ ---           ┆ ---           ┆ ---       ┆ ---          ┆ ---          ┆ ---       │\n",
       "│ u16        ┆ datetime[μs]  ┆ cat           ┆ f64       ┆ cat          ┆ cat          ┆ f64       │\n",
       "╞════════════╪═══════════════╪═══════════════╪═══════════╪══════════════╪══════════════╪═══════════╡\n",
       "│ 0          ┆ 2125-10-18    ┆ ADMISSION     ┆ 71.793844 ┆ null         ┆ null         ┆ null      │\n",
       "│            ┆ 16:50:00      ┆               ┆           ┆              ┆              ┆           │\n",
       "│ 0          ┆ 2125-10-20    ┆ DISCHARGE&DIA ┆ 71.799139 ┆ null         ┆ null         ┆ null      │\n",
       "│            ┆ 15:15:00      ┆ GNOSIS        ┆           ┆              ┆              ┆           │\n",
       "│ 0          ┆ 2125-10-20    ┆ DISCHARGE&DIA ┆ 71.799139 ┆ UNK          ┆ null         ┆ null      │\n",
       "│            ┆ 15:15:00      ┆ GNOSIS        ┆           ┆              ┆              ┆           │\n",
       "│ 0          ┆ 2125-10-20    ┆ DISCHARGE&DIA ┆ 71.799139 ┆ ICD9CM/41401 ┆ null         ┆ null      │\n",
       "│            ┆ 15:15:00      ┆ GNOSIS        ┆           ┆              ┆              ┆           │\n",
       "│ 0          ┆ 2125-10-20    ┆ DISCHARGE&DIA ┆ 71.799139 ┆ ICD9CM/78659 ┆ null         ┆ null      │\n",
       "│            ┆ 15:15:00      ┆ GNOSIS        ┆           ┆              ┆              ┆           │\n",
       "│ 0          ┆ 2125-10-20    ┆ DISCHARGE&DIA ┆ 71.799139 ┆ ICD9CM/49320 ┆ null         ┆ null      │\n",
       "│            ┆ 15:15:00      ┆ GNOSIS        ┆           ┆              ┆              ┆           │\n",
       "│ 0          ┆ 2125-10-26    ┆ ADMISSION     ┆ 71.816169 ┆ null         ┆ null         ┆ null      │\n",
       "│            ┆ 20:32:00      ┆               ┆           ┆              ┆              ┆           │\n",
       "│ 0          ┆ 2125-10-27    ┆ DISCHARGE&DIA ┆ 71.818442 ┆ null         ┆ null         ┆ null      │\n",
       "│            ┆ 16:28:00      ┆ GNOSIS        ┆           ┆              ┆              ┆           │\n",
       "│ 0          ┆ 2125-10-27    ┆ DISCHARGE&DIA ┆ 71.818442 ┆ ICD9CM/56211 ┆ null         ┆ null      │\n",
       "│            ┆ 16:28:00      ┆ GNOSIS        ┆           ┆              ┆              ┆           │\n",
       "│ 0          ┆ 2125-10-27    ┆ DISCHARGE&DIA ┆ 71.818442 ┆ ICD9CM/41401 ┆ null         ┆ null      │\n",
       "│            ┆ 16:28:00      ┆ GNOSIS        ┆           ┆              ┆              ┆           │\n",
       "│ 0          ┆ 2125-10-27    ┆ DISCHARGE&DIA ┆ 71.818442 ┆ ICD9CM/78659 ┆ null         ┆ null      │\n",
       "│            ┆ 16:28:00      ┆ GNOSIS        ┆           ┆              ┆              ┆           │\n",
       "│ 0          ┆ 2125-10-27    ┆ DISCHARGE&DIA ┆ 71.818442 ┆ ICD9CM/42789 ┆ null         ┆ null      │\n",
       "│            ┆ 16:28:00      ┆ GNOSIS        ┆           ┆              ┆              ┆           │\n",
       "│ 0          ┆ 2125-11-30    ┆ ADMISSION     ┆ 71.91148  ┆ null         ┆ null         ┆ null      │\n",
       "│            ┆ 16:02:00      ┆               ┆           ┆              ┆              ┆           │\n",
       "│ 0          ┆ 2125-12-03    ┆ DISCHARGE&DIA ┆ 71.919545 ┆ null         ┆ null         ┆ null      │\n",
       "│            ┆ 14:44:00      ┆ GNOSIS        ┆           ┆              ┆              ┆           │\n",
       "│ 0          ┆ 2125-12-03    ┆ DISCHARGE&DIA ┆ 71.919545 ┆ ICD9CM/49122 ┆ null         ┆ null      │\n",
       "│            ┆ 14:44:00      ┆ GNOSIS        ┆           ┆              ┆              ┆           │\n",
       "│ 0          ┆ 2125-12-03    ┆ DISCHARGE&DIA ┆ 71.919545 ┆ ICD9CM/4871  ┆ null         ┆ null      │\n",
       "│            ┆ 14:44:00      ┆ GNOSIS        ┆           ┆              ┆              ┆           │\n",
       "│ 0          ┆ 2125-12-03    ┆ DISCHARGE&DIA ┆ 71.919545 ┆ ICD9CM/49322 ┆ null         ┆ null      │\n",
       "│            ┆ 14:44:00      ┆ GNOSIS        ┆           ┆              ┆              ┆           │\n",
       "│ 0          ┆ 2125-12-03    ┆ DISCHARGE&DIA ┆ 71.919545 ┆ ICD9CM/4019  ┆ null         ┆ null      │\n",
       "│            ┆ 14:44:00      ┆ GNOSIS        ┆           ┆              ┆              ┆           │\n",
       "│ 0          ┆ 2125-12-26    ┆ ADMISSION     ┆ 71.982786 ┆ null         ┆ null         ┆ null      │\n",
       "│            ┆ 17:06:00      ┆               ┆           ┆              ┆              ┆           │\n",
       "│ 0          ┆ 2125-12-27    ┆ DISCHARGE&DIA ┆ 71.985497 ┆ null         ┆ null         ┆ null      │\n",
       "│            ┆ 16:52:00      ┆ GNOSIS        ┆           ┆              ┆              ┆           │\n",
       "│ 0          ┆ 2125-12-27    ┆ DISCHARGE&DIA ┆ 71.985497 ┆ ICD9CM/4019  ┆ null         ┆ null      │\n",
       "│            ┆ 16:52:00      ┆ GNOSIS        ┆           ┆              ┆              ┆           │\n",
       "│ 0          ┆ 2125-12-27    ┆ DISCHARGE&DIA ┆ 71.985497 ┆ ICD9CM/7850  ┆ null         ┆ null      │\n",
       "│            ┆ 16:52:00      ┆ GNOSIS        ┆           ┆              ┆              ┆           │\n",
       "│ 0          ┆ 2125-12-27    ┆ DISCHARGE&DIA ┆ 71.985497 ┆ ICD9CM/2724  ┆ null         ┆ null      │\n",
       "│            ┆ 16:52:00      ┆ GNOSIS        ┆           ┆              ┆              ┆           │\n",
       "│ 0          ┆ 2125-12-27    ┆ DISCHARGE&DIA ┆ 71.985497 ┆ ICD9CM/49320 ┆ null         ┆ null      │\n",
       "│            ┆ 16:52:00      ┆ GNOSIS        ┆           ┆              ┆              ┆           │\n",
       "│ 0          ┆ 2126-11-04    ┆ ADMISSION     ┆ 72.837877 ┆ null         ┆ null         ┆ null      │\n",
       "│            ┆ 00:50:00      ┆               ┆           ┆              ┆              ┆           │\n",
       "│ 0          ┆ 2126-11-04    ┆ DISCHARGE&DIA ┆ 72.839244 ┆ null         ┆ null         ┆ null      │\n",
       "│            ┆ 12:49:00      ┆ GNOSIS        ┆           ┆              ┆              ┆           │\n",
       "│ 0          ┆ 2126-11-04    ┆ DISCHARGE&DIA ┆ 72.839244 ┆ ICD9CM/49392 ┆ null         ┆ null      │\n",
       "│            ┆ 12:49:00      ┆ GNOSIS        ┆           ┆              ┆              ┆           │\n",
       "│ 0          ┆ 2126-11-04    ┆ DISCHARGE&DIA ┆ 72.839244 ┆ ICD9CM/4019  ┆ null         ┆ null      │\n",
       "│            ┆ 12:49:00      ┆ GNOSIS        ┆           ┆              ┆              ┆           │\n",
       "│ 0          ┆ 2126-11-04    ┆ DISCHARGE&DIA ┆ 72.839244 ┆ ICD9CM/78650 ┆ null         ┆ null      │\n",
       "│            ┆ 12:49:00      ┆ GNOSIS        ┆           ┆              ┆              ┆           │\n",
       "│ 0          ┆ 2127-07-24    ┆ ADMISSION     ┆ 73.557164 ┆ null         ┆ null         ┆ null      │\n",
       "│            ┆ 18:06:00      ┆               ┆           ┆              ┆              ┆           │\n",
       "│ 0          ┆ 2127-07-25    ┆ DISCHARGE&DIA ┆ 73.559854 ┆ null         ┆ null         ┆ null      │\n",
       "│            ┆ 17:41:00      ┆ GNOSIS        ┆           ┆              ┆              ┆           │\n",
       "│ 0          ┆ 2127-07-25    ┆ DISCHARGE&DIA ┆ 73.559854 ┆ ICD9CM/78650 ┆ null         ┆ null      │\n",
       "│            ┆ 17:41:00      ┆ GNOSIS        ┆           ┆              ┆              ┆           │\n",
       "│ 0          ┆ 2127-07-25    ┆ DISCHARGE&DIA ┆ 73.559854 ┆ ICD9CM/4019  ┆ null         ┆ null      │\n",
       "│            ┆ 17:41:00      ┆ GNOSIS        ┆           ┆              ┆              ┆           │\n",
       "│ 0          ┆ 2127-12-11    ┆ ADMISSION     ┆ 73.940463 ┆ null         ┆ null         ┆ null      │\n",
       "│            ┆ 18:06:00      ┆               ┆           ┆              ┆              ┆           │\n",
       "│ 0          ┆ 2127-12-12    ┆ DISCHARGE&DIA ┆ 73.942707 ┆ null         ┆ null         ┆ null      │\n",
       "│            ┆ 13:46:00      ┆ GNOSIS        ┆           ┆              ┆              ┆           │\n",
       "│ 0          ┆ 2127-12-12    ┆ DISCHARGE&DIA ┆ 73.942707 ┆ ICD9CM/3051  ┆ null         ┆ null      │\n",
       "│            ┆ 13:46:00      ┆ GNOSIS        ┆           ┆              ┆              ┆           │\n",
       "│ 0          ┆ 2127-12-12    ┆ DISCHARGE&DIA ┆ 73.942707 ┆ ICD9CM/44021 ┆ null         ┆ null      │\n",
       "│            ┆ 13:46:00      ┆ GNOSIS        ┆           ┆              ┆              ┆           │\n",
       "│ 0          ┆ 2127-12-12    ┆ DISCHARGE&DIA ┆ 73.942707 ┆ ICD9CM/496   ┆ null         ┆ null      │\n",
       "│            ┆ 13:46:00      ┆ GNOSIS        ┆           ┆              ┆              ┆           │\n",
       "│ 0          ┆ 2128-07-15    ┆ ADMISSION     ┆ 74.534649 ┆ null         ┆ null         ┆ null      │\n",
       "│            ┆ 18:44:00      ┆               ┆           ┆              ┆              ┆           │\n",
       "│ 0          ┆ 2128-07-17    ┆ DISCHARGE&DIA ┆ 74.53953  ┆ null         ┆ null         ┆ null      │\n",
       "│            ┆ 13:31:00      ┆ GNOSIS        ┆           ┆              ┆              ┆           │\n",
       "│ 0          ┆ 2128-07-17    ┆ DISCHARGE&DIA ┆ 74.53953  ┆ ICD9CM/49322 ┆ null         ┆ null      │\n",
       "│            ┆ 13:31:00      ┆ GNOSIS        ┆           ┆              ┆              ┆           │\n",
       "│ 0          ┆ 2128-07-17    ┆ DISCHARGE&DIA ┆ 74.53953  ┆ ICD9CM/486   ┆ null         ┆ null      │\n",
       "│            ┆ 13:31:00      ┆ GNOSIS        ┆           ┆              ┆              ┆           │\n",
       "│ 0          ┆ 2128-07-17    ┆ DISCHARGE&DIA ┆ 74.53953  ┆ ICD9CM/3051  ┆ null         ┆ null      │\n",
       "│            ┆ 13:31:00      ┆ GNOSIS        ┆           ┆              ┆              ┆           │\n",
       "│ 0          ┆ 2128-07-17    ┆ DISCHARGE&DIA ┆ 74.53953  ┆ ICD9CM/41401 ┆ null         ┆ null      │\n",
       "│            ┆ 13:31:00      ┆ GNOSIS        ┆           ┆              ┆              ┆           │\n",
       "│ 0          ┆ 2130-04-08    ┆ ADMISSION     ┆ 76.265355 ┆ null         ┆ null         ┆ null      │\n",
       "│            ┆ 22:06:00      ┆               ┆           ┆              ┆              ┆           │\n",
       "│ 0          ┆ 2130-04-09    ┆ DISCHARGE&DIA ┆ 76.267226 ┆ null         ┆ null         ┆ null      │\n",
       "│            ┆ 14:30:00      ┆ GNOSIS        ┆           ┆              ┆              ┆           │\n",
       "│ 0          ┆ 2130-04-09    ┆ DISCHARGE&DIA ┆ 76.267226 ┆ ICD9CM/49322 ┆ null         ┆ null      │\n",
       "│            ┆ 14:30:00      ┆ GNOSIS        ┆           ┆              ┆              ┆           │\n",
       "│ 0          ┆ 2130-04-09    ┆ DISCHARGE&DIA ┆ 76.267226 ┆ ICD9CM/41401 ┆ null         ┆ null      │\n",
       "│            ┆ 14:30:00      ┆ GNOSIS        ┆           ┆              ┆              ┆           │\n",
       "│ 0          ┆ 2130-04-09    ┆ DISCHARGE&DIA ┆ 76.267226 ┆ ICD9CM/78659 ┆ null         ┆ null      │\n",
       "│            ┆ 14:30:00      ┆ GNOSIS        ┆           ┆              ┆              ┆           │\n",
       "│ 0          ┆ 2130-04-09    ┆ DISCHARGE&DIA ┆ 76.267226 ┆ ICD9CM/42731 ┆ null         ┆ null      │\n",
       "│            ┆ 14:30:00      ┆ GNOSIS        ┆           ┆              ┆              ┆           │\n",
       "│ …          ┆ …             ┆ …             ┆ …         ┆ …            ┆ …            ┆ …         │\n",
       "│ 12126      ┆ 2164-09-17    ┆ LAB           ┆ 58.711988 ┆ null         ┆ null         ┆ null      │\n",
       "│            ┆ 13:17:00      ┆               ┆           ┆              ┆              ┆           │\n",
       "│ 12126      ┆ 2164-09-17    ┆ LAB           ┆ 58.71199  ┆ null         ┆ Total PEEP   ┆ 14.0      │\n",
       "│            ┆ 13:18:00      ┆               ┆           ┆              ┆ Level        ┆           │\n",
       "│            ┆               ┆               ┆           ┆              ┆ (cmH2O)      ┆           │\n",
       "│ 12126      ┆ 2164-09-17    ┆ LAB           ┆ 58.71199  ┆ null         ┆ null         ┆ null      │\n",
       "│            ┆ 13:18:00      ┆               ┆           ┆              ┆              ┆           │\n",
       "│ 12126      ┆ 2164-09-17    ┆ LAB           ┆ 58.71199  ┆ null         ┆ null         ┆ null      │\n",
       "│            ┆ 13:18:00      ┆               ┆           ┆              ┆              ┆           │\n",
       "│ 12126      ┆ 2164-09-17    ┆ LAB           ┆ 58.71199  ┆ null         ┆ null         ┆ null      │\n",
       "│            ┆ 13:18:00      ┆               ┆           ┆              ┆              ┆           │\n",
       "│ 12126      ┆ 2164-09-17    ┆ LAB           ┆ 58.71199  ┆ null         ┆ null         ┆ null      │\n",
       "│            ┆ 13:18:00      ┆               ┆           ┆              ┆              ┆           │\n",
       "│ 12126      ┆ 2164-09-17    ┆ LAB           ┆ 58.71199  ┆ null         ┆ null         ┆ null      │\n",
       "│            ┆ 13:18:00      ┆               ┆           ┆              ┆              ┆           │\n",
       "│ 12126      ┆ 2164-09-17    ┆ LAB           ┆ 58.71199  ┆ null         ┆ null         ┆ null      │\n",
       "│            ┆ 13:18:00      ┆               ┆           ┆              ┆              ┆           │\n",
       "│ 12126      ┆ 2164-09-17    ┆ LAB           ┆ 58.711993 ┆ null         ┆ Lactic Acid  ┆ 7.0       │\n",
       "│            ┆ 13:20:00      ┆               ┆           ┆              ┆ (mmol/L)     ┆           │\n",
       "│ 12126      ┆ 2164-09-17    ┆ LAB           ┆ 58.711993 ┆ null         ┆ null         ┆ null      │\n",
       "│            ┆ 13:20:00      ┆               ┆           ┆              ┆              ┆           │\n",
       "│ 12126      ┆ 2164-09-17    ┆ LAB           ┆ 58.71202  ┆ null         ┆ PH (Venous)  ┆ 7.3       │\n",
       "│            ┆ 13:34:00      ┆               ┆           ┆              ┆ (units)      ┆           │\n",
       "│ 12126      ┆ 2164-09-17    ┆ LAB           ┆ 58.71202  ┆ null         ┆ Ionized      ┆ 1.08      │\n",
       "│            ┆ 13:34:00      ┆               ┆           ┆              ┆ Calcium      ┆           │\n",
       "│            ┆               ┆               ┆           ┆              ┆ (mmol/L)     ┆           │\n",
       "│ 12126      ┆ 2164-09-17    ┆ LAB           ┆ 58.71202  ┆ null         ┆ Potassium    ┆ 5.3       │\n",
       "│            ┆ 13:34:00      ┆               ┆           ┆              ┆ (whole       ┆           │\n",
       "│            ┆               ┆               ┆           ┆              ┆ blood)       ┆           │\n",
       "│            ┆               ┆               ┆           ┆              ┆ (mEq/L)      ┆           │\n",
       "│ 12126      ┆ 2164-09-17    ┆ LAB           ┆ 58.71202  ┆ null         ┆ null         ┆ null      │\n",
       "│            ┆ 13:34:00      ┆               ┆           ┆              ┆              ┆           │\n",
       "│ 12126      ┆ 2164-09-17    ┆ LAB           ┆ 58.71202  ┆ null         ┆ Arterial     ┆ 97.0      │\n",
       "│            ┆ 13:34:00      ┆               ┆           ┆              ┆ Blood        ┆           │\n",
       "│            ┆               ┆               ┆           ┆              ┆ Pressure     ┆           │\n",
       "│            ┆               ┆               ┆           ┆              ┆ systolic…    ┆           │\n",
       "│ 12126      ┆ 2164-09-17    ┆ LAB           ┆ 58.71202  ┆ null         ┆ Pulmonary    ┆ 38.0      │\n",
       "│            ┆ 13:34:00      ┆               ┆           ┆              ┆ Artery       ┆           │\n",
       "│            ┆               ┆               ┆           ┆              ┆ Pressure     ┆           │\n",
       "│            ┆               ┆               ┆           ┆              ┆ systol…      ┆           │\n",
       "│ 12126      ┆ 2164-09-17    ┆ LAB           ┆ 58.71202  ┆ null         ┆ Respiratory  ┆ 21.0      │\n",
       "│            ┆ 13:34:00      ┆               ┆           ┆              ┆ Rate         ┆           │\n",
       "│            ┆               ┆               ┆           ┆              ┆ (insp/min)   ┆           │\n",
       "│ 12126      ┆ 2164-09-17    ┆ LAB           ┆ 58.71202  ┆ null         ┆ Cardiac      ┆ 2.3       │\n",
       "│            ┆ 13:34:00      ┆               ┆           ┆              ┆ Output (CCO) ┆           │\n",
       "│            ┆               ┆               ┆           ┆              ┆ (L/min)      ┆           │\n",
       "│ 12126      ┆ 2164-09-17    ┆ LAB           ┆ 58.71202  ┆ null         ┆ Blood        ┆ 36.700001 │\n",
       "│            ┆ 13:34:00      ┆               ┆           ┆              ┆ Temperature  ┆           │\n",
       "│            ┆               ┆               ┆           ┆              ┆ CCO (C) (°C) ┆           │\n",
       "│ 12126      ┆ 2164-09-17    ┆ LAB           ┆ 58.71202  ┆ null         ┆ null         ┆ null      │\n",
       "│            ┆ 13:34:00      ┆               ┆           ┆              ┆              ┆           │\n",
       "│ 12126      ┆ 2164-09-17    ┆ LAB           ┆ 58.71202  ┆ null         ┆ null         ┆ null      │\n",
       "│            ┆ 13:34:00      ┆               ┆           ┆              ┆              ┆           │\n",
       "│ 12126      ┆ 2164-09-17    ┆ LAB           ┆ 58.71202  ┆ null         ┆ null         ┆ null      │\n",
       "│            ┆ 13:34:00      ┆               ┆           ┆              ┆              ┆           │\n",
       "│ 12126      ┆ 2164-09-17    ┆ LAB           ┆ 58.71202  ┆ null         ┆ null         ┆ null      │\n",
       "│            ┆ 13:34:00      ┆               ┆           ┆              ┆              ┆           │\n",
       "│ 12126      ┆ 2164-09-17    ┆ LAB           ┆ 58.712029 ┆ null         ┆ Respiratory  ┆ 29.0      │\n",
       "│            ┆ 13:39:00      ┆               ┆           ┆              ┆ Rate         ┆           │\n",
       "│            ┆               ┆               ┆           ┆              ┆ (insp/min)   ┆           │\n",
       "│ 12126      ┆ 2164-09-17    ┆ LAB           ┆ 58.712029 ┆ null         ┆ Arterial O2  ┆ 25.0      │\n",
       "│            ┆ 13:39:00      ┆               ┆           ┆              ┆ Saturation   ┆           │\n",
       "│            ┆               ┆               ┆           ┆              ┆ (%)          ┆           │\n",
       "│ 12126      ┆ 2164-09-17    ┆ LAB           ┆ 58.712029 ┆ null         ┆ Ionized      ┆ 1.15      │\n",
       "│            ┆ 13:39:00      ┆               ┆           ┆              ┆ Calcium      ┆           │\n",
       "│            ┆               ┆               ┆           ┆              ┆ (mmol/L)     ┆           │\n",
       "│ 12126      ┆ 2164-09-17    ┆ LAB           ┆ 58.712029 ┆ null         ┆ null         ┆ null      │\n",
       "│            ┆ 13:39:00      ┆               ┆           ┆              ┆              ┆           │\n",
       "│ 12126      ┆ 2164-09-17    ┆ LAB           ┆ 58.712029 ┆ null         ┆ null         ┆ null      │\n",
       "│            ┆ 13:39:00      ┆               ┆           ┆              ┆              ┆           │\n",
       "│ 12126      ┆ 2164-09-17    ┆ LAB           ┆ 58.712029 ┆ null         ┆ null         ┆ null      │\n",
       "│            ┆ 13:39:00      ┆               ┆           ┆              ┆              ┆           │\n",
       "│ 12126      ┆ 2164-09-17    ┆ LAB           ┆ 58.712029 ┆ null         ┆ null         ┆ null      │\n",
       "│            ┆ 13:39:00      ┆               ┆           ┆              ┆              ┆           │\n",
       "│ 12126      ┆ 2164-09-17    ┆ LAB           ┆ 58.712029 ┆ null         ┆ Non-Invasive ┆ 90.0      │\n",
       "│            ┆ 13:39:00      ┆               ┆           ┆              ┆ Blood        ┆           │\n",
       "│            ┆               ┆               ┆           ┆              ┆ Pressure     ┆           │\n",
       "│            ┆               ┆               ┆           ┆              ┆ Alar…        ┆           │\n",
       "│ 12126      ┆ 2164-09-17    ┆ DEATH&DISCHAR ┆ 58.712035 ┆ null         ┆ null         ┆ null      │\n",
       "│            ┆ 13:42:00      ┆ GE&DIAGNOSIS  ┆           ┆              ┆              ┆           │\n",
       "│ 12126      ┆ 2164-09-17    ┆ DEATH&DISCHAR ┆ 58.712035 ┆ ICD9CM/51881 ┆ null         ┆ null      │\n",
       "│            ┆ 13:42:00      ┆ GE&DIAGNOSIS  ┆           ┆              ┆              ┆           │\n",
       "│ 12126      ┆ 2164-09-17    ┆ DEATH&DISCHAR ┆ 58.712035 ┆ ICD9CM/5070  ┆ null         ┆ null      │\n",
       "│            ┆ 13:42:00      ┆ GE&DIAGNOSIS  ┆           ┆              ┆              ┆           │\n",
       "│ 12126      ┆ 2164-09-17    ┆ DEATH&DISCHAR ┆ 58.712035 ┆ ICD9CM/3453  ┆ null         ┆ null      │\n",
       "│            ┆ 13:42:00      ┆ GE&DIAGNOSIS  ┆           ┆              ┆              ┆           │\n",
       "│ 12126      ┆ 2164-09-17    ┆ DEATH&DISCHAR ┆ 58.712035 ┆ ICD9CM/5180  ┆ null         ┆ null      │\n",
       "│            ┆ 13:42:00      ┆ GE&DIAGNOSIS  ┆           ┆              ┆              ┆           │\n",
       "│ 12126      ┆ 2164-09-17    ┆ LAB           ┆ 58.712217 ┆ null         ┆ Sodium       ┆ 134.0     │\n",
       "│            ┆ 15:17:32      ┆               ┆           ┆              ┆ (whole       ┆           │\n",
       "│            ┆               ┆               ┆           ┆              ┆ blood)       ┆           │\n",
       "│            ┆               ┆               ┆           ┆              ┆ (mEq/L)      ┆           │\n",
       "│ 12126      ┆ 2164-09-17    ┆ LAB           ┆ 58.712217 ┆ null         ┆ Potassium    ┆ 4.2       │\n",
       "│            ┆ 15:17:32      ┆               ┆           ┆              ┆ (whole       ┆           │\n",
       "│            ┆               ┆               ┆           ┆              ┆ blood)       ┆           │\n",
       "│            ┆               ┆               ┆           ┆              ┆ (mEq/L)      ┆           │\n",
       "│ 12126      ┆ 2164-09-17    ┆ LAB           ┆ 58.712217 ┆ null         ┆ TCO2 (calc)  ┆ 27.0      │\n",
       "│            ┆ 15:17:32      ┆               ┆           ┆              ┆ Arterial     ┆           │\n",
       "│            ┆               ┆               ┆           ┆              ┆ (mEq/L)      ┆           │\n",
       "│ 12126      ┆ 2164-09-17    ┆ LAB           ┆ 58.712217 ┆ null         ┆ Mixed Venous ┆ 25.0      │\n",
       "│            ┆ 15:17:32      ┆               ┆           ┆              ┆ O2% Sat (%)  ┆           │\n",
       "│ 12126      ┆ 2164-09-17    ┆ LAB           ┆ 58.712217 ┆ null         ┆ Pulmonary    ┆ 28.0      │\n",
       "│            ┆ 15:17:32      ┆               ┆           ┆              ┆ Artery       ┆           │\n",
       "│            ┆               ┆               ┆           ┆              ┆ Pressure     ┆           │\n",
       "│            ┆               ┆               ┆           ┆              ┆ mean (…      ┆           │\n",
       "│ 12126      ┆ 2164-09-17    ┆ LAB           ┆ 58.712217 ┆ null         ┆ null         ┆ null      │\n",
       "│            ┆ 15:17:32      ┆               ┆           ┆              ┆              ┆           │\n",
       "│ 12126      ┆ 2164-09-17    ┆ INFUSION_END  ┆ 58.712225 ┆ null         ┆ null         ┆ null      │\n",
       "│            ┆ 15:22:00      ┆               ┆           ┆              ┆              ┆           │\n",
       "│ 12126      ┆ 2164-09-17    ┆ INFUSION_END  ┆ 58.712225 ┆ null         ┆ null         ┆ null      │\n",
       "│            ┆ 15:22:00      ┆               ┆           ┆              ┆              ┆           │\n",
       "│ 12126      ┆ 2164-09-17    ┆ INFUSION_END  ┆ 58.712362 ┆ null         ┆ null         ┆ null      │\n",
       "│            ┆ 16:34:00      ┆               ┆           ┆              ┆              ┆           │\n",
       "│ 12126      ┆ 2164-09-17    ┆ INFUSION_END  ┆ 58.712362 ┆ null         ┆ null         ┆ null      │\n",
       "│            ┆ 16:34:00      ┆               ┆           ┆              ┆              ┆           │\n",
       "│ 12126      ┆ 2164-09-17    ┆ PROCEDURE_END ┆ 58.712364 ┆ null         ┆ null         ┆ null      │\n",
       "│            ┆ 16:35:00      ┆               ┆           ┆              ┆              ┆           │\n",
       "│ 12126      ┆ 2164-09-17    ┆ PROCEDURE_END ┆ 58.712364 ┆ null         ┆ null         ┆ null      │\n",
       "│            ┆ 16:35:00      ┆               ┆           ┆              ┆              ┆           │\n",
       "│ 12126      ┆ 2164-09-17    ┆ PROCEDURE_END ┆ 58.712364 ┆ null         ┆ null         ┆ null      │\n",
       "│            ┆ 16:35:00      ┆               ┆           ┆              ┆              ┆           │\n",
       "│ 12126      ┆ 2164-09-17    ┆ ICU_STAY_END  ┆ 58.712365 ┆ null         ┆ null         ┆ null      │\n",
       "│            ┆ 16:35:15      ┆               ┆           ┆              ┆              ┆           │\n",
       "└────────────┴───────────────┴───────────────┴───────────┴──────────────┴──────────────┴───────────┘"
      ]
     },
     "execution_count": 13,
     "metadata": {},
     "output_type": "execute_result"
    }
   ],
   "source": [
    "df_result"
   ]
  },
  {
   "cell_type": "code",
   "execution_count": 12,
   "metadata": {},
   "outputs": [],
   "source": [
    "df_result.write_parquet('data.parquet')"
   ]
  },
  {
   "cell_type": "code",
   "execution_count": 11,
   "metadata": {},
   "outputs": [],
   "source": [
    "df_result.write_parquet('data.parquet')"
   ]
  }
 ],
 "metadata": {
  "kernelspec": {
   "display_name": "esgpt",
   "language": "python",
   "name": "python3"
  },
  "language_info": {
   "codemirror_mode": {
    "name": "ipython",
    "version": 3
   },
   "file_extension": ".py",
   "mimetype": "text/x-python",
   "name": "python",
   "nbconvert_exporter": "python",
   "pygments_lexer": "ipython3",
   "version": "3.10.13"
  }
 },
 "nbformat": 4,
 "nbformat_minor": 2
}
