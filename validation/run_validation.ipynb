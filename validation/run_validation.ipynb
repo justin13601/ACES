{
 "cells": [
  {
   "cell_type": "code",
   "execution_count": 1,
   "metadata": {},
   "outputs": [
    {
     "name": "stderr",
     "output_type": "stream",
     "text": [
      "/home/justinxu/miniconda3/envs/esgpt/lib/python3.10/site-packages/tqdm/auto.py:21: TqdmWarning: IProgress not found. Please update jupyter and ipywidgets. See https://ipywidgets.readthedocs.io/en/stable/user_install.html\n",
      "  from .autonotebook import tqdm as notebook_tqdm\n"
     ]
    },
    {
     "data": {
      "text/plain": [
       "'/home/justinxu/esgpt/ESGPTTaskQuerying/to_organize'"
      ]
     },
     "execution_count": 1,
     "metadata": {},
     "output_type": "execute_result"
    }
   ],
   "source": [
    "import os\n",
    "os.environ['POLARS_MAX_THREADS'] = '16'\n",
    "import pandas as pd\n",
    "import polars as pl\n",
    "from pathlib import Path\n",
    "\n",
    "from esgpt_task_querying import main\n",
    "from EventStream.data.dataset_polars import Dataset\n",
    "\n",
    "pd.set_option('display.max_rows', 100)\n",
    "pl.Config.set_tbl_cols(100)\n",
    "pl.Config.set_tbl_rows(100)\n",
    "\n",
    "data_path = '../MIMIC_ESD_new_schema_08-31-23-1'\n",
    "os.getcwd()"
   ]
  },
  {
   "cell_type": "code",
   "execution_count": 2,
   "metadata": {},
   "outputs": [],
   "source": [
    "# DATA_DIR = Path(data_path)\n",
    "# ESD = Dataset.load(DATA_DIR)\n",
    "\n",
    "# events_df = ESD.events_df.filter(~pl.all_horizontal(pl.all().is_null()))\n",
    "# dynamic_measurements_df = ESD.dynamic_measurements_df.filter(\n",
    "#     ~pl.all_horizontal(pl.all().is_null())\n",
    "# )\n",
    "\n",
    "# ESD_data = (\n",
    "#     events_df.join(dynamic_measurements_df, on=\"event_id\", how=\"left\")\n",
    "#     .drop([\"event_id\"])\n",
    "#     .sort(by=[\"subject_id\", \"timestamp\", \"event_type\"])\n",
    "# )\n",
    "\n",
    "# if ESD_data[\"timestamp\"].dtype != pl.Datetime:\n",
    "#     ESD_data = ESD_data.with_columns(\n",
    "#         pl.col(\"timestamp\")\n",
    "#         .str.strptime(pl.Datetime, format=\"%m/%d/%Y %H:%M\")\n",
    "#         .cast(pl.Datetime)\n",
    "#     )"
   ]
  },
  {
   "cell_type": "code",
   "execution_count": 3,
   "metadata": {},
   "outputs": [],
   "source": [
    "def has_event_type(type_str: str) -> pl.Expr:\n",
    "    has_event_type = pl.col(\"event_type\").cast(pl.Utf8).str.contains(type_str)\n",
    "    # has_event_type = event_types.str.contains(type_str)\n",
    "    return has_event_type"
   ]
  },
  {
   "cell_type": "code",
   "execution_count": 10,
   "metadata": {},
   "outputs": [],
   "source": [
    "def validate_query(config_path, ESD_data, samples=10, seed=42):\n",
    "    cfg = main.load_config(config_path)\n",
    "    df_data = main.generate_predicate_columns(cfg, ESD_data)\n",
    "    display(df_data)\n",
    "\n",
    "    df_result = main.query_task(config_path, ESD_data)\n",
    "    display(df_result)\n",
    "    print(df_result.shape[0])\n",
    "\n",
    "    if df_result.shape[0] == 0:\n",
    "        print(\"No results found.\")\n",
    "        return\n",
    "\n",
    "    try:\n",
    "        validation = df_result.sample(samples, seed=seed)\n",
    "        validation = validation.to_pandas()\n",
    "    except:\n",
    "        validation = df_result.to_pandas()\n",
    "\n",
    "    # validation = df_result.filter(df_result['subject_id'] == 1916).to_pandas()\n",
    "\n",
    "    for i, row in validation.iterrows():\n",
    "        if i % 100 == 0:\n",
    "            print(f\"Validating row: {i}/{len(validation)}...\")\n",
    "        #filter ESD_data for the subject_id\n",
    "        subject_id = row['subject_id']\n",
    "        filtered_data = df_data.filter(pl.col(\"subject_id\") == subject_id)\n",
    "\n",
    "        print('Checking subject_id:', subject_id)\n",
    "\n",
    "        #sort the values of every column that has 'timestamp' in its name\n",
    "        timestamps = []\n",
    "        for col in validation.columns:\n",
    "            if 'timestamp' in col:\n",
    "                timestamps.append((row[col], col))\n",
    "        timestamps.sort(key=lambda x: x[0])\n",
    "\n",
    "        filtered_data = filtered_data.filter(pl.col(\"timestamp\") >= timestamps[0][0])\n",
    "        filtered_data = filtered_data.filter(pl.col(\"timestamp\") <= timestamps[-1][0])\n",
    "\n",
    "        trigger_event = f'is_{cfg.windows.trigger.start}'\n",
    "        assert filtered_data.filter(pl.col(\"timestamp\") == row['trigger/timestamp']).select(trigger_event).to_pandas().values.flatten()[0] == 1\n",
    "        \n",
    "        after_trigger = False\n",
    "        for i in range(len(timestamps)-1):\n",
    "            window = timestamps[i]\n",
    "            name = window[1].split('/')[0]\n",
    "            print(f\"Checking window: {name}->{timestamps[i+1][1].split('/')[0]}\")\n",
    "            if name == 'trigger':\n",
    "                after_trigger = True\n",
    "            if after_trigger:\n",
    "                name = timestamps[i+1][1].split('/')[0]\n",
    "\n",
    "            print(timestamps[i][0], timestamps[i+1][0])\n",
    "            print(row[f'{name}/window_summary'])\n",
    "            if cfg.windows[name].st_inclusive:\n",
    "                window_data = filtered_data.filter(pl.col(\"timestamp\") >= timestamps[i][0])\n",
    "            else:\n",
    "                window_data = filtered_data.filter(pl.col(\"timestamp\") > timestamps[i][0])\n",
    "\n",
    "            if cfg.windows[name].end_inclusive:\n",
    "                window_data = window_data.filter(pl.col(\"timestamp\") <= timestamps[i+1][0])\n",
    "            else:\n",
    "                window_data = window_data.filter(pl.col(\"timestamp\") < timestamps[i+1][0])\n",
    "\n",
    "            display(window_data)\n",
    "            sum_counts = window_data.sum()\n",
    "            display(sum_counts)\n",
    "\n",
    "            for predicate in row[f'{name}/window_summary']:\n",
    "                count = row[f'{name}/window_summary'][predicate]\n",
    "                if not count:\n",
    "                    count = 0\n",
    "                assert sum_counts.select(predicate).to_pandas().values.flatten()[0] == count, (subject_id, timestamps[i][0], timestamps[i+1][0], row[f'{name}/window_summary'], sum_counts)"
   ]
  },
  {
   "cell_type": "code",
   "execution_count": 15,
   "metadata": {},
   "outputs": [
    {
     "name": "stderr",
     "output_type": "stream",
     "text": [
      "\u001b[32m2024-04-14 01:14:43.673\u001b[0m | \u001b[34m\u001b[1mDEBUG   \u001b[0m | \u001b[36mesgpt_task_querying.event_predicates\u001b[0m:\u001b[36mgenerate_predicate_columns\u001b[0m:\u001b[36m118\u001b[0m - \u001b[34m\u001b[1mAdded predicate column is_admission.\u001b[0m\n",
      "\u001b[32m2024-04-14 01:14:43.674\u001b[0m | \u001b[34m\u001b[1mDEBUG   \u001b[0m | \u001b[36mesgpt_task_querying.event_predicates\u001b[0m:\u001b[36mgenerate_predicate_columns\u001b[0m:\u001b[36m118\u001b[0m - \u001b[34m\u001b[1mAdded predicate column is_discharge.\u001b[0m\n",
      "\u001b[32m2024-04-14 01:14:43.675\u001b[0m | \u001b[34m\u001b[1mDEBUG   \u001b[0m | \u001b[36mesgpt_task_querying.event_predicates\u001b[0m:\u001b[36mgenerate_predicate_columns\u001b[0m:\u001b[36m118\u001b[0m - \u001b[34m\u001b[1mAdded predicate column is_death.\u001b[0m\n",
      "\u001b[32m2024-04-14 01:14:43.676\u001b[0m | \u001b[34m\u001b[1mDEBUG   \u001b[0m | \u001b[36mesgpt_task_querying.event_predicates\u001b[0m:\u001b[36mgenerate_predicate_columns\u001b[0m:\u001b[36m118\u001b[0m - \u001b[34m\u001b[1mAdded predicate column is_lab.\u001b[0m\n",
      "\u001b[32m2024-04-14 01:14:43.677\u001b[0m | \u001b[34m\u001b[1mDEBUG   \u001b[0m | \u001b[36mesgpt_task_querying.event_predicates\u001b[0m:\u001b[36mgenerate_predicate_columns\u001b[0m:\u001b[36m125\u001b[0m - \u001b[34m\u001b[1mAdded predicate column is_discharge_or_death.\u001b[0m\n"
     ]
    },
    {
     "data": {
      "text/html": [
       "<div><style>\n",
       ".dataframe > thead > tr,\n",
       ".dataframe > tbody > tr {\n",
       "  text-align: right;\n",
       "  white-space: pre-wrap;\n",
       "}\n",
       "</style>\n",
       "<small>shape: (1_056, 8)</small><table border=\"1\" class=\"dataframe\"><thead><tr><th>subject_id</th><th>timestamp</th><th>is_admission</th><th>is_discharge</th><th>is_death</th><th>is_discharge_or_death</th><th>is_lab</th><th>is_any</th></tr><tr><td>i64</td><td>datetime[μs]</td><td>i32</td><td>i32</td><td>i32</td><td>i32</td><td>i32</td><td>i32</td></tr></thead><tbody><tr><td>0</td><td>2125-10-18 16:50:00</td><td>1</td><td>0</td><td>0</td><td>0</td><td>0</td><td>1</td></tr><tr><td>0</td><td>2125-10-20 15:15:00</td><td>0</td><td>1</td><td>0</td><td>1</td><td>0</td><td>1</td></tr><tr><td>0</td><td>2125-10-26 20:32:00</td><td>1</td><td>0</td><td>0</td><td>0</td><td>0</td><td>1</td></tr><tr><td>0</td><td>2125-10-27 16:28:00</td><td>0</td><td>1</td><td>0</td><td>1</td><td>0</td><td>1</td></tr><tr><td>0</td><td>2125-11-30 16:02:00</td><td>1</td><td>0</td><td>0</td><td>0</td><td>0</td><td>1</td></tr><tr><td>0</td><td>2125-12-02 16:02:00</td><td>0</td><td>0</td><td>0</td><td>0</td><td>1</td><td>1</td></tr><tr><td>0</td><td>2125-12-03 14:43:00</td><td>0</td><td>0</td><td>0</td><td>0</td><td>1</td><td>1</td></tr><tr><td>0</td><td>2125-12-03 14:44:00</td><td>0</td><td>1</td><td>0</td><td>1</td><td>0</td><td>1</td></tr><tr><td>0</td><td>2125-12-26 17:06:00</td><td>1</td><td>0</td><td>0</td><td>0</td><td>0</td><td>1</td></tr><tr><td>0</td><td>2125-12-27 16:52:00</td><td>0</td><td>1</td><td>0</td><td>1</td><td>0</td><td>1</td></tr><tr><td>0</td><td>2126-11-04 00:50:00</td><td>1</td><td>0</td><td>0</td><td>0</td><td>0</td><td>1</td></tr><tr><td>0</td><td>2126-11-04 12:49:00</td><td>0</td><td>1</td><td>0</td><td>1</td><td>0</td><td>1</td></tr><tr><td>0</td><td>2127-07-24 18:06:00</td><td>1</td><td>0</td><td>0</td><td>0</td><td>0</td><td>1</td></tr><tr><td>0</td><td>2127-07-25 17:41:00</td><td>0</td><td>1</td><td>0</td><td>1</td><td>0</td><td>1</td></tr><tr><td>0</td><td>2127-12-11 18:06:00</td><td>1</td><td>0</td><td>0</td><td>0</td><td>0</td><td>1</td></tr><tr><td>0</td><td>2127-12-12 13:46:00</td><td>0</td><td>1</td><td>0</td><td>1</td><td>0</td><td>1</td></tr><tr><td>0</td><td>2128-07-15 18:44:00</td><td>1</td><td>0</td><td>0</td><td>0</td><td>0</td><td>1</td></tr><tr><td>0</td><td>2128-07-17 13:31:00</td><td>0</td><td>1</td><td>0</td><td>1</td><td>0</td><td>1</td></tr><tr><td>0</td><td>2130-04-08 22:06:00</td><td>1</td><td>0</td><td>0</td><td>0</td><td>0</td><td>1</td></tr><tr><td>0</td><td>2130-04-09 14:30:00</td><td>0</td><td>1</td><td>0</td><td>1</td><td>0</td><td>1</td></tr><tr><td>0</td><td>2130-04-15 21:10:00</td><td>1</td><td>0</td><td>0</td><td>0</td><td>0</td><td>1</td></tr><tr><td>0</td><td>2130-04-19 16:00:00</td><td>0</td><td>1</td><td>0</td><td>1</td><td>0</td><td>1</td></tr><tr><td>0</td><td>2130-06-23 22:14:00</td><td>1</td><td>0</td><td>0</td><td>0</td><td>0</td><td>1</td></tr><tr><td>0</td><td>2130-06-24 11:07:00</td><td>0</td><td>1</td><td>0</td><td>1</td><td>0</td><td>1</td></tr><tr><td>0</td><td>2130-08-21 15:26:00</td><td>1</td><td>0</td><td>0</td><td>0</td><td>0</td><td>1</td></tr><tr><td>0</td><td>2130-08-23 16:40:00</td><td>0</td><td>1</td><td>0</td><td>1</td><td>0</td><td>1</td></tr><tr><td>0</td><td>2130-10-05 20:04:00</td><td>1</td><td>0</td><td>0</td><td>0</td><td>0</td><td>1</td></tr><tr><td>0</td><td>2130-10-06 15:05:00</td><td>0</td><td>1</td><td>0</td><td>1</td><td>0</td><td>1</td></tr><tr><td>0</td><td>2130-10-08 19:03:00</td><td>1</td><td>0</td><td>0</td><td>0</td><td>0</td><td>1</td></tr><tr><td>0</td><td>2130-10-12 19:05:00</td><td>0</td><td>1</td><td>0</td><td>1</td><td>0</td><td>1</td></tr><tr><td>0</td><td>2130-10-14 00:58:00</td><td>1</td><td>0</td><td>0</td><td>0</td><td>0</td><td>1</td></tr><tr><td>0</td><td>2130-10-14 13:57:00</td><td>0</td><td>1</td><td>0</td><td>1</td><td>0</td><td>1</td></tr><tr><td>0</td><td>2130-10-19 16:20:00</td><td>1</td><td>0</td><td>0</td><td>0</td><td>0</td><td>1</td></tr><tr><td>0</td><td>2130-10-21 21:20:00</td><td>0</td><td>0</td><td>0</td><td>0</td><td>1</td><td>1</td></tr><tr><td>0</td><td>2130-10-22 15:13:00</td><td>0</td><td>1</td><td>0</td><td>1</td><td>0</td><td>1</td></tr><tr><td>0</td><td>2130-11-19 18:35:00</td><td>1</td><td>0</td><td>0</td><td>0</td><td>0</td><td>1</td></tr><tr><td>0</td><td>2130-11-20 10:46:00</td><td>0</td><td>1</td><td>0</td><td>1</td><td>0</td><td>1</td></tr><tr><td>0</td><td>2130-11-28 16:47:00</td><td>1</td><td>0</td><td>0</td><td>0</td><td>0</td><td>1</td></tr><tr><td>0</td><td>2130-11-30 15:34:00</td><td>0</td><td>1</td><td>0</td><td>1</td><td>0</td><td>1</td></tr><tr><td>0</td><td>2130-12-06 20:14:00</td><td>1</td><td>0</td><td>0</td><td>0</td><td>0</td><td>1</td></tr><tr><td>0</td><td>2130-12-08 18:00:00</td><td>0</td><td>1</td><td>0</td><td>1</td><td>0</td><td>1</td></tr><tr><td>0</td><td>2130-12-23 19:32:00</td><td>1</td><td>0</td><td>0</td><td>0</td><td>0</td><td>1</td></tr><tr><td>0</td><td>2130-12-24 16:42:00</td><td>0</td><td>1</td><td>0</td><td>1</td><td>0</td><td>1</td></tr><tr><td>0</td><td>2130-12-27 21:23:00</td><td>1</td><td>0</td><td>0</td><td>0</td><td>0</td><td>1</td></tr><tr><td>0</td><td>2130-12-30 15:33:00</td><td>0</td><td>1</td><td>0</td><td>1</td><td>0</td><td>1</td></tr><tr><td>0</td><td>2131-01-07 20:39:00</td><td>1</td><td>0</td><td>0</td><td>0</td><td>0</td><td>1</td></tr><tr><td>0</td><td>2131-01-11 04:00:00</td><td>0</td><td>0</td><td>0</td><td>0</td><td>32</td><td>1</td></tr><tr><td>0</td><td>2131-01-11 04:20:00</td><td>0</td><td>0</td><td>0</td><td>0</td><td>6</td><td>1</td></tr><tr><td>0</td><td>2131-01-11 04:21:00</td><td>0</td><td>0</td><td>0</td><td>0</td><td>0</td><td>1</td></tr><tr><td>0</td><td>2131-01-11 04:22:00</td><td>0</td><td>0</td><td>0</td><td>0</td><td>1</td><td>1</td></tr><tr><td>&hellip;</td><td>&hellip;</td><td>&hellip;</td><td>&hellip;</td><td>&hellip;</td><td>&hellip;</td><td>&hellip;</td><td>&hellip;</td></tr><tr><td>0</td><td>2131-01-19 17:00:00</td><td>0</td><td>0</td><td>0</td><td>0</td><td>8</td><td>1</td></tr><tr><td>0</td><td>2131-01-19 17:01:00</td><td>0</td><td>0</td><td>0</td><td>0</td><td>3</td><td>1</td></tr><tr><td>0</td><td>2131-01-19 17:43:00</td><td>0</td><td>0</td><td>0</td><td>0</td><td>0</td><td>1</td></tr><tr><td>0</td><td>2131-01-19 17:45:00</td><td>0</td><td>0</td><td>0</td><td>0</td><td>0</td><td>1</td></tr><tr><td>0</td><td>2131-01-19 18:00:00</td><td>0</td><td>0</td><td>0</td><td>0</td><td>14</td><td>1</td></tr><tr><td>0</td><td>2131-01-19 18:01:00</td><td>0</td><td>0</td><td>0</td><td>0</td><td>3</td><td>1</td></tr><tr><td>0</td><td>2131-01-19 18:40:00</td><td>0</td><td>0</td><td>0</td><td>0</td><td>6</td><td>1</td></tr><tr><td>0</td><td>2131-01-19 18:41:00</td><td>0</td><td>0</td><td>0</td><td>0</td><td>0</td><td>1</td></tr><tr><td>0</td><td>2131-01-19 18:43:00</td><td>0</td><td>0</td><td>0</td><td>0</td><td>0</td><td>1</td></tr><tr><td>0</td><td>2131-01-19 18:44:00</td><td>0</td><td>0</td><td>0</td><td>0</td><td>7</td><td>1</td></tr><tr><td>0</td><td>2131-01-19 18:45:00</td><td>0</td><td>0</td><td>0</td><td>0</td><td>6</td><td>1</td></tr><tr><td>0</td><td>2131-01-19 19:00:00</td><td>0</td><td>0</td><td>0</td><td>0</td><td>10</td><td>1</td></tr><tr><td>0</td><td>2131-01-19 19:01:00</td><td>0</td><td>0</td><td>0</td><td>0</td><td>3</td><td>1</td></tr><tr><td>0</td><td>2131-01-19 19:48:00</td><td>0</td><td>0</td><td>0</td><td>0</td><td>0</td><td>1</td></tr><tr><td>0</td><td>2131-01-19 19:49:00</td><td>0</td><td>0</td><td>0</td><td>0</td><td>0</td><td>1</td></tr><tr><td>0</td><td>2131-01-19 20:00:00</td><td>0</td><td>0</td><td>0</td><td>0</td><td>110</td><td>1</td></tr><tr><td>0</td><td>2131-01-19 20:01:00</td><td>0</td><td>0</td><td>0</td><td>0</td><td>3</td><td>1</td></tr><tr><td>0</td><td>2131-01-19 20:03:00</td><td>0</td><td>0</td><td>0</td><td>0</td><td>11</td><td>1</td></tr><tr><td>0</td><td>2131-01-19 21:00:00</td><td>0</td><td>0</td><td>0</td><td>0</td><td>7</td><td>1</td></tr><tr><td>0</td><td>2131-01-19 21:01:00</td><td>0</td><td>0</td><td>0</td><td>0</td><td>3</td><td>1</td></tr><tr><td>0</td><td>2131-01-19 21:06:00</td><td>0</td><td>0</td><td>0</td><td>0</td><td>0</td><td>1</td></tr><tr><td>0</td><td>2131-01-19 21:07:00</td><td>0</td><td>0</td><td>0</td><td>0</td><td>0</td><td>1</td></tr><tr><td>0</td><td>2131-01-19 22:00:00</td><td>0</td><td>0</td><td>0</td><td>0</td><td>12</td><td>1</td></tr><tr><td>0</td><td>2131-01-19 22:01:00</td><td>0</td><td>0</td><td>0</td><td>0</td><td>3</td><td>1</td></tr><tr><td>0</td><td>2131-01-19 22:28:00</td><td>0</td><td>0</td><td>0</td><td>0</td><td>0</td><td>1</td></tr><tr><td>0</td><td>2131-01-19 22:30:00</td><td>0</td><td>0</td><td>0</td><td>0</td><td>0</td><td>1</td></tr><tr><td>0</td><td>2131-01-19 22:31:00</td><td>0</td><td>0</td><td>0</td><td>0</td><td>0</td><td>1</td></tr><tr><td>0</td><td>2131-01-19 23:00:00</td><td>0</td><td>0</td><td>0</td><td>0</td><td>3</td><td>1</td></tr><tr><td>0</td><td>2131-01-19 23:01:00</td><td>0</td><td>0</td><td>0</td><td>0</td><td>3</td><td>1</td></tr><tr><td>0</td><td>2131-01-19 23:04:00</td><td>0</td><td>0</td><td>0</td><td>0</td><td>0</td><td>1</td></tr><tr><td>0</td><td>2131-01-20 00:00:00</td><td>0</td><td>0</td><td>0</td><td>0</td><td>33</td><td>1</td></tr><tr><td>0</td><td>2131-01-20 00:01:00</td><td>0</td><td>0</td><td>0</td><td>0</td><td>3</td><td>1</td></tr><tr><td>0</td><td>2131-01-20 00:40:00</td><td>0</td><td>0</td><td>0</td><td>0</td><td>0</td><td>1</td></tr><tr><td>0</td><td>2131-01-20 01:00:00</td><td>0</td><td>0</td><td>0</td><td>0</td><td>9</td><td>1</td></tr><tr><td>0</td><td>2131-01-20 01:01:00</td><td>0</td><td>0</td><td>0</td><td>0</td><td>0</td><td>1</td></tr><tr><td>0</td><td>2131-01-20 01:13:00</td><td>0</td><td>0</td><td>0</td><td>0</td><td>90</td><td>1</td></tr><tr><td>0</td><td>2131-01-20 02:00:00</td><td>0</td><td>0</td><td>0</td><td>0</td><td>15</td><td>1</td></tr><tr><td>0</td><td>2131-01-20 04:00:00</td><td>0</td><td>0</td><td>0</td><td>0</td><td>23</td><td>1</td></tr><tr><td>0</td><td>2131-01-20 04:06:00</td><td>0</td><td>0</td><td>0</td><td>0</td><td>1</td><td>1</td></tr><tr><td>0</td><td>2131-01-20 04:19:00</td><td>0</td><td>0</td><td>0</td><td>0</td><td>3</td><td>1</td></tr><tr><td>0</td><td>2131-01-20 04:30:00</td><td>0</td><td>0</td><td>0</td><td>0</td><td>0</td><td>1</td></tr><tr><td>0</td><td>2131-01-20 04:31:00</td><td>0</td><td>0</td><td>0</td><td>0</td><td>0</td><td>1</td></tr><tr><td>0</td><td>2131-01-20 05:00:00</td><td>0</td><td>0</td><td>0</td><td>0</td><td>0</td><td>1</td></tr><tr><td>0</td><td>2131-01-20 05:01:00</td><td>0</td><td>0</td><td>0</td><td>0</td><td>0</td><td>1</td></tr><tr><td>0</td><td>2131-01-20 05:15:00</td><td>0</td><td>1</td><td>1</td><td>1</td><td>0</td><td>1</td></tr><tr><td>0</td><td>2131-01-20 06:00:00</td><td>0</td><td>0</td><td>0</td><td>0</td><td>0</td><td>1</td></tr><tr><td>0</td><td>2131-01-20 06:01:00</td><td>0</td><td>0</td><td>0</td><td>0</td><td>0</td><td>1</td></tr><tr><td>0</td><td>2131-01-20 06:18:00</td><td>0</td><td>0</td><td>0</td><td>0</td><td>0</td><td>1</td></tr><tr><td>0</td><td>2131-01-20 08:26:00</td><td>0</td><td>0</td><td>0</td><td>0</td><td>0</td><td>1</td></tr><tr><td>0</td><td>2131-01-20 08:27:00</td><td>0</td><td>0</td><td>0</td><td>0</td><td>0</td><td>1</td></tr></tbody></table></div>"
      ],
      "text/plain": [
       "shape: (1_056, 8)\n",
       "┌────────────┬──────────────┬─────────────┬─────────────┬──────────┬─────────────┬────────┬────────┐\n",
       "│ subject_id ┆ timestamp    ┆ is_admissio ┆ is_discharg ┆ is_death ┆ is_discharg ┆ is_lab ┆ is_any │\n",
       "│ ---        ┆ ---          ┆ n           ┆ e           ┆ ---      ┆ e_or_death  ┆ ---    ┆ ---    │\n",
       "│ i64        ┆ datetime[μs] ┆ ---         ┆ ---         ┆ i32      ┆ ---         ┆ i32    ┆ i32    │\n",
       "│            ┆              ┆ i32         ┆ i32         ┆          ┆ i32         ┆        ┆        │\n",
       "╞════════════╪══════════════╪═════════════╪═════════════╪══════════╪═════════════╪════════╪════════╡\n",
       "│ 0          ┆ 2125-10-18   ┆ 1           ┆ 0           ┆ 0        ┆ 0           ┆ 0      ┆ 1      │\n",
       "│            ┆ 16:50:00     ┆             ┆             ┆          ┆             ┆        ┆        │\n",
       "│ 0          ┆ 2125-10-20   ┆ 0           ┆ 1           ┆ 0        ┆ 1           ┆ 0      ┆ 1      │\n",
       "│            ┆ 15:15:00     ┆             ┆             ┆          ┆             ┆        ┆        │\n",
       "│ 0          ┆ 2125-10-26   ┆ 1           ┆ 0           ┆ 0        ┆ 0           ┆ 0      ┆ 1      │\n",
       "│            ┆ 20:32:00     ┆             ┆             ┆          ┆             ┆        ┆        │\n",
       "│ 0          ┆ 2125-10-27   ┆ 0           ┆ 1           ┆ 0        ┆ 1           ┆ 0      ┆ 1      │\n",
       "│            ┆ 16:28:00     ┆             ┆             ┆          ┆             ┆        ┆        │\n",
       "│ 0          ┆ 2125-11-30   ┆ 1           ┆ 0           ┆ 0        ┆ 0           ┆ 0      ┆ 1      │\n",
       "│            ┆ 16:02:00     ┆             ┆             ┆          ┆             ┆        ┆        │\n",
       "│ 0          ┆ 2125-12-02   ┆ 0           ┆ 0           ┆ 0        ┆ 0           ┆ 1      ┆ 1      │\n",
       "│            ┆ 16:02:00     ┆             ┆             ┆          ┆             ┆        ┆        │\n",
       "│ 0          ┆ 2125-12-03   ┆ 0           ┆ 0           ┆ 0        ┆ 0           ┆ 1      ┆ 1      │\n",
       "│            ┆ 14:43:00     ┆             ┆             ┆          ┆             ┆        ┆        │\n",
       "│ 0          ┆ 2125-12-03   ┆ 0           ┆ 1           ┆ 0        ┆ 1           ┆ 0      ┆ 1      │\n",
       "│            ┆ 14:44:00     ┆             ┆             ┆          ┆             ┆        ┆        │\n",
       "│ 0          ┆ 2125-12-26   ┆ 1           ┆ 0           ┆ 0        ┆ 0           ┆ 0      ┆ 1      │\n",
       "│            ┆ 17:06:00     ┆             ┆             ┆          ┆             ┆        ┆        │\n",
       "│ 0          ┆ 2125-12-27   ┆ 0           ┆ 1           ┆ 0        ┆ 1           ┆ 0      ┆ 1      │\n",
       "│            ┆ 16:52:00     ┆             ┆             ┆          ┆             ┆        ┆        │\n",
       "│ 0          ┆ 2126-11-04   ┆ 1           ┆ 0           ┆ 0        ┆ 0           ┆ 0      ┆ 1      │\n",
       "│            ┆ 00:50:00     ┆             ┆             ┆          ┆             ┆        ┆        │\n",
       "│ 0          ┆ 2126-11-04   ┆ 0           ┆ 1           ┆ 0        ┆ 1           ┆ 0      ┆ 1      │\n",
       "│            ┆ 12:49:00     ┆             ┆             ┆          ┆             ┆        ┆        │\n",
       "│ 0          ┆ 2127-07-24   ┆ 1           ┆ 0           ┆ 0        ┆ 0           ┆ 0      ┆ 1      │\n",
       "│            ┆ 18:06:00     ┆             ┆             ┆          ┆             ┆        ┆        │\n",
       "│ 0          ┆ 2127-07-25   ┆ 0           ┆ 1           ┆ 0        ┆ 1           ┆ 0      ┆ 1      │\n",
       "│            ┆ 17:41:00     ┆             ┆             ┆          ┆             ┆        ┆        │\n",
       "│ 0          ┆ 2127-12-11   ┆ 1           ┆ 0           ┆ 0        ┆ 0           ┆ 0      ┆ 1      │\n",
       "│            ┆ 18:06:00     ┆             ┆             ┆          ┆             ┆        ┆        │\n",
       "│ 0          ┆ 2127-12-12   ┆ 0           ┆ 1           ┆ 0        ┆ 1           ┆ 0      ┆ 1      │\n",
       "│            ┆ 13:46:00     ┆             ┆             ┆          ┆             ┆        ┆        │\n",
       "│ 0          ┆ 2128-07-15   ┆ 1           ┆ 0           ┆ 0        ┆ 0           ┆ 0      ┆ 1      │\n",
       "│            ┆ 18:44:00     ┆             ┆             ┆          ┆             ┆        ┆        │\n",
       "│ 0          ┆ 2128-07-17   ┆ 0           ┆ 1           ┆ 0        ┆ 1           ┆ 0      ┆ 1      │\n",
       "│            ┆ 13:31:00     ┆             ┆             ┆          ┆             ┆        ┆        │\n",
       "│ 0          ┆ 2130-04-08   ┆ 1           ┆ 0           ┆ 0        ┆ 0           ┆ 0      ┆ 1      │\n",
       "│            ┆ 22:06:00     ┆             ┆             ┆          ┆             ┆        ┆        │\n",
       "│ 0          ┆ 2130-04-09   ┆ 0           ┆ 1           ┆ 0        ┆ 1           ┆ 0      ┆ 1      │\n",
       "│            ┆ 14:30:00     ┆             ┆             ┆          ┆             ┆        ┆        │\n",
       "│ 0          ┆ 2130-04-15   ┆ 1           ┆ 0           ┆ 0        ┆ 0           ┆ 0      ┆ 1      │\n",
       "│            ┆ 21:10:00     ┆             ┆             ┆          ┆             ┆        ┆        │\n",
       "│ 0          ┆ 2130-04-19   ┆ 0           ┆ 1           ┆ 0        ┆ 1           ┆ 0      ┆ 1      │\n",
       "│            ┆ 16:00:00     ┆             ┆             ┆          ┆             ┆        ┆        │\n",
       "│ 0          ┆ 2130-06-23   ┆ 1           ┆ 0           ┆ 0        ┆ 0           ┆ 0      ┆ 1      │\n",
       "│            ┆ 22:14:00     ┆             ┆             ┆          ┆             ┆        ┆        │\n",
       "│ 0          ┆ 2130-06-24   ┆ 0           ┆ 1           ┆ 0        ┆ 1           ┆ 0      ┆ 1      │\n",
       "│            ┆ 11:07:00     ┆             ┆             ┆          ┆             ┆        ┆        │\n",
       "│ 0          ┆ 2130-08-21   ┆ 1           ┆ 0           ┆ 0        ┆ 0           ┆ 0      ┆ 1      │\n",
       "│            ┆ 15:26:00     ┆             ┆             ┆          ┆             ┆        ┆        │\n",
       "│ 0          ┆ 2130-08-23   ┆ 0           ┆ 1           ┆ 0        ┆ 1           ┆ 0      ┆ 1      │\n",
       "│            ┆ 16:40:00     ┆             ┆             ┆          ┆             ┆        ┆        │\n",
       "│ 0          ┆ 2130-10-05   ┆ 1           ┆ 0           ┆ 0        ┆ 0           ┆ 0      ┆ 1      │\n",
       "│            ┆ 20:04:00     ┆             ┆             ┆          ┆             ┆        ┆        │\n",
       "│ 0          ┆ 2130-10-06   ┆ 0           ┆ 1           ┆ 0        ┆ 1           ┆ 0      ┆ 1      │\n",
       "│            ┆ 15:05:00     ┆             ┆             ┆          ┆             ┆        ┆        │\n",
       "│ 0          ┆ 2130-10-08   ┆ 1           ┆ 0           ┆ 0        ┆ 0           ┆ 0      ┆ 1      │\n",
       "│            ┆ 19:03:00     ┆             ┆             ┆          ┆             ┆        ┆        │\n",
       "│ 0          ┆ 2130-10-12   ┆ 0           ┆ 1           ┆ 0        ┆ 1           ┆ 0      ┆ 1      │\n",
       "│            ┆ 19:05:00     ┆             ┆             ┆          ┆             ┆        ┆        │\n",
       "│ 0          ┆ 2130-10-14   ┆ 1           ┆ 0           ┆ 0        ┆ 0           ┆ 0      ┆ 1      │\n",
       "│            ┆ 00:58:00     ┆             ┆             ┆          ┆             ┆        ┆        │\n",
       "│ 0          ┆ 2130-10-14   ┆ 0           ┆ 1           ┆ 0        ┆ 1           ┆ 0      ┆ 1      │\n",
       "│            ┆ 13:57:00     ┆             ┆             ┆          ┆             ┆        ┆        │\n",
       "│ 0          ┆ 2130-10-19   ┆ 1           ┆ 0           ┆ 0        ┆ 0           ┆ 0      ┆ 1      │\n",
       "│            ┆ 16:20:00     ┆             ┆             ┆          ┆             ┆        ┆        │\n",
       "│ 0          ┆ 2130-10-21   ┆ 0           ┆ 0           ┆ 0        ┆ 0           ┆ 1      ┆ 1      │\n",
       "│            ┆ 21:20:00     ┆             ┆             ┆          ┆             ┆        ┆        │\n",
       "│ 0          ┆ 2130-10-22   ┆ 0           ┆ 1           ┆ 0        ┆ 1           ┆ 0      ┆ 1      │\n",
       "│            ┆ 15:13:00     ┆             ┆             ┆          ┆             ┆        ┆        │\n",
       "│ 0          ┆ 2130-11-19   ┆ 1           ┆ 0           ┆ 0        ┆ 0           ┆ 0      ┆ 1      │\n",
       "│            ┆ 18:35:00     ┆             ┆             ┆          ┆             ┆        ┆        │\n",
       "│ 0          ┆ 2130-11-20   ┆ 0           ┆ 1           ┆ 0        ┆ 1           ┆ 0      ┆ 1      │\n",
       "│            ┆ 10:46:00     ┆             ┆             ┆          ┆             ┆        ┆        │\n",
       "│ 0          ┆ 2130-11-28   ┆ 1           ┆ 0           ┆ 0        ┆ 0           ┆ 0      ┆ 1      │\n",
       "│            ┆ 16:47:00     ┆             ┆             ┆          ┆             ┆        ┆        │\n",
       "│ 0          ┆ 2130-11-30   ┆ 0           ┆ 1           ┆ 0        ┆ 1           ┆ 0      ┆ 1      │\n",
       "│            ┆ 15:34:00     ┆             ┆             ┆          ┆             ┆        ┆        │\n",
       "│ 0          ┆ 2130-12-06   ┆ 1           ┆ 0           ┆ 0        ┆ 0           ┆ 0      ┆ 1      │\n",
       "│            ┆ 20:14:00     ┆             ┆             ┆          ┆             ┆        ┆        │\n",
       "│ 0          ┆ 2130-12-08   ┆ 0           ┆ 1           ┆ 0        ┆ 1           ┆ 0      ┆ 1      │\n",
       "│            ┆ 18:00:00     ┆             ┆             ┆          ┆             ┆        ┆        │\n",
       "│ 0          ┆ 2130-12-23   ┆ 1           ┆ 0           ┆ 0        ┆ 0           ┆ 0      ┆ 1      │\n",
       "│            ┆ 19:32:00     ┆             ┆             ┆          ┆             ┆        ┆        │\n",
       "│ 0          ┆ 2130-12-24   ┆ 0           ┆ 1           ┆ 0        ┆ 1           ┆ 0      ┆ 1      │\n",
       "│            ┆ 16:42:00     ┆             ┆             ┆          ┆             ┆        ┆        │\n",
       "│ 0          ┆ 2130-12-27   ┆ 1           ┆ 0           ┆ 0        ┆ 0           ┆ 0      ┆ 1      │\n",
       "│            ┆ 21:23:00     ┆             ┆             ┆          ┆             ┆        ┆        │\n",
       "│ 0          ┆ 2130-12-30   ┆ 0           ┆ 1           ┆ 0        ┆ 1           ┆ 0      ┆ 1      │\n",
       "│            ┆ 15:33:00     ┆             ┆             ┆          ┆             ┆        ┆        │\n",
       "│ 0          ┆ 2131-01-07   ┆ 1           ┆ 0           ┆ 0        ┆ 0           ┆ 0      ┆ 1      │\n",
       "│            ┆ 20:39:00     ┆             ┆             ┆          ┆             ┆        ┆        │\n",
       "│ 0          ┆ 2131-01-11   ┆ 0           ┆ 0           ┆ 0        ┆ 0           ┆ 32     ┆ 1      │\n",
       "│            ┆ 04:00:00     ┆             ┆             ┆          ┆             ┆        ┆        │\n",
       "│ 0          ┆ 2131-01-11   ┆ 0           ┆ 0           ┆ 0        ┆ 0           ┆ 6      ┆ 1      │\n",
       "│            ┆ 04:20:00     ┆             ┆             ┆          ┆             ┆        ┆        │\n",
       "│ 0          ┆ 2131-01-11   ┆ 0           ┆ 0           ┆ 0        ┆ 0           ┆ 0      ┆ 1      │\n",
       "│            ┆ 04:21:00     ┆             ┆             ┆          ┆             ┆        ┆        │\n",
       "│ 0          ┆ 2131-01-11   ┆ 0           ┆ 0           ┆ 0        ┆ 0           ┆ 1      ┆ 1      │\n",
       "│            ┆ 04:22:00     ┆             ┆             ┆          ┆             ┆        ┆        │\n",
       "│ …          ┆ …            ┆ …           ┆ …           ┆ …        ┆ …           ┆ …      ┆ …      │\n",
       "│ 0          ┆ 2131-01-19   ┆ 0           ┆ 0           ┆ 0        ┆ 0           ┆ 8      ┆ 1      │\n",
       "│            ┆ 17:00:00     ┆             ┆             ┆          ┆             ┆        ┆        │\n",
       "│ 0          ┆ 2131-01-19   ┆ 0           ┆ 0           ┆ 0        ┆ 0           ┆ 3      ┆ 1      │\n",
       "│            ┆ 17:01:00     ┆             ┆             ┆          ┆             ┆        ┆        │\n",
       "│ 0          ┆ 2131-01-19   ┆ 0           ┆ 0           ┆ 0        ┆ 0           ┆ 0      ┆ 1      │\n",
       "│            ┆ 17:43:00     ┆             ┆             ┆          ┆             ┆        ┆        │\n",
       "│ 0          ┆ 2131-01-19   ┆ 0           ┆ 0           ┆ 0        ┆ 0           ┆ 0      ┆ 1      │\n",
       "│            ┆ 17:45:00     ┆             ┆             ┆          ┆             ┆        ┆        │\n",
       "│ 0          ┆ 2131-01-19   ┆ 0           ┆ 0           ┆ 0        ┆ 0           ┆ 14     ┆ 1      │\n",
       "│            ┆ 18:00:00     ┆             ┆             ┆          ┆             ┆        ┆        │\n",
       "│ 0          ┆ 2131-01-19   ┆ 0           ┆ 0           ┆ 0        ┆ 0           ┆ 3      ┆ 1      │\n",
       "│            ┆ 18:01:00     ┆             ┆             ┆          ┆             ┆        ┆        │\n",
       "│ 0          ┆ 2131-01-19   ┆ 0           ┆ 0           ┆ 0        ┆ 0           ┆ 6      ┆ 1      │\n",
       "│            ┆ 18:40:00     ┆             ┆             ┆          ┆             ┆        ┆        │\n",
       "│ 0          ┆ 2131-01-19   ┆ 0           ┆ 0           ┆ 0        ┆ 0           ┆ 0      ┆ 1      │\n",
       "│            ┆ 18:41:00     ┆             ┆             ┆          ┆             ┆        ┆        │\n",
       "│ 0          ┆ 2131-01-19   ┆ 0           ┆ 0           ┆ 0        ┆ 0           ┆ 0      ┆ 1      │\n",
       "│            ┆ 18:43:00     ┆             ┆             ┆          ┆             ┆        ┆        │\n",
       "│ 0          ┆ 2131-01-19   ┆ 0           ┆ 0           ┆ 0        ┆ 0           ┆ 7      ┆ 1      │\n",
       "│            ┆ 18:44:00     ┆             ┆             ┆          ┆             ┆        ┆        │\n",
       "│ 0          ┆ 2131-01-19   ┆ 0           ┆ 0           ┆ 0        ┆ 0           ┆ 6      ┆ 1      │\n",
       "│            ┆ 18:45:00     ┆             ┆             ┆          ┆             ┆        ┆        │\n",
       "│ 0          ┆ 2131-01-19   ┆ 0           ┆ 0           ┆ 0        ┆ 0           ┆ 10     ┆ 1      │\n",
       "│            ┆ 19:00:00     ┆             ┆             ┆          ┆             ┆        ┆        │\n",
       "│ 0          ┆ 2131-01-19   ┆ 0           ┆ 0           ┆ 0        ┆ 0           ┆ 3      ┆ 1      │\n",
       "│            ┆ 19:01:00     ┆             ┆             ┆          ┆             ┆        ┆        │\n",
       "│ 0          ┆ 2131-01-19   ┆ 0           ┆ 0           ┆ 0        ┆ 0           ┆ 0      ┆ 1      │\n",
       "│            ┆ 19:48:00     ┆             ┆             ┆          ┆             ┆        ┆        │\n",
       "│ 0          ┆ 2131-01-19   ┆ 0           ┆ 0           ┆ 0        ┆ 0           ┆ 0      ┆ 1      │\n",
       "│            ┆ 19:49:00     ┆             ┆             ┆          ┆             ┆        ┆        │\n",
       "│ 0          ┆ 2131-01-19   ┆ 0           ┆ 0           ┆ 0        ┆ 0           ┆ 110    ┆ 1      │\n",
       "│            ┆ 20:00:00     ┆             ┆             ┆          ┆             ┆        ┆        │\n",
       "│ 0          ┆ 2131-01-19   ┆ 0           ┆ 0           ┆ 0        ┆ 0           ┆ 3      ┆ 1      │\n",
       "│            ┆ 20:01:00     ┆             ┆             ┆          ┆             ┆        ┆        │\n",
       "│ 0          ┆ 2131-01-19   ┆ 0           ┆ 0           ┆ 0        ┆ 0           ┆ 11     ┆ 1      │\n",
       "│            ┆ 20:03:00     ┆             ┆             ┆          ┆             ┆        ┆        │\n",
       "│ 0          ┆ 2131-01-19   ┆ 0           ┆ 0           ┆ 0        ┆ 0           ┆ 7      ┆ 1      │\n",
       "│            ┆ 21:00:00     ┆             ┆             ┆          ┆             ┆        ┆        │\n",
       "│ 0          ┆ 2131-01-19   ┆ 0           ┆ 0           ┆ 0        ┆ 0           ┆ 3      ┆ 1      │\n",
       "│            ┆ 21:01:00     ┆             ┆             ┆          ┆             ┆        ┆        │\n",
       "│ 0          ┆ 2131-01-19   ┆ 0           ┆ 0           ┆ 0        ┆ 0           ┆ 0      ┆ 1      │\n",
       "│            ┆ 21:06:00     ┆             ┆             ┆          ┆             ┆        ┆        │\n",
       "│ 0          ┆ 2131-01-19   ┆ 0           ┆ 0           ┆ 0        ┆ 0           ┆ 0      ┆ 1      │\n",
       "│            ┆ 21:07:00     ┆             ┆             ┆          ┆             ┆        ┆        │\n",
       "│ 0          ┆ 2131-01-19   ┆ 0           ┆ 0           ┆ 0        ┆ 0           ┆ 12     ┆ 1      │\n",
       "│            ┆ 22:00:00     ┆             ┆             ┆          ┆             ┆        ┆        │\n",
       "│ 0          ┆ 2131-01-19   ┆ 0           ┆ 0           ┆ 0        ┆ 0           ┆ 3      ┆ 1      │\n",
       "│            ┆ 22:01:00     ┆             ┆             ┆          ┆             ┆        ┆        │\n",
       "│ 0          ┆ 2131-01-19   ┆ 0           ┆ 0           ┆ 0        ┆ 0           ┆ 0      ┆ 1      │\n",
       "│            ┆ 22:28:00     ┆             ┆             ┆          ┆             ┆        ┆        │\n",
       "│ 0          ┆ 2131-01-19   ┆ 0           ┆ 0           ┆ 0        ┆ 0           ┆ 0      ┆ 1      │\n",
       "│            ┆ 22:30:00     ┆             ┆             ┆          ┆             ┆        ┆        │\n",
       "│ 0          ┆ 2131-01-19   ┆ 0           ┆ 0           ┆ 0        ┆ 0           ┆ 0      ┆ 1      │\n",
       "│            ┆ 22:31:00     ┆             ┆             ┆          ┆             ┆        ┆        │\n",
       "│ 0          ┆ 2131-01-19   ┆ 0           ┆ 0           ┆ 0        ┆ 0           ┆ 3      ┆ 1      │\n",
       "│            ┆ 23:00:00     ┆             ┆             ┆          ┆             ┆        ┆        │\n",
       "│ 0          ┆ 2131-01-19   ┆ 0           ┆ 0           ┆ 0        ┆ 0           ┆ 3      ┆ 1      │\n",
       "│            ┆ 23:01:00     ┆             ┆             ┆          ┆             ┆        ┆        │\n",
       "│ 0          ┆ 2131-01-19   ┆ 0           ┆ 0           ┆ 0        ┆ 0           ┆ 0      ┆ 1      │\n",
       "│            ┆ 23:04:00     ┆             ┆             ┆          ┆             ┆        ┆        │\n",
       "│ 0          ┆ 2131-01-20   ┆ 0           ┆ 0           ┆ 0        ┆ 0           ┆ 33     ┆ 1      │\n",
       "│            ┆ 00:00:00     ┆             ┆             ┆          ┆             ┆        ┆        │\n",
       "│ 0          ┆ 2131-01-20   ┆ 0           ┆ 0           ┆ 0        ┆ 0           ┆ 3      ┆ 1      │\n",
       "│            ┆ 00:01:00     ┆             ┆             ┆          ┆             ┆        ┆        │\n",
       "│ 0          ┆ 2131-01-20   ┆ 0           ┆ 0           ┆ 0        ┆ 0           ┆ 0      ┆ 1      │\n",
       "│            ┆ 00:40:00     ┆             ┆             ┆          ┆             ┆        ┆        │\n",
       "│ 0          ┆ 2131-01-20   ┆ 0           ┆ 0           ┆ 0        ┆ 0           ┆ 9      ┆ 1      │\n",
       "│            ┆ 01:00:00     ┆             ┆             ┆          ┆             ┆        ┆        │\n",
       "│ 0          ┆ 2131-01-20   ┆ 0           ┆ 0           ┆ 0        ┆ 0           ┆ 0      ┆ 1      │\n",
       "│            ┆ 01:01:00     ┆             ┆             ┆          ┆             ┆        ┆        │\n",
       "│ 0          ┆ 2131-01-20   ┆ 0           ┆ 0           ┆ 0        ┆ 0           ┆ 90     ┆ 1      │\n",
       "│            ┆ 01:13:00     ┆             ┆             ┆          ┆             ┆        ┆        │\n",
       "│ 0          ┆ 2131-01-20   ┆ 0           ┆ 0           ┆ 0        ┆ 0           ┆ 15     ┆ 1      │\n",
       "│            ┆ 02:00:00     ┆             ┆             ┆          ┆             ┆        ┆        │\n",
       "│ 0          ┆ 2131-01-20   ┆ 0           ┆ 0           ┆ 0        ┆ 0           ┆ 23     ┆ 1      │\n",
       "│            ┆ 04:00:00     ┆             ┆             ┆          ┆             ┆        ┆        │\n",
       "│ 0          ┆ 2131-01-20   ┆ 0           ┆ 0           ┆ 0        ┆ 0           ┆ 1      ┆ 1      │\n",
       "│            ┆ 04:06:00     ┆             ┆             ┆          ┆             ┆        ┆        │\n",
       "│ 0          ┆ 2131-01-20   ┆ 0           ┆ 0           ┆ 0        ┆ 0           ┆ 3      ┆ 1      │\n",
       "│            ┆ 04:19:00     ┆             ┆             ┆          ┆             ┆        ┆        │\n",
       "│ 0          ┆ 2131-01-20   ┆ 0           ┆ 0           ┆ 0        ┆ 0           ┆ 0      ┆ 1      │\n",
       "│            ┆ 04:30:00     ┆             ┆             ┆          ┆             ┆        ┆        │\n",
       "│ 0          ┆ 2131-01-20   ┆ 0           ┆ 0           ┆ 0        ┆ 0           ┆ 0      ┆ 1      │\n",
       "│            ┆ 04:31:00     ┆             ┆             ┆          ┆             ┆        ┆        │\n",
       "│ 0          ┆ 2131-01-20   ┆ 0           ┆ 0           ┆ 0        ┆ 0           ┆ 0      ┆ 1      │\n",
       "│            ┆ 05:00:00     ┆             ┆             ┆          ┆             ┆        ┆        │\n",
       "│ 0          ┆ 2131-01-20   ┆ 0           ┆ 0           ┆ 0        ┆ 0           ┆ 0      ┆ 1      │\n",
       "│            ┆ 05:01:00     ┆             ┆             ┆          ┆             ┆        ┆        │\n",
       "│ 0          ┆ 2131-01-20   ┆ 0           ┆ 1           ┆ 1        ┆ 1           ┆ 0      ┆ 1      │\n",
       "│            ┆ 05:15:00     ┆             ┆             ┆          ┆             ┆        ┆        │\n",
       "│ 0          ┆ 2131-01-20   ┆ 0           ┆ 0           ┆ 0        ┆ 0           ┆ 0      ┆ 1      │\n",
       "│            ┆ 06:00:00     ┆             ┆             ┆          ┆             ┆        ┆        │\n",
       "│ 0          ┆ 2131-01-20   ┆ 0           ┆ 0           ┆ 0        ┆ 0           ┆ 0      ┆ 1      │\n",
       "│            ┆ 06:01:00     ┆             ┆             ┆          ┆             ┆        ┆        │\n",
       "│ 0          ┆ 2131-01-20   ┆ 0           ┆ 0           ┆ 0        ┆ 0           ┆ 0      ┆ 1      │\n",
       "│            ┆ 06:18:00     ┆             ┆             ┆          ┆             ┆        ┆        │\n",
       "│ 0          ┆ 2131-01-20   ┆ 0           ┆ 0           ┆ 0        ┆ 0           ┆ 0      ┆ 1      │\n",
       "│            ┆ 08:26:00     ┆             ┆             ┆          ┆             ┆        ┆        │\n",
       "│ 0          ┆ 2131-01-20   ┆ 0           ┆ 0           ┆ 0        ┆ 0           ┆ 0      ┆ 1      │\n",
       "│            ┆ 08:27:00     ┆             ┆             ┆          ┆             ┆        ┆        │\n",
       "└────────────┴──────────────┴─────────────┴─────────────┴──────────┴─────────────┴────────┴────────┘"
      ]
     },
     "metadata": {},
     "output_type": "display_data"
    },
    {
     "name": "stderr",
     "output_type": "stream",
     "text": [
      "\u001b[32m2024-04-14 01:14:43.693\u001b[0m | \u001b[34m\u001b[1mDEBUG   \u001b[0m | \u001b[36mesgpt_task_querying.main\u001b[0m:\u001b[36mquery_task\u001b[0m:\u001b[36m63\u001b[0m - \u001b[34m\u001b[1mLoading config...\u001b[0m\n",
      "\u001b[32m2024-04-14 01:14:43.708\u001b[0m | \u001b[34m\u001b[1mDEBUG   \u001b[0m | \u001b[36mesgpt_task_querying.main\u001b[0m:\u001b[36mquery_task\u001b[0m:\u001b[36m66\u001b[0m - \u001b[34m\u001b[1mGenerating predicate columns...\u001b[0m\n",
      "\u001b[32m2024-04-14 01:14:43.709\u001b[0m | \u001b[34m\u001b[1mDEBUG   \u001b[0m | \u001b[36mesgpt_task_querying.event_predicates\u001b[0m:\u001b[36mgenerate_predicate_columns\u001b[0m:\u001b[36m118\u001b[0m - \u001b[34m\u001b[1mAdded predicate column is_admission.\u001b[0m\n",
      "\u001b[32m2024-04-14 01:14:43.711\u001b[0m | \u001b[34m\u001b[1mDEBUG   \u001b[0m | \u001b[36mesgpt_task_querying.event_predicates\u001b[0m:\u001b[36mgenerate_predicate_columns\u001b[0m:\u001b[36m118\u001b[0m - \u001b[34m\u001b[1mAdded predicate column is_discharge.\u001b[0m\n",
      "\u001b[32m2024-04-14 01:14:43.711\u001b[0m | \u001b[34m\u001b[1mDEBUG   \u001b[0m | \u001b[36mesgpt_task_querying.event_predicates\u001b[0m:\u001b[36mgenerate_predicate_columns\u001b[0m:\u001b[36m118\u001b[0m - \u001b[34m\u001b[1mAdded predicate column is_death.\u001b[0m\n",
      "\u001b[32m2024-04-14 01:14:43.713\u001b[0m | \u001b[34m\u001b[1mDEBUG   \u001b[0m | \u001b[36mesgpt_task_querying.event_predicates\u001b[0m:\u001b[36mgenerate_predicate_columns\u001b[0m:\u001b[36m118\u001b[0m - \u001b[34m\u001b[1mAdded predicate column is_lab.\u001b[0m\n",
      "\u001b[32m2024-04-14 01:14:43.714\u001b[0m | \u001b[34m\u001b[1mDEBUG   \u001b[0m | \u001b[36mesgpt_task_querying.event_predicates\u001b[0m:\u001b[36mgenerate_predicate_columns\u001b[0m:\u001b[36m125\u001b[0m - \u001b[34m\u001b[1mAdded predicate column is_discharge_or_death.\u001b[0m\n",
      "\u001b[32m2024-04-14 01:14:43.717\u001b[0m | \u001b[34m\u001b[1mDEBUG   \u001b[0m | \u001b[36mesgpt_task_querying.main\u001b[0m:\u001b[36mquery_task\u001b[0m:\u001b[36m75\u001b[0m - \u001b[34m\u001b[1mBuilding tree...\u001b[0m\n",
      "\u001b[32m2024-04-14 01:14:43.721\u001b[0m | \u001b[34m\u001b[1mDEBUG   \u001b[0m | \u001b[36mesgpt_task_querying.main\u001b[0m:\u001b[36mquery_task\u001b[0m:\u001b[36m106\u001b[0m - \u001b[34m\u001b[1m1 subjects (1034 rows) were excluded due to trigger event: admission.\u001b[0m\n",
      "\u001b[32m2024-04-14 01:14:43.722\u001b[0m | \u001b[34m\u001b[1mDEBUG   \u001b[0m | \u001b[36mesgpt_task_querying.main\u001b[0m:\u001b[36mquery_task\u001b[0m:\u001b[36m121\u001b[0m - \u001b[34m\u001b[1mQuerying...\u001b[0m\n",
      "\u001b[32m2024-04-14 01:14:43.723\u001b[0m | \u001b[34m\u001b[1mDEBUG   \u001b[0m | \u001b[36mesgpt_task_querying.query\u001b[0m:\u001b[36mquery_subtree\u001b[0m:\u001b[36m506\u001b[0m - \u001b[34m\u001b[1mQuerying subtree rooted at gap...\u001b[0m\n",
      "\u001b[32m2024-04-14 01:14:43.726\u001b[0m | \u001b[34m\u001b[1mDEBUG   \u001b[0m | \u001b[36mesgpt_task_querying.query\u001b[0m:\u001b[36mcheck_constraints\u001b[0m:\u001b[36m417\u001b[0m - \u001b[34m\u001b[1m1 subjects (15 rows) were excluded due to constraint: [(col(\"is_discharge\")) <= (0)].\u001b[0m\n",
      "\u001b[32m2024-04-14 01:14:43.728\u001b[0m | \u001b[34m\u001b[1mDEBUG   \u001b[0m | \u001b[36mesgpt_task_querying.query\u001b[0m:\u001b[36mquery_subtree\u001b[0m:\u001b[36m506\u001b[0m - \u001b[34m\u001b[1mQuerying subtree rooted at target...\u001b[0m\n",
      "\u001b[32m2024-04-14 01:14:43.734\u001b[0m | \u001b[34m\u001b[1mDEBUG   \u001b[0m | \u001b[36mesgpt_task_querying.query\u001b[0m:\u001b[36mcheck_constraints\u001b[0m:\u001b[36m417\u001b[0m - \u001b[34m\u001b[1m1 subjects (13 rows) were excluded due to constraint: [(col(\"is_discharge_or_death\")) <= (1)].\u001b[0m\n",
      "\u001b[32m2024-04-14 01:14:43.735\u001b[0m | \u001b[34m\u001b[1mDEBUG   \u001b[0m | \u001b[36mesgpt_task_querying.query\u001b[0m:\u001b[36mcheck_constraints\u001b[0m:\u001b[36m417\u001b[0m - \u001b[34m\u001b[1m1 subjects (1 rows) were excluded due to constraint: [(col(\"is_lab\")) <= (1)].\u001b[0m\n",
      "\u001b[32m2024-04-14 01:14:43.738\u001b[0m | \u001b[34m\u001b[1mDEBUG   \u001b[0m | \u001b[36mesgpt_task_querying.query\u001b[0m:\u001b[36mquery_subtree\u001b[0m:\u001b[36m506\u001b[0m - \u001b[34m\u001b[1mQuerying subtree rooted at input...\u001b[0m\n",
      "\u001b[32m2024-04-14 01:14:43.742\u001b[0m | \u001b[34m\u001b[1mDEBUG   \u001b[0m | \u001b[36mesgpt_task_querying.main\u001b[0m:\u001b[36mquery_task\u001b[0m:\u001b[36m128\u001b[0m - \u001b[34m\u001b[1mDone.\u001b[0m\n"
     ]
    },
    {
     "name": "stdout",
     "output_type": "stream",
     "text": [
      "trigger\n",
      "┣━━ gap\n",
      "┃   ┗━━ target\n",
      "┗━━ input\n",
      "False True\n"
     ]
    },
    {
     "data": {
      "text/html": [
       "<div><style>\n",
       ".dataframe > thead > tr,\n",
       ".dataframe > tbody > tr {\n",
       "  text-align: right;\n",
       "  white-space: pre-wrap;\n",
       "}\n",
       "</style>\n",
       "<small>shape: (6, 9)</small><table border=\"1\" class=\"dataframe\"><thead><tr><th>subject_id</th><th>trigger/timestamp</th><th>gap/timestamp</th><th>target/timestamp</th><th>input/timestamp</th><th>gap/window_summary</th><th>target/window_summary</th><th>input/window_summary</th><th>label</th></tr><tr><td>i64</td><td>datetime[μs]</td><td>datetime[μs]</td><td>datetime[μs]</td><td>datetime[μs]</td><td>struct[6]</td><td>struct[6]</td><td>struct[6]</td><td>i32</td></tr></thead><tbody><tr><td>0</td><td>2125-11-30 16:02:00</td><td>2125-12-02 16:02:00</td><td>2125-12-03 14:44:00</td><td>2125-10-31 16:02:00</td><td>{0,0,0,0,1,1}</td><td>{0,1,0,1,1,2}</td><td>{1,0,0,0,0,1}</td><td>0</td></tr><tr><td>0</td><td>2130-04-15 21:10:00</td><td>2130-04-17 21:10:00</td><td>2130-04-19 16:00:00</td><td>2130-03-16 21:10:00</td><td>{0,0,0,0,0,0}</td><td>{0,1,0,1,0,1}</td><td>{2,1,0,1,0,3}</td><td>0</td></tr><tr><td>0</td><td>2130-08-21 15:26:00</td><td>2130-08-23 15:26:00</td><td>2130-08-23 16:40:00</td><td>2130-07-22 15:26:00</td><td>{0,0,0,0,0,0}</td><td>{0,1,0,1,0,1}</td><td>{1,0,0,0,0,1}</td><td>0</td></tr><tr><td>0</td><td>2130-10-08 19:03:00</td><td>2130-10-10 19:03:00</td><td>2130-10-12 19:05:00</td><td>2130-09-08 19:03:00</td><td>{0,0,0,0,0,0}</td><td>{0,1,0,1,0,1}</td><td>{2,1,0,1,0,3}</td><td>0</td></tr><tr><td>0</td><td>2130-10-19 16:20:00</td><td>2130-10-21 16:20:00</td><td>2130-10-22 15:13:00</td><td>2130-09-19 16:20:00</td><td>{0,0,0,0,0,0}</td><td>{0,1,0,1,1,2}</td><td>{4,3,0,3,0,7}</td><td>0</td></tr><tr><td>0</td><td>2130-12-27 21:23:00</td><td>2130-12-29 21:23:00</td><td>2130-12-30 15:33:00</td><td>2130-11-27 21:23:00</td><td>{0,0,0,0,0,0}</td><td>{0,1,0,1,0,1}</td><td>{4,3,0,3,0,7}</td><td>0</td></tr></tbody></table></div>"
      ],
      "text/plain": [
       "shape: (6, 9)\n",
       "┌───────────┬───────────┬───────────┬──────────┬──────────┬──────────┬──────────┬──────────┬───────┐\n",
       "│ subject_i ┆ trigger/t ┆ gap/times ┆ target/t ┆ input/ti ┆ gap/wind ┆ target/w ┆ input/wi ┆ label │\n",
       "│ d         ┆ imestamp  ┆ tamp      ┆ imestamp ┆ mestamp  ┆ ow_summa ┆ indow_su ┆ ndow_sum ┆ ---   │\n",
       "│ ---       ┆ ---       ┆ ---       ┆ ---      ┆ ---      ┆ ry       ┆ mmary    ┆ mary     ┆ i32   │\n",
       "│ i64       ┆ datetime[ ┆ datetime[ ┆ datetime ┆ datetime ┆ ---      ┆ ---      ┆ ---      ┆       │\n",
       "│           ┆ μs]       ┆ μs]       ┆ [μs]     ┆ [μs]     ┆ struct[6 ┆ struct[6 ┆ struct[6 ┆       │\n",
       "│           ┆           ┆           ┆          ┆          ┆ ]        ┆ ]        ┆ ]        ┆       │\n",
       "╞═══════════╪═══════════╪═══════════╪══════════╪══════════╪══════════╪══════════╪══════════╪═══════╡\n",
       "│ 0         ┆ 2125-11-3 ┆ 2125-12-0 ┆ 2125-12- ┆ 2125-10- ┆ {0,0,0,0 ┆ {0,1,0,1 ┆ {1,0,0,0 ┆ 0     │\n",
       "│           ┆ 0         ┆ 2         ┆ 03       ┆ 31       ┆ ,1,1}    ┆ ,1,2}    ┆ ,0,1}    ┆       │\n",
       "│           ┆ 16:02:00  ┆ 16:02:00  ┆ 14:44:00 ┆ 16:02:00 ┆          ┆          ┆          ┆       │\n",
       "│ 0         ┆ 2130-04-1 ┆ 2130-04-1 ┆ 2130-04- ┆ 2130-03- ┆ {0,0,0,0 ┆ {0,1,0,1 ┆ {2,1,0,1 ┆ 0     │\n",
       "│           ┆ 5         ┆ 7         ┆ 19       ┆ 16       ┆ ,0,0}    ┆ ,0,1}    ┆ ,0,3}    ┆       │\n",
       "│           ┆ 21:10:00  ┆ 21:10:00  ┆ 16:00:00 ┆ 21:10:00 ┆          ┆          ┆          ┆       │\n",
       "│ 0         ┆ 2130-08-2 ┆ 2130-08-2 ┆ 2130-08- ┆ 2130-07- ┆ {0,0,0,0 ┆ {0,1,0,1 ┆ {1,0,0,0 ┆ 0     │\n",
       "│           ┆ 1         ┆ 3         ┆ 23       ┆ 22       ┆ ,0,0}    ┆ ,0,1}    ┆ ,0,1}    ┆       │\n",
       "│           ┆ 15:26:00  ┆ 15:26:00  ┆ 16:40:00 ┆ 15:26:00 ┆          ┆          ┆          ┆       │\n",
       "│ 0         ┆ 2130-10-0 ┆ 2130-10-1 ┆ 2130-10- ┆ 2130-09- ┆ {0,0,0,0 ┆ {0,1,0,1 ┆ {2,1,0,1 ┆ 0     │\n",
       "│           ┆ 8         ┆ 0         ┆ 12       ┆ 08       ┆ ,0,0}    ┆ ,0,1}    ┆ ,0,3}    ┆       │\n",
       "│           ┆ 19:03:00  ┆ 19:03:00  ┆ 19:05:00 ┆ 19:03:00 ┆          ┆          ┆          ┆       │\n",
       "│ 0         ┆ 2130-10-1 ┆ 2130-10-2 ┆ 2130-10- ┆ 2130-09- ┆ {0,0,0,0 ┆ {0,1,0,1 ┆ {4,3,0,3 ┆ 0     │\n",
       "│           ┆ 9         ┆ 1         ┆ 22       ┆ 19       ┆ ,0,0}    ┆ ,1,2}    ┆ ,0,7}    ┆       │\n",
       "│           ┆ 16:20:00  ┆ 16:20:00  ┆ 15:13:00 ┆ 16:20:00 ┆          ┆          ┆          ┆       │\n",
       "│ 0         ┆ 2130-12-2 ┆ 2130-12-2 ┆ 2130-12- ┆ 2130-11- ┆ {0,0,0,0 ┆ {0,1,0,1 ┆ {4,3,0,3 ┆ 0     │\n",
       "│           ┆ 7         ┆ 9         ┆ 30       ┆ 27       ┆ ,0,0}    ┆ ,0,1}    ┆ ,0,7}    ┆       │\n",
       "│           ┆ 21:23:00  ┆ 21:23:00  ┆ 15:33:00 ┆ 21:23:00 ┆          ┆          ┆          ┆       │\n",
       "└───────────┴───────────┴───────────┴──────────┴──────────┴──────────┴──────────┴──────────┴───────┘"
      ]
     },
     "metadata": {},
     "output_type": "display_data"
    },
    {
     "name": "stdout",
     "output_type": "stream",
     "text": [
      "6\n",
      "Validating row: 0/6...\n",
      "Checking subject_id: 0\n",
      "Checking window: input->trigger\n",
      "2125-10-31 16:02:00 2125-11-30 16:02:00\n",
      "{'is_admission': 1, 'is_discharge': 0, 'is_death': 0, 'is_discharge_or_death': 0, 'is_lab': 0, 'is_any': 1}\n"
     ]
    },
    {
     "data": {
      "text/html": [
       "<div><style>\n",
       ".dataframe > thead > tr,\n",
       ".dataframe > tbody > tr {\n",
       "  text-align: right;\n",
       "  white-space: pre-wrap;\n",
       "}\n",
       "</style>\n",
       "<small>shape: (1, 8)</small><table border=\"1\" class=\"dataframe\"><thead><tr><th>subject_id</th><th>timestamp</th><th>is_admission</th><th>is_discharge</th><th>is_death</th><th>is_discharge_or_death</th><th>is_lab</th><th>is_any</th></tr><tr><td>i64</td><td>datetime[μs]</td><td>i32</td><td>i32</td><td>i32</td><td>i32</td><td>i32</td><td>i32</td></tr></thead><tbody><tr><td>0</td><td>2125-11-30 16:02:00</td><td>1</td><td>0</td><td>0</td><td>0</td><td>0</td><td>1</td></tr></tbody></table></div>"
      ],
      "text/plain": [
       "shape: (1, 8)\n",
       "┌────────────┬──────────────┬─────────────┬─────────────┬──────────┬─────────────┬────────┬────────┐\n",
       "│ subject_id ┆ timestamp    ┆ is_admissio ┆ is_discharg ┆ is_death ┆ is_discharg ┆ is_lab ┆ is_any │\n",
       "│ ---        ┆ ---          ┆ n           ┆ e           ┆ ---      ┆ e_or_death  ┆ ---    ┆ ---    │\n",
       "│ i64        ┆ datetime[μs] ┆ ---         ┆ ---         ┆ i32      ┆ ---         ┆ i32    ┆ i32    │\n",
       "│            ┆              ┆ i32         ┆ i32         ┆          ┆ i32         ┆        ┆        │\n",
       "╞════════════╪══════════════╪═════════════╪═════════════╪══════════╪═════════════╪════════╪════════╡\n",
       "│ 0          ┆ 2125-11-30   ┆ 1           ┆ 0           ┆ 0        ┆ 0           ┆ 0      ┆ 1      │\n",
       "│            ┆ 16:02:00     ┆             ┆             ┆          ┆             ┆        ┆        │\n",
       "└────────────┴──────────────┴─────────────┴─────────────┴──────────┴─────────────┴────────┴────────┘"
      ]
     },
     "metadata": {},
     "output_type": "display_data"
    },
    {
     "data": {
      "text/html": [
       "<div><style>\n",
       ".dataframe > thead > tr,\n",
       ".dataframe > tbody > tr {\n",
       "  text-align: right;\n",
       "  white-space: pre-wrap;\n",
       "}\n",
       "</style>\n",
       "<small>shape: (1, 8)</small><table border=\"1\" class=\"dataframe\"><thead><tr><th>subject_id</th><th>timestamp</th><th>is_admission</th><th>is_discharge</th><th>is_death</th><th>is_discharge_or_death</th><th>is_lab</th><th>is_any</th></tr><tr><td>i64</td><td>datetime[μs]</td><td>i32</td><td>i32</td><td>i32</td><td>i32</td><td>i32</td><td>i32</td></tr></thead><tbody><tr><td>0</td><td>null</td><td>1</td><td>0</td><td>0</td><td>0</td><td>0</td><td>1</td></tr></tbody></table></div>"
      ],
      "text/plain": [
       "shape: (1, 8)\n",
       "┌────────────┬──────────────┬─────────────┬─────────────┬──────────┬─────────────┬────────┬────────┐\n",
       "│ subject_id ┆ timestamp    ┆ is_admissio ┆ is_discharg ┆ is_death ┆ is_discharg ┆ is_lab ┆ is_any │\n",
       "│ ---        ┆ ---          ┆ n           ┆ e           ┆ ---      ┆ e_or_death  ┆ ---    ┆ ---    │\n",
       "│ i64        ┆ datetime[μs] ┆ ---         ┆ ---         ┆ i32      ┆ ---         ┆ i32    ┆ i32    │\n",
       "│            ┆              ┆ i32         ┆ i32         ┆          ┆ i32         ┆        ┆        │\n",
       "╞════════════╪══════════════╪═════════════╪═════════════╪══════════╪═════════════╪════════╪════════╡\n",
       "│ 0          ┆ null         ┆ 1           ┆ 0           ┆ 0        ┆ 0           ┆ 0      ┆ 1      │\n",
       "└────────────┴──────────────┴─────────────┴─────────────┴──────────┴─────────────┴────────┴────────┘"
      ]
     },
     "metadata": {},
     "output_type": "display_data"
    },
    {
     "name": "stdout",
     "output_type": "stream",
     "text": [
      "Checking window: trigger->gap\n",
      "2125-11-30 16:02:00 2125-12-02 16:02:00\n",
      "{'is_admission': 0, 'is_discharge': 0, 'is_death': 0, 'is_discharge_or_death': 0, 'is_lab': 1, 'is_any': 1}\n"
     ]
    },
    {
     "data": {
      "text/html": [
       "<div><style>\n",
       ".dataframe > thead > tr,\n",
       ".dataframe > tbody > tr {\n",
       "  text-align: right;\n",
       "  white-space: pre-wrap;\n",
       "}\n",
       "</style>\n",
       "<small>shape: (1, 8)</small><table border=\"1\" class=\"dataframe\"><thead><tr><th>subject_id</th><th>timestamp</th><th>is_admission</th><th>is_discharge</th><th>is_death</th><th>is_discharge_or_death</th><th>is_lab</th><th>is_any</th></tr><tr><td>i64</td><td>datetime[μs]</td><td>i32</td><td>i32</td><td>i32</td><td>i32</td><td>i32</td><td>i32</td></tr></thead><tbody><tr><td>0</td><td>2125-12-02 16:02:00</td><td>0</td><td>0</td><td>0</td><td>0</td><td>1</td><td>1</td></tr></tbody></table></div>"
      ],
      "text/plain": [
       "shape: (1, 8)\n",
       "┌────────────┬──────────────┬─────────────┬─────────────┬──────────┬─────────────┬────────┬────────┐\n",
       "│ subject_id ┆ timestamp    ┆ is_admissio ┆ is_discharg ┆ is_death ┆ is_discharg ┆ is_lab ┆ is_any │\n",
       "│ ---        ┆ ---          ┆ n           ┆ e           ┆ ---      ┆ e_or_death  ┆ ---    ┆ ---    │\n",
       "│ i64        ┆ datetime[μs] ┆ ---         ┆ ---         ┆ i32      ┆ ---         ┆ i32    ┆ i32    │\n",
       "│            ┆              ┆ i32         ┆ i32         ┆          ┆ i32         ┆        ┆        │\n",
       "╞════════════╪══════════════╪═════════════╪═════════════╪══════════╪═════════════╪════════╪════════╡\n",
       "│ 0          ┆ 2125-12-02   ┆ 0           ┆ 0           ┆ 0        ┆ 0           ┆ 1      ┆ 1      │\n",
       "│            ┆ 16:02:00     ┆             ┆             ┆          ┆             ┆        ┆        │\n",
       "└────────────┴──────────────┴─────────────┴─────────────┴──────────┴─────────────┴────────┴────────┘"
      ]
     },
     "metadata": {},
     "output_type": "display_data"
    },
    {
     "data": {
      "text/html": [
       "<div><style>\n",
       ".dataframe > thead > tr,\n",
       ".dataframe > tbody > tr {\n",
       "  text-align: right;\n",
       "  white-space: pre-wrap;\n",
       "}\n",
       "</style>\n",
       "<small>shape: (1, 8)</small><table border=\"1\" class=\"dataframe\"><thead><tr><th>subject_id</th><th>timestamp</th><th>is_admission</th><th>is_discharge</th><th>is_death</th><th>is_discharge_or_death</th><th>is_lab</th><th>is_any</th></tr><tr><td>i64</td><td>datetime[μs]</td><td>i32</td><td>i32</td><td>i32</td><td>i32</td><td>i32</td><td>i32</td></tr></thead><tbody><tr><td>0</td><td>null</td><td>0</td><td>0</td><td>0</td><td>0</td><td>1</td><td>1</td></tr></tbody></table></div>"
      ],
      "text/plain": [
       "shape: (1, 8)\n",
       "┌────────────┬──────────────┬─────────────┬─────────────┬──────────┬─────────────┬────────┬────────┐\n",
       "│ subject_id ┆ timestamp    ┆ is_admissio ┆ is_discharg ┆ is_death ┆ is_discharg ┆ is_lab ┆ is_any │\n",
       "│ ---        ┆ ---          ┆ n           ┆ e           ┆ ---      ┆ e_or_death  ┆ ---    ┆ ---    │\n",
       "│ i64        ┆ datetime[μs] ┆ ---         ┆ ---         ┆ i32      ┆ ---         ┆ i32    ┆ i32    │\n",
       "│            ┆              ┆ i32         ┆ i32         ┆          ┆ i32         ┆        ┆        │\n",
       "╞════════════╪══════════════╪═════════════╪═════════════╪══════════╪═════════════╪════════╪════════╡\n",
       "│ 0          ┆ null         ┆ 0           ┆ 0           ┆ 0        ┆ 0           ┆ 1      ┆ 1      │\n",
       "└────────────┴──────────────┴─────────────┴─────────────┴──────────┴─────────────┴────────┴────────┘"
      ]
     },
     "metadata": {},
     "output_type": "display_data"
    },
    {
     "name": "stdout",
     "output_type": "stream",
     "text": [
      "Checking window: gap->target\n",
      "2125-12-02 16:02:00 2125-12-03 14:44:00\n",
      "{'is_admission': 0, 'is_discharge': 1, 'is_death': 0, 'is_discharge_or_death': 1, 'is_lab': 1, 'is_any': 2}\n"
     ]
    },
    {
     "data": {
      "text/html": [
       "<div><style>\n",
       ".dataframe > thead > tr,\n",
       ".dataframe > tbody > tr {\n",
       "  text-align: right;\n",
       "  white-space: pre-wrap;\n",
       "}\n",
       "</style>\n",
       "<small>shape: (2, 8)</small><table border=\"1\" class=\"dataframe\"><thead><tr><th>subject_id</th><th>timestamp</th><th>is_admission</th><th>is_discharge</th><th>is_death</th><th>is_discharge_or_death</th><th>is_lab</th><th>is_any</th></tr><tr><td>i64</td><td>datetime[μs]</td><td>i32</td><td>i32</td><td>i32</td><td>i32</td><td>i32</td><td>i32</td></tr></thead><tbody><tr><td>0</td><td>2125-12-03 14:43:00</td><td>0</td><td>0</td><td>0</td><td>0</td><td>1</td><td>1</td></tr><tr><td>0</td><td>2125-12-03 14:44:00</td><td>0</td><td>1</td><td>0</td><td>1</td><td>0</td><td>1</td></tr></tbody></table></div>"
      ],
      "text/plain": [
       "shape: (2, 8)\n",
       "┌────────────┬──────────────┬─────────────┬─────────────┬──────────┬─────────────┬────────┬────────┐\n",
       "│ subject_id ┆ timestamp    ┆ is_admissio ┆ is_discharg ┆ is_death ┆ is_discharg ┆ is_lab ┆ is_any │\n",
       "│ ---        ┆ ---          ┆ n           ┆ e           ┆ ---      ┆ e_or_death  ┆ ---    ┆ ---    │\n",
       "│ i64        ┆ datetime[μs] ┆ ---         ┆ ---         ┆ i32      ┆ ---         ┆ i32    ┆ i32    │\n",
       "│            ┆              ┆ i32         ┆ i32         ┆          ┆ i32         ┆        ┆        │\n",
       "╞════════════╪══════════════╪═════════════╪═════════════╪══════════╪═════════════╪════════╪════════╡\n",
       "│ 0          ┆ 2125-12-03   ┆ 0           ┆ 0           ┆ 0        ┆ 0           ┆ 1      ┆ 1      │\n",
       "│            ┆ 14:43:00     ┆             ┆             ┆          ┆             ┆        ┆        │\n",
       "│ 0          ┆ 2125-12-03   ┆ 0           ┆ 1           ┆ 0        ┆ 1           ┆ 0      ┆ 1      │\n",
       "│            ┆ 14:44:00     ┆             ┆             ┆          ┆             ┆        ┆        │\n",
       "└────────────┴──────────────┴─────────────┴─────────────┴──────────┴─────────────┴────────┴────────┘"
      ]
     },
     "metadata": {},
     "output_type": "display_data"
    },
    {
     "data": {
      "text/html": [
       "<div><style>\n",
       ".dataframe > thead > tr,\n",
       ".dataframe > tbody > tr {\n",
       "  text-align: right;\n",
       "  white-space: pre-wrap;\n",
       "}\n",
       "</style>\n",
       "<small>shape: (1, 8)</small><table border=\"1\" class=\"dataframe\"><thead><tr><th>subject_id</th><th>timestamp</th><th>is_admission</th><th>is_discharge</th><th>is_death</th><th>is_discharge_or_death</th><th>is_lab</th><th>is_any</th></tr><tr><td>i64</td><td>datetime[μs]</td><td>i32</td><td>i32</td><td>i32</td><td>i32</td><td>i32</td><td>i32</td></tr></thead><tbody><tr><td>0</td><td>null</td><td>0</td><td>1</td><td>0</td><td>1</td><td>1</td><td>2</td></tr></tbody></table></div>"
      ],
      "text/plain": [
       "shape: (1, 8)\n",
       "┌────────────┬──────────────┬─────────────┬─────────────┬──────────┬─────────────┬────────┬────────┐\n",
       "│ subject_id ┆ timestamp    ┆ is_admissio ┆ is_discharg ┆ is_death ┆ is_discharg ┆ is_lab ┆ is_any │\n",
       "│ ---        ┆ ---          ┆ n           ┆ e           ┆ ---      ┆ e_or_death  ┆ ---    ┆ ---    │\n",
       "│ i64        ┆ datetime[μs] ┆ ---         ┆ ---         ┆ i32      ┆ ---         ┆ i32    ┆ i32    │\n",
       "│            ┆              ┆ i32         ┆ i32         ┆          ┆ i32         ┆        ┆        │\n",
       "╞════════════╪══════════════╪═════════════╪═════════════╪══════════╪═════════════╪════════╪════════╡\n",
       "│ 0          ┆ null         ┆ 0           ┆ 1           ┆ 0        ┆ 1           ┆ 1      ┆ 2      │\n",
       "└────────────┴──────────────┴─────────────┴─────────────┴──────────┴─────────────┴────────┴────────┘"
      ]
     },
     "metadata": {},
     "output_type": "display_data"
    },
    {
     "name": "stdout",
     "output_type": "stream",
     "text": [
      "Checking subject_id: 0\n",
      "Checking window: input->trigger\n",
      "2130-03-16 21:10:00 2130-04-15 21:10:00\n",
      "{'is_admission': 2, 'is_discharge': 1, 'is_death': 0, 'is_discharge_or_death': 1, 'is_lab': 0, 'is_any': 3}\n"
     ]
    },
    {
     "data": {
      "text/html": [
       "<div><style>\n",
       ".dataframe > thead > tr,\n",
       ".dataframe > tbody > tr {\n",
       "  text-align: right;\n",
       "  white-space: pre-wrap;\n",
       "}\n",
       "</style>\n",
       "<small>shape: (3, 8)</small><table border=\"1\" class=\"dataframe\"><thead><tr><th>subject_id</th><th>timestamp</th><th>is_admission</th><th>is_discharge</th><th>is_death</th><th>is_discharge_or_death</th><th>is_lab</th><th>is_any</th></tr><tr><td>i64</td><td>datetime[μs]</td><td>i32</td><td>i32</td><td>i32</td><td>i32</td><td>i32</td><td>i32</td></tr></thead><tbody><tr><td>0</td><td>2130-04-08 22:06:00</td><td>1</td><td>0</td><td>0</td><td>0</td><td>0</td><td>1</td></tr><tr><td>0</td><td>2130-04-09 14:30:00</td><td>0</td><td>1</td><td>0</td><td>1</td><td>0</td><td>1</td></tr><tr><td>0</td><td>2130-04-15 21:10:00</td><td>1</td><td>0</td><td>0</td><td>0</td><td>0</td><td>1</td></tr></tbody></table></div>"
      ],
      "text/plain": [
       "shape: (3, 8)\n",
       "┌────────────┬──────────────┬─────────────┬─────────────┬──────────┬─────────────┬────────┬────────┐\n",
       "│ subject_id ┆ timestamp    ┆ is_admissio ┆ is_discharg ┆ is_death ┆ is_discharg ┆ is_lab ┆ is_any │\n",
       "│ ---        ┆ ---          ┆ n           ┆ e           ┆ ---      ┆ e_or_death  ┆ ---    ┆ ---    │\n",
       "│ i64        ┆ datetime[μs] ┆ ---         ┆ ---         ┆ i32      ┆ ---         ┆ i32    ┆ i32    │\n",
       "│            ┆              ┆ i32         ┆ i32         ┆          ┆ i32         ┆        ┆        │\n",
       "╞════════════╪══════════════╪═════════════╪═════════════╪══════════╪═════════════╪════════╪════════╡\n",
       "│ 0          ┆ 2130-04-08   ┆ 1           ┆ 0           ┆ 0        ┆ 0           ┆ 0      ┆ 1      │\n",
       "│            ┆ 22:06:00     ┆             ┆             ┆          ┆             ┆        ┆        │\n",
       "│ 0          ┆ 2130-04-09   ┆ 0           ┆ 1           ┆ 0        ┆ 1           ┆ 0      ┆ 1      │\n",
       "│            ┆ 14:30:00     ┆             ┆             ┆          ┆             ┆        ┆        │\n",
       "│ 0          ┆ 2130-04-15   ┆ 1           ┆ 0           ┆ 0        ┆ 0           ┆ 0      ┆ 1      │\n",
       "│            ┆ 21:10:00     ┆             ┆             ┆          ┆             ┆        ┆        │\n",
       "└────────────┴──────────────┴─────────────┴─────────────┴──────────┴─────────────┴────────┴────────┘"
      ]
     },
     "metadata": {},
     "output_type": "display_data"
    },
    {
     "data": {
      "text/html": [
       "<div><style>\n",
       ".dataframe > thead > tr,\n",
       ".dataframe > tbody > tr {\n",
       "  text-align: right;\n",
       "  white-space: pre-wrap;\n",
       "}\n",
       "</style>\n",
       "<small>shape: (1, 8)</small><table border=\"1\" class=\"dataframe\"><thead><tr><th>subject_id</th><th>timestamp</th><th>is_admission</th><th>is_discharge</th><th>is_death</th><th>is_discharge_or_death</th><th>is_lab</th><th>is_any</th></tr><tr><td>i64</td><td>datetime[μs]</td><td>i32</td><td>i32</td><td>i32</td><td>i32</td><td>i32</td><td>i32</td></tr></thead><tbody><tr><td>0</td><td>null</td><td>2</td><td>1</td><td>0</td><td>1</td><td>0</td><td>3</td></tr></tbody></table></div>"
      ],
      "text/plain": [
       "shape: (1, 8)\n",
       "┌────────────┬──────────────┬─────────────┬─────────────┬──────────┬─────────────┬────────┬────────┐\n",
       "│ subject_id ┆ timestamp    ┆ is_admissio ┆ is_discharg ┆ is_death ┆ is_discharg ┆ is_lab ┆ is_any │\n",
       "│ ---        ┆ ---          ┆ n           ┆ e           ┆ ---      ┆ e_or_death  ┆ ---    ┆ ---    │\n",
       "│ i64        ┆ datetime[μs] ┆ ---         ┆ ---         ┆ i32      ┆ ---         ┆ i32    ┆ i32    │\n",
       "│            ┆              ┆ i32         ┆ i32         ┆          ┆ i32         ┆        ┆        │\n",
       "╞════════════╪══════════════╪═════════════╪═════════════╪══════════╪═════════════╪════════╪════════╡\n",
       "│ 0          ┆ null         ┆ 2           ┆ 1           ┆ 0        ┆ 1           ┆ 0      ┆ 3      │\n",
       "└────────────┴──────────────┴─────────────┴─────────────┴──────────┴─────────────┴────────┴────────┘"
      ]
     },
     "metadata": {},
     "output_type": "display_data"
    },
    {
     "name": "stdout",
     "output_type": "stream",
     "text": [
      "Checking window: trigger->gap\n",
      "2130-04-15 21:10:00 2130-04-17 21:10:00\n",
      "{'is_admission': 0, 'is_discharge': 0, 'is_death': 0, 'is_discharge_or_death': 0, 'is_lab': 0, 'is_any': 0}\n"
     ]
    },
    {
     "data": {
      "text/html": [
       "<div><style>\n",
       ".dataframe > thead > tr,\n",
       ".dataframe > tbody > tr {\n",
       "  text-align: right;\n",
       "  white-space: pre-wrap;\n",
       "}\n",
       "</style>\n",
       "<small>shape: (0, 8)</small><table border=\"1\" class=\"dataframe\"><thead><tr><th>subject_id</th><th>timestamp</th><th>is_admission</th><th>is_discharge</th><th>is_death</th><th>is_discharge_or_death</th><th>is_lab</th><th>is_any</th></tr><tr><td>i64</td><td>datetime[μs]</td><td>i32</td><td>i32</td><td>i32</td><td>i32</td><td>i32</td><td>i32</td></tr></thead><tbody></tbody></table></div>"
      ],
      "text/plain": [
       "shape: (0, 8)\n",
       "┌────────────┬──────────────┬─────────────┬─────────────┬──────────┬─────────────┬────────┬────────┐\n",
       "│ subject_id ┆ timestamp    ┆ is_admissio ┆ is_discharg ┆ is_death ┆ is_discharg ┆ is_lab ┆ is_any │\n",
       "│ ---        ┆ ---          ┆ n           ┆ e           ┆ ---      ┆ e_or_death  ┆ ---    ┆ ---    │\n",
       "│ i64        ┆ datetime[μs] ┆ ---         ┆ ---         ┆ i32      ┆ ---         ┆ i32    ┆ i32    │\n",
       "│            ┆              ┆ i32         ┆ i32         ┆          ┆ i32         ┆        ┆        │\n",
       "╞════════════╪══════════════╪═════════════╪═════════════╪══════════╪═════════════╪════════╪════════╡\n",
       "└────────────┴──────────────┴─────────────┴─────────────┴──────────┴─────────────┴────────┴────────┘"
      ]
     },
     "metadata": {},
     "output_type": "display_data"
    },
    {
     "data": {
      "text/html": [
       "<div><style>\n",
       ".dataframe > thead > tr,\n",
       ".dataframe > tbody > tr {\n",
       "  text-align: right;\n",
       "  white-space: pre-wrap;\n",
       "}\n",
       "</style>\n",
       "<small>shape: (1, 8)</small><table border=\"1\" class=\"dataframe\"><thead><tr><th>subject_id</th><th>timestamp</th><th>is_admission</th><th>is_discharge</th><th>is_death</th><th>is_discharge_or_death</th><th>is_lab</th><th>is_any</th></tr><tr><td>i64</td><td>datetime[μs]</td><td>i32</td><td>i32</td><td>i32</td><td>i32</td><td>i32</td><td>i32</td></tr></thead><tbody><tr><td>0</td><td>null</td><td>0</td><td>0</td><td>0</td><td>0</td><td>0</td><td>0</td></tr></tbody></table></div>"
      ],
      "text/plain": [
       "shape: (1, 8)\n",
       "┌────────────┬──────────────┬─────────────┬─────────────┬──────────┬─────────────┬────────┬────────┐\n",
       "│ subject_id ┆ timestamp    ┆ is_admissio ┆ is_discharg ┆ is_death ┆ is_discharg ┆ is_lab ┆ is_any │\n",
       "│ ---        ┆ ---          ┆ n           ┆ e           ┆ ---      ┆ e_or_death  ┆ ---    ┆ ---    │\n",
       "│ i64        ┆ datetime[μs] ┆ ---         ┆ ---         ┆ i32      ┆ ---         ┆ i32    ┆ i32    │\n",
       "│            ┆              ┆ i32         ┆ i32         ┆          ┆ i32         ┆        ┆        │\n",
       "╞════════════╪══════════════╪═════════════╪═════════════╪══════════╪═════════════╪════════╪════════╡\n",
       "│ 0          ┆ null         ┆ 0           ┆ 0           ┆ 0        ┆ 0           ┆ 0      ┆ 0      │\n",
       "└────────────┴──────────────┴─────────────┴─────────────┴──────────┴─────────────┴────────┴────────┘"
      ]
     },
     "metadata": {},
     "output_type": "display_data"
    },
    {
     "name": "stdout",
     "output_type": "stream",
     "text": [
      "Checking window: gap->target\n",
      "2130-04-17 21:10:00 2130-04-19 16:00:00\n",
      "{'is_admission': 0, 'is_discharge': 1, 'is_death': 0, 'is_discharge_or_death': 1, 'is_lab': 0, 'is_any': 1}\n"
     ]
    },
    {
     "data": {
      "text/html": [
       "<div><style>\n",
       ".dataframe > thead > tr,\n",
       ".dataframe > tbody > tr {\n",
       "  text-align: right;\n",
       "  white-space: pre-wrap;\n",
       "}\n",
       "</style>\n",
       "<small>shape: (1, 8)</small><table border=\"1\" class=\"dataframe\"><thead><tr><th>subject_id</th><th>timestamp</th><th>is_admission</th><th>is_discharge</th><th>is_death</th><th>is_discharge_or_death</th><th>is_lab</th><th>is_any</th></tr><tr><td>i64</td><td>datetime[μs]</td><td>i32</td><td>i32</td><td>i32</td><td>i32</td><td>i32</td><td>i32</td></tr></thead><tbody><tr><td>0</td><td>2130-04-19 16:00:00</td><td>0</td><td>1</td><td>0</td><td>1</td><td>0</td><td>1</td></tr></tbody></table></div>"
      ],
      "text/plain": [
       "shape: (1, 8)\n",
       "┌────────────┬──────────────┬─────────────┬─────────────┬──────────┬─────────────┬────────┬────────┐\n",
       "│ subject_id ┆ timestamp    ┆ is_admissio ┆ is_discharg ┆ is_death ┆ is_discharg ┆ is_lab ┆ is_any │\n",
       "│ ---        ┆ ---          ┆ n           ┆ e           ┆ ---      ┆ e_or_death  ┆ ---    ┆ ---    │\n",
       "│ i64        ┆ datetime[μs] ┆ ---         ┆ ---         ┆ i32      ┆ ---         ┆ i32    ┆ i32    │\n",
       "│            ┆              ┆ i32         ┆ i32         ┆          ┆ i32         ┆        ┆        │\n",
       "╞════════════╪══════════════╪═════════════╪═════════════╪══════════╪═════════════╪════════╪════════╡\n",
       "│ 0          ┆ 2130-04-19   ┆ 0           ┆ 1           ┆ 0        ┆ 1           ┆ 0      ┆ 1      │\n",
       "│            ┆ 16:00:00     ┆             ┆             ┆          ┆             ┆        ┆        │\n",
       "└────────────┴──────────────┴─────────────┴─────────────┴──────────┴─────────────┴────────┴────────┘"
      ]
     },
     "metadata": {},
     "output_type": "display_data"
    },
    {
     "data": {
      "text/html": [
       "<div><style>\n",
       ".dataframe > thead > tr,\n",
       ".dataframe > tbody > tr {\n",
       "  text-align: right;\n",
       "  white-space: pre-wrap;\n",
       "}\n",
       "</style>\n",
       "<small>shape: (1, 8)</small><table border=\"1\" class=\"dataframe\"><thead><tr><th>subject_id</th><th>timestamp</th><th>is_admission</th><th>is_discharge</th><th>is_death</th><th>is_discharge_or_death</th><th>is_lab</th><th>is_any</th></tr><tr><td>i64</td><td>datetime[μs]</td><td>i32</td><td>i32</td><td>i32</td><td>i32</td><td>i32</td><td>i32</td></tr></thead><tbody><tr><td>0</td><td>null</td><td>0</td><td>1</td><td>0</td><td>1</td><td>0</td><td>1</td></tr></tbody></table></div>"
      ],
      "text/plain": [
       "shape: (1, 8)\n",
       "┌────────────┬──────────────┬─────────────┬─────────────┬──────────┬─────────────┬────────┬────────┐\n",
       "│ subject_id ┆ timestamp    ┆ is_admissio ┆ is_discharg ┆ is_death ┆ is_discharg ┆ is_lab ┆ is_any │\n",
       "│ ---        ┆ ---          ┆ n           ┆ e           ┆ ---      ┆ e_or_death  ┆ ---    ┆ ---    │\n",
       "│ i64        ┆ datetime[μs] ┆ ---         ┆ ---         ┆ i32      ┆ ---         ┆ i32    ┆ i32    │\n",
       "│            ┆              ┆ i32         ┆ i32         ┆          ┆ i32         ┆        ┆        │\n",
       "╞════════════╪══════════════╪═════════════╪═════════════╪══════════╪═════════════╪════════╪════════╡\n",
       "│ 0          ┆ null         ┆ 0           ┆ 1           ┆ 0        ┆ 1           ┆ 0      ┆ 1      │\n",
       "└────────────┴──────────────┴─────────────┴─────────────┴──────────┴─────────────┴────────┴────────┘"
      ]
     },
     "metadata": {},
     "output_type": "display_data"
    },
    {
     "name": "stdout",
     "output_type": "stream",
     "text": [
      "Checking subject_id: 0\n",
      "Checking window: input->trigger\n",
      "2130-07-22 15:26:00 2130-08-21 15:26:00\n",
      "{'is_admission': 1, 'is_discharge': 0, 'is_death': 0, 'is_discharge_or_death': 0, 'is_lab': 0, 'is_any': 1}\n"
     ]
    },
    {
     "data": {
      "text/html": [
       "<div><style>\n",
       ".dataframe > thead > tr,\n",
       ".dataframe > tbody > tr {\n",
       "  text-align: right;\n",
       "  white-space: pre-wrap;\n",
       "}\n",
       "</style>\n",
       "<small>shape: (1, 8)</small><table border=\"1\" class=\"dataframe\"><thead><tr><th>subject_id</th><th>timestamp</th><th>is_admission</th><th>is_discharge</th><th>is_death</th><th>is_discharge_or_death</th><th>is_lab</th><th>is_any</th></tr><tr><td>i64</td><td>datetime[μs]</td><td>i32</td><td>i32</td><td>i32</td><td>i32</td><td>i32</td><td>i32</td></tr></thead><tbody><tr><td>0</td><td>2130-08-21 15:26:00</td><td>1</td><td>0</td><td>0</td><td>0</td><td>0</td><td>1</td></tr></tbody></table></div>"
      ],
      "text/plain": [
       "shape: (1, 8)\n",
       "┌────────────┬──────────────┬─────────────┬─────────────┬──────────┬─────────────┬────────┬────────┐\n",
       "│ subject_id ┆ timestamp    ┆ is_admissio ┆ is_discharg ┆ is_death ┆ is_discharg ┆ is_lab ┆ is_any │\n",
       "│ ---        ┆ ---          ┆ n           ┆ e           ┆ ---      ┆ e_or_death  ┆ ---    ┆ ---    │\n",
       "│ i64        ┆ datetime[μs] ┆ ---         ┆ ---         ┆ i32      ┆ ---         ┆ i32    ┆ i32    │\n",
       "│            ┆              ┆ i32         ┆ i32         ┆          ┆ i32         ┆        ┆        │\n",
       "╞════════════╪══════════════╪═════════════╪═════════════╪══════════╪═════════════╪════════╪════════╡\n",
       "│ 0          ┆ 2130-08-21   ┆ 1           ┆ 0           ┆ 0        ┆ 0           ┆ 0      ┆ 1      │\n",
       "│            ┆ 15:26:00     ┆             ┆             ┆          ┆             ┆        ┆        │\n",
       "└────────────┴──────────────┴─────────────┴─────────────┴──────────┴─────────────┴────────┴────────┘"
      ]
     },
     "metadata": {},
     "output_type": "display_data"
    },
    {
     "data": {
      "text/html": [
       "<div><style>\n",
       ".dataframe > thead > tr,\n",
       ".dataframe > tbody > tr {\n",
       "  text-align: right;\n",
       "  white-space: pre-wrap;\n",
       "}\n",
       "</style>\n",
       "<small>shape: (1, 8)</small><table border=\"1\" class=\"dataframe\"><thead><tr><th>subject_id</th><th>timestamp</th><th>is_admission</th><th>is_discharge</th><th>is_death</th><th>is_discharge_or_death</th><th>is_lab</th><th>is_any</th></tr><tr><td>i64</td><td>datetime[μs]</td><td>i32</td><td>i32</td><td>i32</td><td>i32</td><td>i32</td><td>i32</td></tr></thead><tbody><tr><td>0</td><td>null</td><td>1</td><td>0</td><td>0</td><td>0</td><td>0</td><td>1</td></tr></tbody></table></div>"
      ],
      "text/plain": [
       "shape: (1, 8)\n",
       "┌────────────┬──────────────┬─────────────┬─────────────┬──────────┬─────────────┬────────┬────────┐\n",
       "│ subject_id ┆ timestamp    ┆ is_admissio ┆ is_discharg ┆ is_death ┆ is_discharg ┆ is_lab ┆ is_any │\n",
       "│ ---        ┆ ---          ┆ n           ┆ e           ┆ ---      ┆ e_or_death  ┆ ---    ┆ ---    │\n",
       "│ i64        ┆ datetime[μs] ┆ ---         ┆ ---         ┆ i32      ┆ ---         ┆ i32    ┆ i32    │\n",
       "│            ┆              ┆ i32         ┆ i32         ┆          ┆ i32         ┆        ┆        │\n",
       "╞════════════╪══════════════╪═════════════╪═════════════╪══════════╪═════════════╪════════╪════════╡\n",
       "│ 0          ┆ null         ┆ 1           ┆ 0           ┆ 0        ┆ 0           ┆ 0      ┆ 1      │\n",
       "└────────────┴──────────────┴─────────────┴─────────────┴──────────┴─────────────┴────────┴────────┘"
      ]
     },
     "metadata": {},
     "output_type": "display_data"
    },
    {
     "name": "stdout",
     "output_type": "stream",
     "text": [
      "Checking window: trigger->gap\n",
      "2130-08-21 15:26:00 2130-08-23 15:26:00\n",
      "{'is_admission': 0, 'is_discharge': 0, 'is_death': 0, 'is_discharge_or_death': 0, 'is_lab': 0, 'is_any': 0}\n"
     ]
    },
    {
     "data": {
      "text/html": [
       "<div><style>\n",
       ".dataframe > thead > tr,\n",
       ".dataframe > tbody > tr {\n",
       "  text-align: right;\n",
       "  white-space: pre-wrap;\n",
       "}\n",
       "</style>\n",
       "<small>shape: (0, 8)</small><table border=\"1\" class=\"dataframe\"><thead><tr><th>subject_id</th><th>timestamp</th><th>is_admission</th><th>is_discharge</th><th>is_death</th><th>is_discharge_or_death</th><th>is_lab</th><th>is_any</th></tr><tr><td>i64</td><td>datetime[μs]</td><td>i32</td><td>i32</td><td>i32</td><td>i32</td><td>i32</td><td>i32</td></tr></thead><tbody></tbody></table></div>"
      ],
      "text/plain": [
       "shape: (0, 8)\n",
       "┌────────────┬──────────────┬─────────────┬─────────────┬──────────┬─────────────┬────────┬────────┐\n",
       "│ subject_id ┆ timestamp    ┆ is_admissio ┆ is_discharg ┆ is_death ┆ is_discharg ┆ is_lab ┆ is_any │\n",
       "│ ---        ┆ ---          ┆ n           ┆ e           ┆ ---      ┆ e_or_death  ┆ ---    ┆ ---    │\n",
       "│ i64        ┆ datetime[μs] ┆ ---         ┆ ---         ┆ i32      ┆ ---         ┆ i32    ┆ i32    │\n",
       "│            ┆              ┆ i32         ┆ i32         ┆          ┆ i32         ┆        ┆        │\n",
       "╞════════════╪══════════════╪═════════════╪═════════════╪══════════╪═════════════╪════════╪════════╡\n",
       "└────────────┴──────────────┴─────────────┴─────────────┴──────────┴─────────────┴────────┴────────┘"
      ]
     },
     "metadata": {},
     "output_type": "display_data"
    },
    {
     "data": {
      "text/html": [
       "<div><style>\n",
       ".dataframe > thead > tr,\n",
       ".dataframe > tbody > tr {\n",
       "  text-align: right;\n",
       "  white-space: pre-wrap;\n",
       "}\n",
       "</style>\n",
       "<small>shape: (1, 8)</small><table border=\"1\" class=\"dataframe\"><thead><tr><th>subject_id</th><th>timestamp</th><th>is_admission</th><th>is_discharge</th><th>is_death</th><th>is_discharge_or_death</th><th>is_lab</th><th>is_any</th></tr><tr><td>i64</td><td>datetime[μs]</td><td>i32</td><td>i32</td><td>i32</td><td>i32</td><td>i32</td><td>i32</td></tr></thead><tbody><tr><td>0</td><td>null</td><td>0</td><td>0</td><td>0</td><td>0</td><td>0</td><td>0</td></tr></tbody></table></div>"
      ],
      "text/plain": [
       "shape: (1, 8)\n",
       "┌────────────┬──────────────┬─────────────┬─────────────┬──────────┬─────────────┬────────┬────────┐\n",
       "│ subject_id ┆ timestamp    ┆ is_admissio ┆ is_discharg ┆ is_death ┆ is_discharg ┆ is_lab ┆ is_any │\n",
       "│ ---        ┆ ---          ┆ n           ┆ e           ┆ ---      ┆ e_or_death  ┆ ---    ┆ ---    │\n",
       "│ i64        ┆ datetime[μs] ┆ ---         ┆ ---         ┆ i32      ┆ ---         ┆ i32    ┆ i32    │\n",
       "│            ┆              ┆ i32         ┆ i32         ┆          ┆ i32         ┆        ┆        │\n",
       "╞════════════╪══════════════╪═════════════╪═════════════╪══════════╪═════════════╪════════╪════════╡\n",
       "│ 0          ┆ null         ┆ 0           ┆ 0           ┆ 0        ┆ 0           ┆ 0      ┆ 0      │\n",
       "└────────────┴──────────────┴─────────────┴─────────────┴──────────┴─────────────┴────────┴────────┘"
      ]
     },
     "metadata": {},
     "output_type": "display_data"
    },
    {
     "name": "stdout",
     "output_type": "stream",
     "text": [
      "Checking window: gap->target\n",
      "2130-08-23 15:26:00 2130-08-23 16:40:00\n",
      "{'is_admission': 0, 'is_discharge': 1, 'is_death': 0, 'is_discharge_or_death': 1, 'is_lab': 0, 'is_any': 1}\n"
     ]
    },
    {
     "data": {
      "text/html": [
       "<div><style>\n",
       ".dataframe > thead > tr,\n",
       ".dataframe > tbody > tr {\n",
       "  text-align: right;\n",
       "  white-space: pre-wrap;\n",
       "}\n",
       "</style>\n",
       "<small>shape: (1, 8)</small><table border=\"1\" class=\"dataframe\"><thead><tr><th>subject_id</th><th>timestamp</th><th>is_admission</th><th>is_discharge</th><th>is_death</th><th>is_discharge_or_death</th><th>is_lab</th><th>is_any</th></tr><tr><td>i64</td><td>datetime[μs]</td><td>i32</td><td>i32</td><td>i32</td><td>i32</td><td>i32</td><td>i32</td></tr></thead><tbody><tr><td>0</td><td>2130-08-23 16:40:00</td><td>0</td><td>1</td><td>0</td><td>1</td><td>0</td><td>1</td></tr></tbody></table></div>"
      ],
      "text/plain": [
       "shape: (1, 8)\n",
       "┌────────────┬──────────────┬─────────────┬─────────────┬──────────┬─────────────┬────────┬────────┐\n",
       "│ subject_id ┆ timestamp    ┆ is_admissio ┆ is_discharg ┆ is_death ┆ is_discharg ┆ is_lab ┆ is_any │\n",
       "│ ---        ┆ ---          ┆ n           ┆ e           ┆ ---      ┆ e_or_death  ┆ ---    ┆ ---    │\n",
       "│ i64        ┆ datetime[μs] ┆ ---         ┆ ---         ┆ i32      ┆ ---         ┆ i32    ┆ i32    │\n",
       "│            ┆              ┆ i32         ┆ i32         ┆          ┆ i32         ┆        ┆        │\n",
       "╞════════════╪══════════════╪═════════════╪═════════════╪══════════╪═════════════╪════════╪════════╡\n",
       "│ 0          ┆ 2130-08-23   ┆ 0           ┆ 1           ┆ 0        ┆ 1           ┆ 0      ┆ 1      │\n",
       "│            ┆ 16:40:00     ┆             ┆             ┆          ┆             ┆        ┆        │\n",
       "└────────────┴──────────────┴─────────────┴─────────────┴──────────┴─────────────┴────────┴────────┘"
      ]
     },
     "metadata": {},
     "output_type": "display_data"
    },
    {
     "data": {
      "text/html": [
       "<div><style>\n",
       ".dataframe > thead > tr,\n",
       ".dataframe > tbody > tr {\n",
       "  text-align: right;\n",
       "  white-space: pre-wrap;\n",
       "}\n",
       "</style>\n",
       "<small>shape: (1, 8)</small><table border=\"1\" class=\"dataframe\"><thead><tr><th>subject_id</th><th>timestamp</th><th>is_admission</th><th>is_discharge</th><th>is_death</th><th>is_discharge_or_death</th><th>is_lab</th><th>is_any</th></tr><tr><td>i64</td><td>datetime[μs]</td><td>i32</td><td>i32</td><td>i32</td><td>i32</td><td>i32</td><td>i32</td></tr></thead><tbody><tr><td>0</td><td>null</td><td>0</td><td>1</td><td>0</td><td>1</td><td>0</td><td>1</td></tr></tbody></table></div>"
      ],
      "text/plain": [
       "shape: (1, 8)\n",
       "┌────────────┬──────────────┬─────────────┬─────────────┬──────────┬─────────────┬────────┬────────┐\n",
       "│ subject_id ┆ timestamp    ┆ is_admissio ┆ is_discharg ┆ is_death ┆ is_discharg ┆ is_lab ┆ is_any │\n",
       "│ ---        ┆ ---          ┆ n           ┆ e           ┆ ---      ┆ e_or_death  ┆ ---    ┆ ---    │\n",
       "│ i64        ┆ datetime[μs] ┆ ---         ┆ ---         ┆ i32      ┆ ---         ┆ i32    ┆ i32    │\n",
       "│            ┆              ┆ i32         ┆ i32         ┆          ┆ i32         ┆        ┆        │\n",
       "╞════════════╪══════════════╪═════════════╪═════════════╪══════════╪═════════════╪════════╪════════╡\n",
       "│ 0          ┆ null         ┆ 0           ┆ 1           ┆ 0        ┆ 1           ┆ 0      ┆ 1      │\n",
       "└────────────┴──────────────┴─────────────┴─────────────┴──────────┴─────────────┴────────┴────────┘"
      ]
     },
     "metadata": {},
     "output_type": "display_data"
    },
    {
     "name": "stdout",
     "output_type": "stream",
     "text": [
      "Checking subject_id: 0\n",
      "Checking window: input->trigger\n",
      "2130-09-08 19:03:00 2130-10-08 19:03:00\n",
      "{'is_admission': 2, 'is_discharge': 1, 'is_death': 0, 'is_discharge_or_death': 1, 'is_lab': 0, 'is_any': 3}\n"
     ]
    },
    {
     "data": {
      "text/html": [
       "<div><style>\n",
       ".dataframe > thead > tr,\n",
       ".dataframe > tbody > tr {\n",
       "  text-align: right;\n",
       "  white-space: pre-wrap;\n",
       "}\n",
       "</style>\n",
       "<small>shape: (3, 8)</small><table border=\"1\" class=\"dataframe\"><thead><tr><th>subject_id</th><th>timestamp</th><th>is_admission</th><th>is_discharge</th><th>is_death</th><th>is_discharge_or_death</th><th>is_lab</th><th>is_any</th></tr><tr><td>i64</td><td>datetime[μs]</td><td>i32</td><td>i32</td><td>i32</td><td>i32</td><td>i32</td><td>i32</td></tr></thead><tbody><tr><td>0</td><td>2130-10-05 20:04:00</td><td>1</td><td>0</td><td>0</td><td>0</td><td>0</td><td>1</td></tr><tr><td>0</td><td>2130-10-06 15:05:00</td><td>0</td><td>1</td><td>0</td><td>1</td><td>0</td><td>1</td></tr><tr><td>0</td><td>2130-10-08 19:03:00</td><td>1</td><td>0</td><td>0</td><td>0</td><td>0</td><td>1</td></tr></tbody></table></div>"
      ],
      "text/plain": [
       "shape: (3, 8)\n",
       "┌────────────┬──────────────┬─────────────┬─────────────┬──────────┬─────────────┬────────┬────────┐\n",
       "│ subject_id ┆ timestamp    ┆ is_admissio ┆ is_discharg ┆ is_death ┆ is_discharg ┆ is_lab ┆ is_any │\n",
       "│ ---        ┆ ---          ┆ n           ┆ e           ┆ ---      ┆ e_or_death  ┆ ---    ┆ ---    │\n",
       "│ i64        ┆ datetime[μs] ┆ ---         ┆ ---         ┆ i32      ┆ ---         ┆ i32    ┆ i32    │\n",
       "│            ┆              ┆ i32         ┆ i32         ┆          ┆ i32         ┆        ┆        │\n",
       "╞════════════╪══════════════╪═════════════╪═════════════╪══════════╪═════════════╪════════╪════════╡\n",
       "│ 0          ┆ 2130-10-05   ┆ 1           ┆ 0           ┆ 0        ┆ 0           ┆ 0      ┆ 1      │\n",
       "│            ┆ 20:04:00     ┆             ┆             ┆          ┆             ┆        ┆        │\n",
       "│ 0          ┆ 2130-10-06   ┆ 0           ┆ 1           ┆ 0        ┆ 1           ┆ 0      ┆ 1      │\n",
       "│            ┆ 15:05:00     ┆             ┆             ┆          ┆             ┆        ┆        │\n",
       "│ 0          ┆ 2130-10-08   ┆ 1           ┆ 0           ┆ 0        ┆ 0           ┆ 0      ┆ 1      │\n",
       "│            ┆ 19:03:00     ┆             ┆             ┆          ┆             ┆        ┆        │\n",
       "└────────────┴──────────────┴─────────────┴─────────────┴──────────┴─────────────┴────────┴────────┘"
      ]
     },
     "metadata": {},
     "output_type": "display_data"
    },
    {
     "data": {
      "text/html": [
       "<div><style>\n",
       ".dataframe > thead > tr,\n",
       ".dataframe > tbody > tr {\n",
       "  text-align: right;\n",
       "  white-space: pre-wrap;\n",
       "}\n",
       "</style>\n",
       "<small>shape: (1, 8)</small><table border=\"1\" class=\"dataframe\"><thead><tr><th>subject_id</th><th>timestamp</th><th>is_admission</th><th>is_discharge</th><th>is_death</th><th>is_discharge_or_death</th><th>is_lab</th><th>is_any</th></tr><tr><td>i64</td><td>datetime[μs]</td><td>i32</td><td>i32</td><td>i32</td><td>i32</td><td>i32</td><td>i32</td></tr></thead><tbody><tr><td>0</td><td>null</td><td>2</td><td>1</td><td>0</td><td>1</td><td>0</td><td>3</td></tr></tbody></table></div>"
      ],
      "text/plain": [
       "shape: (1, 8)\n",
       "┌────────────┬──────────────┬─────────────┬─────────────┬──────────┬─────────────┬────────┬────────┐\n",
       "│ subject_id ┆ timestamp    ┆ is_admissio ┆ is_discharg ┆ is_death ┆ is_discharg ┆ is_lab ┆ is_any │\n",
       "│ ---        ┆ ---          ┆ n           ┆ e           ┆ ---      ┆ e_or_death  ┆ ---    ┆ ---    │\n",
       "│ i64        ┆ datetime[μs] ┆ ---         ┆ ---         ┆ i32      ┆ ---         ┆ i32    ┆ i32    │\n",
       "│            ┆              ┆ i32         ┆ i32         ┆          ┆ i32         ┆        ┆        │\n",
       "╞════════════╪══════════════╪═════════════╪═════════════╪══════════╪═════════════╪════════╪════════╡\n",
       "│ 0          ┆ null         ┆ 2           ┆ 1           ┆ 0        ┆ 1           ┆ 0      ┆ 3      │\n",
       "└────────────┴──────────────┴─────────────┴─────────────┴──────────┴─────────────┴────────┴────────┘"
      ]
     },
     "metadata": {},
     "output_type": "display_data"
    },
    {
     "name": "stdout",
     "output_type": "stream",
     "text": [
      "Checking window: trigger->gap\n",
      "2130-10-08 19:03:00 2130-10-10 19:03:00\n",
      "{'is_admission': 0, 'is_discharge': 0, 'is_death': 0, 'is_discharge_or_death': 0, 'is_lab': 0, 'is_any': 0}\n"
     ]
    },
    {
     "data": {
      "text/html": [
       "<div><style>\n",
       ".dataframe > thead > tr,\n",
       ".dataframe > tbody > tr {\n",
       "  text-align: right;\n",
       "  white-space: pre-wrap;\n",
       "}\n",
       "</style>\n",
       "<small>shape: (0, 8)</small><table border=\"1\" class=\"dataframe\"><thead><tr><th>subject_id</th><th>timestamp</th><th>is_admission</th><th>is_discharge</th><th>is_death</th><th>is_discharge_or_death</th><th>is_lab</th><th>is_any</th></tr><tr><td>i64</td><td>datetime[μs]</td><td>i32</td><td>i32</td><td>i32</td><td>i32</td><td>i32</td><td>i32</td></tr></thead><tbody></tbody></table></div>"
      ],
      "text/plain": [
       "shape: (0, 8)\n",
       "┌────────────┬──────────────┬─────────────┬─────────────┬──────────┬─────────────┬────────┬────────┐\n",
       "│ subject_id ┆ timestamp    ┆ is_admissio ┆ is_discharg ┆ is_death ┆ is_discharg ┆ is_lab ┆ is_any │\n",
       "│ ---        ┆ ---          ┆ n           ┆ e           ┆ ---      ┆ e_or_death  ┆ ---    ┆ ---    │\n",
       "│ i64        ┆ datetime[μs] ┆ ---         ┆ ---         ┆ i32      ┆ ---         ┆ i32    ┆ i32    │\n",
       "│            ┆              ┆ i32         ┆ i32         ┆          ┆ i32         ┆        ┆        │\n",
       "╞════════════╪══════════════╪═════════════╪═════════════╪══════════╪═════════════╪════════╪════════╡\n",
       "└────────────┴──────────────┴─────────────┴─────────────┴──────────┴─────────────┴────────┴────────┘"
      ]
     },
     "metadata": {},
     "output_type": "display_data"
    },
    {
     "data": {
      "text/html": [
       "<div><style>\n",
       ".dataframe > thead > tr,\n",
       ".dataframe > tbody > tr {\n",
       "  text-align: right;\n",
       "  white-space: pre-wrap;\n",
       "}\n",
       "</style>\n",
       "<small>shape: (1, 8)</small><table border=\"1\" class=\"dataframe\"><thead><tr><th>subject_id</th><th>timestamp</th><th>is_admission</th><th>is_discharge</th><th>is_death</th><th>is_discharge_or_death</th><th>is_lab</th><th>is_any</th></tr><tr><td>i64</td><td>datetime[μs]</td><td>i32</td><td>i32</td><td>i32</td><td>i32</td><td>i32</td><td>i32</td></tr></thead><tbody><tr><td>0</td><td>null</td><td>0</td><td>0</td><td>0</td><td>0</td><td>0</td><td>0</td></tr></tbody></table></div>"
      ],
      "text/plain": [
       "shape: (1, 8)\n",
       "┌────────────┬──────────────┬─────────────┬─────────────┬──────────┬─────────────┬────────┬────────┐\n",
       "│ subject_id ┆ timestamp    ┆ is_admissio ┆ is_discharg ┆ is_death ┆ is_discharg ┆ is_lab ┆ is_any │\n",
       "│ ---        ┆ ---          ┆ n           ┆ e           ┆ ---      ┆ e_or_death  ┆ ---    ┆ ---    │\n",
       "│ i64        ┆ datetime[μs] ┆ ---         ┆ ---         ┆ i32      ┆ ---         ┆ i32    ┆ i32    │\n",
       "│            ┆              ┆ i32         ┆ i32         ┆          ┆ i32         ┆        ┆        │\n",
       "╞════════════╪══════════════╪═════════════╪═════════════╪══════════╪═════════════╪════════╪════════╡\n",
       "│ 0          ┆ null         ┆ 0           ┆ 0           ┆ 0        ┆ 0           ┆ 0      ┆ 0      │\n",
       "└────────────┴──────────────┴─────────────┴─────────────┴──────────┴─────────────┴────────┴────────┘"
      ]
     },
     "metadata": {},
     "output_type": "display_data"
    },
    {
     "name": "stdout",
     "output_type": "stream",
     "text": [
      "Checking window: gap->target\n",
      "2130-10-10 19:03:00 2130-10-12 19:05:00\n",
      "{'is_admission': 0, 'is_discharge': 1, 'is_death': 0, 'is_discharge_or_death': 1, 'is_lab': 0, 'is_any': 1}\n"
     ]
    },
    {
     "data": {
      "text/html": [
       "<div><style>\n",
       ".dataframe > thead > tr,\n",
       ".dataframe > tbody > tr {\n",
       "  text-align: right;\n",
       "  white-space: pre-wrap;\n",
       "}\n",
       "</style>\n",
       "<small>shape: (1, 8)</small><table border=\"1\" class=\"dataframe\"><thead><tr><th>subject_id</th><th>timestamp</th><th>is_admission</th><th>is_discharge</th><th>is_death</th><th>is_discharge_or_death</th><th>is_lab</th><th>is_any</th></tr><tr><td>i64</td><td>datetime[μs]</td><td>i32</td><td>i32</td><td>i32</td><td>i32</td><td>i32</td><td>i32</td></tr></thead><tbody><tr><td>0</td><td>2130-10-12 19:05:00</td><td>0</td><td>1</td><td>0</td><td>1</td><td>0</td><td>1</td></tr></tbody></table></div>"
      ],
      "text/plain": [
       "shape: (1, 8)\n",
       "┌────────────┬──────────────┬─────────────┬─────────────┬──────────┬─────────────┬────────┬────────┐\n",
       "│ subject_id ┆ timestamp    ┆ is_admissio ┆ is_discharg ┆ is_death ┆ is_discharg ┆ is_lab ┆ is_any │\n",
       "│ ---        ┆ ---          ┆ n           ┆ e           ┆ ---      ┆ e_or_death  ┆ ---    ┆ ---    │\n",
       "│ i64        ┆ datetime[μs] ┆ ---         ┆ ---         ┆ i32      ┆ ---         ┆ i32    ┆ i32    │\n",
       "│            ┆              ┆ i32         ┆ i32         ┆          ┆ i32         ┆        ┆        │\n",
       "╞════════════╪══════════════╪═════════════╪═════════════╪══════════╪═════════════╪════════╪════════╡\n",
       "│ 0          ┆ 2130-10-12   ┆ 0           ┆ 1           ┆ 0        ┆ 1           ┆ 0      ┆ 1      │\n",
       "│            ┆ 19:05:00     ┆             ┆             ┆          ┆             ┆        ┆        │\n",
       "└────────────┴──────────────┴─────────────┴─────────────┴──────────┴─────────────┴────────┴────────┘"
      ]
     },
     "metadata": {},
     "output_type": "display_data"
    },
    {
     "data": {
      "text/html": [
       "<div><style>\n",
       ".dataframe > thead > tr,\n",
       ".dataframe > tbody > tr {\n",
       "  text-align: right;\n",
       "  white-space: pre-wrap;\n",
       "}\n",
       "</style>\n",
       "<small>shape: (1, 8)</small><table border=\"1\" class=\"dataframe\"><thead><tr><th>subject_id</th><th>timestamp</th><th>is_admission</th><th>is_discharge</th><th>is_death</th><th>is_discharge_or_death</th><th>is_lab</th><th>is_any</th></tr><tr><td>i64</td><td>datetime[μs]</td><td>i32</td><td>i32</td><td>i32</td><td>i32</td><td>i32</td><td>i32</td></tr></thead><tbody><tr><td>0</td><td>null</td><td>0</td><td>1</td><td>0</td><td>1</td><td>0</td><td>1</td></tr></tbody></table></div>"
      ],
      "text/plain": [
       "shape: (1, 8)\n",
       "┌────────────┬──────────────┬─────────────┬─────────────┬──────────┬─────────────┬────────┬────────┐\n",
       "│ subject_id ┆ timestamp    ┆ is_admissio ┆ is_discharg ┆ is_death ┆ is_discharg ┆ is_lab ┆ is_any │\n",
       "│ ---        ┆ ---          ┆ n           ┆ e           ┆ ---      ┆ e_or_death  ┆ ---    ┆ ---    │\n",
       "│ i64        ┆ datetime[μs] ┆ ---         ┆ ---         ┆ i32      ┆ ---         ┆ i32    ┆ i32    │\n",
       "│            ┆              ┆ i32         ┆ i32         ┆          ┆ i32         ┆        ┆        │\n",
       "╞════════════╪══════════════╪═════════════╪═════════════╪══════════╪═════════════╪════════╪════════╡\n",
       "│ 0          ┆ null         ┆ 0           ┆ 1           ┆ 0        ┆ 1           ┆ 0      ┆ 1      │\n",
       "└────────────┴──────────────┴─────────────┴─────────────┴──────────┴─────────────┴────────┴────────┘"
      ]
     },
     "metadata": {},
     "output_type": "display_data"
    },
    {
     "name": "stdout",
     "output_type": "stream",
     "text": [
      "Checking subject_id: 0\n",
      "Checking window: input->trigger\n",
      "2130-09-19 16:20:00 2130-10-19 16:20:00\n",
      "{'is_admission': 4, 'is_discharge': 3, 'is_death': 0, 'is_discharge_or_death': 3, 'is_lab': 0, 'is_any': 7}\n"
     ]
    },
    {
     "data": {
      "text/html": [
       "<div><style>\n",
       ".dataframe > thead > tr,\n",
       ".dataframe > tbody > tr {\n",
       "  text-align: right;\n",
       "  white-space: pre-wrap;\n",
       "}\n",
       "</style>\n",
       "<small>shape: (7, 8)</small><table border=\"1\" class=\"dataframe\"><thead><tr><th>subject_id</th><th>timestamp</th><th>is_admission</th><th>is_discharge</th><th>is_death</th><th>is_discharge_or_death</th><th>is_lab</th><th>is_any</th></tr><tr><td>i64</td><td>datetime[μs]</td><td>i32</td><td>i32</td><td>i32</td><td>i32</td><td>i32</td><td>i32</td></tr></thead><tbody><tr><td>0</td><td>2130-10-05 20:04:00</td><td>1</td><td>0</td><td>0</td><td>0</td><td>0</td><td>1</td></tr><tr><td>0</td><td>2130-10-06 15:05:00</td><td>0</td><td>1</td><td>0</td><td>1</td><td>0</td><td>1</td></tr><tr><td>0</td><td>2130-10-08 19:03:00</td><td>1</td><td>0</td><td>0</td><td>0</td><td>0</td><td>1</td></tr><tr><td>0</td><td>2130-10-12 19:05:00</td><td>0</td><td>1</td><td>0</td><td>1</td><td>0</td><td>1</td></tr><tr><td>0</td><td>2130-10-14 00:58:00</td><td>1</td><td>0</td><td>0</td><td>0</td><td>0</td><td>1</td></tr><tr><td>0</td><td>2130-10-14 13:57:00</td><td>0</td><td>1</td><td>0</td><td>1</td><td>0</td><td>1</td></tr><tr><td>0</td><td>2130-10-19 16:20:00</td><td>1</td><td>0</td><td>0</td><td>0</td><td>0</td><td>1</td></tr></tbody></table></div>"
      ],
      "text/plain": [
       "shape: (7, 8)\n",
       "┌────────────┬──────────────┬─────────────┬─────────────┬──────────┬─────────────┬────────┬────────┐\n",
       "│ subject_id ┆ timestamp    ┆ is_admissio ┆ is_discharg ┆ is_death ┆ is_discharg ┆ is_lab ┆ is_any │\n",
       "│ ---        ┆ ---          ┆ n           ┆ e           ┆ ---      ┆ e_or_death  ┆ ---    ┆ ---    │\n",
       "│ i64        ┆ datetime[μs] ┆ ---         ┆ ---         ┆ i32      ┆ ---         ┆ i32    ┆ i32    │\n",
       "│            ┆              ┆ i32         ┆ i32         ┆          ┆ i32         ┆        ┆        │\n",
       "╞════════════╪══════════════╪═════════════╪═════════════╪══════════╪═════════════╪════════╪════════╡\n",
       "│ 0          ┆ 2130-10-05   ┆ 1           ┆ 0           ┆ 0        ┆ 0           ┆ 0      ┆ 1      │\n",
       "│            ┆ 20:04:00     ┆             ┆             ┆          ┆             ┆        ┆        │\n",
       "│ 0          ┆ 2130-10-06   ┆ 0           ┆ 1           ┆ 0        ┆ 1           ┆ 0      ┆ 1      │\n",
       "│            ┆ 15:05:00     ┆             ┆             ┆          ┆             ┆        ┆        │\n",
       "│ 0          ┆ 2130-10-08   ┆ 1           ┆ 0           ┆ 0        ┆ 0           ┆ 0      ┆ 1      │\n",
       "│            ┆ 19:03:00     ┆             ┆             ┆          ┆             ┆        ┆        │\n",
       "│ 0          ┆ 2130-10-12   ┆ 0           ┆ 1           ┆ 0        ┆ 1           ┆ 0      ┆ 1      │\n",
       "│            ┆ 19:05:00     ┆             ┆             ┆          ┆             ┆        ┆        │\n",
       "│ 0          ┆ 2130-10-14   ┆ 1           ┆ 0           ┆ 0        ┆ 0           ┆ 0      ┆ 1      │\n",
       "│            ┆ 00:58:00     ┆             ┆             ┆          ┆             ┆        ┆        │\n",
       "│ 0          ┆ 2130-10-14   ┆ 0           ┆ 1           ┆ 0        ┆ 1           ┆ 0      ┆ 1      │\n",
       "│            ┆ 13:57:00     ┆             ┆             ┆          ┆             ┆        ┆        │\n",
       "│ 0          ┆ 2130-10-19   ┆ 1           ┆ 0           ┆ 0        ┆ 0           ┆ 0      ┆ 1      │\n",
       "│            ┆ 16:20:00     ┆             ┆             ┆          ┆             ┆        ┆        │\n",
       "└────────────┴──────────────┴─────────────┴─────────────┴──────────┴─────────────┴────────┴────────┘"
      ]
     },
     "metadata": {},
     "output_type": "display_data"
    },
    {
     "data": {
      "text/html": [
       "<div><style>\n",
       ".dataframe > thead > tr,\n",
       ".dataframe > tbody > tr {\n",
       "  text-align: right;\n",
       "  white-space: pre-wrap;\n",
       "}\n",
       "</style>\n",
       "<small>shape: (1, 8)</small><table border=\"1\" class=\"dataframe\"><thead><tr><th>subject_id</th><th>timestamp</th><th>is_admission</th><th>is_discharge</th><th>is_death</th><th>is_discharge_or_death</th><th>is_lab</th><th>is_any</th></tr><tr><td>i64</td><td>datetime[μs]</td><td>i32</td><td>i32</td><td>i32</td><td>i32</td><td>i32</td><td>i32</td></tr></thead><tbody><tr><td>0</td><td>null</td><td>4</td><td>3</td><td>0</td><td>3</td><td>0</td><td>7</td></tr></tbody></table></div>"
      ],
      "text/plain": [
       "shape: (1, 8)\n",
       "┌────────────┬──────────────┬─────────────┬─────────────┬──────────┬─────────────┬────────┬────────┐\n",
       "│ subject_id ┆ timestamp    ┆ is_admissio ┆ is_discharg ┆ is_death ┆ is_discharg ┆ is_lab ┆ is_any │\n",
       "│ ---        ┆ ---          ┆ n           ┆ e           ┆ ---      ┆ e_or_death  ┆ ---    ┆ ---    │\n",
       "│ i64        ┆ datetime[μs] ┆ ---         ┆ ---         ┆ i32      ┆ ---         ┆ i32    ┆ i32    │\n",
       "│            ┆              ┆ i32         ┆ i32         ┆          ┆ i32         ┆        ┆        │\n",
       "╞════════════╪══════════════╪═════════════╪═════════════╪══════════╪═════════════╪════════╪════════╡\n",
       "│ 0          ┆ null         ┆ 4           ┆ 3           ┆ 0        ┆ 3           ┆ 0      ┆ 7      │\n",
       "└────────────┴──────────────┴─────────────┴─────────────┴──────────┴─────────────┴────────┴────────┘"
      ]
     },
     "metadata": {},
     "output_type": "display_data"
    },
    {
     "name": "stdout",
     "output_type": "stream",
     "text": [
      "Checking window: trigger->gap\n",
      "2130-10-19 16:20:00 2130-10-21 16:20:00\n",
      "{'is_admission': 0, 'is_discharge': 0, 'is_death': 0, 'is_discharge_or_death': 0, 'is_lab': 0, 'is_any': 0}\n"
     ]
    },
    {
     "data": {
      "text/html": [
       "<div><style>\n",
       ".dataframe > thead > tr,\n",
       ".dataframe > tbody > tr {\n",
       "  text-align: right;\n",
       "  white-space: pre-wrap;\n",
       "}\n",
       "</style>\n",
       "<small>shape: (0, 8)</small><table border=\"1\" class=\"dataframe\"><thead><tr><th>subject_id</th><th>timestamp</th><th>is_admission</th><th>is_discharge</th><th>is_death</th><th>is_discharge_or_death</th><th>is_lab</th><th>is_any</th></tr><tr><td>i64</td><td>datetime[μs]</td><td>i32</td><td>i32</td><td>i32</td><td>i32</td><td>i32</td><td>i32</td></tr></thead><tbody></tbody></table></div>"
      ],
      "text/plain": [
       "shape: (0, 8)\n",
       "┌────────────┬──────────────┬─────────────┬─────────────┬──────────┬─────────────┬────────┬────────┐\n",
       "│ subject_id ┆ timestamp    ┆ is_admissio ┆ is_discharg ┆ is_death ┆ is_discharg ┆ is_lab ┆ is_any │\n",
       "│ ---        ┆ ---          ┆ n           ┆ e           ┆ ---      ┆ e_or_death  ┆ ---    ┆ ---    │\n",
       "│ i64        ┆ datetime[μs] ┆ ---         ┆ ---         ┆ i32      ┆ ---         ┆ i32    ┆ i32    │\n",
       "│            ┆              ┆ i32         ┆ i32         ┆          ┆ i32         ┆        ┆        │\n",
       "╞════════════╪══════════════╪═════════════╪═════════════╪══════════╪═════════════╪════════╪════════╡\n",
       "└────────────┴──────────────┴─────────────┴─────────────┴──────────┴─────────────┴────────┴────────┘"
      ]
     },
     "metadata": {},
     "output_type": "display_data"
    },
    {
     "data": {
      "text/html": [
       "<div><style>\n",
       ".dataframe > thead > tr,\n",
       ".dataframe > tbody > tr {\n",
       "  text-align: right;\n",
       "  white-space: pre-wrap;\n",
       "}\n",
       "</style>\n",
       "<small>shape: (1, 8)</small><table border=\"1\" class=\"dataframe\"><thead><tr><th>subject_id</th><th>timestamp</th><th>is_admission</th><th>is_discharge</th><th>is_death</th><th>is_discharge_or_death</th><th>is_lab</th><th>is_any</th></tr><tr><td>i64</td><td>datetime[μs]</td><td>i32</td><td>i32</td><td>i32</td><td>i32</td><td>i32</td><td>i32</td></tr></thead><tbody><tr><td>0</td><td>null</td><td>0</td><td>0</td><td>0</td><td>0</td><td>0</td><td>0</td></tr></tbody></table></div>"
      ],
      "text/plain": [
       "shape: (1, 8)\n",
       "┌────────────┬──────────────┬─────────────┬─────────────┬──────────┬─────────────┬────────┬────────┐\n",
       "│ subject_id ┆ timestamp    ┆ is_admissio ┆ is_discharg ┆ is_death ┆ is_discharg ┆ is_lab ┆ is_any │\n",
       "│ ---        ┆ ---          ┆ n           ┆ e           ┆ ---      ┆ e_or_death  ┆ ---    ┆ ---    │\n",
       "│ i64        ┆ datetime[μs] ┆ ---         ┆ ---         ┆ i32      ┆ ---         ┆ i32    ┆ i32    │\n",
       "│            ┆              ┆ i32         ┆ i32         ┆          ┆ i32         ┆        ┆        │\n",
       "╞════════════╪══════════════╪═════════════╪═════════════╪══════════╪═════════════╪════════╪════════╡\n",
       "│ 0          ┆ null         ┆ 0           ┆ 0           ┆ 0        ┆ 0           ┆ 0      ┆ 0      │\n",
       "└────────────┴──────────────┴─────────────┴─────────────┴──────────┴─────────────┴────────┴────────┘"
      ]
     },
     "metadata": {},
     "output_type": "display_data"
    },
    {
     "name": "stdout",
     "output_type": "stream",
     "text": [
      "Checking window: gap->target\n",
      "2130-10-21 16:20:00 2130-10-22 15:13:00\n",
      "{'is_admission': 0, 'is_discharge': 1, 'is_death': 0, 'is_discharge_or_death': 1, 'is_lab': 1, 'is_any': 2}\n"
     ]
    },
    {
     "data": {
      "text/html": [
       "<div><style>\n",
       ".dataframe > thead > tr,\n",
       ".dataframe > tbody > tr {\n",
       "  text-align: right;\n",
       "  white-space: pre-wrap;\n",
       "}\n",
       "</style>\n",
       "<small>shape: (2, 8)</small><table border=\"1\" class=\"dataframe\"><thead><tr><th>subject_id</th><th>timestamp</th><th>is_admission</th><th>is_discharge</th><th>is_death</th><th>is_discharge_or_death</th><th>is_lab</th><th>is_any</th></tr><tr><td>i64</td><td>datetime[μs]</td><td>i32</td><td>i32</td><td>i32</td><td>i32</td><td>i32</td><td>i32</td></tr></thead><tbody><tr><td>0</td><td>2130-10-21 21:20:00</td><td>0</td><td>0</td><td>0</td><td>0</td><td>1</td><td>1</td></tr><tr><td>0</td><td>2130-10-22 15:13:00</td><td>0</td><td>1</td><td>0</td><td>1</td><td>0</td><td>1</td></tr></tbody></table></div>"
      ],
      "text/plain": [
       "shape: (2, 8)\n",
       "┌────────────┬──────────────┬─────────────┬─────────────┬──────────┬─────────────┬────────┬────────┐\n",
       "│ subject_id ┆ timestamp    ┆ is_admissio ┆ is_discharg ┆ is_death ┆ is_discharg ┆ is_lab ┆ is_any │\n",
       "│ ---        ┆ ---          ┆ n           ┆ e           ┆ ---      ┆ e_or_death  ┆ ---    ┆ ---    │\n",
       "│ i64        ┆ datetime[μs] ┆ ---         ┆ ---         ┆ i32      ┆ ---         ┆ i32    ┆ i32    │\n",
       "│            ┆              ┆ i32         ┆ i32         ┆          ┆ i32         ┆        ┆        │\n",
       "╞════════════╪══════════════╪═════════════╪═════════════╪══════════╪═════════════╪════════╪════════╡\n",
       "│ 0          ┆ 2130-10-21   ┆ 0           ┆ 0           ┆ 0        ┆ 0           ┆ 1      ┆ 1      │\n",
       "│            ┆ 21:20:00     ┆             ┆             ┆          ┆             ┆        ┆        │\n",
       "│ 0          ┆ 2130-10-22   ┆ 0           ┆ 1           ┆ 0        ┆ 1           ┆ 0      ┆ 1      │\n",
       "│            ┆ 15:13:00     ┆             ┆             ┆          ┆             ┆        ┆        │\n",
       "└────────────┴──────────────┴─────────────┴─────────────┴──────────┴─────────────┴────────┴────────┘"
      ]
     },
     "metadata": {},
     "output_type": "display_data"
    },
    {
     "data": {
      "text/html": [
       "<div><style>\n",
       ".dataframe > thead > tr,\n",
       ".dataframe > tbody > tr {\n",
       "  text-align: right;\n",
       "  white-space: pre-wrap;\n",
       "}\n",
       "</style>\n",
       "<small>shape: (1, 8)</small><table border=\"1\" class=\"dataframe\"><thead><tr><th>subject_id</th><th>timestamp</th><th>is_admission</th><th>is_discharge</th><th>is_death</th><th>is_discharge_or_death</th><th>is_lab</th><th>is_any</th></tr><tr><td>i64</td><td>datetime[μs]</td><td>i32</td><td>i32</td><td>i32</td><td>i32</td><td>i32</td><td>i32</td></tr></thead><tbody><tr><td>0</td><td>null</td><td>0</td><td>1</td><td>0</td><td>1</td><td>1</td><td>2</td></tr></tbody></table></div>"
      ],
      "text/plain": [
       "shape: (1, 8)\n",
       "┌────────────┬──────────────┬─────────────┬─────────────┬──────────┬─────────────┬────────┬────────┐\n",
       "│ subject_id ┆ timestamp    ┆ is_admissio ┆ is_discharg ┆ is_death ┆ is_discharg ┆ is_lab ┆ is_any │\n",
       "│ ---        ┆ ---          ┆ n           ┆ e           ┆ ---      ┆ e_or_death  ┆ ---    ┆ ---    │\n",
       "│ i64        ┆ datetime[μs] ┆ ---         ┆ ---         ┆ i32      ┆ ---         ┆ i32    ┆ i32    │\n",
       "│            ┆              ┆ i32         ┆ i32         ┆          ┆ i32         ┆        ┆        │\n",
       "╞════════════╪══════════════╪═════════════╪═════════════╪══════════╪═════════════╪════════╪════════╡\n",
       "│ 0          ┆ null         ┆ 0           ┆ 1           ┆ 0        ┆ 1           ┆ 1      ┆ 2      │\n",
       "└────────────┴──────────────┴─────────────┴─────────────┴──────────┴─────────────┴────────┴────────┘"
      ]
     },
     "metadata": {},
     "output_type": "display_data"
    },
    {
     "name": "stdout",
     "output_type": "stream",
     "text": [
      "Checking subject_id: 0\n",
      "Checking window: input->trigger\n",
      "2130-11-27 21:23:00 2130-12-27 21:23:00\n",
      "{'is_admission': 4, 'is_discharge': 3, 'is_death': 0, 'is_discharge_or_death': 3, 'is_lab': 0, 'is_any': 7}\n"
     ]
    },
    {
     "data": {
      "text/html": [
       "<div><style>\n",
       ".dataframe > thead > tr,\n",
       ".dataframe > tbody > tr {\n",
       "  text-align: right;\n",
       "  white-space: pre-wrap;\n",
       "}\n",
       "</style>\n",
       "<small>shape: (7, 8)</small><table border=\"1\" class=\"dataframe\"><thead><tr><th>subject_id</th><th>timestamp</th><th>is_admission</th><th>is_discharge</th><th>is_death</th><th>is_discharge_or_death</th><th>is_lab</th><th>is_any</th></tr><tr><td>i64</td><td>datetime[μs]</td><td>i32</td><td>i32</td><td>i32</td><td>i32</td><td>i32</td><td>i32</td></tr></thead><tbody><tr><td>0</td><td>2130-11-28 16:47:00</td><td>1</td><td>0</td><td>0</td><td>0</td><td>0</td><td>1</td></tr><tr><td>0</td><td>2130-11-30 15:34:00</td><td>0</td><td>1</td><td>0</td><td>1</td><td>0</td><td>1</td></tr><tr><td>0</td><td>2130-12-06 20:14:00</td><td>1</td><td>0</td><td>0</td><td>0</td><td>0</td><td>1</td></tr><tr><td>0</td><td>2130-12-08 18:00:00</td><td>0</td><td>1</td><td>0</td><td>1</td><td>0</td><td>1</td></tr><tr><td>0</td><td>2130-12-23 19:32:00</td><td>1</td><td>0</td><td>0</td><td>0</td><td>0</td><td>1</td></tr><tr><td>0</td><td>2130-12-24 16:42:00</td><td>0</td><td>1</td><td>0</td><td>1</td><td>0</td><td>1</td></tr><tr><td>0</td><td>2130-12-27 21:23:00</td><td>1</td><td>0</td><td>0</td><td>0</td><td>0</td><td>1</td></tr></tbody></table></div>"
      ],
      "text/plain": [
       "shape: (7, 8)\n",
       "┌────────────┬──────────────┬─────────────┬─────────────┬──────────┬─────────────┬────────┬────────┐\n",
       "│ subject_id ┆ timestamp    ┆ is_admissio ┆ is_discharg ┆ is_death ┆ is_discharg ┆ is_lab ┆ is_any │\n",
       "│ ---        ┆ ---          ┆ n           ┆ e           ┆ ---      ┆ e_or_death  ┆ ---    ┆ ---    │\n",
       "│ i64        ┆ datetime[μs] ┆ ---         ┆ ---         ┆ i32      ┆ ---         ┆ i32    ┆ i32    │\n",
       "│            ┆              ┆ i32         ┆ i32         ┆          ┆ i32         ┆        ┆        │\n",
       "╞════════════╪══════════════╪═════════════╪═════════════╪══════════╪═════════════╪════════╪════════╡\n",
       "│ 0          ┆ 2130-11-28   ┆ 1           ┆ 0           ┆ 0        ┆ 0           ┆ 0      ┆ 1      │\n",
       "│            ┆ 16:47:00     ┆             ┆             ┆          ┆             ┆        ┆        │\n",
       "│ 0          ┆ 2130-11-30   ┆ 0           ┆ 1           ┆ 0        ┆ 1           ┆ 0      ┆ 1      │\n",
       "│            ┆ 15:34:00     ┆             ┆             ┆          ┆             ┆        ┆        │\n",
       "│ 0          ┆ 2130-12-06   ┆ 1           ┆ 0           ┆ 0        ┆ 0           ┆ 0      ┆ 1      │\n",
       "│            ┆ 20:14:00     ┆             ┆             ┆          ┆             ┆        ┆        │\n",
       "│ 0          ┆ 2130-12-08   ┆ 0           ┆ 1           ┆ 0        ┆ 1           ┆ 0      ┆ 1      │\n",
       "│            ┆ 18:00:00     ┆             ┆             ┆          ┆             ┆        ┆        │\n",
       "│ 0          ┆ 2130-12-23   ┆ 1           ┆ 0           ┆ 0        ┆ 0           ┆ 0      ┆ 1      │\n",
       "│            ┆ 19:32:00     ┆             ┆             ┆          ┆             ┆        ┆        │\n",
       "│ 0          ┆ 2130-12-24   ┆ 0           ┆ 1           ┆ 0        ┆ 1           ┆ 0      ┆ 1      │\n",
       "│            ┆ 16:42:00     ┆             ┆             ┆          ┆             ┆        ┆        │\n",
       "│ 0          ┆ 2130-12-27   ┆ 1           ┆ 0           ┆ 0        ┆ 0           ┆ 0      ┆ 1      │\n",
       "│            ┆ 21:23:00     ┆             ┆             ┆          ┆             ┆        ┆        │\n",
       "└────────────┴──────────────┴─────────────┴─────────────┴──────────┴─────────────┴────────┴────────┘"
      ]
     },
     "metadata": {},
     "output_type": "display_data"
    },
    {
     "data": {
      "text/html": [
       "<div><style>\n",
       ".dataframe > thead > tr,\n",
       ".dataframe > tbody > tr {\n",
       "  text-align: right;\n",
       "  white-space: pre-wrap;\n",
       "}\n",
       "</style>\n",
       "<small>shape: (1, 8)</small><table border=\"1\" class=\"dataframe\"><thead><tr><th>subject_id</th><th>timestamp</th><th>is_admission</th><th>is_discharge</th><th>is_death</th><th>is_discharge_or_death</th><th>is_lab</th><th>is_any</th></tr><tr><td>i64</td><td>datetime[μs]</td><td>i32</td><td>i32</td><td>i32</td><td>i32</td><td>i32</td><td>i32</td></tr></thead><tbody><tr><td>0</td><td>null</td><td>4</td><td>3</td><td>0</td><td>3</td><td>0</td><td>7</td></tr></tbody></table></div>"
      ],
      "text/plain": [
       "shape: (1, 8)\n",
       "┌────────────┬──────────────┬─────────────┬─────────────┬──────────┬─────────────┬────────┬────────┐\n",
       "│ subject_id ┆ timestamp    ┆ is_admissio ┆ is_discharg ┆ is_death ┆ is_discharg ┆ is_lab ┆ is_any │\n",
       "│ ---        ┆ ---          ┆ n           ┆ e           ┆ ---      ┆ e_or_death  ┆ ---    ┆ ---    │\n",
       "│ i64        ┆ datetime[μs] ┆ ---         ┆ ---         ┆ i32      ┆ ---         ┆ i32    ┆ i32    │\n",
       "│            ┆              ┆ i32         ┆ i32         ┆          ┆ i32         ┆        ┆        │\n",
       "╞════════════╪══════════════╪═════════════╪═════════════╪══════════╪═════════════╪════════╪════════╡\n",
       "│ 0          ┆ null         ┆ 4           ┆ 3           ┆ 0        ┆ 3           ┆ 0      ┆ 7      │\n",
       "└────────────┴──────────────┴─────────────┴─────────────┴──────────┴─────────────┴────────┴────────┘"
      ]
     },
     "metadata": {},
     "output_type": "display_data"
    },
    {
     "name": "stdout",
     "output_type": "stream",
     "text": [
      "Checking window: trigger->gap\n",
      "2130-12-27 21:23:00 2130-12-29 21:23:00\n",
      "{'is_admission': 0, 'is_discharge': 0, 'is_death': 0, 'is_discharge_or_death': 0, 'is_lab': 0, 'is_any': 0}\n"
     ]
    },
    {
     "data": {
      "text/html": [
       "<div><style>\n",
       ".dataframe > thead > tr,\n",
       ".dataframe > tbody > tr {\n",
       "  text-align: right;\n",
       "  white-space: pre-wrap;\n",
       "}\n",
       "</style>\n",
       "<small>shape: (0, 8)</small><table border=\"1\" class=\"dataframe\"><thead><tr><th>subject_id</th><th>timestamp</th><th>is_admission</th><th>is_discharge</th><th>is_death</th><th>is_discharge_or_death</th><th>is_lab</th><th>is_any</th></tr><tr><td>i64</td><td>datetime[μs]</td><td>i32</td><td>i32</td><td>i32</td><td>i32</td><td>i32</td><td>i32</td></tr></thead><tbody></tbody></table></div>"
      ],
      "text/plain": [
       "shape: (0, 8)\n",
       "┌────────────┬──────────────┬─────────────┬─────────────┬──────────┬─────────────┬────────┬────────┐\n",
       "│ subject_id ┆ timestamp    ┆ is_admissio ┆ is_discharg ┆ is_death ┆ is_discharg ┆ is_lab ┆ is_any │\n",
       "│ ---        ┆ ---          ┆ n           ┆ e           ┆ ---      ┆ e_or_death  ┆ ---    ┆ ---    │\n",
       "│ i64        ┆ datetime[μs] ┆ ---         ┆ ---         ┆ i32      ┆ ---         ┆ i32    ┆ i32    │\n",
       "│            ┆              ┆ i32         ┆ i32         ┆          ┆ i32         ┆        ┆        │\n",
       "╞════════════╪══════════════╪═════════════╪═════════════╪══════════╪═════════════╪════════╪════════╡\n",
       "└────────────┴──────────────┴─────────────┴─────────────┴──────────┴─────────────┴────────┴────────┘"
      ]
     },
     "metadata": {},
     "output_type": "display_data"
    },
    {
     "data": {
      "text/html": [
       "<div><style>\n",
       ".dataframe > thead > tr,\n",
       ".dataframe > tbody > tr {\n",
       "  text-align: right;\n",
       "  white-space: pre-wrap;\n",
       "}\n",
       "</style>\n",
       "<small>shape: (1, 8)</small><table border=\"1\" class=\"dataframe\"><thead><tr><th>subject_id</th><th>timestamp</th><th>is_admission</th><th>is_discharge</th><th>is_death</th><th>is_discharge_or_death</th><th>is_lab</th><th>is_any</th></tr><tr><td>i64</td><td>datetime[μs]</td><td>i32</td><td>i32</td><td>i32</td><td>i32</td><td>i32</td><td>i32</td></tr></thead><tbody><tr><td>0</td><td>null</td><td>0</td><td>0</td><td>0</td><td>0</td><td>0</td><td>0</td></tr></tbody></table></div>"
      ],
      "text/plain": [
       "shape: (1, 8)\n",
       "┌────────────┬──────────────┬─────────────┬─────────────┬──────────┬─────────────┬────────┬────────┐\n",
       "│ subject_id ┆ timestamp    ┆ is_admissio ┆ is_discharg ┆ is_death ┆ is_discharg ┆ is_lab ┆ is_any │\n",
       "│ ---        ┆ ---          ┆ n           ┆ e           ┆ ---      ┆ e_or_death  ┆ ---    ┆ ---    │\n",
       "│ i64        ┆ datetime[μs] ┆ ---         ┆ ---         ┆ i32      ┆ ---         ┆ i32    ┆ i32    │\n",
       "│            ┆              ┆ i32         ┆ i32         ┆          ┆ i32         ┆        ┆        │\n",
       "╞════════════╪══════════════╪═════════════╪═════════════╪══════════╪═════════════╪════════╪════════╡\n",
       "│ 0          ┆ null         ┆ 0           ┆ 0           ┆ 0        ┆ 0           ┆ 0      ┆ 0      │\n",
       "└────────────┴──────────────┴─────────────┴─────────────┴──────────┴─────────────┴────────┴────────┘"
      ]
     },
     "metadata": {},
     "output_type": "display_data"
    },
    {
     "name": "stdout",
     "output_type": "stream",
     "text": [
      "Checking window: gap->target\n",
      "2130-12-29 21:23:00 2130-12-30 15:33:00\n",
      "{'is_admission': 0, 'is_discharge': 1, 'is_death': 0, 'is_discharge_or_death': 1, 'is_lab': 0, 'is_any': 1}\n"
     ]
    },
    {
     "data": {
      "text/html": [
       "<div><style>\n",
       ".dataframe > thead > tr,\n",
       ".dataframe > tbody > tr {\n",
       "  text-align: right;\n",
       "  white-space: pre-wrap;\n",
       "}\n",
       "</style>\n",
       "<small>shape: (1, 8)</small><table border=\"1\" class=\"dataframe\"><thead><tr><th>subject_id</th><th>timestamp</th><th>is_admission</th><th>is_discharge</th><th>is_death</th><th>is_discharge_or_death</th><th>is_lab</th><th>is_any</th></tr><tr><td>i64</td><td>datetime[μs]</td><td>i32</td><td>i32</td><td>i32</td><td>i32</td><td>i32</td><td>i32</td></tr></thead><tbody><tr><td>0</td><td>2130-12-30 15:33:00</td><td>0</td><td>1</td><td>0</td><td>1</td><td>0</td><td>1</td></tr></tbody></table></div>"
      ],
      "text/plain": [
       "shape: (1, 8)\n",
       "┌────────────┬──────────────┬─────────────┬─────────────┬──────────┬─────────────┬────────┬────────┐\n",
       "│ subject_id ┆ timestamp    ┆ is_admissio ┆ is_discharg ┆ is_death ┆ is_discharg ┆ is_lab ┆ is_any │\n",
       "│ ---        ┆ ---          ┆ n           ┆ e           ┆ ---      ┆ e_or_death  ┆ ---    ┆ ---    │\n",
       "│ i64        ┆ datetime[μs] ┆ ---         ┆ ---         ┆ i32      ┆ ---         ┆ i32    ┆ i32    │\n",
       "│            ┆              ┆ i32         ┆ i32         ┆          ┆ i32         ┆        ┆        │\n",
       "╞════════════╪══════════════╪═════════════╪═════════════╪══════════╪═════════════╪════════╪════════╡\n",
       "│ 0          ┆ 2130-12-30   ┆ 0           ┆ 1           ┆ 0        ┆ 1           ┆ 0      ┆ 1      │\n",
       "│            ┆ 15:33:00     ┆             ┆             ┆          ┆             ┆        ┆        │\n",
       "└────────────┴──────────────┴─────────────┴─────────────┴──────────┴─────────────┴────────┴────────┘"
      ]
     },
     "metadata": {},
     "output_type": "display_data"
    },
    {
     "data": {
      "text/html": [
       "<div><style>\n",
       ".dataframe > thead > tr,\n",
       ".dataframe > tbody > tr {\n",
       "  text-align: right;\n",
       "  white-space: pre-wrap;\n",
       "}\n",
       "</style>\n",
       "<small>shape: (1, 8)</small><table border=\"1\" class=\"dataframe\"><thead><tr><th>subject_id</th><th>timestamp</th><th>is_admission</th><th>is_discharge</th><th>is_death</th><th>is_discharge_or_death</th><th>is_lab</th><th>is_any</th></tr><tr><td>i64</td><td>datetime[μs]</td><td>i32</td><td>i32</td><td>i32</td><td>i32</td><td>i32</td><td>i32</td></tr></thead><tbody><tr><td>0</td><td>null</td><td>0</td><td>1</td><td>0</td><td>1</td><td>0</td><td>1</td></tr></tbody></table></div>"
      ],
      "text/plain": [
       "shape: (1, 8)\n",
       "┌────────────┬──────────────┬─────────────┬─────────────┬──────────┬─────────────┬────────┬────────┐\n",
       "│ subject_id ┆ timestamp    ┆ is_admissio ┆ is_discharg ┆ is_death ┆ is_discharg ┆ is_lab ┆ is_any │\n",
       "│ ---        ┆ ---          ┆ n           ┆ e           ┆ ---      ┆ e_or_death  ┆ ---    ┆ ---    │\n",
       "│ i64        ┆ datetime[μs] ┆ ---         ┆ ---         ┆ i32      ┆ ---         ┆ i32    ┆ i32    │\n",
       "│            ┆              ┆ i32         ┆ i32         ┆          ┆ i32         ┆        ┆        │\n",
       "╞════════════╪══════════════╪═════════════╪═════════════╪══════════╪═════════════╪════════╪════════╡\n",
       "│ 0          ┆ null         ┆ 0           ┆ 1           ┆ 0        ┆ 1           ┆ 0      ┆ 1      │\n",
       "└────────────┴──────────────┴─────────────┴─────────────┴──────────┴─────────────┴────────┴────────┘"
      ]
     },
     "metadata": {},
     "output_type": "display_data"
    }
   ],
   "source": [
    "config_path = '../sample_configs/inhospital_mortality.yaml'\n",
    "# config_path = '../sample_configs/abnormal_lab.yaml'\n",
    "# config_path = '../sample_configs/imminent_mortality.yaml'\n",
    "# config_path = '../sample_configs/intervention_weaning.yaml'\n",
    "# config_path = '../sample_configs/long_term_incidence.yaml'\n",
    "# config_path = '../sample_configs/readmission_risk.yaml'\n",
    "df_temp = pl.from_pandas(pd.read_csv('test.csv'))\n",
    "df_temp = df_temp.with_columns(\n",
    "    pl.col(\"timestamp\")\n",
    "    .str.strptime(pl.Datetime, format=\"%m/%d/%Y %H:%M\")\n",
    "    .cast(pl.Datetime)\n",
    ")\n",
    "# display(df_temp)\n",
    "validate_query(config_path, df_temp, samples=10, seed=42)"
   ]
  },
  {
   "cell_type": "code",
   "execution_count": 6,
   "metadata": {},
   "outputs": [
    {
     "name": "stdout",
     "output_type": "stream",
     "text": [
      "Loading config...\n",
      "\n",
      "Generating predicate columns...\n",
      "\n"
     ]
    },
    {
     "name": "stdout",
     "output_type": "stream",
     "text": [
      "Added predicate column is_admission.\n",
      "Added predicate column is_discharge.\n",
      "Added predicate column is_death.\n",
      "Added predicate column is_discharge_or_death.\n",
      "\n",
      "Building tree...\n",
      "trigger\n",
      "┣━━ gap\n",
      "┃   ┗━━ target\n",
      "┗━━ input\n",
      "\n",
      "\n",
      "12127 subjects (14623763 rows) were excluded due to trigger event: admission.\n",
      "\n",
      "\n",
      "Querying...\n",
      "\n",
      "\n",
      "Querying subtree rooted at gap...\n",
      "342 subjects (631 rows) were excluded due to constraint: [(col(\"is_admission\")) <= (0)].\n",
      "7143 subjects (17534 rows) were excluded due to constraint: [(col(\"is_discharge\")) <= (0)].\n",
      "\n",
      "\n",
      "Querying subtree rooted at target...\n",
      "75 subjects (100 rows) were excluded due to constraint: [(col(\"is_discharge_or_death\")) >= (1)].\n",
      "5721 subjects (14185 rows) were excluded due to constraint: [(col(\"is_discharge_or_death\")) <= (1)].\n",
      "\n",
      "\n",
      "Querying subtree rooted at input...\n",
      "\n",
      "\n",
      "Done.\n",
      "\n"
     ]
    }
   ],
   "source": [
    "config_path = '../sample_configs/inhospital_mortality.yaml'\n",
    "df_result = main.query_task(config_path, ESD_data, verbose=True)"
   ]
  },
  {
   "cell_type": "code",
   "execution_count": 7,
   "metadata": {},
   "outputs": [
    {
     "data": {
      "text/html": [
       "<div><style>\n",
       ".dataframe > thead > tr,\n",
       ".dataframe > tbody > tr {\n",
       "  text-align: right;\n",
       "  white-space: pre-wrap;\n",
       "}\n",
       "</style>\n",
       "<small>shape: (52_418, 9)</small><table border=\"1\" class=\"dataframe\"><thead><tr><th>subject_id</th><th>trigger/timestamp</th><th>gap/timestamp</th><th>target/timestamp</th><th>input/timestamp</th><th>gap/window_summary</th><th>target/window_summary</th><th>input/window_summary</th><th>label</th></tr><tr><td>u16</td><td>datetime[μs]</td><td>datetime[μs]</td><td>datetime[μs]</td><td>datetime[μs]</td><td>struct[5]</td><td>struct[5]</td><td>struct[5]</td><td>i32</td></tr></thead><tbody><tr><td>0</td><td>2125-11-30 16:02:00</td><td>2125-12-02 16:02:00</td><td>2125-12-03 14:44:00</td><td>1852-02-16 16:02:00</td><td>{0,0,0,0,0}</td><td>{0,1,0,1,1}</td><td>{3,2,0,2,5}</td><td>0</td></tr><tr><td>0</td><td>2130-04-15 21:10:00</td><td>2130-04-17 21:10:00</td><td>2130-04-19 16:00:00</td><td>1856-07-01 21:10:00</td><td>{0,0,0,0,0}</td><td>{0,1,0,1,1}</td><td>{10,9,0,9,19}</td><td>0</td></tr><tr><td>0</td><td>2130-08-21 15:26:00</td><td>2130-08-23 15:26:00</td><td>2130-08-23 16:40:00</td><td>1856-11-06 15:26:00</td><td>{0,0,0,0,0}</td><td>{0,1,0,1,1}</td><td>{12,11,0,11,23}</td><td>0</td></tr><tr><td>0</td><td>2130-10-08 19:03:00</td><td>2130-10-10 19:03:00</td><td>2130-10-12 19:05:00</td><td>1856-12-24 19:03:00</td><td>{0,0,0,0,0}</td><td>{0,1,0,1,1}</td><td>{14,13,0,13,27}</td><td>0</td></tr><tr><td>0</td><td>2130-10-19 16:20:00</td><td>2130-10-21 16:20:00</td><td>2130-10-22 15:13:00</td><td>1857-01-04 16:20:00</td><td>{0,0,0,0,0}</td><td>{0,1,0,1,1}</td><td>{16,15,0,15,31}</td><td>0</td></tr><tr><td>0</td><td>2130-12-27 21:23:00</td><td>2130-12-29 21:23:00</td><td>2130-12-30 15:33:00</td><td>1857-03-14 21:23:00</td><td>{0,0,0,0,0}</td><td>{0,1,0,1,1}</td><td>{21,20,0,20,41}</td><td>0</td></tr><tr><td>0</td><td>2131-01-07 20:39:00</td><td>2131-01-09 20:39:00</td><td>2131-01-20 05:15:00</td><td>1857-03-25 20:39:00</td><td>{0,0,0,0,0}</td><td>{0,1,1,1,1009}</td><td>{22,21,0,21,43}</td><td>1</td></tr><tr><td>1</td><td>2128-07-29 17:01:00</td><td>2128-07-31 17:01:00</td><td>2128-07-31 18:00:00</td><td>1854-10-15 17:01:00</td><td>{0,0,0,0,0}</td><td>{0,1,0,1,1}</td><td>{1,0,0,0,1}</td><td>0</td></tr><tr><td>1</td><td>2129-08-04 12:44:00</td><td>2129-08-06 12:44:00</td><td>2129-08-18 16:53:00</td><td>1855-10-21 12:44:00</td><td>{0,0,0,0,124}</td><td>{0,1,0,1,242}</td><td>{2,1,0,1,3}</td><td>0</td></tr><tr><td>1</td><td>2130-09-23 21:59:00</td><td>2130-09-25 21:59:00</td><td>2130-09-29 18:55:00</td><td>1856-12-09 21:59:00</td><td>{0,0,0,0,113}</td><td>{0,1,0,1,101}</td><td>{4,3,0,3,372}</td><td>0</td></tr><tr><td>2</td><td>2156-04-12 14:16:00</td><td>2156-04-14 14:16:00</td><td>2156-04-29 16:26:00</td><td>1882-06-29 14:16:00</td><td>{0,0,0,0,222}</td><td>{0,1,0,1,917}</td><td>{2,1,0,1,3}</td><td>0</td></tr><tr><td>2</td><td>2156-04-30 20:35:00</td><td>2156-05-02 20:35:00</td><td>2156-05-03 16:36:00</td><td>1882-07-17 20:35:00</td><td>{0,0,0,0,159}</td><td>{0,1,0,1,6}</td><td>{3,2,0,2,1143}</td><td>0</td></tr><tr><td>2</td><td>2156-05-11 14:49:00</td><td>2156-05-13 14:49:00</td><td>2156-05-22 14:16:00</td><td>1882-07-28 14:49:00</td><td>{0,0,0,0,254}</td><td>{0,1,0,1,658}</td><td>{4,3,0,3,1309}</td><td>0</td></tr><tr><td>2</td><td>2157-07-16 04:09:00</td><td>2157-07-18 04:09:00</td><td>2157-07-18 16:49:00</td><td>1883-10-02 04:09:00</td><td>{0,0,0,0,0}</td><td>{0,1,0,1,1}</td><td>{5,4,0,4,2223}</td><td>0</td></tr><tr><td>2</td><td>2160-04-14 12:30:00</td><td>2160-04-16 12:30:00</td><td>2160-04-18 16:00:00</td><td>1886-07-01 12:30:00</td><td>{0,0,0,0,0}</td><td>{0,1,0,1,1}</td><td>{6,5,0,5,2225}</td><td>0</td></tr><tr><td>3</td><td>2136-11-04 20:43:00</td><td>2136-11-06 20:43:00</td><td>2136-11-12 17:40:00</td><td>1863-01-21 20:43:00</td><td>{0,0,0,0,0}</td><td>{0,1,0,1,1}</td><td>{2,1,0,1,3}</td><td>0</td></tr><tr><td>3</td><td>2136-12-09 14:44:00</td><td>2136-12-11 14:44:00</td><td>2136-12-15 16:00:00</td><td>1863-02-25 14:44:00</td><td>{0,0,0,0,0}</td><td>{0,1,0,1,1}</td><td>{3,2,0,2,5}</td><td>0</td></tr><tr><td>3</td><td>2136-12-31 21:40:00</td><td>2137-01-02 21:40:00</td><td>2137-01-03 17:05:00</td><td>1863-03-19 21:40:00</td><td>{0,0,0,0,0}</td><td>{0,1,0,1,1}</td><td>{4,3,0,3,7}</td><td>0</td></tr><tr><td>3</td><td>2137-02-07 19:42:00</td><td>2137-02-09 19:42:00</td><td>2137-02-18 18:30:00</td><td>1863-04-26 19:42:00</td><td>{0,0,0,0,0}</td><td>{0,1,0,1,1}</td><td>{5,4,0,4,9}</td><td>0</td></tr><tr><td>3</td><td>2137-02-24 10:00:00</td><td>2137-02-26 10:00:00</td><td>2137-03-19 15:45:00</td><td>1863-05-13 10:00:00</td><td>{0,0,0,0,169}</td><td>{0,1,0,1,1235}</td><td>{6,5,0,5,11}</td><td>0</td></tr><tr><td>3</td><td>2137-08-04 00:07:00</td><td>2137-08-06 00:07:00</td><td>2137-09-02 17:05:00</td><td>1863-10-21 00:07:00</td><td>{0,0,0,0,0}</td><td>{0,1,1,1,1898}</td><td>{7,6,0,6,1416}</td><td>1</td></tr><tr><td>4</td><td>2196-02-24 14:38:00</td><td>2196-02-26 14:38:00</td><td>2196-03-04 14:02:00</td><td>1922-05-13 14:38:00</td><td>{0,0,0,0,441}</td><td>{0,1,0,1,409}</td><td>{1,0,0,0,1}</td><td>0</td></tr><tr><td>4</td><td>2196-06-14 08:30:00</td><td>2196-06-16 08:30:00</td><td>2196-06-19 14:54:00</td><td>1922-09-01 08:30:00</td><td>{0,0,0,0,0}</td><td>{0,1,0,1,1}</td><td>{2,1,0,1,852}</td><td>0</td></tr><tr><td>5</td><td>2141-06-06 19:20:00</td><td>2141-06-08 19:20:00</td><td>2141-06-09 12:34:00</td><td>1867-08-23 19:20:00</td><td>{0,0,0,0,0}</td><td>{0,1,0,1,1}</td><td>{1,0,0,0,1}</td><td>0</td></tr><tr><td>5</td><td>2143-06-19 18:28:00</td><td>2143-06-21 18:28:00</td><td>2143-06-22 14:15:00</td><td>1869-09-04 18:28:00</td><td>{0,0,0,0,0}</td><td>{0,1,0,1,1}</td><td>{5,4,0,4,9}</td><td>0</td></tr><tr><td>5</td><td>2144-01-23 07:58:00</td><td>2144-01-25 07:58:00</td><td>2144-02-06 11:45:00</td><td>1870-04-10 07:58:00</td><td>{0,0,0,0,0}</td><td>{0,1,0,1,982}</td><td>{6,5,0,5,11}</td><td>0</td></tr><tr><td>5</td><td>2144-02-11 18:13:00</td><td>2144-02-13 18:13:00</td><td>2144-02-19 14:30:00</td><td>1870-04-29 18:13:00</td><td>{0,0,0,0,95}</td><td>{0,1,0,1,397}</td><td>{7,6,0,6,996}</td><td>0</td></tr><tr><td>5</td><td>2144-04-05 09:31:00</td><td>2144-04-07 09:31:00</td><td>2144-04-09 17:30:00</td><td>1870-06-22 09:31:00</td><td>{0,0,0,0,208}</td><td>{0,1,0,1,152}</td><td>{8,7,0,7,1494}</td><td>0</td></tr><tr><td>5</td><td>2144-04-11 03:31:00</td><td>2144-04-13 03:31:00</td><td>2144-04-13 17:31:00</td><td>1870-06-28 03:31:00</td><td>{0,0,0,0,176}</td><td>{0,1,0,1,35}</td><td>{9,8,0,8,1858}</td><td>0</td></tr><tr><td>5</td><td>2144-04-21 20:29:00</td><td>2144-04-23 20:29:00</td><td>2144-05-01 13:00:00</td><td>1870-07-08 20:29:00</td><td>{0,0,0,0,214}</td><td>{0,1,0,1,660}</td><td>{10,9,0,9,2071}</td><td>0</td></tr><tr><td>5</td><td>2144-05-15 23:05:00</td><td>2144-05-17 23:05:00</td><td>2144-05-22 20:05:00</td><td>1870-08-01 23:05:00</td><td>{0,0,0,0,191}</td><td>{0,1,0,1,395}</td><td>{11,10,0,10,2953}</td><td>0</td></tr><tr><td>5</td><td>2144-06-05 19:45:00</td><td>2144-06-07 19:45:00</td><td>2144-06-18 21:30:00</td><td>1870-08-22 19:45:00</td><td>{0,0,0,0,170}</td><td>{0,1,1,1,936}</td><td>{12,11,0,11,3542}</td><td>1</td></tr><tr><td>6</td><td>2159-02-20 13:43:00</td><td>2159-02-22 13:43:00</td><td>2159-03-06 16:51:00</td><td>1885-05-08 13:43:00</td><td>{0,0,0,0,234}</td><td>{0,1,0,1,421}</td><td>{1,0,0,0,1}</td><td>0</td></tr><tr><td>6</td><td>2159-03-14 20:02:00</td><td>2159-03-16 20:02:00</td><td>2159-03-22 14:00:00</td><td>1885-05-30 20:02:00</td><td>{0,0,0,0,0}</td><td>{0,1,0,1,1}</td><td>{2,1,0,1,657}</td><td>0</td></tr><tr><td>6</td><td>2159-04-05 01:58:00</td><td>2159-04-07 01:58:00</td><td>2159-04-11 19:05:00</td><td>1885-06-21 01:58:00</td><td>{0,0,0,0,0}</td><td>{0,1,0,1,1}</td><td>{3,2,0,2,659}</td><td>0</td></tr><tr><td>6</td><td>2159-09-14 02:34:00</td><td>2159-09-16 02:34:00</td><td>2159-09-22 16:25:00</td><td>1885-11-30 02:34:00</td><td>{0,0,0,0,0}</td><td>{0,1,0,1,1}</td><td>{4,3,0,3,661}</td><td>0</td></tr><tr><td>7</td><td>2143-12-06 00:54:00</td><td>2143-12-08 00:54:00</td><td>2143-12-16 16:00:00</td><td>1870-02-21 00:54:00</td><td>{0,0,0,0,265}</td><td>{0,1,0,1,702}</td><td>{1,0,0,0,1}</td><td>0</td></tr><tr><td>7</td><td>2144-03-06 17:43:00</td><td>2144-03-08 17:43:00</td><td>2144-03-08 20:00:00</td><td>1870-05-23 17:43:00</td><td>{0,0,0,0,0}</td><td>{0,1,0,1,1}</td><td>{2,1,0,1,969}</td><td>0</td></tr><tr><td>8</td><td>2132-12-12 01:43:00</td><td>2132-12-14 01:43:00</td><td>2132-12-20 15:04:00</td><td>1859-02-28 01:43:00</td><td>{0,0,0,0,0}</td><td>{0,1,0,1,288}</td><td>{1,0,0,0,1}</td><td>0</td></tr><tr><td>8</td><td>2135-01-03 21:54:00</td><td>2135-01-05 21:54:00</td><td>2135-01-19 18:36:00</td><td>1861-03-21 21:54:00</td><td>{0,0,0,0,201}</td><td>{0,1,1,1,1867}</td><td>{2,1,0,1,290}</td><td>1</td></tr><tr><td>9</td><td>2120-11-16 22:34:00</td><td>2120-11-18 22:34:00</td><td>2120-12-18 14:04:00</td><td>1847-02-02 22:34:00</td><td>{0,0,0,0,177}</td><td>{0,1,0,1,358}</td><td>{1,0,0,0,1}</td><td>0</td></tr><tr><td>9</td><td>2121-06-11 04:57:00</td><td>2121-06-13 04:57:00</td><td>2121-06-16 18:40:00</td><td>1847-08-28 04:57:00</td><td>{0,0,0,0,0}</td><td>{0,1,0,1,1}</td><td>{3,2,0,2,539}</td><td>0</td></tr><tr><td>10</td><td>2132-06-16 00:58:00</td><td>2132-06-18 00:58:00</td><td>2132-06-18 14:50:00</td><td>1858-09-02 00:58:00</td><td>{0,0,0,0,0}</td><td>{0,1,0,1,1}</td><td>{1,0,0,0,1}</td><td>0</td></tr><tr><td>10</td><td>2136-08-27 17:14:00</td><td>2136-08-29 17:14:00</td><td>2136-08-30 16:59:00</td><td>1862-11-13 17:14:00</td><td>{0,0,0,0,0}</td><td>{0,1,0,1,1}</td><td>{6,5,0,5,11}</td><td>0</td></tr><tr><td>10</td><td>2138-12-04 16:52:00</td><td>2138-12-06 16:52:00</td><td>2138-12-10 17:56:00</td><td>1865-02-19 16:52:00</td><td>{0,0,0,0,157}</td><td>{0,1,0,1,67}</td><td>{8,7,0,7,15}</td><td>0</td></tr><tr><td>10</td><td>2138-12-28 02:56:00</td><td>2138-12-30 02:56:00</td><td>2139-01-01 15:00:00</td><td>1865-03-15 02:56:00</td><td>{0,0,0,0,0}</td><td>{0,1,0,1,1}</td><td>{11,10,0,10,244}</td><td>0</td></tr><tr><td>11</td><td>2155-05-08 17:05:00</td><td>2155-05-10 17:05:00</td><td>2155-05-10 18:55:00</td><td>1881-07-24 17:05:00</td><td>{0,0,0,0,0}</td><td>{0,1,0,1,1}</td><td>{1,0,0,0,1}</td><td>0</td></tr><tr><td>11</td><td>2155-12-02 19:36:00</td><td>2155-12-04 19:36:00</td><td>2155-12-07 15:30:00</td><td>1882-02-17 19:36:00</td><td>{0,0,0,0,244}</td><td>{0,1,1,1,334}</td><td>{2,1,0,1,3}</td><td>1</td></tr><tr><td>12</td><td>2140-05-31 07:15:00</td><td>2140-06-02 07:15:00</td><td>2140-06-13 10:40:00</td><td>1866-08-17 07:15:00</td><td>{0,0,0,0,0}</td><td>{0,1,0,1,1}</td><td>{1,0,0,0,1}</td><td>0</td></tr><tr><td>12</td><td>2140-08-21 01:52:00</td><td>2140-08-23 01:52:00</td><td>2140-09-06 16:00:00</td><td>1866-11-07 01:52:00</td><td>{0,0,0,0,179}</td><td>{0,1,0,1,131}</td><td>{2,1,0,1,3}</td><td>0</td></tr><tr><td>&hellip;</td><td>&hellip;</td><td>&hellip;</td><td>&hellip;</td><td>&hellip;</td><td>&hellip;</td><td>&hellip;</td><td>&hellip;</td><td>&hellip;</td></tr><tr><td>12112</td><td>2163-12-09 20:45:00</td><td>2163-12-11 20:45:00</td><td>2163-12-13 16:36:00</td><td>1890-02-24 20:45:00</td><td>{0,0,0,0,0}</td><td>{0,1,0,1,1}</td><td>{24,23,0,23,530}</td><td>0</td></tr><tr><td>12112</td><td>2163-12-23 16:52:00</td><td>2163-12-25 16:52:00</td><td>2163-12-26 15:00:00</td><td>1890-03-10 16:52:00</td><td>{0,0,0,0,0}</td><td>{0,1,0,1,1}</td><td>{25,24,0,24,532}</td><td>0</td></tr><tr><td>12112</td><td>2165-05-17 16:42:00</td><td>2165-05-19 16:42:00</td><td>2165-05-23 16:45:00</td><td>1891-08-03 16:42:00</td><td>{0,0,0,0,0}</td><td>{0,1,0,1,1}</td><td>{27,26,0,26,536}</td><td>0</td></tr><tr><td>12112</td><td>2165-05-31 12:31:00</td><td>2165-06-02 12:31:00</td><td>2165-06-15 17:15:00</td><td>1891-08-17 12:31:00</td><td>{0,0,0,0,0}</td><td>{0,1,0,1,1}</td><td>{28,27,0,27,538}</td><td>0</td></tr><tr><td>12112</td><td>2165-12-13 16:29:00</td><td>2165-12-15 16:29:00</td><td>2165-12-17 19:10:00</td><td>1892-02-29 16:29:00</td><td>{0,0,0,0,0}</td><td>{0,1,0,1,1}</td><td>{29,28,0,28,540}</td><td>0</td></tr><tr><td>12112</td><td>2166-04-21 19:05:00</td><td>2166-04-23 19:05:00</td><td>2166-04-30 17:30:00</td><td>1892-07-07 19:05:00</td><td>{0,0,0,0,0}</td><td>{0,1,0,1,1}</td><td>{30,29,0,29,542}</td><td>0</td></tr><tr><td>12112</td><td>2166-07-15 16:18:00</td><td>2166-07-17 16:18:00</td><td>2166-07-19 16:35:00</td><td>1892-09-30 16:18:00</td><td>{0,0,0,0,0}</td><td>{0,1,0,1,1}</td><td>{31,30,0,30,544}</td><td>0</td></tr><tr><td>12113</td><td>2152-06-20 07:27:00</td><td>2152-06-22 07:27:00</td><td>2152-06-28 17:30:00</td><td>1878-09-06 07:27:00</td><td>{0,0,0,0,88}</td><td>{0,1,0,1,233}</td><td>{1,0,0,0,1}</td><td>0</td></tr><tr><td>12113</td><td>2152-07-17 08:03:00</td><td>2152-07-19 08:03:00</td><td>2152-07-24 02:56:00</td><td>1878-10-03 08:03:00</td><td>{0,0,0,0,168}</td><td>{0,1,0,1,377}</td><td>{3,2,0,2,325}</td><td>0</td></tr><tr><td>12114</td><td>2166-05-19 09:30:00</td><td>2166-05-21 09:30:00</td><td>2166-06-04 15:00:00</td><td>1892-08-04 09:30:00</td><td>{0,0,0,0,0}</td><td>{0,1,0,1,1}</td><td>{1,0,0,0,1}</td><td>0</td></tr><tr><td>12114</td><td>2166-09-14 07:15:00</td><td>2166-09-16 07:15:00</td><td>2166-10-02 17:02:00</td><td>1892-11-30 07:15:00</td><td>{0,0,0,0,256}</td><td>{0,1,0,1,767}</td><td>{2,1,0,1,3}</td><td>0</td></tr><tr><td>12115</td><td>2183-04-28 23:09:00</td><td>2183-04-30 23:09:00</td><td>2183-05-03 15:49:00</td><td>1909-07-15 23:09:00</td><td>{0,0,0,0,0}</td><td>{0,1,0,1,1}</td><td>{1,0,0,0,1}</td><td>0</td></tr><tr><td>12115</td><td>2185-11-03 00:00:00</td><td>2185-11-05 00:00:00</td><td>2185-11-12 19:13:00</td><td>1912-01-21 00:00:00</td><td>{0,0,0,0,252}</td><td>{0,1,0,1,409}</td><td>{2,1,0,1,3}</td><td>0</td></tr><tr><td>12115</td><td>2185-11-13 17:22:00</td><td>2185-11-15 17:22:00</td><td>2185-11-17 00:00:00</td><td>1912-01-31 17:22:00</td><td>{0,0,0,0,0}</td><td>{0,0,1,1,1}</td><td>{3,2,0,2,665}</td><td>1</td></tr><tr><td>12116</td><td>2130-09-03 14:57:00</td><td>2130-09-05 14:57:00</td><td>2130-09-05 16:02:00</td><td>1856-11-19 14:57:00</td><td>{0,0,0,0,0}</td><td>{0,1,0,1,1}</td><td>{1,0,0,0,1}</td><td>0</td></tr><tr><td>12116</td><td>2130-12-12 06:52:00</td><td>2130-12-14 06:52:00</td><td>2130-12-15 16:09:00</td><td>1857-02-27 06:52:00</td><td>{0,0,0,0,0}</td><td>{0,1,0,1,1}</td><td>{2,1,0,1,3}</td><td>0</td></tr><tr><td>12116</td><td>2134-04-06 02:48:00</td><td>2134-04-08 02:48:00</td><td>2134-04-09 10:30:00</td><td>1860-06-22 02:48:00</td><td>{0,0,0,0,102}</td><td>{0,1,0,1,46}</td><td>{3,2,0,2,5}</td><td>0</td></tr><tr><td>12116</td><td>2134-06-11 11:40:00</td><td>2134-06-13 11:40:00</td><td>2134-06-28 14:45:00</td><td>1860-08-27 11:40:00</td><td>{0,0,0,0,0}</td><td>{0,1,0,1,1}</td><td>{5,4,0,4,156}</td><td>0</td></tr><tr><td>12116</td><td>2134-10-17 01:30:00</td><td>2134-10-19 01:30:00</td><td>2134-11-02 11:30:00</td><td>1861-01-02 01:30:00</td><td>{0,0,0,0,0}</td><td>{0,1,0,1,198}</td><td>{6,5,0,5,158}</td><td>0</td></tr><tr><td>12116</td><td>2136-04-21 10:07:00</td><td>2136-04-23 10:07:00</td><td>2136-05-08 11:15:00</td><td>1862-07-08 10:07:00</td><td>{0,0,0,0,0}</td><td>{0,1,0,1,1}</td><td>{9,8,0,8,361}</td><td>0</td></tr><tr><td>12117</td><td>2180-08-30 07:45:00</td><td>2180-09-01 07:45:00</td><td>2180-09-03 12:15:00</td><td>1906-11-17 07:45:00</td><td>{0,0,0,0,143}</td><td>{0,1,0,1,19}</td><td>{1,0,0,0,1}</td><td>0</td></tr><tr><td>12117</td><td>2180-12-14 07:15:00</td><td>2180-12-16 07:15:00</td><td>2180-12-22 14:40:00</td><td>1907-03-03 07:15:00</td><td>{0,0,0,0,125}</td><td>{0,1,0,1,1}</td><td>{2,1,0,1,165}</td><td>0</td></tr><tr><td>12117</td><td>2181-03-13 02:58:00</td><td>2181-03-15 02:58:00</td><td>2181-04-02 16:55:00</td><td>1907-05-31 02:58:00</td><td>{0,0,0,0,0}</td><td>{0,1,0,1,356}</td><td>{3,2,0,2,292}</td><td>0</td></tr><tr><td>12117</td><td>2181-04-18 19:57:00</td><td>2181-04-20 19:57:00</td><td>2181-05-01 14:00:00</td><td>1907-07-06 19:57:00</td><td>{0,0,0,0,0}</td><td>{0,1,0,1,1}</td><td>{4,3,0,3,649}</td><td>0</td></tr><tr><td>12118</td><td>2125-10-20 11:30:00</td><td>2125-10-22 11:30:00</td><td>2125-10-27 14:00:00</td><td>1852-01-06 11:30:00</td><td>{0,0,0,0,342}</td><td>{0,1,0,1,157}</td><td>{1,0,0,0,1}</td><td>0</td></tr><tr><td>12119</td><td>2188-03-05 20:17:00</td><td>2188-03-07 20:17:00</td><td>2188-03-14 17:15:00</td><td>1914-05-23 20:17:00</td><td>{0,0,0,0,230}</td><td>{0,1,0,1,379}</td><td>{1,0,0,0,1}</td><td>0</td></tr><tr><td>12119</td><td>2188-05-09 15:55:00</td><td>2188-05-11 15:55:00</td><td>2188-05-19 18:09:00</td><td>1914-07-27 15:55:00</td><td>{0,0,0,0,148}</td><td>{0,1,0,1,209}</td><td>{4,3,0,3,615}</td><td>0</td></tr><tr><td>12120</td><td>2123-10-12 13:46:00</td><td>2123-10-14 13:46:00</td><td>2123-10-30 15:13:00</td><td>1849-12-28 13:46:00</td><td>{0,0,0,0,198}</td><td>{0,1,0,1,1302}</td><td>{1,0,0,0,1}</td><td>0</td></tr><tr><td>12120</td><td>2123-11-01 23:26:00</td><td>2123-11-03 23:26:00</td><td>2123-11-12 17:14:00</td><td>1850-01-17 23:26:00</td><td>{0,0,0,0,67}</td><td>{0,1,0,1,1}</td><td>{2,1,0,1,1507}</td><td>0</td></tr><tr><td>12120</td><td>2123-11-17 04:20:00</td><td>2123-11-19 04:20:00</td><td>2123-11-19 16:00:00</td><td>1850-02-02 04:20:00</td><td>{0,0,0,0,157}</td><td>{0,1,0,1,35}</td><td>{3,2,0,2,1576}</td><td>0</td></tr><tr><td>12120</td><td>2123-12-29 01:47:00</td><td>2123-12-31 01:47:00</td><td>2124-01-10 16:30:00</td><td>1850-03-16 01:47:00</td><td>{0,0,0,0,203}</td><td>{0,1,0,1,241}</td><td>{4,3,0,3,1774}</td><td>0</td></tr><tr><td>12121</td><td>2126-03-13 18:14:00</td><td>2126-03-15 18:14:00</td><td>2126-03-18 17:49:00</td><td>1852-05-29 18:14:00</td><td>{0,0,0,0,0}</td><td>{0,1,0,1,1}</td><td>{2,1,0,1,3}</td><td>0</td></tr><tr><td>12121</td><td>2126-04-20 07:15:00</td><td>2126-04-22 07:15:00</td><td>2126-05-19 14:15:00</td><td>1852-07-06 07:15:00</td><td>{0,0,0,0,188}</td><td>{0,1,0,1,2505}</td><td>{3,2,0,2,5}</td><td>0</td></tr><tr><td>12121</td><td>2127-04-02 01:03:00</td><td>2127-04-04 01:03:00</td><td>2127-04-17 15:05:00</td><td>1853-06-18 01:03:00</td><td>{0,0,0,0,144}</td><td>{0,1,0,1,218}</td><td>{5,4,0,4,2701}</td><td>0</td></tr><tr><td>12121</td><td>2127-05-05 02:40:00</td><td>2127-05-07 02:40:00</td><td>2127-05-12 16:52:00</td><td>1853-07-21 02:40:00</td><td>{0,0,0,0,0}</td><td>{0,1,0,1,1}</td><td>{6,5,0,5,3064}</td><td>0</td></tr><tr><td>12121</td><td>2127-05-24 18:33:00</td><td>2127-05-26 18:33:00</td><td>2127-05-27 15:30:00</td><td>1853-08-09 18:33:00</td><td>{0,0,0,0,0}</td><td>{0,1,0,1,1}</td><td>{7,6,0,6,3066}</td><td>0</td></tr><tr><td>12121</td><td>2127-08-19 00:20:00</td><td>2127-08-21 00:20:00</td><td>2127-08-21 17:10:00</td><td>1853-11-04 00:20:00</td><td>{0,0,0,0,0}</td><td>{0,1,0,1,1}</td><td>{8,7,0,7,3068}</td><td>0</td></tr><tr><td>12121</td><td>2128-01-17 21:25:00</td><td>2128-01-19 21:25:00</td><td>2128-01-21 17:00:00</td><td>1854-04-04 21:25:00</td><td>{0,0,0,0,0}</td><td>{0,1,0,1,1}</td><td>{9,8,0,8,3070}</td><td>0</td></tr><tr><td>12121</td><td>2128-01-26 20:21:00</td><td>2128-01-28 20:21:00</td><td>2128-01-31 16:00:00</td><td>1854-04-13 20:21:00</td><td>{0,0,0,0,0}</td><td>{0,1,0,1,1}</td><td>{10,9,0,9,3072}</td><td>0</td></tr><tr><td>12121</td><td>2128-02-09 17:33:00</td><td>2128-02-11 17:33:00</td><td>2128-02-15 15:15:00</td><td>1854-04-27 17:33:00</td><td>{0,0,0,0,0}</td><td>{0,1,0,1,1}</td><td>{11,10,0,10,3074}</td><td>0</td></tr><tr><td>12121</td><td>2128-02-19 17:40:00</td><td>2128-02-21 17:40:00</td><td>2128-02-26 16:10:00</td><td>1854-05-07 17:40:00</td><td>{0,0,0,0,0}</td><td>{0,1,0,1,1}</td><td>{12,11,0,11,3076}</td><td>0</td></tr><tr><td>12122</td><td>2185-07-03 20:20:00</td><td>2185-07-05 20:20:00</td><td>2185-08-03 14:42:00</td><td>1911-09-20 20:20:00</td><td>{0,0,0,0,216}</td><td>{0,1,0,1,1381}</td><td>{2,1,0,1,3}</td><td>0</td></tr><tr><td>12123</td><td>2187-02-05 09:27:00</td><td>2187-02-07 09:27:00</td><td>2187-02-08 17:28:00</td><td>1913-04-24 09:27:00</td><td>{0,0,0,0,207}</td><td>{0,1,0,1,103}</td><td>{1,0,0,0,1}</td><td>0</td></tr><tr><td>12124</td><td>2191-12-29 07:15:00</td><td>2191-12-31 07:15:00</td><td>2192-01-11 19:00:00</td><td>1918-03-17 07:15:00</td><td>{0,0,0,0,0}</td><td>{0,1,0,1,1}</td><td>{1,0,0,0,1}</td><td>0</td></tr><tr><td>12124</td><td>2197-07-26 03:29:00</td><td>2197-07-28 03:29:00</td><td>2197-07-31 14:00:00</td><td>1923-10-13 03:29:00</td><td>{0,0,0,0,121}</td><td>{0,1,0,1,1}</td><td>{2,1,0,1,3}</td><td>0</td></tr><tr><td>12124</td><td>2197-08-03 20:58:00</td><td>2197-08-05 20:58:00</td><td>2197-08-18 15:37:00</td><td>1923-10-21 20:58:00</td><td>{0,0,0,0,147}</td><td>{0,1,0,1,200}</td><td>{3,2,0,2,126}</td><td>0</td></tr><tr><td>12125</td><td>2146-12-19 15:32:00</td><td>2146-12-21 15:32:00</td><td>2146-12-27 17:20:00</td><td>1873-03-06 15:32:00</td><td>{0,0,0,0,0}</td><td>{0,1,0,1,1}</td><td>{1,0,0,0,1}</td><td>0</td></tr><tr><td>12125</td><td>2148-11-19 10:00:00</td><td>2148-11-21 10:00:00</td><td>2148-12-04 16:25:00</td><td>1875-02-05 10:00:00</td><td>{0,0,0,0,186}</td><td>{0,1,0,1,418}</td><td>{2,1,0,1,3}</td><td>0</td></tr><tr><td>12126</td><td>2164-07-25 00:27:00</td><td>2164-07-27 00:27:00</td><td>2164-07-28 12:15:00</td><td>1890-10-11 00:27:00</td><td>{0,0,0,0,0}</td><td>{0,1,0,1,1}</td><td>{1,0,0,0,1}</td><td>0</td></tr><tr><td>12126</td><td>2164-09-10 13:47:00</td><td>2164-09-12 13:47:00</td><td>2164-09-17 13:42:00</td><td>1890-11-27 13:47:00</td><td>{0,0,0,0,41}</td><td>{0,1,1,1,686}</td><td>{2,1,0,1,3}</td><td>1</td></tr></tbody></table></div>"
      ],
      "text/plain": [
       "shape: (52_418, 9)\n",
       "┌───────────┬───────────┬───────────┬──────────┬──────────┬──────────┬──────────┬──────────┬───────┐\n",
       "│ subject_i ┆ trigger/t ┆ gap/times ┆ target/t ┆ input/ti ┆ gap/wind ┆ target/w ┆ input/wi ┆ label │\n",
       "│ d         ┆ imestamp  ┆ tamp      ┆ imestamp ┆ mestamp  ┆ ow_summa ┆ indow_su ┆ ndow_sum ┆ ---   │\n",
       "│ ---       ┆ ---       ┆ ---       ┆ ---      ┆ ---      ┆ ry       ┆ mmary    ┆ mary     ┆ i32   │\n",
       "│ u16       ┆ datetime[ ┆ datetime[ ┆ datetime ┆ datetime ┆ ---      ┆ ---      ┆ ---      ┆       │\n",
       "│           ┆ μs]       ┆ μs]       ┆ [μs]     ┆ [μs]     ┆ struct[5 ┆ struct[5 ┆ struct[5 ┆       │\n",
       "│           ┆           ┆           ┆          ┆          ┆ ]        ┆ ]        ┆ ]        ┆       │\n",
       "╞═══════════╪═══════════╪═══════════╪══════════╪══════════╪══════════╪══════════╪══════════╪═══════╡\n",
       "│ 0         ┆ 2125-11-3 ┆ 2125-12-0 ┆ 2125-12- ┆ 1852-02- ┆ {0,0,0,0 ┆ {0,1,0,1 ┆ {3,2,0,2 ┆ 0     │\n",
       "│           ┆ 0         ┆ 2         ┆ 03       ┆ 16       ┆ ,0}      ┆ ,1}      ┆ ,5}      ┆       │\n",
       "│           ┆ 16:02:00  ┆ 16:02:00  ┆ 14:44:00 ┆ 16:02:00 ┆          ┆          ┆          ┆       │\n",
       "│ 0         ┆ 2130-04-1 ┆ 2130-04-1 ┆ 2130-04- ┆ 1856-07- ┆ {0,0,0,0 ┆ {0,1,0,1 ┆ {10,9,0, ┆ 0     │\n",
       "│           ┆ 5         ┆ 7         ┆ 19       ┆ 01       ┆ ,0}      ┆ ,1}      ┆ 9,19}    ┆       │\n",
       "│           ┆ 21:10:00  ┆ 21:10:00  ┆ 16:00:00 ┆ 21:10:00 ┆          ┆          ┆          ┆       │\n",
       "│ 0         ┆ 2130-08-2 ┆ 2130-08-2 ┆ 2130-08- ┆ 1856-11- ┆ {0,0,0,0 ┆ {0,1,0,1 ┆ {12,11,0 ┆ 0     │\n",
       "│           ┆ 1         ┆ 3         ┆ 23       ┆ 06       ┆ ,0}      ┆ ,1}      ┆ ,11,23}  ┆       │\n",
       "│           ┆ 15:26:00  ┆ 15:26:00  ┆ 16:40:00 ┆ 15:26:00 ┆          ┆          ┆          ┆       │\n",
       "│ 0         ┆ 2130-10-0 ┆ 2130-10-1 ┆ 2130-10- ┆ 1856-12- ┆ {0,0,0,0 ┆ {0,1,0,1 ┆ {14,13,0 ┆ 0     │\n",
       "│           ┆ 8         ┆ 0         ┆ 12       ┆ 24       ┆ ,0}      ┆ ,1}      ┆ ,13,27}  ┆       │\n",
       "│           ┆ 19:03:00  ┆ 19:03:00  ┆ 19:05:00 ┆ 19:03:00 ┆          ┆          ┆          ┆       │\n",
       "│ 0         ┆ 2130-10-1 ┆ 2130-10-2 ┆ 2130-10- ┆ 1857-01- ┆ {0,0,0,0 ┆ {0,1,0,1 ┆ {16,15,0 ┆ 0     │\n",
       "│           ┆ 9         ┆ 1         ┆ 22       ┆ 04       ┆ ,0}      ┆ ,1}      ┆ ,15,31}  ┆       │\n",
       "│           ┆ 16:20:00  ┆ 16:20:00  ┆ 15:13:00 ┆ 16:20:00 ┆          ┆          ┆          ┆       │\n",
       "│ 0         ┆ 2130-12-2 ┆ 2130-12-2 ┆ 2130-12- ┆ 1857-03- ┆ {0,0,0,0 ┆ {0,1,0,1 ┆ {21,20,0 ┆ 0     │\n",
       "│           ┆ 7         ┆ 9         ┆ 30       ┆ 14       ┆ ,0}      ┆ ,1}      ┆ ,20,41}  ┆       │\n",
       "│           ┆ 21:23:00  ┆ 21:23:00  ┆ 15:33:00 ┆ 21:23:00 ┆          ┆          ┆          ┆       │\n",
       "│ 0         ┆ 2131-01-0 ┆ 2131-01-0 ┆ 2131-01- ┆ 1857-03- ┆ {0,0,0,0 ┆ {0,1,1,1 ┆ {22,21,0 ┆ 1     │\n",
       "│           ┆ 7         ┆ 9         ┆ 20       ┆ 25       ┆ ,0}      ┆ ,1009}   ┆ ,21,43}  ┆       │\n",
       "│           ┆ 20:39:00  ┆ 20:39:00  ┆ 05:15:00 ┆ 20:39:00 ┆          ┆          ┆          ┆       │\n",
       "│ 1         ┆ 2128-07-2 ┆ 2128-07-3 ┆ 2128-07- ┆ 1854-10- ┆ {0,0,0,0 ┆ {0,1,0,1 ┆ {1,0,0,0 ┆ 0     │\n",
       "│           ┆ 9         ┆ 1         ┆ 31       ┆ 15       ┆ ,0}      ┆ ,1}      ┆ ,1}      ┆       │\n",
       "│           ┆ 17:01:00  ┆ 17:01:00  ┆ 18:00:00 ┆ 17:01:00 ┆          ┆          ┆          ┆       │\n",
       "│ 1         ┆ 2129-08-0 ┆ 2129-08-0 ┆ 2129-08- ┆ 1855-10- ┆ {0,0,0,0 ┆ {0,1,0,1 ┆ {2,1,0,1 ┆ 0     │\n",
       "│           ┆ 4         ┆ 6         ┆ 18       ┆ 21       ┆ ,124}    ┆ ,242}    ┆ ,3}      ┆       │\n",
       "│           ┆ 12:44:00  ┆ 12:44:00  ┆ 16:53:00 ┆ 12:44:00 ┆          ┆          ┆          ┆       │\n",
       "│ 1         ┆ 2130-09-2 ┆ 2130-09-2 ┆ 2130-09- ┆ 1856-12- ┆ {0,0,0,0 ┆ {0,1,0,1 ┆ {4,3,0,3 ┆ 0     │\n",
       "│           ┆ 3         ┆ 5         ┆ 29       ┆ 09       ┆ ,113}    ┆ ,101}    ┆ ,372}    ┆       │\n",
       "│           ┆ 21:59:00  ┆ 21:59:00  ┆ 18:55:00 ┆ 21:59:00 ┆          ┆          ┆          ┆       │\n",
       "│ 2         ┆ 2156-04-1 ┆ 2156-04-1 ┆ 2156-04- ┆ 1882-06- ┆ {0,0,0,0 ┆ {0,1,0,1 ┆ {2,1,0,1 ┆ 0     │\n",
       "│           ┆ 2         ┆ 4         ┆ 29       ┆ 29       ┆ ,222}    ┆ ,917}    ┆ ,3}      ┆       │\n",
       "│           ┆ 14:16:00  ┆ 14:16:00  ┆ 16:26:00 ┆ 14:16:00 ┆          ┆          ┆          ┆       │\n",
       "│ 2         ┆ 2156-04-3 ┆ 2156-05-0 ┆ 2156-05- ┆ 1882-07- ┆ {0,0,0,0 ┆ {0,1,0,1 ┆ {3,2,0,2 ┆ 0     │\n",
       "│           ┆ 0         ┆ 2         ┆ 03       ┆ 17       ┆ ,159}    ┆ ,6}      ┆ ,1143}   ┆       │\n",
       "│           ┆ 20:35:00  ┆ 20:35:00  ┆ 16:36:00 ┆ 20:35:00 ┆          ┆          ┆          ┆       │\n",
       "│ 2         ┆ 2156-05-1 ┆ 2156-05-1 ┆ 2156-05- ┆ 1882-07- ┆ {0,0,0,0 ┆ {0,1,0,1 ┆ {4,3,0,3 ┆ 0     │\n",
       "│           ┆ 1         ┆ 3         ┆ 22       ┆ 28       ┆ ,254}    ┆ ,658}    ┆ ,1309}   ┆       │\n",
       "│           ┆ 14:49:00  ┆ 14:49:00  ┆ 14:16:00 ┆ 14:49:00 ┆          ┆          ┆          ┆       │\n",
       "│ 2         ┆ 2157-07-1 ┆ 2157-07-1 ┆ 2157-07- ┆ 1883-10- ┆ {0,0,0,0 ┆ {0,1,0,1 ┆ {5,4,0,4 ┆ 0     │\n",
       "│           ┆ 6         ┆ 8         ┆ 18       ┆ 02       ┆ ,0}      ┆ ,1}      ┆ ,2223}   ┆       │\n",
       "│           ┆ 04:09:00  ┆ 04:09:00  ┆ 16:49:00 ┆ 04:09:00 ┆          ┆          ┆          ┆       │\n",
       "│ 2         ┆ 2160-04-1 ┆ 2160-04-1 ┆ 2160-04- ┆ 1886-07- ┆ {0,0,0,0 ┆ {0,1,0,1 ┆ {6,5,0,5 ┆ 0     │\n",
       "│           ┆ 4         ┆ 6         ┆ 18       ┆ 01       ┆ ,0}      ┆ ,1}      ┆ ,2225}   ┆       │\n",
       "│           ┆ 12:30:00  ┆ 12:30:00  ┆ 16:00:00 ┆ 12:30:00 ┆          ┆          ┆          ┆       │\n",
       "│ 3         ┆ 2136-11-0 ┆ 2136-11-0 ┆ 2136-11- ┆ 1863-01- ┆ {0,0,0,0 ┆ {0,1,0,1 ┆ {2,1,0,1 ┆ 0     │\n",
       "│           ┆ 4         ┆ 6         ┆ 12       ┆ 21       ┆ ,0}      ┆ ,1}      ┆ ,3}      ┆       │\n",
       "│           ┆ 20:43:00  ┆ 20:43:00  ┆ 17:40:00 ┆ 20:43:00 ┆          ┆          ┆          ┆       │\n",
       "│ 3         ┆ 2136-12-0 ┆ 2136-12-1 ┆ 2136-12- ┆ 1863-02- ┆ {0,0,0,0 ┆ {0,1,0,1 ┆ {3,2,0,2 ┆ 0     │\n",
       "│           ┆ 9         ┆ 1         ┆ 15       ┆ 25       ┆ ,0}      ┆ ,1}      ┆ ,5}      ┆       │\n",
       "│           ┆ 14:44:00  ┆ 14:44:00  ┆ 16:00:00 ┆ 14:44:00 ┆          ┆          ┆          ┆       │\n",
       "│ 3         ┆ 2136-12-3 ┆ 2137-01-0 ┆ 2137-01- ┆ 1863-03- ┆ {0,0,0,0 ┆ {0,1,0,1 ┆ {4,3,0,3 ┆ 0     │\n",
       "│           ┆ 1         ┆ 2         ┆ 03       ┆ 19       ┆ ,0}      ┆ ,1}      ┆ ,7}      ┆       │\n",
       "│           ┆ 21:40:00  ┆ 21:40:00  ┆ 17:05:00 ┆ 21:40:00 ┆          ┆          ┆          ┆       │\n",
       "│ 3         ┆ 2137-02-0 ┆ 2137-02-0 ┆ 2137-02- ┆ 1863-04- ┆ {0,0,0,0 ┆ {0,1,0,1 ┆ {5,4,0,4 ┆ 0     │\n",
       "│           ┆ 7         ┆ 9         ┆ 18       ┆ 26       ┆ ,0}      ┆ ,1}      ┆ ,9}      ┆       │\n",
       "│           ┆ 19:42:00  ┆ 19:42:00  ┆ 18:30:00 ┆ 19:42:00 ┆          ┆          ┆          ┆       │\n",
       "│ 3         ┆ 2137-02-2 ┆ 2137-02-2 ┆ 2137-03- ┆ 1863-05- ┆ {0,0,0,0 ┆ {0,1,0,1 ┆ {6,5,0,5 ┆ 0     │\n",
       "│           ┆ 4         ┆ 6         ┆ 19       ┆ 13       ┆ ,169}    ┆ ,1235}   ┆ ,11}     ┆       │\n",
       "│           ┆ 10:00:00  ┆ 10:00:00  ┆ 15:45:00 ┆ 10:00:00 ┆          ┆          ┆          ┆       │\n",
       "│ 3         ┆ 2137-08-0 ┆ 2137-08-0 ┆ 2137-09- ┆ 1863-10- ┆ {0,0,0,0 ┆ {0,1,1,1 ┆ {7,6,0,6 ┆ 1     │\n",
       "│           ┆ 4         ┆ 6         ┆ 02       ┆ 21       ┆ ,0}      ┆ ,1898}   ┆ ,1416}   ┆       │\n",
       "│           ┆ 00:07:00  ┆ 00:07:00  ┆ 17:05:00 ┆ 00:07:00 ┆          ┆          ┆          ┆       │\n",
       "│ 4         ┆ 2196-02-2 ┆ 2196-02-2 ┆ 2196-03- ┆ 1922-05- ┆ {0,0,0,0 ┆ {0,1,0,1 ┆ {1,0,0,0 ┆ 0     │\n",
       "│           ┆ 4         ┆ 6         ┆ 04       ┆ 13       ┆ ,441}    ┆ ,409}    ┆ ,1}      ┆       │\n",
       "│           ┆ 14:38:00  ┆ 14:38:00  ┆ 14:02:00 ┆ 14:38:00 ┆          ┆          ┆          ┆       │\n",
       "│ 4         ┆ 2196-06-1 ┆ 2196-06-1 ┆ 2196-06- ┆ 1922-09- ┆ {0,0,0,0 ┆ {0,1,0,1 ┆ {2,1,0,1 ┆ 0     │\n",
       "│           ┆ 4         ┆ 6         ┆ 19       ┆ 01       ┆ ,0}      ┆ ,1}      ┆ ,852}    ┆       │\n",
       "│           ┆ 08:30:00  ┆ 08:30:00  ┆ 14:54:00 ┆ 08:30:00 ┆          ┆          ┆          ┆       │\n",
       "│ 5         ┆ 2141-06-0 ┆ 2141-06-0 ┆ 2141-06- ┆ 1867-08- ┆ {0,0,0,0 ┆ {0,1,0,1 ┆ {1,0,0,0 ┆ 0     │\n",
       "│           ┆ 6         ┆ 8         ┆ 09       ┆ 23       ┆ ,0}      ┆ ,1}      ┆ ,1}      ┆       │\n",
       "│           ┆ 19:20:00  ┆ 19:20:00  ┆ 12:34:00 ┆ 19:20:00 ┆          ┆          ┆          ┆       │\n",
       "│ 5         ┆ 2143-06-1 ┆ 2143-06-2 ┆ 2143-06- ┆ 1869-09- ┆ {0,0,0,0 ┆ {0,1,0,1 ┆ {5,4,0,4 ┆ 0     │\n",
       "│           ┆ 9         ┆ 1         ┆ 22       ┆ 04       ┆ ,0}      ┆ ,1}      ┆ ,9}      ┆       │\n",
       "│           ┆ 18:28:00  ┆ 18:28:00  ┆ 14:15:00 ┆ 18:28:00 ┆          ┆          ┆          ┆       │\n",
       "│ 5         ┆ 2144-01-2 ┆ 2144-01-2 ┆ 2144-02- ┆ 1870-04- ┆ {0,0,0,0 ┆ {0,1,0,1 ┆ {6,5,0,5 ┆ 0     │\n",
       "│           ┆ 3         ┆ 5         ┆ 06       ┆ 10       ┆ ,0}      ┆ ,982}    ┆ ,11}     ┆       │\n",
       "│           ┆ 07:58:00  ┆ 07:58:00  ┆ 11:45:00 ┆ 07:58:00 ┆          ┆          ┆          ┆       │\n",
       "│ 5         ┆ 2144-02-1 ┆ 2144-02-1 ┆ 2144-02- ┆ 1870-04- ┆ {0,0,0,0 ┆ {0,1,0,1 ┆ {7,6,0,6 ┆ 0     │\n",
       "│           ┆ 1         ┆ 3         ┆ 19       ┆ 29       ┆ ,95}     ┆ ,397}    ┆ ,996}    ┆       │\n",
       "│           ┆ 18:13:00  ┆ 18:13:00  ┆ 14:30:00 ┆ 18:13:00 ┆          ┆          ┆          ┆       │\n",
       "│ 5         ┆ 2144-04-0 ┆ 2144-04-0 ┆ 2144-04- ┆ 1870-06- ┆ {0,0,0,0 ┆ {0,1,0,1 ┆ {8,7,0,7 ┆ 0     │\n",
       "│           ┆ 5         ┆ 7         ┆ 09       ┆ 22       ┆ ,208}    ┆ ,152}    ┆ ,1494}   ┆       │\n",
       "│           ┆ 09:31:00  ┆ 09:31:00  ┆ 17:30:00 ┆ 09:31:00 ┆          ┆          ┆          ┆       │\n",
       "│ 5         ┆ 2144-04-1 ┆ 2144-04-1 ┆ 2144-04- ┆ 1870-06- ┆ {0,0,0,0 ┆ {0,1,0,1 ┆ {9,8,0,8 ┆ 0     │\n",
       "│           ┆ 1         ┆ 3         ┆ 13       ┆ 28       ┆ ,176}    ┆ ,35}     ┆ ,1858}   ┆       │\n",
       "│           ┆ 03:31:00  ┆ 03:31:00  ┆ 17:31:00 ┆ 03:31:00 ┆          ┆          ┆          ┆       │\n",
       "│ 5         ┆ 2144-04-2 ┆ 2144-04-2 ┆ 2144-05- ┆ 1870-07- ┆ {0,0,0,0 ┆ {0,1,0,1 ┆ {10,9,0, ┆ 0     │\n",
       "│           ┆ 1         ┆ 3         ┆ 01       ┆ 08       ┆ ,214}    ┆ ,660}    ┆ 9,2071}  ┆       │\n",
       "│           ┆ 20:29:00  ┆ 20:29:00  ┆ 13:00:00 ┆ 20:29:00 ┆          ┆          ┆          ┆       │\n",
       "│ 5         ┆ 2144-05-1 ┆ 2144-05-1 ┆ 2144-05- ┆ 1870-08- ┆ {0,0,0,0 ┆ {0,1,0,1 ┆ {11,10,0 ┆ 0     │\n",
       "│           ┆ 5         ┆ 7         ┆ 22       ┆ 01       ┆ ,191}    ┆ ,395}    ┆ ,10,2953 ┆       │\n",
       "│           ┆ 23:05:00  ┆ 23:05:00  ┆ 20:05:00 ┆ 23:05:00 ┆          ┆          ┆ }        ┆       │\n",
       "│ 5         ┆ 2144-06-0 ┆ 2144-06-0 ┆ 2144-06- ┆ 1870-08- ┆ {0,0,0,0 ┆ {0,1,1,1 ┆ {12,11,0 ┆ 1     │\n",
       "│           ┆ 5         ┆ 7         ┆ 18       ┆ 22       ┆ ,170}    ┆ ,936}    ┆ ,11,3542 ┆       │\n",
       "│           ┆ 19:45:00  ┆ 19:45:00  ┆ 21:30:00 ┆ 19:45:00 ┆          ┆          ┆ }        ┆       │\n",
       "│ 6         ┆ 2159-02-2 ┆ 2159-02-2 ┆ 2159-03- ┆ 1885-05- ┆ {0,0,0,0 ┆ {0,1,0,1 ┆ {1,0,0,0 ┆ 0     │\n",
       "│           ┆ 0         ┆ 2         ┆ 06       ┆ 08       ┆ ,234}    ┆ ,421}    ┆ ,1}      ┆       │\n",
       "│           ┆ 13:43:00  ┆ 13:43:00  ┆ 16:51:00 ┆ 13:43:00 ┆          ┆          ┆          ┆       │\n",
       "│ 6         ┆ 2159-03-1 ┆ 2159-03-1 ┆ 2159-03- ┆ 1885-05- ┆ {0,0,0,0 ┆ {0,1,0,1 ┆ {2,1,0,1 ┆ 0     │\n",
       "│           ┆ 4         ┆ 6         ┆ 22       ┆ 30       ┆ ,0}      ┆ ,1}      ┆ ,657}    ┆       │\n",
       "│           ┆ 20:02:00  ┆ 20:02:00  ┆ 14:00:00 ┆ 20:02:00 ┆          ┆          ┆          ┆       │\n",
       "│ 6         ┆ 2159-04-0 ┆ 2159-04-0 ┆ 2159-04- ┆ 1885-06- ┆ {0,0,0,0 ┆ {0,1,0,1 ┆ {3,2,0,2 ┆ 0     │\n",
       "│           ┆ 5         ┆ 7         ┆ 11       ┆ 21       ┆ ,0}      ┆ ,1}      ┆ ,659}    ┆       │\n",
       "│           ┆ 01:58:00  ┆ 01:58:00  ┆ 19:05:00 ┆ 01:58:00 ┆          ┆          ┆          ┆       │\n",
       "│ 6         ┆ 2159-09-1 ┆ 2159-09-1 ┆ 2159-09- ┆ 1885-11- ┆ {0,0,0,0 ┆ {0,1,0,1 ┆ {4,3,0,3 ┆ 0     │\n",
       "│           ┆ 4         ┆ 6         ┆ 22       ┆ 30       ┆ ,0}      ┆ ,1}      ┆ ,661}    ┆       │\n",
       "│           ┆ 02:34:00  ┆ 02:34:00  ┆ 16:25:00 ┆ 02:34:00 ┆          ┆          ┆          ┆       │\n",
       "│ 7         ┆ 2143-12-0 ┆ 2143-12-0 ┆ 2143-12- ┆ 1870-02- ┆ {0,0,0,0 ┆ {0,1,0,1 ┆ {1,0,0,0 ┆ 0     │\n",
       "│           ┆ 6         ┆ 8         ┆ 16       ┆ 21       ┆ ,265}    ┆ ,702}    ┆ ,1}      ┆       │\n",
       "│           ┆ 00:54:00  ┆ 00:54:00  ┆ 16:00:00 ┆ 00:54:00 ┆          ┆          ┆          ┆       │\n",
       "│ 7         ┆ 2144-03-0 ┆ 2144-03-0 ┆ 2144-03- ┆ 1870-05- ┆ {0,0,0,0 ┆ {0,1,0,1 ┆ {2,1,0,1 ┆ 0     │\n",
       "│           ┆ 6         ┆ 8         ┆ 08       ┆ 23       ┆ ,0}      ┆ ,1}      ┆ ,969}    ┆       │\n",
       "│           ┆ 17:43:00  ┆ 17:43:00  ┆ 20:00:00 ┆ 17:43:00 ┆          ┆          ┆          ┆       │\n",
       "│ 8         ┆ 2132-12-1 ┆ 2132-12-1 ┆ 2132-12- ┆ 1859-02- ┆ {0,0,0,0 ┆ {0,1,0,1 ┆ {1,0,0,0 ┆ 0     │\n",
       "│           ┆ 2         ┆ 4         ┆ 20       ┆ 28       ┆ ,0}      ┆ ,288}    ┆ ,1}      ┆       │\n",
       "│           ┆ 01:43:00  ┆ 01:43:00  ┆ 15:04:00 ┆ 01:43:00 ┆          ┆          ┆          ┆       │\n",
       "│ 8         ┆ 2135-01-0 ┆ 2135-01-0 ┆ 2135-01- ┆ 1861-03- ┆ {0,0,0,0 ┆ {0,1,1,1 ┆ {2,1,0,1 ┆ 1     │\n",
       "│           ┆ 3         ┆ 5         ┆ 19       ┆ 21       ┆ ,201}    ┆ ,1867}   ┆ ,290}    ┆       │\n",
       "│           ┆ 21:54:00  ┆ 21:54:00  ┆ 18:36:00 ┆ 21:54:00 ┆          ┆          ┆          ┆       │\n",
       "│ 9         ┆ 2120-11-1 ┆ 2120-11-1 ┆ 2120-12- ┆ 1847-02- ┆ {0,0,0,0 ┆ {0,1,0,1 ┆ {1,0,0,0 ┆ 0     │\n",
       "│           ┆ 6         ┆ 8         ┆ 18       ┆ 02       ┆ ,177}    ┆ ,358}    ┆ ,1}      ┆       │\n",
       "│           ┆ 22:34:00  ┆ 22:34:00  ┆ 14:04:00 ┆ 22:34:00 ┆          ┆          ┆          ┆       │\n",
       "│ 9         ┆ 2121-06-1 ┆ 2121-06-1 ┆ 2121-06- ┆ 1847-08- ┆ {0,0,0,0 ┆ {0,1,0,1 ┆ {3,2,0,2 ┆ 0     │\n",
       "│           ┆ 1         ┆ 3         ┆ 16       ┆ 28       ┆ ,0}      ┆ ,1}      ┆ ,539}    ┆       │\n",
       "│           ┆ 04:57:00  ┆ 04:57:00  ┆ 18:40:00 ┆ 04:57:00 ┆          ┆          ┆          ┆       │\n",
       "│ 10        ┆ 2132-06-1 ┆ 2132-06-1 ┆ 2132-06- ┆ 1858-09- ┆ {0,0,0,0 ┆ {0,1,0,1 ┆ {1,0,0,0 ┆ 0     │\n",
       "│           ┆ 6         ┆ 8         ┆ 18       ┆ 02       ┆ ,0}      ┆ ,1}      ┆ ,1}      ┆       │\n",
       "│           ┆ 00:58:00  ┆ 00:58:00  ┆ 14:50:00 ┆ 00:58:00 ┆          ┆          ┆          ┆       │\n",
       "│ 10        ┆ 2136-08-2 ┆ 2136-08-2 ┆ 2136-08- ┆ 1862-11- ┆ {0,0,0,0 ┆ {0,1,0,1 ┆ {6,5,0,5 ┆ 0     │\n",
       "│           ┆ 7         ┆ 9         ┆ 30       ┆ 13       ┆ ,0}      ┆ ,1}      ┆ ,11}     ┆       │\n",
       "│           ┆ 17:14:00  ┆ 17:14:00  ┆ 16:59:00 ┆ 17:14:00 ┆          ┆          ┆          ┆       │\n",
       "│ 10        ┆ 2138-12-0 ┆ 2138-12-0 ┆ 2138-12- ┆ 1865-02- ┆ {0,0,0,0 ┆ {0,1,0,1 ┆ {8,7,0,7 ┆ 0     │\n",
       "│           ┆ 4         ┆ 6         ┆ 10       ┆ 19       ┆ ,157}    ┆ ,67}     ┆ ,15}     ┆       │\n",
       "│           ┆ 16:52:00  ┆ 16:52:00  ┆ 17:56:00 ┆ 16:52:00 ┆          ┆          ┆          ┆       │\n",
       "│ 10        ┆ 2138-12-2 ┆ 2138-12-3 ┆ 2139-01- ┆ 1865-03- ┆ {0,0,0,0 ┆ {0,1,0,1 ┆ {11,10,0 ┆ 0     │\n",
       "│           ┆ 8         ┆ 0         ┆ 01       ┆ 15       ┆ ,0}      ┆ ,1}      ┆ ,10,244} ┆       │\n",
       "│           ┆ 02:56:00  ┆ 02:56:00  ┆ 15:00:00 ┆ 02:56:00 ┆          ┆          ┆          ┆       │\n",
       "│ 11        ┆ 2155-05-0 ┆ 2155-05-1 ┆ 2155-05- ┆ 1881-07- ┆ {0,0,0,0 ┆ {0,1,0,1 ┆ {1,0,0,0 ┆ 0     │\n",
       "│           ┆ 8         ┆ 0         ┆ 10       ┆ 24       ┆ ,0}      ┆ ,1}      ┆ ,1}      ┆       │\n",
       "│           ┆ 17:05:00  ┆ 17:05:00  ┆ 18:55:00 ┆ 17:05:00 ┆          ┆          ┆          ┆       │\n",
       "│ 11        ┆ 2155-12-0 ┆ 2155-12-0 ┆ 2155-12- ┆ 1882-02- ┆ {0,0,0,0 ┆ {0,1,1,1 ┆ {2,1,0,1 ┆ 1     │\n",
       "│           ┆ 2         ┆ 4         ┆ 07       ┆ 17       ┆ ,244}    ┆ ,334}    ┆ ,3}      ┆       │\n",
       "│           ┆ 19:36:00  ┆ 19:36:00  ┆ 15:30:00 ┆ 19:36:00 ┆          ┆          ┆          ┆       │\n",
       "│ 12        ┆ 2140-05-3 ┆ 2140-06-0 ┆ 2140-06- ┆ 1866-08- ┆ {0,0,0,0 ┆ {0,1,0,1 ┆ {1,0,0,0 ┆ 0     │\n",
       "│           ┆ 1         ┆ 2         ┆ 13       ┆ 17       ┆ ,0}      ┆ ,1}      ┆ ,1}      ┆       │\n",
       "│           ┆ 07:15:00  ┆ 07:15:00  ┆ 10:40:00 ┆ 07:15:00 ┆          ┆          ┆          ┆       │\n",
       "│ 12        ┆ 2140-08-2 ┆ 2140-08-2 ┆ 2140-09- ┆ 1866-11- ┆ {0,0,0,0 ┆ {0,1,0,1 ┆ {2,1,0,1 ┆ 0     │\n",
       "│           ┆ 1         ┆ 3         ┆ 06       ┆ 07       ┆ ,179}    ┆ ,131}    ┆ ,3}      ┆       │\n",
       "│           ┆ 01:52:00  ┆ 01:52:00  ┆ 16:00:00 ┆ 01:52:00 ┆          ┆          ┆          ┆       │\n",
       "│ …         ┆ …         ┆ …         ┆ …        ┆ …        ┆ …        ┆ …        ┆ …        ┆ …     │\n",
       "│ 12112     ┆ 2163-12-0 ┆ 2163-12-1 ┆ 2163-12- ┆ 1890-02- ┆ {0,0,0,0 ┆ {0,1,0,1 ┆ {24,23,0 ┆ 0     │\n",
       "│           ┆ 9         ┆ 1         ┆ 13       ┆ 24       ┆ ,0}      ┆ ,1}      ┆ ,23,530} ┆       │\n",
       "│           ┆ 20:45:00  ┆ 20:45:00  ┆ 16:36:00 ┆ 20:45:00 ┆          ┆          ┆          ┆       │\n",
       "│ 12112     ┆ 2163-12-2 ┆ 2163-12-2 ┆ 2163-12- ┆ 1890-03- ┆ {0,0,0,0 ┆ {0,1,0,1 ┆ {25,24,0 ┆ 0     │\n",
       "│           ┆ 3         ┆ 5         ┆ 26       ┆ 10       ┆ ,0}      ┆ ,1}      ┆ ,24,532} ┆       │\n",
       "│           ┆ 16:52:00  ┆ 16:52:00  ┆ 15:00:00 ┆ 16:52:00 ┆          ┆          ┆          ┆       │\n",
       "│ 12112     ┆ 2165-05-1 ┆ 2165-05-1 ┆ 2165-05- ┆ 1891-08- ┆ {0,0,0,0 ┆ {0,1,0,1 ┆ {27,26,0 ┆ 0     │\n",
       "│           ┆ 7         ┆ 9         ┆ 23       ┆ 03       ┆ ,0}      ┆ ,1}      ┆ ,26,536} ┆       │\n",
       "│           ┆ 16:42:00  ┆ 16:42:00  ┆ 16:45:00 ┆ 16:42:00 ┆          ┆          ┆          ┆       │\n",
       "│ 12112     ┆ 2165-05-3 ┆ 2165-06-0 ┆ 2165-06- ┆ 1891-08- ┆ {0,0,0,0 ┆ {0,1,0,1 ┆ {28,27,0 ┆ 0     │\n",
       "│           ┆ 1         ┆ 2         ┆ 15       ┆ 17       ┆ ,0}      ┆ ,1}      ┆ ,27,538} ┆       │\n",
       "│           ┆ 12:31:00  ┆ 12:31:00  ┆ 17:15:00 ┆ 12:31:00 ┆          ┆          ┆          ┆       │\n",
       "│ 12112     ┆ 2165-12-1 ┆ 2165-12-1 ┆ 2165-12- ┆ 1892-02- ┆ {0,0,0,0 ┆ {0,1,0,1 ┆ {29,28,0 ┆ 0     │\n",
       "│           ┆ 3         ┆ 5         ┆ 17       ┆ 29       ┆ ,0}      ┆ ,1}      ┆ ,28,540} ┆       │\n",
       "│           ┆ 16:29:00  ┆ 16:29:00  ┆ 19:10:00 ┆ 16:29:00 ┆          ┆          ┆          ┆       │\n",
       "│ 12112     ┆ 2166-04-2 ┆ 2166-04-2 ┆ 2166-04- ┆ 1892-07- ┆ {0,0,0,0 ┆ {0,1,0,1 ┆ {30,29,0 ┆ 0     │\n",
       "│           ┆ 1         ┆ 3         ┆ 30       ┆ 07       ┆ ,0}      ┆ ,1}      ┆ ,29,542} ┆       │\n",
       "│           ┆ 19:05:00  ┆ 19:05:00  ┆ 17:30:00 ┆ 19:05:00 ┆          ┆          ┆          ┆       │\n",
       "│ 12112     ┆ 2166-07-1 ┆ 2166-07-1 ┆ 2166-07- ┆ 1892-09- ┆ {0,0,0,0 ┆ {0,1,0,1 ┆ {31,30,0 ┆ 0     │\n",
       "│           ┆ 5         ┆ 7         ┆ 19       ┆ 30       ┆ ,0}      ┆ ,1}      ┆ ,30,544} ┆       │\n",
       "│           ┆ 16:18:00  ┆ 16:18:00  ┆ 16:35:00 ┆ 16:18:00 ┆          ┆          ┆          ┆       │\n",
       "│ 12113     ┆ 2152-06-2 ┆ 2152-06-2 ┆ 2152-06- ┆ 1878-09- ┆ {0,0,0,0 ┆ {0,1,0,1 ┆ {1,0,0,0 ┆ 0     │\n",
       "│           ┆ 0         ┆ 2         ┆ 28       ┆ 06       ┆ ,88}     ┆ ,233}    ┆ ,1}      ┆       │\n",
       "│           ┆ 07:27:00  ┆ 07:27:00  ┆ 17:30:00 ┆ 07:27:00 ┆          ┆          ┆          ┆       │\n",
       "│ 12113     ┆ 2152-07-1 ┆ 2152-07-1 ┆ 2152-07- ┆ 1878-10- ┆ {0,0,0,0 ┆ {0,1,0,1 ┆ {3,2,0,2 ┆ 0     │\n",
       "│           ┆ 7         ┆ 9         ┆ 24       ┆ 03       ┆ ,168}    ┆ ,377}    ┆ ,325}    ┆       │\n",
       "│           ┆ 08:03:00  ┆ 08:03:00  ┆ 02:56:00 ┆ 08:03:00 ┆          ┆          ┆          ┆       │\n",
       "│ 12114     ┆ 2166-05-1 ┆ 2166-05-2 ┆ 2166-06- ┆ 1892-08- ┆ {0,0,0,0 ┆ {0,1,0,1 ┆ {1,0,0,0 ┆ 0     │\n",
       "│           ┆ 9         ┆ 1         ┆ 04       ┆ 04       ┆ ,0}      ┆ ,1}      ┆ ,1}      ┆       │\n",
       "│           ┆ 09:30:00  ┆ 09:30:00  ┆ 15:00:00 ┆ 09:30:00 ┆          ┆          ┆          ┆       │\n",
       "│ 12114     ┆ 2166-09-1 ┆ 2166-09-1 ┆ 2166-10- ┆ 1892-11- ┆ {0,0,0,0 ┆ {0,1,0,1 ┆ {2,1,0,1 ┆ 0     │\n",
       "│           ┆ 4         ┆ 6         ┆ 02       ┆ 30       ┆ ,256}    ┆ ,767}    ┆ ,3}      ┆       │\n",
       "│           ┆ 07:15:00  ┆ 07:15:00  ┆ 17:02:00 ┆ 07:15:00 ┆          ┆          ┆          ┆       │\n",
       "│ 12115     ┆ 2183-04-2 ┆ 2183-04-3 ┆ 2183-05- ┆ 1909-07- ┆ {0,0,0,0 ┆ {0,1,0,1 ┆ {1,0,0,0 ┆ 0     │\n",
       "│           ┆ 8         ┆ 0         ┆ 03       ┆ 15       ┆ ,0}      ┆ ,1}      ┆ ,1}      ┆       │\n",
       "│           ┆ 23:09:00  ┆ 23:09:00  ┆ 15:49:00 ┆ 23:09:00 ┆          ┆          ┆          ┆       │\n",
       "│ 12115     ┆ 2185-11-0 ┆ 2185-11-0 ┆ 2185-11- ┆ 1912-01- ┆ {0,0,0,0 ┆ {0,1,0,1 ┆ {2,1,0,1 ┆ 0     │\n",
       "│           ┆ 3         ┆ 5         ┆ 12       ┆ 21       ┆ ,252}    ┆ ,409}    ┆ ,3}      ┆       │\n",
       "│           ┆ 00:00:00  ┆ 00:00:00  ┆ 19:13:00 ┆ 00:00:00 ┆          ┆          ┆          ┆       │\n",
       "│ 12115     ┆ 2185-11-1 ┆ 2185-11-1 ┆ 2185-11- ┆ 1912-01- ┆ {0,0,0,0 ┆ {0,0,1,1 ┆ {3,2,0,2 ┆ 1     │\n",
       "│           ┆ 3         ┆ 5         ┆ 17       ┆ 31       ┆ ,0}      ┆ ,1}      ┆ ,665}    ┆       │\n",
       "│           ┆ 17:22:00  ┆ 17:22:00  ┆ 00:00:00 ┆ 17:22:00 ┆          ┆          ┆          ┆       │\n",
       "│ 12116     ┆ 2130-09-0 ┆ 2130-09-0 ┆ 2130-09- ┆ 1856-11- ┆ {0,0,0,0 ┆ {0,1,0,1 ┆ {1,0,0,0 ┆ 0     │\n",
       "│           ┆ 3         ┆ 5         ┆ 05       ┆ 19       ┆ ,0}      ┆ ,1}      ┆ ,1}      ┆       │\n",
       "│           ┆ 14:57:00  ┆ 14:57:00  ┆ 16:02:00 ┆ 14:57:00 ┆          ┆          ┆          ┆       │\n",
       "│ 12116     ┆ 2130-12-1 ┆ 2130-12-1 ┆ 2130-12- ┆ 1857-02- ┆ {0,0,0,0 ┆ {0,1,0,1 ┆ {2,1,0,1 ┆ 0     │\n",
       "│           ┆ 2         ┆ 4         ┆ 15       ┆ 27       ┆ ,0}      ┆ ,1}      ┆ ,3}      ┆       │\n",
       "│           ┆ 06:52:00  ┆ 06:52:00  ┆ 16:09:00 ┆ 06:52:00 ┆          ┆          ┆          ┆       │\n",
       "│ 12116     ┆ 2134-04-0 ┆ 2134-04-0 ┆ 2134-04- ┆ 1860-06- ┆ {0,0,0,0 ┆ {0,1,0,1 ┆ {3,2,0,2 ┆ 0     │\n",
       "│           ┆ 6         ┆ 8         ┆ 09       ┆ 22       ┆ ,102}    ┆ ,46}     ┆ ,5}      ┆       │\n",
       "│           ┆ 02:48:00  ┆ 02:48:00  ┆ 10:30:00 ┆ 02:48:00 ┆          ┆          ┆          ┆       │\n",
       "│ 12116     ┆ 2134-06-1 ┆ 2134-06-1 ┆ 2134-06- ┆ 1860-08- ┆ {0,0,0,0 ┆ {0,1,0,1 ┆ {5,4,0,4 ┆ 0     │\n",
       "│           ┆ 1         ┆ 3         ┆ 28       ┆ 27       ┆ ,0}      ┆ ,1}      ┆ ,156}    ┆       │\n",
       "│           ┆ 11:40:00  ┆ 11:40:00  ┆ 14:45:00 ┆ 11:40:00 ┆          ┆          ┆          ┆       │\n",
       "│ 12116     ┆ 2134-10-1 ┆ 2134-10-1 ┆ 2134-11- ┆ 1861-01- ┆ {0,0,0,0 ┆ {0,1,0,1 ┆ {6,5,0,5 ┆ 0     │\n",
       "│           ┆ 7         ┆ 9         ┆ 02       ┆ 02       ┆ ,0}      ┆ ,198}    ┆ ,158}    ┆       │\n",
       "│           ┆ 01:30:00  ┆ 01:30:00  ┆ 11:30:00 ┆ 01:30:00 ┆          ┆          ┆          ┆       │\n",
       "│ 12116     ┆ 2136-04-2 ┆ 2136-04-2 ┆ 2136-05- ┆ 1862-07- ┆ {0,0,0,0 ┆ {0,1,0,1 ┆ {9,8,0,8 ┆ 0     │\n",
       "│           ┆ 1         ┆ 3         ┆ 08       ┆ 08       ┆ ,0}      ┆ ,1}      ┆ ,361}    ┆       │\n",
       "│           ┆ 10:07:00  ┆ 10:07:00  ┆ 11:15:00 ┆ 10:07:00 ┆          ┆          ┆          ┆       │\n",
       "│ 12117     ┆ 2180-08-3 ┆ 2180-09-0 ┆ 2180-09- ┆ 1906-11- ┆ {0,0,0,0 ┆ {0,1,0,1 ┆ {1,0,0,0 ┆ 0     │\n",
       "│           ┆ 0         ┆ 1         ┆ 03       ┆ 17       ┆ ,143}    ┆ ,19}     ┆ ,1}      ┆       │\n",
       "│           ┆ 07:45:00  ┆ 07:45:00  ┆ 12:15:00 ┆ 07:45:00 ┆          ┆          ┆          ┆       │\n",
       "│ 12117     ┆ 2180-12-1 ┆ 2180-12-1 ┆ 2180-12- ┆ 1907-03- ┆ {0,0,0,0 ┆ {0,1,0,1 ┆ {2,1,0,1 ┆ 0     │\n",
       "│           ┆ 4         ┆ 6         ┆ 22       ┆ 03       ┆ ,125}    ┆ ,1}      ┆ ,165}    ┆       │\n",
       "│           ┆ 07:15:00  ┆ 07:15:00  ┆ 14:40:00 ┆ 07:15:00 ┆          ┆          ┆          ┆       │\n",
       "│ 12117     ┆ 2181-03-1 ┆ 2181-03-1 ┆ 2181-04- ┆ 1907-05- ┆ {0,0,0,0 ┆ {0,1,0,1 ┆ {3,2,0,2 ┆ 0     │\n",
       "│           ┆ 3         ┆ 5         ┆ 02       ┆ 31       ┆ ,0}      ┆ ,356}    ┆ ,292}    ┆       │\n",
       "│           ┆ 02:58:00  ┆ 02:58:00  ┆ 16:55:00 ┆ 02:58:00 ┆          ┆          ┆          ┆       │\n",
       "│ 12117     ┆ 2181-04-1 ┆ 2181-04-2 ┆ 2181-05- ┆ 1907-07- ┆ {0,0,0,0 ┆ {0,1,0,1 ┆ {4,3,0,3 ┆ 0     │\n",
       "│           ┆ 8         ┆ 0         ┆ 01       ┆ 06       ┆ ,0}      ┆ ,1}      ┆ ,649}    ┆       │\n",
       "│           ┆ 19:57:00  ┆ 19:57:00  ┆ 14:00:00 ┆ 19:57:00 ┆          ┆          ┆          ┆       │\n",
       "│ 12118     ┆ 2125-10-2 ┆ 2125-10-2 ┆ 2125-10- ┆ 1852-01- ┆ {0,0,0,0 ┆ {0,1,0,1 ┆ {1,0,0,0 ┆ 0     │\n",
       "│           ┆ 0         ┆ 2         ┆ 27       ┆ 06       ┆ ,342}    ┆ ,157}    ┆ ,1}      ┆       │\n",
       "│           ┆ 11:30:00  ┆ 11:30:00  ┆ 14:00:00 ┆ 11:30:00 ┆          ┆          ┆          ┆       │\n",
       "│ 12119     ┆ 2188-03-0 ┆ 2188-03-0 ┆ 2188-03- ┆ 1914-05- ┆ {0,0,0,0 ┆ {0,1,0,1 ┆ {1,0,0,0 ┆ 0     │\n",
       "│           ┆ 5         ┆ 7         ┆ 14       ┆ 23       ┆ ,230}    ┆ ,379}    ┆ ,1}      ┆       │\n",
       "│           ┆ 20:17:00  ┆ 20:17:00  ┆ 17:15:00 ┆ 20:17:00 ┆          ┆          ┆          ┆       │\n",
       "│ 12119     ┆ 2188-05-0 ┆ 2188-05-1 ┆ 2188-05- ┆ 1914-07- ┆ {0,0,0,0 ┆ {0,1,0,1 ┆ {4,3,0,3 ┆ 0     │\n",
       "│           ┆ 9         ┆ 1         ┆ 19       ┆ 27       ┆ ,148}    ┆ ,209}    ┆ ,615}    ┆       │\n",
       "│           ┆ 15:55:00  ┆ 15:55:00  ┆ 18:09:00 ┆ 15:55:00 ┆          ┆          ┆          ┆       │\n",
       "│ 12120     ┆ 2123-10-1 ┆ 2123-10-1 ┆ 2123-10- ┆ 1849-12- ┆ {0,0,0,0 ┆ {0,1,0,1 ┆ {1,0,0,0 ┆ 0     │\n",
       "│           ┆ 2         ┆ 4         ┆ 30       ┆ 28       ┆ ,198}    ┆ ,1302}   ┆ ,1}      ┆       │\n",
       "│           ┆ 13:46:00  ┆ 13:46:00  ┆ 15:13:00 ┆ 13:46:00 ┆          ┆          ┆          ┆       │\n",
       "│ 12120     ┆ 2123-11-0 ┆ 2123-11-0 ┆ 2123-11- ┆ 1850-01- ┆ {0,0,0,0 ┆ {0,1,0,1 ┆ {2,1,0,1 ┆ 0     │\n",
       "│           ┆ 1         ┆ 3         ┆ 12       ┆ 17       ┆ ,67}     ┆ ,1}      ┆ ,1507}   ┆       │\n",
       "│           ┆ 23:26:00  ┆ 23:26:00  ┆ 17:14:00 ┆ 23:26:00 ┆          ┆          ┆          ┆       │\n",
       "│ 12120     ┆ 2123-11-1 ┆ 2123-11-1 ┆ 2123-11- ┆ 1850-02- ┆ {0,0,0,0 ┆ {0,1,0,1 ┆ {3,2,0,2 ┆ 0     │\n",
       "│           ┆ 7         ┆ 9         ┆ 19       ┆ 02       ┆ ,157}    ┆ ,35}     ┆ ,1576}   ┆       │\n",
       "│           ┆ 04:20:00  ┆ 04:20:00  ┆ 16:00:00 ┆ 04:20:00 ┆          ┆          ┆          ┆       │\n",
       "│ 12120     ┆ 2123-12-2 ┆ 2123-12-3 ┆ 2124-01- ┆ 1850-03- ┆ {0,0,0,0 ┆ {0,1,0,1 ┆ {4,3,0,3 ┆ 0     │\n",
       "│           ┆ 9         ┆ 1         ┆ 10       ┆ 16       ┆ ,203}    ┆ ,241}    ┆ ,1774}   ┆       │\n",
       "│           ┆ 01:47:00  ┆ 01:47:00  ┆ 16:30:00 ┆ 01:47:00 ┆          ┆          ┆          ┆       │\n",
       "│ 12121     ┆ 2126-03-1 ┆ 2126-03-1 ┆ 2126-03- ┆ 1852-05- ┆ {0,0,0,0 ┆ {0,1,0,1 ┆ {2,1,0,1 ┆ 0     │\n",
       "│           ┆ 3         ┆ 5         ┆ 18       ┆ 29       ┆ ,0}      ┆ ,1}      ┆ ,3}      ┆       │\n",
       "│           ┆ 18:14:00  ┆ 18:14:00  ┆ 17:49:00 ┆ 18:14:00 ┆          ┆          ┆          ┆       │\n",
       "│ 12121     ┆ 2126-04-2 ┆ 2126-04-2 ┆ 2126-05- ┆ 1852-07- ┆ {0,0,0,0 ┆ {0,1,0,1 ┆ {3,2,0,2 ┆ 0     │\n",
       "│           ┆ 0         ┆ 2         ┆ 19       ┆ 06       ┆ ,188}    ┆ ,2505}   ┆ ,5}      ┆       │\n",
       "│           ┆ 07:15:00  ┆ 07:15:00  ┆ 14:15:00 ┆ 07:15:00 ┆          ┆          ┆          ┆       │\n",
       "│ 12121     ┆ 2127-04-0 ┆ 2127-04-0 ┆ 2127-04- ┆ 1853-06- ┆ {0,0,0,0 ┆ {0,1,0,1 ┆ {5,4,0,4 ┆ 0     │\n",
       "│           ┆ 2         ┆ 4         ┆ 17       ┆ 18       ┆ ,144}    ┆ ,218}    ┆ ,2701}   ┆       │\n",
       "│           ┆ 01:03:00  ┆ 01:03:00  ┆ 15:05:00 ┆ 01:03:00 ┆          ┆          ┆          ┆       │\n",
       "│ 12121     ┆ 2127-05-0 ┆ 2127-05-0 ┆ 2127-05- ┆ 1853-07- ┆ {0,0,0,0 ┆ {0,1,0,1 ┆ {6,5,0,5 ┆ 0     │\n",
       "│           ┆ 5         ┆ 7         ┆ 12       ┆ 21       ┆ ,0}      ┆ ,1}      ┆ ,3064}   ┆       │\n",
       "│           ┆ 02:40:00  ┆ 02:40:00  ┆ 16:52:00 ┆ 02:40:00 ┆          ┆          ┆          ┆       │\n",
       "│ 12121     ┆ 2127-05-2 ┆ 2127-05-2 ┆ 2127-05- ┆ 1853-08- ┆ {0,0,0,0 ┆ {0,1,0,1 ┆ {7,6,0,6 ┆ 0     │\n",
       "│           ┆ 4         ┆ 6         ┆ 27       ┆ 09       ┆ ,0}      ┆ ,1}      ┆ ,3066}   ┆       │\n",
       "│           ┆ 18:33:00  ┆ 18:33:00  ┆ 15:30:00 ┆ 18:33:00 ┆          ┆          ┆          ┆       │\n",
       "│ 12121     ┆ 2127-08-1 ┆ 2127-08-2 ┆ 2127-08- ┆ 1853-11- ┆ {0,0,0,0 ┆ {0,1,0,1 ┆ {8,7,0,7 ┆ 0     │\n",
       "│           ┆ 9         ┆ 1         ┆ 21       ┆ 04       ┆ ,0}      ┆ ,1}      ┆ ,3068}   ┆       │\n",
       "│           ┆ 00:20:00  ┆ 00:20:00  ┆ 17:10:00 ┆ 00:20:00 ┆          ┆          ┆          ┆       │\n",
       "│ 12121     ┆ 2128-01-1 ┆ 2128-01-1 ┆ 2128-01- ┆ 1854-04- ┆ {0,0,0,0 ┆ {0,1,0,1 ┆ {9,8,0,8 ┆ 0     │\n",
       "│           ┆ 7         ┆ 9         ┆ 21       ┆ 04       ┆ ,0}      ┆ ,1}      ┆ ,3070}   ┆       │\n",
       "│           ┆ 21:25:00  ┆ 21:25:00  ┆ 17:00:00 ┆ 21:25:00 ┆          ┆          ┆          ┆       │\n",
       "│ 12121     ┆ 2128-01-2 ┆ 2128-01-2 ┆ 2128-01- ┆ 1854-04- ┆ {0,0,0,0 ┆ {0,1,0,1 ┆ {10,9,0, ┆ 0     │\n",
       "│           ┆ 6         ┆ 8         ┆ 31       ┆ 13       ┆ ,0}      ┆ ,1}      ┆ 9,3072}  ┆       │\n",
       "│           ┆ 20:21:00  ┆ 20:21:00  ┆ 16:00:00 ┆ 20:21:00 ┆          ┆          ┆          ┆       │\n",
       "│ 12121     ┆ 2128-02-0 ┆ 2128-02-1 ┆ 2128-02- ┆ 1854-04- ┆ {0,0,0,0 ┆ {0,1,0,1 ┆ {11,10,0 ┆ 0     │\n",
       "│           ┆ 9         ┆ 1         ┆ 15       ┆ 27       ┆ ,0}      ┆ ,1}      ┆ ,10,3074 ┆       │\n",
       "│           ┆ 17:33:00  ┆ 17:33:00  ┆ 15:15:00 ┆ 17:33:00 ┆          ┆          ┆ }        ┆       │\n",
       "│ 12121     ┆ 2128-02-1 ┆ 2128-02-2 ┆ 2128-02- ┆ 1854-05- ┆ {0,0,0,0 ┆ {0,1,0,1 ┆ {12,11,0 ┆ 0     │\n",
       "│           ┆ 9         ┆ 1         ┆ 26       ┆ 07       ┆ ,0}      ┆ ,1}      ┆ ,11,3076 ┆       │\n",
       "│           ┆ 17:40:00  ┆ 17:40:00  ┆ 16:10:00 ┆ 17:40:00 ┆          ┆          ┆ }        ┆       │\n",
       "│ 12122     ┆ 2185-07-0 ┆ 2185-07-0 ┆ 2185-08- ┆ 1911-09- ┆ {0,0,0,0 ┆ {0,1,0,1 ┆ {2,1,0,1 ┆ 0     │\n",
       "│           ┆ 3         ┆ 5         ┆ 03       ┆ 20       ┆ ,216}    ┆ ,1381}   ┆ ,3}      ┆       │\n",
       "│           ┆ 20:20:00  ┆ 20:20:00  ┆ 14:42:00 ┆ 20:20:00 ┆          ┆          ┆          ┆       │\n",
       "│ 12123     ┆ 2187-02-0 ┆ 2187-02-0 ┆ 2187-02- ┆ 1913-04- ┆ {0,0,0,0 ┆ {0,1,0,1 ┆ {1,0,0,0 ┆ 0     │\n",
       "│           ┆ 5         ┆ 7         ┆ 08       ┆ 24       ┆ ,207}    ┆ ,103}    ┆ ,1}      ┆       │\n",
       "│           ┆ 09:27:00  ┆ 09:27:00  ┆ 17:28:00 ┆ 09:27:00 ┆          ┆          ┆          ┆       │\n",
       "│ 12124     ┆ 2191-12-2 ┆ 2191-12-3 ┆ 2192-01- ┆ 1918-03- ┆ {0,0,0,0 ┆ {0,1,0,1 ┆ {1,0,0,0 ┆ 0     │\n",
       "│           ┆ 9         ┆ 1         ┆ 11       ┆ 17       ┆ ,0}      ┆ ,1}      ┆ ,1}      ┆       │\n",
       "│           ┆ 07:15:00  ┆ 07:15:00  ┆ 19:00:00 ┆ 07:15:00 ┆          ┆          ┆          ┆       │\n",
       "│ 12124     ┆ 2197-07-2 ┆ 2197-07-2 ┆ 2197-07- ┆ 1923-10- ┆ {0,0,0,0 ┆ {0,1,0,1 ┆ {2,1,0,1 ┆ 0     │\n",
       "│           ┆ 6         ┆ 8         ┆ 31       ┆ 13       ┆ ,121}    ┆ ,1}      ┆ ,3}      ┆       │\n",
       "│           ┆ 03:29:00  ┆ 03:29:00  ┆ 14:00:00 ┆ 03:29:00 ┆          ┆          ┆          ┆       │\n",
       "│ 12124     ┆ 2197-08-0 ┆ 2197-08-0 ┆ 2197-08- ┆ 1923-10- ┆ {0,0,0,0 ┆ {0,1,0,1 ┆ {3,2,0,2 ┆ 0     │\n",
       "│           ┆ 3         ┆ 5         ┆ 18       ┆ 21       ┆ ,147}    ┆ ,200}    ┆ ,126}    ┆       │\n",
       "│           ┆ 20:58:00  ┆ 20:58:00  ┆ 15:37:00 ┆ 20:58:00 ┆          ┆          ┆          ┆       │\n",
       "│ 12125     ┆ 2146-12-1 ┆ 2146-12-2 ┆ 2146-12- ┆ 1873-03- ┆ {0,0,0,0 ┆ {0,1,0,1 ┆ {1,0,0,0 ┆ 0     │\n",
       "│           ┆ 9         ┆ 1         ┆ 27       ┆ 06       ┆ ,0}      ┆ ,1}      ┆ ,1}      ┆       │\n",
       "│           ┆ 15:32:00  ┆ 15:32:00  ┆ 17:20:00 ┆ 15:32:00 ┆          ┆          ┆          ┆       │\n",
       "│ 12125     ┆ 2148-11-1 ┆ 2148-11-2 ┆ 2148-12- ┆ 1875-02- ┆ {0,0,0,0 ┆ {0,1,0,1 ┆ {2,1,0,1 ┆ 0     │\n",
       "│           ┆ 9         ┆ 1         ┆ 04       ┆ 05       ┆ ,186}    ┆ ,418}    ┆ ,3}      ┆       │\n",
       "│           ┆ 10:00:00  ┆ 10:00:00  ┆ 16:25:00 ┆ 10:00:00 ┆          ┆          ┆          ┆       │\n",
       "│ 12126     ┆ 2164-07-2 ┆ 2164-07-2 ┆ 2164-07- ┆ 1890-10- ┆ {0,0,0,0 ┆ {0,1,0,1 ┆ {1,0,0,0 ┆ 0     │\n",
       "│           ┆ 5         ┆ 7         ┆ 28       ┆ 11       ┆ ,0}      ┆ ,1}      ┆ ,1}      ┆       │\n",
       "│           ┆ 00:27:00  ┆ 00:27:00  ┆ 12:15:00 ┆ 00:27:00 ┆          ┆          ┆          ┆       │\n",
       "│ 12126     ┆ 2164-09-1 ┆ 2164-09-1 ┆ 2164-09- ┆ 1890-11- ┆ {0,0,0,0 ┆ {0,1,1,1 ┆ {2,1,0,1 ┆ 1     │\n",
       "│           ┆ 0         ┆ 2         ┆ 17       ┆ 27       ┆ ,41}     ┆ ,686}    ┆ ,3}      ┆       │\n",
       "│           ┆ 13:47:00  ┆ 13:47:00  ┆ 13:42:00 ┆ 13:47:00 ┆          ┆          ┆          ┆       │\n",
       "└───────────┴───────────┴───────────┴──────────┴──────────┴──────────┴──────────┴──────────┴───────┘"
      ]
     },
     "execution_count": 7,
     "metadata": {},
     "output_type": "execute_result"
    }
   ],
   "source": [
    "df_result"
   ]
  }
 ],
 "metadata": {
  "kernelspec": {
   "display_name": "esgpt",
   "language": "python",
   "name": "python3"
  },
  "language_info": {
   "codemirror_mode": {
    "name": "ipython",
    "version": 3
   },
   "file_extension": ".py",
   "mimetype": "text/x-python",
   "name": "python",
   "nbconvert_exporter": "python",
   "pygments_lexer": "ipython3",
   "version": "3.10.13"
  }
 },
 "nbformat": 4,
 "nbformat_minor": 2
}
