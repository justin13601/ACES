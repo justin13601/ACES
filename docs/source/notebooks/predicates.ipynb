{
 "cells": [
  {
   "cell_type": "markdown",
   "metadata": {},
   "source": [
    "# Predicates"
   ]
  },
  {
   "cell_type": "markdown",
   "metadata": {},
   "source": [
    "In ACES, predicates specify how particular concepts relevant to your task of interest is expressed in your dataset of interest. These dataset-specific items form a large foundation of the cohort extraction algorithm as the more complex dataset-agnostic windowing logic of your task is defined based on your predicates, ultimately facilitating ease-of-sharing for your task configurations."
   ]
  },
  {
   "cell_type": "markdown",
   "metadata": {},
   "source": [
    "## Predicate Columns\n",
    "\n",
    "A predicate column is simply a column in a dataframe containing numerical counts (often just `0`'s and `1`'s), representing the number of times a given predicate (concept) occurs at a given timestamp for a given patient.\n",
    "\n",
    "Suppose you had a simple time-sorted dataframe as follows:\n",
    "\n",
    "| subject_id | timestamp           | code                    |\n",
    "|------------|---------------------|-------------------------|\n",
    "| 1          | 1989-01-01 00:00:00 | ADMISSION               |\n",
    "| 1          | 1989-01-01 01:00:00 | LAB                     |\n",
    "| 1          | 1989-01-01 01:00:00 | PROCEDURE_START         |\n",
    "| 1          | 1989-01-01 02:00:00 | DISCHARGE               |\n",
    "| 1          | 1989-01-01 02:00:00 | PROCEDURE_END           |\n",
    "| 2          | 1991-05-06 12:00:00 | ADMISSION               |\n",
    "| 2          | 1991-05-06 20:00:00 | DEATH                   |\n",
    "| 3          | 1980-10-17 22:00:00 | ADMISSION               |\n",
    "| 3          | 1980-10-17 22:00:00 | LAB                     |\n",
    "| 3          | 1980-10-18 01:00:00 | LAB                     |\n",
    "| 3          | 1980-10-18 09:00:00 | DISCHARGE               |\n",
    "| 3          | 1982-02-02 02:00:00 | ADMISSION               |\n",
    "| 3          | 1982-02-02 04:00:00 | DEATH                   |\n",
    "\n",
    "The `code` column contains a string of an event that occurred at the given `timestamp` for a given `subject_id`. You may then create a series of predicate columns depending on what suits your needs. For instance, here are some plausible predicate columns that could be created:\n",
    "\n",
    "| subject_id | timestamp           | admission | discharge | death | discharge_or_death | lab | procedure_start|\n",
    "|------------|---------------------|-----------|-----------|-------|--------------------|-----|----------------|\n",
    "| 1          | 1989-01-01 00:00:00 | 1         | 0         | 0     | 0                  | 0   | 0              |\n",
    "| 1          | 1989-01-01 01:00:00 | 0         | 0         | 0     | 0                  | 1   | 1              |\n",
    "| 1          | 1989-01-01 02:00:00 | 0         | 1         | 0     | 1                  | 0   | 0              |\n",
    "| 2          | 1991-05-06 12:00:00 | 1         | 0         | 0     | 0                  | 0   | 0              |\n",
    "| 2          | 1991-05-06 20:00:00 | 0         | 0         | 1     | 1                  | 0   | 0              |\n",
    "| 3          | 1980-10-17 22:00:00 | 1         | 0         | 0     | 0                  | 1   | 0              |\n",
    "| 3          | 1980-10-18 01:00:00 | 0         | 0         | 0     | 0                  | 1   | 0              |\n",
    "| 3          | 1980-10-18 09:00:00 | 0         | 1         | 0     | 1                  | 0   | 0              |\n",
    "| 3          | 1982-02-02 02:00:00 | 1         | 0         | 0     | 0                  | 0   | 0              |\n",
    "| 3          | 1982-02-02 04:00:00 | 0         | 0         | 1     | 1                  | 0   | 0              |\n",
    "\n",
    "Note that this set of predicates are all `plain` predicates (ie., explicitly expressed as a value in the dataset), with the exception of the `derived` predicate `discharge_or_death`, which can be expressed by applying boolean logic on the `discharge` and `death` predicates (ie., `or(discharge, death)`). You may choose to create these columns for `derived` predicates explicitly (as you would `plain` predicates). Or, ACES can automatically create them from `plain` predicates if the boolean logic is provided in the task configuration file. Please see [Predicates](https://eventstreamaces.readthedocs.io/en/latest/configuration.html#predicates-plainpredicateconfig-and-derivedpredicateconfig) for more information.\n",
    "\n",
    "Additionally, you may notice that the tables differ in shape. In the original raw data, (`subject_id`, `timestamp`) is not unique. However, a final predicates dataframe must have unique (`subject_id`, `timestamp`) pairs. If the MEDS or ESGPT standard is used, ACES will automatically collapse rows down into unique per-patient per-timestamp levels (ie., grouping by these two columns and aggregating by summing predicate counts). However, if creating predicate columns directly, please ensure your dataframe is unique over (`subject_id`, `timestamp`)."
   ]
  },
  {
   "cell_type": "markdown",
   "metadata": {},
   "source": [
    "## Sample Predicates DataFrame\n",
    "\n",
    "A sample predicates dataframe is provided in the repository (`../../../sample_data/sample_data.csv`). This dataframe holds completely synthetic data and was designed such that the accompanying sample configuration files in the repository (`../../../sample_configs`) could be directly extracted."
   ]
  },
  {
   "cell_type": "code",
   "execution_count": null,
   "metadata": {},
   "outputs": [],
   "source": [
    "import polars as pl\n",
    "\n",
    "pl.read_csv(\"../../../sample_data/sample_data.csv\")"
   ]
  },
  {
   "cell_type": "markdown",
   "metadata": {},
   "source": [
    "## Generating the Predicates DataFrame"
   ]
  },
  {
   "cell_type": "markdown",
   "metadata": {},
   "source": [
    "The predicates dataframe will always have the `subject_id` and `timestamp` columns. They should be unique between these two columns, as each row can capture multiple events.\n",
    "\n",
    "ACES is able to automatically compute the predicates dataframe from your dataset and the fields defined in your task configuration if you are using the MEDS or ESGPT data standard. Should you choose to not transform your dataset into one of these two currently supported standards, you may also navigate the transformation yourself by creating your own predicates dataframe.\n",
    "\n",
    "Again, it is acceptable if your own predicates dataframe only contains `plain` predicate columns, as ACES can automatically create `derived` predicate columns from boolean logic in the task configuration file. However, for complex predicates that would be difficult to express using the simple boolean formulas in the configuration file, we recommend also creating them manually prior to using ACES.\n",
    "\n",
    "**Note**: when creating `plain` predicate columns directly, you must still define them in the configuration file (they could be with an arbitrary value in the `code` field) - ACES will verify their existence after data loading (ie., by validating that a column exists with the predicate name in your dataframe). You will also need them for referencing in your windows."
   ]
  },
  {
   "cell_type": "markdown",
   "metadata": {},
   "source": [
    "Example of the `derived` predicate `discharge_or_death`, expressed as an `or()` relationship between `plain` predicates `discharge` and `death, which have been directly defined (ie., arbitrary values for their codes are present).\n",
    "\n",
    "```yaml\n",
    "predicates:\n",
    "  ...\n",
    "  death:\n",
    "    code: foo\n",
    "  discharge:\n",
    "    code: bar\n",
    "  discharge_or_death:\n",
    "    expr: or(discharge, death)\n",
    "  ...\n",
    "```\n"
   ]
  }
 ],
 "metadata": {
  "kernelspec": {
   "display_name": "esgpt",
   "language": "python",
   "name": "python3"
  },
  "language_info": {
   "codemirror_mode": {
    "name": "ipython",
    "version": 3
   },
   "file_extension": ".py",
   "mimetype": "text/x-python",
   "name": "python",
   "nbconvert_exporter": "python",
   "pygments_lexer": "ipython3",
   "version": "3.10.13"
  }
 },
 "nbformat": 4,
 "nbformat_minor": 2
}
