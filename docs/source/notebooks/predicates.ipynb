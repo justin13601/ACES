{
 "cells": [
  {
   "cell_type": "markdown",
   "metadata": {},
   "source": [
    "# Predicates"
   ]
  },
  {
   "cell_type": "markdown",
   "metadata": {},
   "source": [
    "In ACES, predicates specify how particular concepts relevant to your task of interest is expressed in your dataset of interest. These dataset-specific items form a large foundation of the cohort extraction algorithm as the more complex dataset-agnostic windowing logic of your task is defined based on your predicates, ultimately facilitating ease-of-sharing for your task configurations."
   ]
  },
  {
   "cell_type": "markdown",
   "metadata": {},
   "source": [
    "## Predicate Columns\n",
    "\n",
    "A predicate column is simply a column in a dataframe containing numerical counts (often just `0`'s and `1`'s), representing the number of times a given predicate (concept) occurs at a given timestamp for a given patient.\n",
    "\n",
    "Suppose you had a simple time-sorted dataframe as follows:\n",
    "\n",
    "| subject_id | timestamp           | code                    |\n",
    "|------------|---------------------|-------------------------|\n",
    "| 1          | 1989-01-01 00:00:00 | ADMISSION               |\n",
    "| 1          | 1989-01-01 01:00:00 | LAB&PROCEDURE_START     |\n",
    "| 1          | 1989-01-01 02:00:00 | DISCHARGE&PROCEDURE_END |\n",
    "| 2          | 1991-05-06 12:00:00 | ADMISSION               |\n",
    "| 2          | 1991-05-06 20:00:00 | DEATH                   |\n",
    "| 3          | 1980-10-17 22:00:00 | ADMISSION&LAB           |\n",
    "| 3          | 1980-10-18 01:00:00 | LAB                     |\n",
    "| 3          | 1980-10-18 09:00:00 | DISCHARGE               |\n",
    "| 3          | 1982-02-02 02:00:00 | ADMISSION               |\n",
    "| 3          | 1982-02-02 04:00:00 | DEATH                   |\n",
    "\n",
    "The `CODE` column contains `&` delimited sequences representing the various events that occurred at a given `timestamp` for a given `subject_id`. You may then create a series of predicate columns depending on what suits your needs. For instance, here are some plausible predicate columns that could be created:\n",
    "\n",
    "| subject_id | timestamp           | code                    | admission | discharge | death | discharge_or_death | lab | procedure_start|\n",
    "|------------|---------------------|-------------------------|-----------|-----------|-------|--------------------|-----|----------------|\n",
    "| 1          | 1989-01-01 00:00:00 | ADMISSION               | 1         | 0         | 0     | 0                  | 0   | 0              |\n",
    "| 1          | 1989-01-01 01:00:00 | LAB&PROCEDURE_START     | 0         | 0         | 0     | 0                  | 1   | 1              |\n",
    "| 1          | 1989-01-01 02:00:00 | DISCHARGE&PROCEDURE_END | 0         | 1         | 0     | 1                  | 0   | 0              |\n",
    "| 2          | 1991-05-06 12:00:00 | ADMISSION               | 1         | 0         | 0     | 0                  | 0   | 0              |\n",
    "| 2          | 1991-05-06 20:00:00 | DEATH                   | 0         | 0         | 1     | 1                  | 0   | 0              |\n",
    "| 3          | 1980-10-17 22:00:00 | ADMISSION&LAB           | 1         | 0         | 0     | 0                  | 1   | 0              |\n",
    "| 3          | 1980-10-18 01:00:00 | LAB                     | 0         | 0         | 0     | 0                  | 1   | 0              |\n",
    "| 3          | 1980-10-18 09:00:00 | DISCHARGE               | 0         | 1         | 0     | 1                  | 0   | 0              |\n",
    "| 3          | 1982-02-02 02:00:00 | ADMISSION               | 1         | 0         | 0     | 0                  | 0   | 0              |\n",
    "| 3          | 1982-02-02 04:00:00 | DEATH                   | 0         | 0         | 1     | 1                  | 0   | 0              |\n",
    "\n",
    "Note that this set of predicates are all `plain` predicates (ie., explicitly expressed as a value in the dataset), with the exception of the `derived` predicate `discharge_or_death`, which can be expressed by applying boolean logic on the `discharge` and `death` predicates (ie., `or(discharge, death)`). You may choose to create these columns for `derived` predicates explicitly (as you would `plain` predicates). Or, ACES can automatically create them from `plain` predicates if the boolean logic is provided in the task configuration file. Please see [Predicates](https://eventstreamaces.readthedocs.io/en/latest/configuration.html#predicates-plainpredicateconfig-and-derivedpredicateconfig) for more information."
   ]
  },
  {
   "cell_type": "markdown",
   "metadata": {},
   "source": [
    "## Sample Predicates DataFrame\n",
    "\n",
    "A sample predicates dataframe is provided in the repository (`../../../sample_data/sample_data.csv`). This dataframe holds completely synthetic data and was designed such that the accompanying sample configuration files in the repository (`../../../sample_configs`) could be directly extracted."
   ]
  },
  {
   "cell_type": "code",
   "execution_count": null,
   "metadata": {},
   "outputs": [],
   "source": [
    "import polars as pl\n",
    "\n",
    "pl.read_csv(\"../../../sample_data/sample_data.csv\")"
   ]
  },
  {
   "cell_type": "markdown",
   "metadata": {},
   "source": [
    "# Generating the Predicates DataFrame"
   ]
  },
  {
   "cell_type": "markdown",
   "metadata": {},
   "source": [
    "The predicates dataframe will always have the `subject_id` and `timestamp` columns. They should be unique between these two columns, as each row can capture multiple events.\n",
    "\n",
    "ACES is able to automatically compute the predicates dataframe from your dataset and the fields defined in your task configuration if you are using the `MEDS` or `ESGPT` data standard. Should you choose to not transform your dataset into one of these two currently supported standards, you may also create your own predicates dataframe.\n",
    "\n",
    "Unfortunately, we are unable to provide code to transform raw datasets into predicates dataframes as data schemas vary widely. However, we provide some sample code below to create the predicates dataframe for the above example as a reference."
   ]
  },
  {
   "cell_type": "code",
   "execution_count": null,
   "metadata": {},
   "outputs": [],
   "source": [
    "data = pl.DataFrame(\n",
    "    {\n",
    "        \"patient_id\": [1, 1, 1, 2, 2, 3, 3, 3, 3, 3],\n",
    "        \"timestamp\": [\n",
    "            \"1/1/1989 00:00\",\n",
    "            \"1/1/1989 01:00\",\n",
    "            \"1/1/1989 02:00\",\n",
    "            \"5/6/1991 12:00\",\n",
    "            \"5/6/1991 20:00\",\n",
    "            \"10/17/1980 22:00\",\n",
    "            \"10/18/1980 01:00\",\n",
    "            \"10/18/1980 09:00\",\n",
    "            \"2/2/1982 02:00\",\n",
    "            \"2/2/1982 04:00\",\n",
    "        ],\n",
    "        \"code\": [\n",
    "            \"ADMISSION\",\n",
    "            \"LAB&PROCEDURE_START\",\n",
    "            \"DISCHARGE&PROCEDURE_END\",\n",
    "            \"ADMISSION\",\n",
    "            \"DEATH\",\n",
    "            \"ADMISSION&LAB\",\n",
    "            \"LAB\",\n",
    "            \"DISCHARGE\",\n",
    "            \"ADMISSION\",\n",
    "            \"DEATH\",\n",
    "        ],\n",
    "    }\n",
    ").with_columns(pl.col(\"timestamp\").str.strptime(pl.Datetime, format=\"%m/%d/%Y %H:%M\"))\n",
    "\n",
    "data"
   ]
  },
  {
   "cell_type": "markdown",
   "metadata": {},
   "source": [
    "We define the function `has_sequence()` to easily create polars expressions needed to search sequences of strings:"
   ]
  },
  {
   "cell_type": "code",
   "execution_count": null,
   "metadata": {},
   "outputs": [],
   "source": [
    "def has_sequence(column: str, sequence: str) -> pl.Expr:\n",
    "    \"\"\"Checks if a column contains a sequence.\n",
    "\n",
    "    Args:\n",
    "        column (str): The column to search.\n",
    "        sequence (str): The sequence to search for in the column.\n",
    "\n",
    "    Returns:\n",
    "        pl.Expr: A Polars expression representing the check for the sequence.\n",
    "    \"\"\"\n",
    "    has_sequence = pl.col(column).str.contains(sequence)\n",
    "    return has_sequence"
   ]
  },
  {
   "cell_type": "markdown",
   "metadata": {},
   "source": [
    "Next, we will first define the `plain` predicates. Suppose we are interested in the following predicates:\n",
    "\n",
    "- `admission`: realized when code contains the \"ADMISSION\" sequence, indicating a patient admission\n",
    "- `discharge`: realized when code contains the \"DISCHARGE\" sequence, indicating a patient discharge\n",
    "- `death`: realized when code contains the \"DEATH\" sequence, indicating a patient death\n",
    "- `lab`: realized when code contains the \"LAB\" sequence, indicating a lab for a patient \n",
    "- `procedure_start`: realized when code contains the \"PROCEDURE_START\" sequence, indicating the start of a procedure for a patient"
   ]
  },
  {
   "cell_type": "code",
   "execution_count": null,
   "metadata": {},
   "outputs": [],
   "source": [
    "plain_predicates = {\n",
    "    \"admission\": \"ADMISSION\",\n",
    "    \"discharge\": \"DISCHARGE\",\n",
    "    \"death\": \"DEATH\",\n",
    "    \"lab\": \"LAB\",\n",
    "    \"procedure_start\": \"PROCEDURE_START\",\n",
    "}\n",
    "\n",
    "for predicate_name, predicate_value in plain_predicates.items():\n",
    "    data = data.with_columns(has_sequence(\"code\", predicate_value).alias(predicate_name).cast(pl.Int64))\n",
    "\n",
    "data"
   ]
  },
  {
   "cell_type": "markdown",
   "metadata": {},
   "source": [
    "To define columns for `derived` predicates, we can either create them explicitly (similar to how you would columns for `plain` predicates):"
   ]
  },
  {
   "cell_type": "code",
   "execution_count": null,
   "metadata": {},
   "outputs": [],
   "source": [
    "derived_predicates = {\n",
    "    \"discharge_or_death\": {\"or\": (\"discharge\", \"death\")},\n",
    "}\n",
    "\n",
    "for predicate_name, predicate_value in derived_predicates.items():\n",
    "    if \"or\" in predicate_value:\n",
    "        data = data.with_columns(\n",
    "            (data[predicate_value[\"or\"][0]] | data[predicate_value[\"or\"][1]])\n",
    "            .alias(predicate_name)\n",
    "            .cast(pl.Int64)\n",
    "        )\n",
    "    elif \"and\" in predicate_value:\n",
    "        data = data.with_columns(\n",
    "            (data[predicate_value[\"and\"][0]] & data[predicate_value[\"and\"][1]])\n",
    "            .alias(predicate_name)\n",
    "            .cast(pl.Int64)\n",
    "        )\n",
    "\n",
    "data"
   ]
  },
  {
   "cell_type": "markdown",
   "metadata": {},
   "source": [
    "Alternatively, you can choose to leverage ACES, which can automatically create `derived` predicate columns from boolean logic in the task configuration file. **Note**: if you are creating `plain` predicate columns directly, you must still define them in the configuration file (could be with an arbitrary value in the `code` field) - ACES will verify their existence after data loading and you will also need them when referencing in your windows."
   ]
  },
  {
   "cell_type": "markdown",
   "metadata": {},
   "source": [
    "```yaml\n",
    "predicates:\n",
    "  ...\n",
    "  death:\n",
    "    code: foo\n",
    "  discharge:\n",
    "    code: bar\n",
    "  discharge_or_death:\n",
    "    expr: or(discharge, death)\n",
    "  ...\n",
    "```\n"
   ]
  }
 ],
 "metadata": {
  "kernelspec": {
   "display_name": "esgpt",
   "language": "python",
   "name": "python3"
  },
  "language_info": {
   "codemirror_mode": {
    "name": "ipython",
    "version": 3
   },
   "file_extension": ".py",
   "mimetype": "text/x-python",
   "name": "python",
   "nbconvert_exporter": "python",
   "pygments_lexer": "ipython3",
   "version": "3.10.13"
  }
 },
 "nbformat": 4,
 "nbformat_minor": 2
}
